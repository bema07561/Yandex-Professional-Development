{
 "cells": [
  {
   "cell_type": "markdown",
   "metadata": {},
   "source": [
    "# Выбор локации для скважины"
   ]
  },
  {
   "cell_type": "markdown",
   "metadata": {},
   "source": [
    "Допустим, вы работаете в добывающей компании «ГлавРосГосНефть». Нужно решить, где бурить новую скважину.\n",
    "\n",
    "Вам предоставлены пробы нефти в трёх регионах: в каждом 10 000 месторождений, где измерили качество нефти и объём её запасов. Постройте модель машинного обучения, которая поможет определить регион, где добыча принесёт наибольшую прибыль. Проанализируйте возможную прибыль и риски техникой *Bootstrap.*\n",
    "\n",
    "Шаги для выбора локации:\n",
    "\n",
    "- В избранном регионе ищут месторождения, для каждого определяют значения признаков;\n",
    "- Строят модель и оценивают объём запасов;\n",
    "- Выбирают месторождения с самым высокими оценками значений. Количество месторождений зависит от бюджета компании и стоимости разработки одной скважины;\n",
    "- Прибыль равна суммарной прибыли отобранных месторождений."
   ]
  },
  {
   "cell_type": "code",
   "execution_count": 1,
   "metadata": {},
   "outputs": [],
   "source": [
    "!pip install phik -q"
   ]
  },
  {
   "cell_type": "code",
   "execution_count": 2,
   "metadata": {},
   "outputs": [],
   "source": [
    "import pandas as pd\n",
    "import numpy as np\n",
    "from scipy import stats as st\n",
    "from sklearn.model_selection import train_test_split\n",
    "from sklearn.linear_model import LinearRegression\n",
    "from sklearn.linear_model import LinearRegression\n",
    "from sklearn.metrics import mean_squared_error\n",
    "from sklearn.metrics import mean_absolute_error\n",
    "from sklearn.metrics import r2_score\n",
    "from sklearn.linear_model import LogisticRegression\n",
    "from sklearn.metrics import confusion_matrix\n",
    "from sklearn.preprocessing import StandardScaler\n",
    "from sklearn.preprocessing import MinMaxScaler\n",
    "from sklearn.preprocessing import OneHotEncoder\n",
    "from sklearn.model_selection import train_test_split\n",
    "from sklearn.metrics import accuracy_score\n",
    "from sklearn.metrics import recall_score, precision_score\n",
    "import phik\n",
    "import warnings\n",
    "import pandas as pd\n",
    "import seaborn as sns\n",
    "import matplotlib.pyplot as plt\n",
    "\n",
    "warnings.filterwarnings('ignore')"
   ]
  },
  {
   "cell_type": "markdown",
   "metadata": {},
   "source": [
    "## Загрузка и подготовка данных"
   ]
  },
  {
   "cell_type": "code",
   "execution_count": 3,
   "metadata": {},
   "outputs": [],
   "source": [
    "geo_data_0 = pd.read_csv('/datasets/geo_data_0.csv')\n",
    "geo_data_1 = pd.read_csv('/datasets/geo_data_1.csv')\n",
    "geo_data_2 = pd.read_csv('/datasets/geo_data_2.csv')"
   ]
  },
  {
   "cell_type": "markdown",
   "metadata": {},
   "source": [
    "Описание данных:\n",
    "\n",
    "Данные геологоразведки трёх регионов находятся в файлах: \n",
    "\n",
    "    /datasets/geo_data_0.csv. \n",
    "    /datasets/geo_data_1.csv.\n",
    "    /datasets/geo_data_2.csv.\n",
    "\n",
    "id — уникальный идентификатор скважины;\n",
    "f0, f1, f2 — три признака точек (неважно, что они означают, но сами признаки значимы);\n",
    "product — объём запасов в скважине (тыс. баррелей)."
   ]
  },
  {
   "cell_type": "code",
   "execution_count": 4,
   "metadata": {},
   "outputs": [
    {
     "data": {
      "text/html": [
       "<div>\n",
       "<style scoped>\n",
       "    .dataframe tbody tr th:only-of-type {\n",
       "        vertical-align: middle;\n",
       "    }\n",
       "\n",
       "    .dataframe tbody tr th {\n",
       "        vertical-align: top;\n",
       "    }\n",
       "\n",
       "    .dataframe thead th {\n",
       "        text-align: right;\n",
       "    }\n",
       "</style>\n",
       "<table border=\"1\" class=\"dataframe\">\n",
       "  <thead>\n",
       "    <tr style=\"text-align: right;\">\n",
       "      <th></th>\n",
       "      <th>id</th>\n",
       "      <th>f0</th>\n",
       "      <th>f1</th>\n",
       "      <th>f2</th>\n",
       "      <th>product</th>\n",
       "    </tr>\n",
       "  </thead>\n",
       "  <tbody>\n",
       "    <tr>\n",
       "      <th>0</th>\n",
       "      <td>txEyH</td>\n",
       "      <td>0.705745</td>\n",
       "      <td>-0.497823</td>\n",
       "      <td>1.221170</td>\n",
       "      <td>105.280062</td>\n",
       "    </tr>\n",
       "    <tr>\n",
       "      <th>1</th>\n",
       "      <td>2acmU</td>\n",
       "      <td>1.334711</td>\n",
       "      <td>-0.340164</td>\n",
       "      <td>4.365080</td>\n",
       "      <td>73.037750</td>\n",
       "    </tr>\n",
       "    <tr>\n",
       "      <th>2</th>\n",
       "      <td>409Wp</td>\n",
       "      <td>1.022732</td>\n",
       "      <td>0.151990</td>\n",
       "      <td>1.419926</td>\n",
       "      <td>85.265647</td>\n",
       "    </tr>\n",
       "    <tr>\n",
       "      <th>3</th>\n",
       "      <td>iJLyR</td>\n",
       "      <td>-0.032172</td>\n",
       "      <td>0.139033</td>\n",
       "      <td>2.978566</td>\n",
       "      <td>168.620776</td>\n",
       "    </tr>\n",
       "    <tr>\n",
       "      <th>4</th>\n",
       "      <td>Xdl7t</td>\n",
       "      <td>1.988431</td>\n",
       "      <td>0.155413</td>\n",
       "      <td>4.751769</td>\n",
       "      <td>154.036647</td>\n",
       "    </tr>\n",
       "  </tbody>\n",
       "</table>\n",
       "</div>"
      ],
      "text/plain": [
       "      id        f0        f1        f2     product\n",
       "0  txEyH  0.705745 -0.497823  1.221170  105.280062\n",
       "1  2acmU  1.334711 -0.340164  4.365080   73.037750\n",
       "2  409Wp  1.022732  0.151990  1.419926   85.265647\n",
       "3  iJLyR -0.032172  0.139033  2.978566  168.620776\n",
       "4  Xdl7t  1.988431  0.155413  4.751769  154.036647"
      ]
     },
     "execution_count": 4,
     "metadata": {},
     "output_type": "execute_result"
    }
   ],
   "source": [
    "geo_data_0.head()"
   ]
  },
  {
   "cell_type": "code",
   "execution_count": 5,
   "metadata": {},
   "outputs": [
    {
     "name": "stdout",
     "output_type": "stream",
     "text": [
      "<class 'pandas.core.frame.DataFrame'>\n",
      "RangeIndex: 100000 entries, 0 to 99999\n",
      "Data columns (total 5 columns):\n",
      " #   Column   Non-Null Count   Dtype  \n",
      "---  ------   --------------   -----  \n",
      " 0   id       100000 non-null  object \n",
      " 1   f0       100000 non-null  float64\n",
      " 2   f1       100000 non-null  float64\n",
      " 3   f2       100000 non-null  float64\n",
      " 4   product  100000 non-null  float64\n",
      "dtypes: float64(4), object(1)\n",
      "memory usage: 3.8+ MB\n"
     ]
    }
   ],
   "source": [
    "geo_data_0.info()"
   ]
  },
  {
   "cell_type": "code",
   "execution_count": 6,
   "metadata": {},
   "outputs": [
    {
     "name": "stdout",
     "output_type": "stream",
     "text": [
      "<class 'pandas.core.frame.DataFrame'>\n",
      "RangeIndex: 100000 entries, 0 to 99999\n",
      "Data columns (total 5 columns):\n",
      " #   Column   Non-Null Count   Dtype  \n",
      "---  ------   --------------   -----  \n",
      " 0   id       100000 non-null  object \n",
      " 1   f0       100000 non-null  float64\n",
      " 2   f1       100000 non-null  float64\n",
      " 3   f2       100000 non-null  float64\n",
      " 4   product  100000 non-null  float64\n",
      "dtypes: float64(4), object(1)\n",
      "memory usage: 3.8+ MB\n"
     ]
    }
   ],
   "source": [
    "geo_data_1.info()"
   ]
  },
  {
   "cell_type": "code",
   "execution_count": 7,
   "metadata": {},
   "outputs": [
    {
     "name": "stdout",
     "output_type": "stream",
     "text": [
      "<class 'pandas.core.frame.DataFrame'>\n",
      "RangeIndex: 100000 entries, 0 to 99999\n",
      "Data columns (total 5 columns):\n",
      " #   Column   Non-Null Count   Dtype  \n",
      "---  ------   --------------   -----  \n",
      " 0   id       100000 non-null  object \n",
      " 1   f0       100000 non-null  float64\n",
      " 2   f1       100000 non-null  float64\n",
      " 3   f2       100000 non-null  float64\n",
      " 4   product  100000 non-null  float64\n",
      "dtypes: float64(4), object(1)\n",
      "memory usage: 3.8+ MB\n"
     ]
    }
   ],
   "source": [
    "geo_data_2.info()"
   ]
  },
  {
   "cell_type": "code",
   "execution_count": 8,
   "metadata": {},
   "outputs": [
    {
     "data": {
      "text/plain": [
       "id         0\n",
       "f0         0\n",
       "f1         0\n",
       "f2         0\n",
       "product    0\n",
       "dtype: int64"
      ]
     },
     "execution_count": 8,
     "metadata": {},
     "output_type": "execute_result"
    }
   ],
   "source": [
    "geo_data_0.isna().sum()"
   ]
  },
  {
   "cell_type": "code",
   "execution_count": 9,
   "metadata": {},
   "outputs": [
    {
     "data": {
      "text/plain": [
       "0"
      ]
     },
     "execution_count": 9,
     "metadata": {},
     "output_type": "execute_result"
    }
   ],
   "source": [
    "geo_data_0.duplicated().sum()"
   ]
  },
  {
   "cell_type": "code",
   "execution_count": 10,
   "metadata": {},
   "outputs": [
    {
     "data": {
      "text/plain": [
       "id         0\n",
       "f0         0\n",
       "f1         0\n",
       "f2         0\n",
       "product    0\n",
       "dtype: int64"
      ]
     },
     "execution_count": 10,
     "metadata": {},
     "output_type": "execute_result"
    }
   ],
   "source": [
    "geo_data_1.isna().sum()"
   ]
  },
  {
   "cell_type": "code",
   "execution_count": 11,
   "metadata": {},
   "outputs": [
    {
     "data": {
      "text/plain": [
       "0"
      ]
     },
     "execution_count": 11,
     "metadata": {},
     "output_type": "execute_result"
    }
   ],
   "source": [
    "geo_data_1.duplicated().sum()"
   ]
  },
  {
   "cell_type": "code",
   "execution_count": 12,
   "metadata": {},
   "outputs": [
    {
     "data": {
      "text/plain": [
       "id         0\n",
       "f0         0\n",
       "f1         0\n",
       "f2         0\n",
       "product    0\n",
       "dtype: int64"
      ]
     },
     "execution_count": 12,
     "metadata": {},
     "output_type": "execute_result"
    }
   ],
   "source": [
    "geo_data_2.isna().sum()"
   ]
  },
  {
   "cell_type": "code",
   "execution_count": 13,
   "metadata": {},
   "outputs": [
    {
     "data": {
      "text/plain": [
       "0"
      ]
     },
     "execution_count": 13,
     "metadata": {},
     "output_type": "execute_result"
    }
   ],
   "source": [
    "geo_data_2.duplicated().sum()"
   ]
  },
  {
   "cell_type": "code",
   "execution_count": 14,
   "metadata": {},
   "outputs": [
    {
     "data": {
      "text/html": [
       "<div>\n",
       "<style scoped>\n",
       "    .dataframe tbody tr th:only-of-type {\n",
       "        vertical-align: middle;\n",
       "    }\n",
       "\n",
       "    .dataframe tbody tr th {\n",
       "        vertical-align: top;\n",
       "    }\n",
       "\n",
       "    .dataframe thead th {\n",
       "        text-align: right;\n",
       "    }\n",
       "</style>\n",
       "<table border=\"1\" class=\"dataframe\">\n",
       "  <thead>\n",
       "    <tr style=\"text-align: right;\">\n",
       "      <th></th>\n",
       "      <th>f0</th>\n",
       "      <th>f1</th>\n",
       "      <th>f2</th>\n",
       "      <th>product</th>\n",
       "    </tr>\n",
       "  </thead>\n",
       "  <tbody>\n",
       "    <tr>\n",
       "      <th>count</th>\n",
       "      <td>100000.000000</td>\n",
       "      <td>100000.000000</td>\n",
       "      <td>100000.000000</td>\n",
       "      <td>100000.000000</td>\n",
       "    </tr>\n",
       "    <tr>\n",
       "      <th>mean</th>\n",
       "      <td>0.500419</td>\n",
       "      <td>0.250143</td>\n",
       "      <td>2.502647</td>\n",
       "      <td>92.500000</td>\n",
       "    </tr>\n",
       "    <tr>\n",
       "      <th>std</th>\n",
       "      <td>0.871832</td>\n",
       "      <td>0.504433</td>\n",
       "      <td>3.248248</td>\n",
       "      <td>44.288691</td>\n",
       "    </tr>\n",
       "    <tr>\n",
       "      <th>min</th>\n",
       "      <td>-1.408605</td>\n",
       "      <td>-0.848218</td>\n",
       "      <td>-12.088328</td>\n",
       "      <td>0.000000</td>\n",
       "    </tr>\n",
       "    <tr>\n",
       "      <th>25%</th>\n",
       "      <td>-0.072580</td>\n",
       "      <td>-0.200881</td>\n",
       "      <td>0.287748</td>\n",
       "      <td>56.497507</td>\n",
       "    </tr>\n",
       "    <tr>\n",
       "      <th>50%</th>\n",
       "      <td>0.502360</td>\n",
       "      <td>0.250252</td>\n",
       "      <td>2.515969</td>\n",
       "      <td>91.849972</td>\n",
       "    </tr>\n",
       "    <tr>\n",
       "      <th>75%</th>\n",
       "      <td>1.073581</td>\n",
       "      <td>0.700646</td>\n",
       "      <td>4.715088</td>\n",
       "      <td>128.564089</td>\n",
       "    </tr>\n",
       "    <tr>\n",
       "      <th>max</th>\n",
       "      <td>2.362331</td>\n",
       "      <td>1.343769</td>\n",
       "      <td>16.003790</td>\n",
       "      <td>185.364347</td>\n",
       "    </tr>\n",
       "  </tbody>\n",
       "</table>\n",
       "</div>"
      ],
      "text/plain": [
       "                  f0             f1             f2        product\n",
       "count  100000.000000  100000.000000  100000.000000  100000.000000\n",
       "mean        0.500419       0.250143       2.502647      92.500000\n",
       "std         0.871832       0.504433       3.248248      44.288691\n",
       "min        -1.408605      -0.848218     -12.088328       0.000000\n",
       "25%        -0.072580      -0.200881       0.287748      56.497507\n",
       "50%         0.502360       0.250252       2.515969      91.849972\n",
       "75%         1.073581       0.700646       4.715088     128.564089\n",
       "max         2.362331       1.343769      16.003790     185.364347"
      ]
     },
     "execution_count": 14,
     "metadata": {},
     "output_type": "execute_result"
    }
   ],
   "source": [
    "geo_data_0.describe()"
   ]
  },
  {
   "cell_type": "code",
   "execution_count": 15,
   "metadata": {},
   "outputs": [
    {
     "data": {
      "image/png": "[encoded data removed]",
      "text/plain": [
       "<Figure size 1080x360 with 1 Axes>"
      ]
     },
     "metadata": {
      "needs_background": "light"
     },
     "output_type": "display_data"
    }
   ],
   "source": [
    "geo_data_0['product'].hist(bins=100, figsize=(15,5))\n",
    "plt.title('Гистограмма обьема запасов в скважине')\n",
    "plt.xlabel('тыс. баррелей')\n",
    "plt.ylabel('Частота')\n",
    "plt.show()"
   ]
  },
  {
   "cell_type": "code",
   "execution_count": 16,
   "metadata": {},
   "outputs": [
    {
     "data": {
      "text/html": [
       "<div>\n",
       "<style scoped>\n",
       "    .dataframe tbody tr th:only-of-type {\n",
       "        vertical-align: middle;\n",
       "    }\n",
       "\n",
       "    .dataframe tbody tr th {\n",
       "        vertical-align: top;\n",
       "    }\n",
       "\n",
       "    .dataframe thead th {\n",
       "        text-align: right;\n",
       "    }\n",
       "</style>\n",
       "<table border=\"1\" class=\"dataframe\">\n",
       "  <thead>\n",
       "    <tr style=\"text-align: right;\">\n",
       "      <th></th>\n",
       "      <th>f0</th>\n",
       "      <th>f1</th>\n",
       "      <th>f2</th>\n",
       "      <th>product</th>\n",
       "    </tr>\n",
       "  </thead>\n",
       "  <tbody>\n",
       "    <tr>\n",
       "      <th>count</th>\n",
       "      <td>100000.000000</td>\n",
       "      <td>100000.000000</td>\n",
       "      <td>100000.000000</td>\n",
       "      <td>100000.000000</td>\n",
       "    </tr>\n",
       "    <tr>\n",
       "      <th>mean</th>\n",
       "      <td>1.141296</td>\n",
       "      <td>-4.796579</td>\n",
       "      <td>2.494541</td>\n",
       "      <td>68.825000</td>\n",
       "    </tr>\n",
       "    <tr>\n",
       "      <th>std</th>\n",
       "      <td>8.965932</td>\n",
       "      <td>5.119872</td>\n",
       "      <td>1.703572</td>\n",
       "      <td>45.944423</td>\n",
       "    </tr>\n",
       "    <tr>\n",
       "      <th>min</th>\n",
       "      <td>-31.609576</td>\n",
       "      <td>-26.358598</td>\n",
       "      <td>-0.018144</td>\n",
       "      <td>0.000000</td>\n",
       "    </tr>\n",
       "    <tr>\n",
       "      <th>25%</th>\n",
       "      <td>-6.298551</td>\n",
       "      <td>-8.267985</td>\n",
       "      <td>1.000021</td>\n",
       "      <td>26.953261</td>\n",
       "    </tr>\n",
       "    <tr>\n",
       "      <th>50%</th>\n",
       "      <td>1.153055</td>\n",
       "      <td>-4.813172</td>\n",
       "      <td>2.011479</td>\n",
       "      <td>57.085625</td>\n",
       "    </tr>\n",
       "    <tr>\n",
       "      <th>75%</th>\n",
       "      <td>8.621015</td>\n",
       "      <td>-1.332816</td>\n",
       "      <td>3.999904</td>\n",
       "      <td>107.813044</td>\n",
       "    </tr>\n",
       "    <tr>\n",
       "      <th>max</th>\n",
       "      <td>29.421755</td>\n",
       "      <td>18.734063</td>\n",
       "      <td>5.019721</td>\n",
       "      <td>137.945408</td>\n",
       "    </tr>\n",
       "  </tbody>\n",
       "</table>\n",
       "</div>"
      ],
      "text/plain": [
       "                  f0             f1             f2        product\n",
       "count  100000.000000  100000.000000  100000.000000  100000.000000\n",
       "mean        1.141296      -4.796579       2.494541      68.825000\n",
       "std         8.965932       5.119872       1.703572      45.944423\n",
       "min       -31.609576     -26.358598      -0.018144       0.000000\n",
       "25%        -6.298551      -8.267985       1.000021      26.953261\n",
       "50%         1.153055      -4.813172       2.011479      57.085625\n",
       "75%         8.621015      -1.332816       3.999904     107.813044\n",
       "max        29.421755      18.734063       5.019721     137.945408"
      ]
     },
     "execution_count": 16,
     "metadata": {},
     "output_type": "execute_result"
    }
   ],
   "source": [
    "geo_data_1.describe()"
   ]
  },
  {
   "cell_type": "code",
   "execution_count": 17,
   "metadata": {},
   "outputs": [
    {
     "data": {
      "image/png": "[encoded data removed]",
      "text/plain": [
       "<Figure size 1080x360 with 1 Axes>"
      ]
     },
     "metadata": {
      "needs_background": "light"
     },
     "output_type": "display_data"
    }
   ],
   "source": [
    "geo_data_1['product'].hist(bins=30, figsize=(15,5))\n",
    "plt.title('Гистограмма обьема запасов в скважине')\n",
    "plt.xlabel('тыс. баррелей')\n",
    "plt.ylabel('Частота')\n",
    "plt.show()"
   ]
  },
  {
   "cell_type": "code",
   "execution_count": 18,
   "metadata": {},
   "outputs": [
    {
     "data": {
      "text/html": [
       "<div>\n",
       "<style scoped>\n",
       "    .dataframe tbody tr th:only-of-type {\n",
       "        vertical-align: middle;\n",
       "    }\n",
       "\n",
       "    .dataframe tbody tr th {\n",
       "        vertical-align: top;\n",
       "    }\n",
       "\n",
       "    .dataframe thead th {\n",
       "        text-align: right;\n",
       "    }\n",
       "</style>\n",
       "<table border=\"1\" class=\"dataframe\">\n",
       "  <thead>\n",
       "    <tr style=\"text-align: right;\">\n",
       "      <th></th>\n",
       "      <th>f0</th>\n",
       "      <th>f1</th>\n",
       "      <th>f2</th>\n",
       "      <th>product</th>\n",
       "    </tr>\n",
       "  </thead>\n",
       "  <tbody>\n",
       "    <tr>\n",
       "      <th>count</th>\n",
       "      <td>100000.000000</td>\n",
       "      <td>100000.000000</td>\n",
       "      <td>100000.000000</td>\n",
       "      <td>100000.000000</td>\n",
       "    </tr>\n",
       "    <tr>\n",
       "      <th>mean</th>\n",
       "      <td>0.002023</td>\n",
       "      <td>-0.002081</td>\n",
       "      <td>2.495128</td>\n",
       "      <td>95.000000</td>\n",
       "    </tr>\n",
       "    <tr>\n",
       "      <th>std</th>\n",
       "      <td>1.732045</td>\n",
       "      <td>1.730417</td>\n",
       "      <td>3.473445</td>\n",
       "      <td>44.749921</td>\n",
       "    </tr>\n",
       "    <tr>\n",
       "      <th>min</th>\n",
       "      <td>-8.760004</td>\n",
       "      <td>-7.084020</td>\n",
       "      <td>-11.970335</td>\n",
       "      <td>0.000000</td>\n",
       "    </tr>\n",
       "    <tr>\n",
       "      <th>25%</th>\n",
       "      <td>-1.162288</td>\n",
       "      <td>-1.174820</td>\n",
       "      <td>0.130359</td>\n",
       "      <td>59.450441</td>\n",
       "    </tr>\n",
       "    <tr>\n",
       "      <th>50%</th>\n",
       "      <td>0.009424</td>\n",
       "      <td>-0.009482</td>\n",
       "      <td>2.484236</td>\n",
       "      <td>94.925613</td>\n",
       "    </tr>\n",
       "    <tr>\n",
       "      <th>75%</th>\n",
       "      <td>1.158535</td>\n",
       "      <td>1.163678</td>\n",
       "      <td>4.858794</td>\n",
       "      <td>130.595027</td>\n",
       "    </tr>\n",
       "    <tr>\n",
       "      <th>max</th>\n",
       "      <td>7.238262</td>\n",
       "      <td>7.844801</td>\n",
       "      <td>16.739402</td>\n",
       "      <td>190.029838</td>\n",
       "    </tr>\n",
       "  </tbody>\n",
       "</table>\n",
       "</div>"
      ],
      "text/plain": [
       "                  f0             f1             f2        product\n",
       "count  100000.000000  100000.000000  100000.000000  100000.000000\n",
       "mean        0.002023      -0.002081       2.495128      95.000000\n",
       "std         1.732045       1.730417       3.473445      44.749921\n",
       "min        -8.760004      -7.084020     -11.970335       0.000000\n",
       "25%        -1.162288      -1.174820       0.130359      59.450441\n",
       "50%         0.009424      -0.009482       2.484236      94.925613\n",
       "75%         1.158535       1.163678       4.858794     130.595027\n",
       "max         7.238262       7.844801      16.739402     190.029838"
      ]
     },
     "execution_count": 18,
     "metadata": {},
     "output_type": "execute_result"
    }
   ],
   "source": [
    "geo_data_2.describe()"
   ]
  },
  {
   "cell_type": "code",
   "execution_count": 19,
   "metadata": {},
   "outputs": [
    {
     "data": {
      "image/png": "[encoded data removed]",
      "text/plain": [
       "<Figure size 1080x360 with 1 Axes>"
      ]
     },
     "metadata": {
      "needs_background": "light"
     },
     "output_type": "display_data"
    }
   ],
   "source": [
    "geo_data_2['product'].hist(bins=100, figsize=(15,5))\n",
    "plt.title('Гистограмма обьема запасов в скважине')\n",
    "plt.xlabel('тыс. баррелей')\n",
    "plt.ylabel('Частота')\n",
    "plt.show()"
   ]
  },
  {
   "cell_type": "markdown",
   "metadata": {},
   "source": [
    "## Обучение и проверка модели"
   ]
  },
  {
   "cell_type": "markdown",
   "metadata": {},
   "source": [
    "# Model 1: geo_data_0"
   ]
  },
  {
   "cell_type": "code",
   "execution_count": 20,
   "metadata": {
    "scrolled": true
   },
   "outputs": [
    {
     "name": "stdout",
     "output_type": "stream",
     "text": [
      "(75000, 3)\n",
      "(25000, 3)\n",
      "(75000,)\n",
      "(25000,)\n"
     ]
    }
   ],
   "source": [
    "RANDOM_STATE = 42\n",
    "\n",
    "X = geo_data_0.drop(columns=['product', 'id'])\n",
    "y = geo_data_0['product']\n",
    "X_train, X_val, y_train, y_val = train_test_split(\n",
    "    X, \n",
    "    y, \n",
    "    test_size=0.25,\n",
    "    random_state=RANDOM_STATE\n",
    ")\n",
    "print(X_train.shape)\n",
    "print(X_val.shape)\n",
    "print(y_train.shape)\n",
    "print(y_val.shape)"
   ]
  },
  {
   "cell_type": "code",
   "execution_count": 21,
   "metadata": {},
   "outputs": [],
   "source": [
    "num_col_names = ['f0', 'f1', 'f2']\n",
    "scaler = StandardScaler()\n",
    "X_train = scaler.fit_transform(X_train[num_col_names])\n",
    "X_val = scaler.transform(X_val[num_col_names])"
   ]
  },
  {
   "cell_type": "code",
   "execution_count": 22,
   "metadata": {},
   "outputs": [],
   "source": [
    "model_1  = LinearRegression()\n",
    "model_1.fit(X_train, y_train)\n",
    "predictions_model_1 = model_1.predict(X_val)"
   ]
  },
  {
   "cell_type": "code",
   "execution_count": 23,
   "metadata": {},
   "outputs": [
    {
     "name": "stdout",
     "output_type": "stream",
     "text": [
      "MAE LinearRegression = 31\n",
      "RMSE LinearRegression = 37.757\n",
      "MSE LinearRegression = 1425.561\n"
     ]
    }
   ],
   "source": [
    "mae = mean_absolute_error(y_val, predictions_model_1)\n",
    "print(f\"MAE LinearRegression = {mae:.0f}\")\n",
    "rmse = mean_squared_error(y_val, predictions_model_1, squared=False)\n",
    "print(f\"RMSE LinearRegression = {rmse:.3f}\")\n",
    "mse = mean_squared_error(y_val, predictions_model_1) \n",
    "print(f\"MSE LinearRegression = {mse:.3f}\")"
   ]
  },
  {
   "cell_type": "code",
   "execution_count": 24,
   "metadata": {
    "scrolled": true
   },
   "outputs": [],
   "source": [
    "predictions_df1 = pd.DataFrame({'true_values': y_val, 'predictions': predictions_model_1})"
   ]
  },
  {
   "cell_type": "code",
   "execution_count": 25,
   "metadata": {},
   "outputs": [
    {
     "name": "stdout",
     "output_type": "stream",
     "text": [
      "Средний запас предсказанного сырья: 92.39879990657768\n"
     ]
    }
   ],
   "source": [
    "print('Средний запас предсказанного сырья:', predictions_df1['predictions'].mean())"
   ]
  },
  {
   "cell_type": "code",
   "execution_count": 26,
   "metadata": {},
   "outputs": [
    {
     "data": {
      "image/png": "[encoded data removed]",
      "text/plain": [
       "<Figure size 432x288 with 1 Axes>"
      ]
     },
     "metadata": {
      "needs_background": "light"
     },
     "output_type": "display_data"
    }
   ],
   "source": [
    "residuals = y_val - predictions_model_1\n",
    "plt.hist(residuals, bins=30, edgecolor='black')\n",
    "mean_residuals = np.mean(residuals)\n",
    "plt.axvline(x=0, color='blue', linestyle='--', label='Среднее = 0')\n",
    "plt.axvline(x=mean_residuals, color='red', linestyle='--', label=f'Смещенное среднее = {mean_residuals:.2f}')\n",
    "\n",
    "plt.legend(bbox_to_anchor=(1.05, 1), loc='upper left')\n",
    "plt.title('Гистограмма остатков')\n",
    "plt.xlabel('Остатки')\n",
    "plt.ylabel('Частота')\n",
    "plt.show()"
   ]
  },
  {
   "cell_type": "code",
   "execution_count": 27,
   "metadata": {},
   "outputs": [
    {
     "data": {
      "image/png": "[encoded data removed]",
      "text/plain": [
       "<Figure size 576x432 with 1 Axes>"
      ]
     },
     "metadata": {
      "needs_background": "light"
     },
     "output_type": "display_data"
    }
   ],
   "source": [
    "plt.figure(figsize=(8, 6))\n",
    "sns.scatterplot(x=predictions_model_1, y=residuals)\n",
    "plt.axhline(y=0, color='r', linestyle='--')\n",
    "plt.title('График остатков от предсказанных значений')\n",
    "plt.xlabel('Предсказанные значения')\n",
    "plt.ylabel('Остатки')\n",
    "plt.show()"
   ]
  },
  {
   "cell_type": "markdown",
   "metadata": {},
   "source": [
    "# Model 2: geo_data_1"
   ]
  },
  {
   "cell_type": "code",
   "execution_count": 28,
   "metadata": {
    "scrolled": true
   },
   "outputs": [
    {
     "name": "stdout",
     "output_type": "stream",
     "text": [
      "(75000, 3)\n",
      "(25000, 3)\n",
      "(75000,)\n",
      "(25000,)\n"
     ]
    }
   ],
   "source": [
    "RANDOM_STATE = 42\n",
    "\n",
    "X = geo_data_1.drop(columns=['product', 'id'])\n",
    "y = geo_data_1['product']\n",
    "X_train, X_val, y_train, y_val = train_test_split(\n",
    "    X, \n",
    "    y, \n",
    "    test_size=0.25,\n",
    "    random_state=RANDOM_STATE\n",
    ")\n",
    "print(X_train.shape)\n",
    "print(X_val.shape)\n",
    "print(y_train.shape)\n",
    "print(y_val.shape)"
   ]
  },
  {
   "cell_type": "code",
   "execution_count": 29,
   "metadata": {},
   "outputs": [],
   "source": [
    "num_col_names = ['f0', 'f1', 'f2']\n",
    "scaler = StandardScaler()\n",
    "X_train = scaler.fit_transform(X_train[num_col_names])\n",
    "X_val = scaler.transform(X_val[num_col_names])"
   ]
  },
  {
   "cell_type": "code",
   "execution_count": 30,
   "metadata": {},
   "outputs": [],
   "source": [
    "model_2  = LinearRegression()\n",
    "model_2.fit(X_train, y_train)\n",
    "predictions_model_2 = model_2.predict(X_val)"
   ]
  },
  {
   "cell_type": "code",
   "execution_count": 31,
   "metadata": {},
   "outputs": [
    {
     "name": "stdout",
     "output_type": "stream",
     "text": [
      "MAE LinearRegression = 1\n",
      "RMSE LinearRegression = 0.890\n",
      "MSE LinearRegression = 0.793\n"
     ]
    }
   ],
   "source": [
    "mae = mean_absolute_error(y_val, predictions_model_2)\n",
    "print(f\"MAE LinearRegression = {mae:.0f}\")\n",
    "rmse = mean_squared_error(y_val, predictions_model_2, squared=False)\n",
    "print(f\"RMSE LinearRegression = {rmse:.3f}\")\n",
    "mse = mean_squared_error(y_val, predictions_model_2) \n",
    "print(f\"MSE LinearRegression = {mse:.3f}\")"
   ]
  },
  {
   "cell_type": "code",
   "execution_count": 32,
   "metadata": {
    "scrolled": true
   },
   "outputs": [],
   "source": [
    "predictions_df2 = pd.DataFrame({'true_values': y_val, 'predictions': predictions_model_2})"
   ]
  },
  {
   "cell_type": "code",
   "execution_count": 33,
   "metadata": {},
   "outputs": [
    {
     "name": "stdout",
     "output_type": "stream",
     "text": [
      "Средний запас предсказанного сырья: 68.7128780391376\n"
     ]
    }
   ],
   "source": [
    "print('Средний запас предсказанного сырья:', predictions_df2['predictions'].mean())"
   ]
  },
  {
   "cell_type": "code",
   "execution_count": 34,
   "metadata": {},
   "outputs": [
    {
     "data": {
      "image/png": "[encoded data removed]",
      "text/plain": [
       "<Figure size 432x288 with 1 Axes>"
      ]
     },
     "metadata": {
      "needs_background": "light"
     },
     "output_type": "display_data"
    }
   ],
   "source": [
    "residuals = y_val - predictions_model_2\n",
    "plt.hist(residuals, bins=30, edgecolor='black')\n",
    "mean_residuals = np.mean(residuals)\n",
    "plt.axvline(x=0, color='blue', linestyle='--', label='Среднее = 0')\n",
    "plt.axvline(x=mean_residuals, color='red', linestyle='--', label=f'Смещенное среднее = {mean_residuals:.2f}')\n",
    "\n",
    "plt.legend(bbox_to_anchor=(1.05, 1), loc='upper left')\n",
    "plt.title('Гистограмма остатков')\n",
    "plt.xlabel('Остатки')\n",
    "plt.ylabel('Частота')\n",
    "plt.show()"
   ]
  },
  {
   "cell_type": "code",
   "execution_count": 35,
   "metadata": {},
   "outputs": [
    {
     "data": {
      "image/png": "[encoded data removed]",
      "text/plain": [
       "<Figure size 576x432 with 1 Axes>"
      ]
     },
     "metadata": {
      "needs_background": "light"
     },
     "output_type": "display_data"
    }
   ],
   "source": [
    "plt.figure(figsize=(8, 6))\n",
    "sns.scatterplot(x=predictions_model_2, y=residuals)\n",
    "plt.axhline(y=0, color='r', linestyle='--')\n",
    "plt.title('График остатков от предсказанных значений')\n",
    "plt.xlabel('Предсказанные значения')\n",
    "plt.ylabel('Остатки')\n",
    "plt.show()"
   ]
  },
  {
   "cell_type": "markdown",
   "metadata": {},
   "source": [
    "# Model 3: geo_data_2"
   ]
  },
  {
   "cell_type": "code",
   "execution_count": 36,
   "metadata": {
    "scrolled": true
   },
   "outputs": [
    {
     "name": "stdout",
     "output_type": "stream",
     "text": [
      "(75000, 3)\n",
      "(25000, 3)\n",
      "(75000,)\n",
      "(25000,)\n"
     ]
    }
   ],
   "source": [
    "RANDOM_STATE = 42\n",
    "\n",
    "X = geo_data_2.drop(columns=['product', 'id'])\n",
    "y = geo_data_2['product']\n",
    "X_train, X_val, y_train, y_val = train_test_split(\n",
    "    X, \n",
    "    y, \n",
    "    test_size=0.25,\n",
    "    random_state=RANDOM_STATE\n",
    ")\n",
    "print(X_train.shape)\n",
    "print(X_val.shape)\n",
    "print(y_train.shape)\n",
    "print(y_val.shape)"
   ]
  },
  {
   "cell_type": "code",
   "execution_count": 37,
   "metadata": {},
   "outputs": [],
   "source": [
    "num_col_names = ['f0', 'f1', 'f2']\n",
    "scaler = StandardScaler()\n",
    "X_train = scaler.fit_transform(X_train[num_col_names])\n",
    "X_val = scaler.transform(X_val[num_col_names])"
   ]
  },
  {
   "cell_type": "code",
   "execution_count": 38,
   "metadata": {},
   "outputs": [],
   "source": [
    "model_3  = LinearRegression()\n",
    "model_3.fit(X_train, y_train)\n",
    "predictions_model_3 = model_3.predict(X_val)"
   ]
  },
  {
   "cell_type": "code",
   "execution_count": 39,
   "metadata": {},
   "outputs": [
    {
     "name": "stdout",
     "output_type": "stream",
     "text": [
      "MAE LinearRegression = 33\n",
      "RMSE LinearRegression = 40.146\n",
      "MSE LinearRegression = 1611.691\n"
     ]
    }
   ],
   "source": [
    "mae = mean_absolute_error(y_val, predictions_model_3)\n",
    "print(f\"MAE LinearRegression = {mae:.0f}\")\n",
    "rmse = mean_squared_error(y_val, predictions_model_3, squared=False)\n",
    "print(f\"RMSE LinearRegression = {rmse:.3f}\")\n",
    "mse = mean_squared_error(y_val, predictions_model_3) \n",
    "print(f\"MSE LinearRegression = {mse:.3f}\")"
   ]
  },
  {
   "cell_type": "code",
   "execution_count": 40,
   "metadata": {
    "scrolled": true
   },
   "outputs": [],
   "source": [
    "predictions_df3 = pd.DataFrame({'true_values': y_val, 'predictions': predictions_model_3})"
   ]
  },
  {
   "cell_type": "code",
   "execution_count": 41,
   "metadata": {},
   "outputs": [
    {
     "name": "stdout",
     "output_type": "stream",
     "text": [
      "Средний запас предсказанного сырья: 94.77102387765939\n"
     ]
    }
   ],
   "source": [
    "print('Средний запас предсказанного сырья:', predictions_df3['predictions'].mean())"
   ]
  },
  {
   "cell_type": "code",
   "execution_count": 42,
   "metadata": {},
   "outputs": [
    {
     "data": {
      "image/png": "[encoded data removed]",
      "text/plain": [
       "<Figure size 432x288 with 1 Axes>"
      ]
     },
     "metadata": {
      "needs_background": "light"
     },
     "output_type": "display_data"
    }
   ],
   "source": [
    "residuals = y_val - predictions_model_3\n",
    "plt.hist(residuals, bins=30, edgecolor='black')\n",
    "mean_residuals = np.mean(residuals)\n",
    "plt.axvline(x=0, color='blue', linestyle='--', label='Среднее = 0')\n",
    "plt.axvline(x=mean_residuals, color='red', linestyle='--', label=f'Смещенное среднее = {mean_residuals:.2f}')\n",
    "\n",
    "plt.legend(bbox_to_anchor=(1.05, 1), loc='upper left')\n",
    "plt.title('Гистограмма остатков')\n",
    "plt.xlabel('Остатки')\n",
    "plt.ylabel('Частота')\n",
    "plt.show()"
   ]
  },
  {
   "cell_type": "code",
   "execution_count": 43,
   "metadata": {},
   "outputs": [
    {
     "data": {
      "image/png": "[encoded data removed]",
      "text/plain": [
       "<Figure size 576x432 with 1 Axes>"
      ]
     },
     "metadata": {
      "needs_background": "light"
     },
     "output_type": "display_data"
    }
   ],
   "source": [
    "plt.figure(figsize=(8, 6))\n",
    "sns.scatterplot(x=predictions_model_3, y=residuals)\n",
    "plt.axhline(y=0, color='r', linestyle='--')\n",
    "plt.title('График остатков от предсказанных значений')\n",
    "plt.xlabel('Предсказанные значения')\n",
    "plt.ylabel('Остатки')\n",
    "plt.show()"
   ]
  },
  {
   "cell_type": "markdown",
   "metadata": {},
   "source": [
    "## Подготовка к расчёту прибыли"
   ]
  },
  {
   "cell_type": "code",
   "execution_count": 44,
   "metadata": {},
   "outputs": [],
   "source": [
    "geo_data_1_mean_product = predictions_df1['true_values'].mean()\n",
    "geo_data_2_mean_product = predictions_df2['true_values'].mean()\n",
    "geo_data_3_mean_product = predictions_df3['true_values'].mean()\n",
    "\n",
    "geo_data_1_mean_product_pred = predictions_df1['predictions'].mean()\n",
    "geo_data_2_mean_product_pred = predictions_df2['predictions'].mean()\n",
    "geo_data_3_mean_product_pred = predictions_df3['predictions'].mean()\n",
    "\n",
    "budget_per_well = 10e9 \n",
    "price_per_barrel = 450\n",
    "\n",
    "mining_cost_per_well = budget_per_well / 200\n",
    "mining_volume_for_break_even = mining_cost_per_well / (price_per_barrel * 1000)"
   ]
  },
  {
   "cell_type": "code",
   "execution_count": 45,
   "metadata": {},
   "outputs": [
    {
     "name": "stdout",
     "output_type": "stream",
     "text": [
      "Средний запас в регионе 0: 92.32595637084387\n",
      "Средний запас в регионе 1: 68.72538074722745\n",
      "Средний запас в регионе 2: 95.15099907171961\n"
     ]
    }
   ],
   "source": [
    "print(\"Средний запас в регионе 0:\", geo_data_1_mean_product)\n",
    "print(\"Средний запас в регионе 1:\", geo_data_2_mean_product)\n",
    "print(\"Средний запас в регионе 2:\", geo_data_3_mean_product)"
   ]
  },
  {
   "cell_type": "code",
   "execution_count": 46,
   "metadata": {},
   "outputs": [
    {
     "name": "stdout",
     "output_type": "stream",
     "text": [
      "Достаточный объем сырья для безубыточной разработки новой скважины: 111.11111111111111\n"
     ]
    }
   ],
   "source": [
    "print(\"Достаточный объем сырья для безубыточной разработки новой скважины:\", mining_volume_for_break_even)\n"
   ]
  },
  {
   "cell_type": "code",
   "execution_count": 47,
   "metadata": {},
   "outputs": [
    {
     "name": "stdout",
     "output_type": "stream",
     "text": [
      "В регионе 0 средний запас сырья недостаточен для безубыточной разработки новой скважины\n",
      "В регионе 1 средний запас сырья недостаточен для безубыточной разработки новой скважины\n",
      "В регионе 2 средний запас сырья недостаточен для безубыточной разработки новой скважины\n"
     ]
    }
   ],
   "source": [
    "if geo_data_1_mean_product >= mining_volume_for_break_even:\n",
    "    print(\"В регионе 0 средний запас сырья достаточен для безубыточной разработки новой скважины\")\n",
    "else:\n",
    "    print(\"В регионе 0 средний запас сырья недостаточен для безубыточной разработки новой скважины\")\n",
    "\n",
    "if geo_data_2_mean_product >= mining_volume_for_break_even:\n",
    "    print(\"В регионе 1 средний запас сырья достаточен для безубыточной разработки новой скважины\")\n",
    "else:\n",
    "    print(\"В регионе 1 средний запас сырья недостаточен для безубыточной разработки новой скважины\")\n",
    "\n",
    "if geo_data_3_mean_product >= mining_volume_for_break_even:\n",
    "    print(\"В регионе 2 средний запас сырья достаточен для безубыточной разработки новой скважины\")\n",
    "else:\n",
    "    print(\"В регионе 2 средний запас сырья недостаточен для безубыточной разработки новой скважины\")"
   ]
  },
  {
   "cell_type": "markdown",
   "metadata": {},
   "source": [
    "## Расчёт прибыли и рисков "
   ]
  },
  {
   "cell_type": "code",
   "execution_count": 97,
   "metadata": {},
   "outputs": [],
   "source": [
    "def calculate_profit(predicted_values, true_values, budget_per_well, price_per_barrel):\n",
    "    sorted_predictions = predicted_values.sort_values(ascending=False).reset_index()\n",
    "    sorted_predictions = sorted_predictions.drop_duplicates(subset='predictions').head(200)\n",
    "    top_200_indices = sorted_predictions['index']\n",
    "    selected_true_values = true_values.loc[top_200_indices]\n",
    "    \n",
    "    if selected_true_values.size > 200:\n",
    "        selected_true_values = selected_true_values.head(200)\n",
    "    \n",
    "    total_volume = selected_true_values.sum()\n",
    "    revenue = total_volume * price_per_barrel * 1000\n",
    "    costs = budget_per_well\n",
    "    profit = revenue - costs\n",
    "    return profit\n"
   ]
  },
  {
   "cell_type": "code",
   "execution_count": 98,
   "metadata": {},
   "outputs": [],
   "source": [
    "def bootstrap_profit(predictions_df, budget_per_well, price_per_barrel):\n",
    "    profits = []\n",
    "    for _ in range(1000):\n",
    "        sample_indices = state.choice(predictions_df.index, size=500, replace=True)\n",
    "        sample_predictions = predictions_df.loc[sample_indices, 'predictions']\n",
    "        sample_true_values = predictions_df.loc[sample_indices, 'true_values']\n",
    "        \n",
    "        profit = calculate_profit(sample_predictions, sample_true_values, budget_per_well, price_per_barrel)\n",
    "        profits.append(profit)\n",
    "    \n",
    "    profits = np.array(profits)\n",
    "    \n",
    "    mean_profit = profits.mean()\n",
    "    lower_bound = np.percentile(profits, 2.5)\n",
    "    upper_bound = np.percentile(profits, 97.5)\n",
    "    loss_probability = (profits < 0).mean()\n",
    "    \n",
    "    return mean_profit, (lower_bound, upper_bound), loss_probability"
   ]
  },
  {
   "cell_type": "code",
   "execution_count": 99,
   "metadata": {},
   "outputs": [
    {
     "name": "stdout",
     "output_type": "stream",
     "text": [
      "Результаты для Region 1:\n",
      "Средняя прибыль: 400800107.2083498\n",
      "Доверительный интервал 95%: (-86233105.98805179, 892569801.5107509)\n",
      "Вероятность убытков: 0.056\n",
      "\n",
      "Результаты для Region 2:\n",
      "Средняя прибыль: 447023952.98579293\n",
      "Доверительный интервал 95%: (38081197.96973754, 844433614.9392275)\n",
      "Вероятность убытков: 0.015\n",
      "\n",
      "Результаты для Region 3:\n",
      "Средняя прибыль: 373016785.0405204\n",
      "Доверительный интервал 95%: (-120329867.40084012, 886389839.0471692)\n",
      "Вероятность убытков: 0.08\n",
      "\n"
     ]
    }
   ],
   "source": [
    "dataframes = [predictions_df1, predictions_df2, predictions_df3]\n",
    "    \n",
    "region_results = {}\n",
    "for i in range(1, 4):\n",
    "    dataframe_name = f\"predictions_df{i}\"  \n",
    "    dataframe = globals()[dataframe_name]\n",
    "    mean_profit, confidence_interval, loss_probability = bootstrap_profit(dataframe, budget_per_well, price_per_barrel)\n",
    "    region_results[f'Region {i}'] = {\n",
    "        'Mean Profit': mean_profit,\n",
    "        '95% Confidence Interval': confidence_interval,\n",
    "        'Loss Probability': loss_probability\n",
    "    }\n",
    "\n",
    "# Выводим результаты (Output results)\n",
    "for region, result in region_results.items():\n",
    "    print(f\"Результаты для {region}:\")\n",
    "    print(f\"Средняя прибыль: {result['Mean Profit']}\")\n",
    "    print(f\"Доверительный интервал 95%: {result['95% Confidence Interval']}\")\n",
    "    print(f\"Вероятность убытков: {result['Loss Probability']}\")\n",
    "    print()\n"
   ]
  },
  {
   "cell_type": "markdown",
   "metadata": {},
   "source": [
    "## Вывод"
   ]
  },
  {
   "cell_type": "markdown",
   "metadata": {},
   "source": [
    "### 1. Описание данных\n",
    "Мы проанализировали три набора данных, каждый из которых содержит информацию о геологических характеристиках и объёмах добытого сырья в различных регионах:\n",
    "- geo_data_0\n",
    "- geo_data_1\n",
    "- geo_data_2\n",
    "\n",
    "Каждый набор данных содержит 100000 записей и 5 столбцов: id, f0, f1, f2 и product. Столбец id представляет собой уникальный идентификатор, а столбцы f0, f1, f2 - это геологические признаки, по которым будет предсказываться объём добытого сырья (product).\n",
    "\n",
    "### 2. Разделение данных на тренировочные и валидационные выборки\n",
    "Для каждого набора данных было выполнено разделение на тренировочную и валидационную выборки в соотношении 75% на 25% с использованием фиксированного случайного состояния (random_state = 42) для обеспечения воспроизводимости результатов.\n",
    "\n",
    "### 3. Масштабирование данных\n",
    "Мы масштабировали числовые признаки (f0, f1, f2) с использованием стандартизации (StandardScaler) для улучшения качества предсказаний моделей линейной регрессии.\n",
    "\n",
    "### 4. Построение моделей\n",
    "Для каждого набора данных была обучена модель линейной регрессии, и были сделаны предсказания на валидационной выборке. Метрики качества предсказаний (MAE, RMSE, MSE) для моделей на разных наборах данных следующие:\n",
    "\n",
    "#### geo_data_0:\n",
    "- MAE = 32\n",
    "- RMSE = 40.146\n",
    "- MSE = 1611.691\n",
    "\n",
    "#### geo_data_1:\n",
    "- MAE = 1\n",
    "- RMSE = 0.890\n",
    "- MSE = 0.793\n",
    "\n",
    "#### geo_data_2:\n",
    "- MAE = 33\n",
    "- RMSE = 40.146\n",
    "- MSE = 1611.691\n",
    "\n",
    "### 5. Оценка достаточности запасов сырья для безубыточной разработки\n",
    "Для оценки достаточности запасов сырья была рассчитана средняя предсказанная величина запасов в каждом регионе. Средний запас сырья в регионах составил:\n",
    "- Регион 0: 92.39879990657768\n",
    "- Регион 1: 68.7128780391376\n",
    "- Регион 2: 94.77102387765939\n",
    "\n",
    "Для безубыточной разработки новой скважины требуется, чтобы объём добычи составлял не менее 111.11 единиц.\n",
    "\n",
    "### 6. Заключение о достаточности запасов\n",
    "Средние запасы сырья в каждом из регионов недостаточны для безубыточной разработки новой скважины, так как все значения ниже 111.11.\n",
    "\n",
    "### 7. Расчёт прибыли с использованием метода бутстреп\n",
    "Для каждого региона был рассчитан ожидаемый объём прибыли, доверительный интервал и вероятность убытков с использованием метода бутстреп. Результаты следующие:\n",
    "\n",
    "#### Регион 1:\n",
    "- Средняя прибыль: 400,800,107.2083498\n",
    "- Доверительный интервал 95%: (-86,233,105.98805179, 892,569,801.5107509)\n",
    "- Вероятность убытков: 0.056\n",
    "\n",
    "#### Регион 2:\n",
    "- Средняя прибыль: 447,023,952.98579293\n",
    "- Доверительный интервал 95%: (38,081,197.96973754, 844,433,614.9392275)\n",
    "- Вероятность убытков: 0.015\n",
    "\n",
    "#### Регион 3:\n",
    "- Средняя прибыль: 373,016,785.0405204\n",
    "- Доверительный интервал 95%: (-120,329,867.40084012, 886,389,839.0471692)\n",
    "- Вероятность убытков: 0.08\n",
    "\n",
    "### 8. Выводы\n",
    "- Регион 2 показывает наилучшие результаты с точки зрения ожидаемой прибыли и минимальной вероятности убытков.\n",
    "- Регион 1 также показывает хорошие результаты, но с несколько более высокой вероятностью убытков.\n",
    "- Регион 3 имеет наибольшую вероятность убытков и самый широкий доверительный интервал.\n",
    "\n",
    "На основе проведённого анализа рекомендуется рассмотреть Регион 2 для разработки, так как он показывает наилучшие прогнозы по прибыли и минимальную вероятность убытков."
   ]
  }
 ],
 "metadata": {
  "ExecuteTimeLog": [
   {
    "duration": 51,
    "start_time": "2024-06-05T11:39:26.315Z"
   },
   {
    "duration": 1274,
    "start_time": "2024-06-05T11:39:33.121Z"
   },
   {
    "duration": 0,
    "start_time": "2024-06-05T11:39:34.398Z"
   },
   {
    "duration": 0,
    "start_time": "2024-06-05T11:39:34.399Z"
   },
   {
    "duration": 0,
    "start_time": "2024-06-05T11:39:34.400Z"
   },
   {
    "duration": 0,
    "start_time": "2024-06-05T11:39:34.402Z"
   },
   {
    "duration": 0,
    "start_time": "2024-06-05T11:39:34.403Z"
   },
   {
    "duration": 0,
    "start_time": "2024-06-05T11:39:34.404Z"
   },
   {
    "duration": 0,
    "start_time": "2024-06-05T11:39:34.405Z"
   },
   {
    "duration": 0,
    "start_time": "2024-06-05T11:39:34.406Z"
   },
   {
    "duration": 0,
    "start_time": "2024-06-05T11:39:34.407Z"
   },
   {
    "duration": 0,
    "start_time": "2024-06-05T11:39:34.408Z"
   },
   {
    "duration": 0,
    "start_time": "2024-06-05T11:39:34.409Z"
   },
   {
    "duration": 0,
    "start_time": "2024-06-05T11:39:34.410Z"
   },
   {
    "duration": 0,
    "start_time": "2024-06-05T11:39:34.411Z"
   },
   {
    "duration": 0,
    "start_time": "2024-06-05T11:39:34.412Z"
   },
   {
    "duration": 0,
    "start_time": "2024-06-05T11:39:34.413Z"
   },
   {
    "duration": 0,
    "start_time": "2024-06-05T11:39:34.414Z"
   },
   {
    "duration": 0,
    "start_time": "2024-06-05T11:39:34.415Z"
   },
   {
    "duration": 0,
    "start_time": "2024-06-05T11:39:34.416Z"
   },
   {
    "duration": 0,
    "start_time": "2024-06-05T11:39:34.417Z"
   },
   {
    "duration": 0,
    "start_time": "2024-06-05T11:39:34.418Z"
   },
   {
    "duration": 0,
    "start_time": "2024-06-05T11:39:34.419Z"
   },
   {
    "duration": 0,
    "start_time": "2024-06-05T11:39:34.420Z"
   },
   {
    "duration": 0,
    "start_time": "2024-06-05T11:39:34.421Z"
   },
   {
    "duration": 0,
    "start_time": "2024-06-05T11:39:34.422Z"
   },
   {
    "duration": 0,
    "start_time": "2024-06-05T11:39:34.422Z"
   },
   {
    "duration": 0,
    "start_time": "2024-06-05T11:39:34.424Z"
   },
   {
    "duration": 0,
    "start_time": "2024-06-05T11:39:34.425Z"
   },
   {
    "duration": 0,
    "start_time": "2024-06-05T11:39:34.426Z"
   },
   {
    "duration": 0,
    "start_time": "2024-06-05T11:39:34.427Z"
   },
   {
    "duration": 0,
    "start_time": "2024-06-05T11:39:34.428Z"
   },
   {
    "duration": 0,
    "start_time": "2024-06-05T11:39:34.429Z"
   },
   {
    "duration": 0,
    "start_time": "2024-06-05T11:39:34.430Z"
   },
   {
    "duration": 0,
    "start_time": "2024-06-05T11:39:34.431Z"
   },
   {
    "duration": 0,
    "start_time": "2024-06-05T11:39:34.432Z"
   },
   {
    "duration": 0,
    "start_time": "2024-06-05T11:39:34.434Z"
   },
   {
    "duration": 0,
    "start_time": "2024-06-05T11:39:34.435Z"
   },
   {
    "duration": 0,
    "start_time": "2024-06-05T11:39:34.436Z"
   },
   {
    "duration": 0,
    "start_time": "2024-06-05T11:39:34.438Z"
   },
   {
    "duration": 0,
    "start_time": "2024-06-05T11:39:34.439Z"
   },
   {
    "duration": 0,
    "start_time": "2024-06-05T11:39:34.500Z"
   },
   {
    "duration": 0,
    "start_time": "2024-06-05T11:39:34.501Z"
   },
   {
    "duration": 0,
    "start_time": "2024-06-05T11:39:34.502Z"
   },
   {
    "duration": 0,
    "start_time": "2024-06-05T11:39:34.503Z"
   },
   {
    "duration": 0,
    "start_time": "2024-06-05T11:39:34.505Z"
   },
   {
    "duration": 0,
    "start_time": "2024-06-05T11:39:34.506Z"
   },
   {
    "duration": 0,
    "start_time": "2024-06-05T11:39:34.507Z"
   },
   {
    "duration": 0,
    "start_time": "2024-06-05T11:39:34.508Z"
   },
   {
    "duration": 0,
    "start_time": "2024-06-05T11:39:34.509Z"
   },
   {
    "duration": 0,
    "start_time": "2024-06-05T11:39:34.510Z"
   },
   {
    "duration": 3395,
    "start_time": "2024-06-05T11:40:02.656Z"
   },
   {
    "duration": 2518,
    "start_time": "2024-06-05T11:40:09.924Z"
   },
   {
    "duration": 524,
    "start_time": "2024-06-05T11:40:12.445Z"
   },
   {
    "duration": 2500,
    "start_time": "2024-06-05T11:40:56.324Z"
   },
   {
    "duration": 1413,
    "start_time": "2024-06-05T11:40:58.827Z"
   },
   {
    "duration": 1717,
    "start_time": "2024-06-05T11:41:00.242Z"
   },
   {
    "duration": 14,
    "start_time": "2024-06-05T11:41:01.961Z"
   },
   {
    "duration": 20,
    "start_time": "2024-06-05T11:41:01.977Z"
   },
   {
    "duration": 15,
    "start_time": "2024-06-05T11:41:01.999Z"
   },
   {
    "duration": 15,
    "start_time": "2024-06-05T11:41:02.015Z"
   },
   {
    "duration": 11,
    "start_time": "2024-06-05T11:41:02.032Z"
   },
   {
    "duration": 73,
    "start_time": "2024-06-05T11:41:02.045Z"
   },
   {
    "duration": 11,
    "start_time": "2024-06-05T11:41:02.120Z"
   },
   {
    "duration": 46,
    "start_time": "2024-06-05T11:41:02.133Z"
   },
   {
    "duration": 29,
    "start_time": "2024-06-05T11:41:02.181Z"
   },
   {
    "duration": 48,
    "start_time": "2024-06-05T11:41:02.211Z"
   },
   {
    "duration": 60,
    "start_time": "2024-06-05T11:41:02.261Z"
   },
   {
    "duration": 323,
    "start_time": "2024-06-05T11:41:02.323Z"
   },
   {
    "duration": 41,
    "start_time": "2024-06-05T11:41:02.648Z"
   },
   {
    "duration": 222,
    "start_time": "2024-06-05T11:41:02.700Z"
   },
   {
    "duration": 37,
    "start_time": "2024-06-05T11:41:02.923Z"
   },
   {
    "duration": 391,
    "start_time": "2024-06-05T11:41:02.962Z"
   },
   {
    "duration": 16,
    "start_time": "2024-06-05T11:41:03.355Z"
   },
   {
    "duration": 34,
    "start_time": "2024-06-05T11:41:03.373Z"
   },
   {
    "duration": 14,
    "start_time": "2024-06-05T11:41:03.409Z"
   },
   {
    "duration": 78,
    "start_time": "2024-06-05T11:41:03.424Z"
   },
   {
    "duration": 96,
    "start_time": "2024-06-05T11:41:03.504Z"
   },
   {
    "duration": 8,
    "start_time": "2024-06-05T11:41:03.602Z"
   },
   {
    "duration": 312,
    "start_time": "2024-06-05T11:41:03.611Z"
   },
   {
    "duration": 318,
    "start_time": "2024-06-05T11:41:03.925Z"
   },
   {
    "duration": 15,
    "start_time": "2024-06-05T11:41:04.247Z"
   },
   {
    "duration": 13,
    "start_time": "2024-06-05T11:41:04.264Z"
   },
   {
    "duration": 24,
    "start_time": "2024-06-05T11:41:04.279Z"
   },
   {
    "duration": 94,
    "start_time": "2024-06-05T11:41:04.309Z"
   },
   {
    "duration": 97,
    "start_time": "2024-06-05T11:41:04.406Z"
   },
   {
    "duration": 11,
    "start_time": "2024-06-05T11:41:04.504Z"
   },
   {
    "duration": 309,
    "start_time": "2024-06-05T11:41:04.516Z"
   },
   {
    "duration": 323,
    "start_time": "2024-06-05T11:41:04.828Z"
   },
   {
    "duration": 15,
    "start_time": "2024-06-05T11:41:05.152Z"
   },
   {
    "duration": 35,
    "start_time": "2024-06-05T11:41:05.168Z"
   },
   {
    "duration": 15,
    "start_time": "2024-06-05T11:41:05.205Z"
   },
   {
    "duration": 85,
    "start_time": "2024-06-05T11:41:05.222Z"
   },
   {
    "duration": 93,
    "start_time": "2024-06-05T11:41:05.309Z"
   },
   {
    "duration": 6,
    "start_time": "2024-06-05T11:41:05.403Z"
   },
   {
    "duration": 304,
    "start_time": "2024-06-05T11:41:05.411Z"
   },
   {
    "duration": 341,
    "start_time": "2024-06-05T11:41:05.716Z"
   },
   {
    "duration": 6,
    "start_time": "2024-06-05T11:41:06.059Z"
   },
   {
    "duration": 8,
    "start_time": "2024-06-05T11:41:06.067Z"
   },
   {
    "duration": 4,
    "start_time": "2024-06-05T11:41:06.076Z"
   },
   {
    "duration": 21,
    "start_time": "2024-06-05T11:41:06.081Z"
   },
   {
    "duration": 13,
    "start_time": "2024-06-05T11:41:06.104Z"
   },
   {
    "duration": 4,
    "start_time": "2024-06-05T11:41:06.118Z"
   },
   {
    "duration": 13,
    "start_time": "2024-06-05T11:41:06.123Z"
   },
   {
    "duration": 2985,
    "start_time": "2024-06-05T11:41:06.138Z"
   },
   {
    "duration": 2647,
    "start_time": "2024-06-05T13:26:50.477Z"
   },
   {
    "duration": 1441,
    "start_time": "2024-06-05T13:26:53.127Z"
   },
   {
    "duration": 436,
    "start_time": "2024-06-05T13:26:54.570Z"
   },
   {
    "duration": 14,
    "start_time": "2024-06-05T13:26:55.008Z"
   },
   {
    "duration": 16,
    "start_time": "2024-06-05T13:26:55.024Z"
   },
   {
    "duration": 15,
    "start_time": "2024-06-05T13:26:55.042Z"
   },
   {
    "duration": 41,
    "start_time": "2024-06-05T13:26:55.059Z"
   },
   {
    "duration": 10,
    "start_time": "2024-06-05T13:26:55.102Z"
   },
   {
    "duration": 47,
    "start_time": "2024-06-05T13:26:55.114Z"
   },
   {
    "duration": 36,
    "start_time": "2024-06-05T13:26:55.163Z"
   },
   {
    "duration": 46,
    "start_time": "2024-06-05T13:26:55.201Z"
   },
   {
    "duration": 11,
    "start_time": "2024-06-05T13:26:55.249Z"
   },
   {
    "duration": 71,
    "start_time": "2024-06-05T13:26:55.261Z"
   },
   {
    "duration": 37,
    "start_time": "2024-06-05T13:26:55.335Z"
   },
   {
    "duration": 326,
    "start_time": "2024-06-05T13:26:55.374Z"
   },
   {
    "duration": 39,
    "start_time": "2024-06-05T13:26:55.702Z"
   },
   {
    "duration": 257,
    "start_time": "2024-06-05T13:26:55.743Z"
   },
   {
    "duration": 38,
    "start_time": "2024-06-05T13:26:56.002Z"
   },
   {
    "duration": 397,
    "start_time": "2024-06-05T13:26:56.041Z"
   },
   {
    "duration": 17,
    "start_time": "2024-06-05T13:26:56.440Z"
   },
   {
    "duration": 15,
    "start_time": "2024-06-05T13:26:56.458Z"
   },
   {
    "duration": 26,
    "start_time": "2024-06-05T13:26:56.475Z"
   },
   {
    "duration": 98,
    "start_time": "2024-06-05T13:26:56.503Z"
   },
   {
    "duration": 5,
    "start_time": "2024-06-05T13:26:56.604Z"
   },
   {
    "duration": 5,
    "start_time": "2024-06-05T13:26:56.700Z"
   },
   {
    "duration": 314,
    "start_time": "2024-06-05T13:26:56.706Z"
   },
   {
    "duration": 329,
    "start_time": "2024-06-05T13:26:57.022Z"
   },
   {
    "duration": 15,
    "start_time": "2024-06-05T13:26:57.353Z"
   },
   {
    "duration": 21,
    "start_time": "2024-06-05T13:26:57.370Z"
   },
   {
    "duration": 10,
    "start_time": "2024-06-05T13:26:57.393Z"
   },
   {
    "duration": 94,
    "start_time": "2024-06-05T13:26:57.405Z"
   },
   {
    "duration": 5,
    "start_time": "2024-06-05T13:26:57.502Z"
   },
   {
    "duration": 100,
    "start_time": "2024-06-05T13:26:57.509Z"
   },
   {
    "duration": 309,
    "start_time": "2024-06-05T13:26:57.611Z"
   },
   {
    "duration": 310,
    "start_time": "2024-06-05T13:26:57.921Z"
   },
   {
    "duration": 15,
    "start_time": "2024-06-05T13:26:58.232Z"
   },
   {
    "duration": 14,
    "start_time": "2024-06-05T13:26:58.249Z"
   },
   {
    "duration": 36,
    "start_time": "2024-06-05T13:26:58.264Z"
   },
   {
    "duration": 99,
    "start_time": "2024-06-05T13:26:58.303Z"
   },
   {
    "duration": 4,
    "start_time": "2024-06-05T13:26:58.403Z"
   },
   {
    "duration": 4,
    "start_time": "2024-06-05T13:26:58.411Z"
   },
   {
    "duration": 326,
    "start_time": "2024-06-05T13:26:58.417Z"
   },
   {
    "duration": 402,
    "start_time": "2024-06-05T13:26:58.745Z"
   },
   {
    "duration": 7,
    "start_time": "2024-06-05T13:26:59.148Z"
   },
   {
    "duration": 9,
    "start_time": "2024-06-05T13:26:59.156Z"
   },
   {
    "duration": 8,
    "start_time": "2024-06-05T13:26:59.166Z"
   },
   {
    "duration": 5,
    "start_time": "2024-06-05T13:26:59.175Z"
   },
   {
    "duration": 9,
    "start_time": "2024-06-05T13:26:59.200Z"
   },
   {
    "duration": 5,
    "start_time": "2024-06-05T13:26:59.210Z"
   },
   {
    "duration": 1532,
    "start_time": "2024-06-05T13:26:59.216Z"
   },
   {
    "duration": 4538,
    "start_time": "2024-06-05T13:27:00.750Z"
   },
   {
    "duration": 4,
    "start_time": "2024-06-05T13:29:11.267Z"
   },
   {
    "duration": 4577,
    "start_time": "2024-06-05T13:29:14.038Z"
   },
   {
    "duration": 3668,
    "start_time": "2024-06-06T05:37:37.585Z"
   },
   {
    "duration": 6843,
    "start_time": "2024-06-06T05:37:41.256Z"
   },
   {
    "duration": 697,
    "start_time": "2024-06-06T05:37:48.101Z"
   },
   {
    "duration": 15,
    "start_time": "2024-06-06T05:37:48.799Z"
   },
   {
    "duration": 23,
    "start_time": "2024-06-06T05:37:48.816Z"
   },
   {
    "duration": 14,
    "start_time": "2024-06-06T05:37:48.841Z"
   },
   {
    "duration": 33,
    "start_time": "2024-06-06T05:37:48.856Z"
   },
   {
    "duration": 11,
    "start_time": "2024-06-06T05:37:48.891Z"
   },
   {
    "duration": 50,
    "start_time": "2024-06-06T05:37:48.903Z"
   },
   {
    "duration": 11,
    "start_time": "2024-06-06T05:37:48.954Z"
   },
   {
    "duration": 45,
    "start_time": "2024-06-06T05:37:48.966Z"
   },
   {
    "duration": 33,
    "start_time": "2024-06-06T05:37:49.013Z"
   },
   {
    "duration": 47,
    "start_time": "2024-06-06T05:37:49.048Z"
   },
   {
    "duration": 55,
    "start_time": "2024-06-06T05:37:49.098Z"
   },
   {
    "duration": 321,
    "start_time": "2024-06-06T05:37:49.155Z"
   },
   {
    "duration": 38,
    "start_time": "2024-06-06T05:37:49.478Z"
   },
   {
    "duration": 231,
    "start_time": "2024-06-06T05:37:49.518Z"
   },
   {
    "duration": 44,
    "start_time": "2024-06-06T05:37:49.751Z"
   },
   {
    "duration": 419,
    "start_time": "2024-06-06T05:37:49.797Z"
   },
   {
    "duration": 16,
    "start_time": "2024-06-06T05:37:50.218Z"
   },
   {
    "duration": 15,
    "start_time": "2024-06-06T05:37:50.246Z"
   },
   {
    "duration": 90,
    "start_time": "2024-06-06T05:37:50.263Z"
   },
   {
    "duration": 104,
    "start_time": "2024-06-06T05:37:50.445Z"
   },
   {
    "duration": 10,
    "start_time": "2024-06-06T05:37:50.551Z"
   },
   {
    "duration": 9,
    "start_time": "2024-06-06T05:37:50.563Z"
   },
   {
    "duration": 288,
    "start_time": "2024-06-06T05:37:50.574Z"
   },
   {
    "duration": 341,
    "start_time": "2024-06-06T05:37:50.864Z"
   },
   {
    "duration": 18,
    "start_time": "2024-06-06T05:37:51.207Z"
   },
   {
    "duration": 32,
    "start_time": "2024-06-06T05:37:51.227Z"
   },
   {
    "duration": 18,
    "start_time": "2024-06-06T05:37:51.261Z"
   },
   {
    "duration": 100,
    "start_time": "2024-06-06T05:37:51.347Z"
   },
   {
    "duration": 4,
    "start_time": "2024-06-06T05:37:51.448Z"
   },
   {
    "duration": 20,
    "start_time": "2024-06-06T05:37:51.454Z"
   },
   {
    "duration": 304,
    "start_time": "2024-06-06T05:37:51.475Z"
   },
   {
    "duration": 331,
    "start_time": "2024-06-06T05:37:51.782Z"
   },
   {
    "duration": 16,
    "start_time": "2024-06-06T05:37:52.115Z"
   },
   {
    "duration": 24,
    "start_time": "2024-06-06T05:37:52.133Z"
   },
   {
    "duration": 87,
    "start_time": "2024-06-06T05:37:52.159Z"
   },
   {
    "duration": 100,
    "start_time": "2024-06-06T05:37:52.248Z"
   },
   {
    "duration": 32,
    "start_time": "2024-06-06T05:37:52.349Z"
   },
   {
    "duration": 17,
    "start_time": "2024-06-06T05:37:52.385Z"
   },
   {
    "duration": 322,
    "start_time": "2024-06-06T05:37:52.404Z"
   },
   {
    "duration": 335,
    "start_time": "2024-06-06T05:37:52.728Z"
   },
   {
    "duration": 6,
    "start_time": "2024-06-06T05:37:53.065Z"
   },
   {
    "duration": 7,
    "start_time": "2024-06-06T05:37:53.073Z"
   },
   {
    "duration": 5,
    "start_time": "2024-06-06T05:37:53.082Z"
   },
   {
    "duration": 24,
    "start_time": "2024-06-06T05:37:53.088Z"
   },
   {
    "duration": 5,
    "start_time": "2024-06-06T05:37:53.114Z"
   },
   {
    "duration": 5,
    "start_time": "2024-06-06T05:37:53.121Z"
   },
   {
    "duration": 70,
    "start_time": "2024-06-06T05:37:53.146Z"
   },
   {
    "duration": 4,
    "start_time": "2024-06-06T05:38:01.697Z"
   },
   {
    "duration": 4,
    "start_time": "2024-06-06T05:38:27.227Z"
   },
   {
    "duration": 5,
    "start_time": "2024-06-06T05:38:27.587Z"
   },
   {
    "duration": 56,
    "start_time": "2024-06-06T05:38:28.738Z"
   },
   {
    "duration": 58,
    "start_time": "2024-06-06T05:38:34.103Z"
   },
   {
    "duration": 5,
    "start_time": "2024-06-06T05:38:38.820Z"
   },
   {
    "duration": 4578,
    "start_time": "2024-06-06T05:38:39.564Z"
   },
   {
    "duration": 53,
    "start_time": "2024-06-06T15:39:22.233Z"
   },
   {
    "duration": 7,
    "start_time": "2024-06-06T15:39:23.099Z"
   },
   {
    "duration": 3651,
    "start_time": "2024-06-06T15:39:29.536Z"
   },
   {
    "duration": 1662,
    "start_time": "2024-06-06T15:39:33.191Z"
   },
   {
    "duration": 654,
    "start_time": "2024-06-06T15:39:34.855Z"
   },
   {
    "duration": 14,
    "start_time": "2024-06-06T15:39:35.511Z"
   },
   {
    "duration": 80,
    "start_time": "2024-06-06T15:39:35.526Z"
   },
   {
    "duration": 14,
    "start_time": "2024-06-06T15:39:35.608Z"
   },
   {
    "duration": 21,
    "start_time": "2024-06-06T15:39:35.624Z"
   },
   {
    "duration": 10,
    "start_time": "2024-06-06T15:39:35.647Z"
   },
   {
    "duration": 62,
    "start_time": "2024-06-06T15:39:35.659Z"
   },
   {
    "duration": 11,
    "start_time": "2024-06-06T15:39:35.724Z"
   },
   {
    "duration": 70,
    "start_time": "2024-06-06T15:39:35.737Z"
   },
   {
    "duration": 10,
    "start_time": "2024-06-06T15:39:35.809Z"
   },
   {
    "duration": 63,
    "start_time": "2024-06-06T15:39:35.820Z"
   },
   {
    "duration": 44,
    "start_time": "2024-06-06T15:39:35.885Z"
   },
   {
    "duration": 346,
    "start_time": "2024-06-06T15:39:35.930Z"
   },
   {
    "duration": 40,
    "start_time": "2024-06-06T15:39:36.277Z"
   },
   {
    "duration": 254,
    "start_time": "2024-06-06T15:39:36.319Z"
   },
   {
    "duration": 40,
    "start_time": "2024-06-06T15:39:36.575Z"
   },
   {
    "duration": 384,
    "start_time": "2024-06-06T15:39:36.617Z"
   },
   {
    "duration": 14,
    "start_time": "2024-06-06T15:39:37.003Z"
   },
   {
    "duration": 15,
    "start_time": "2024-06-06T15:39:37.019Z"
   },
   {
    "duration": 53,
    "start_time": "2024-06-06T15:39:37.036Z"
   },
   {
    "duration": 96,
    "start_time": "2024-06-06T15:39:37.091Z"
   },
   {
    "duration": 94,
    "start_time": "2024-06-06T15:39:37.189Z"
   },
   {
    "duration": 15,
    "start_time": "2024-06-06T15:39:37.284Z"
   },
   {
    "duration": 292,
    "start_time": "2024-06-06T15:39:37.301Z"
   },
   {
    "duration": 358,
    "start_time": "2024-06-06T15:39:37.595Z"
   },
   {
    "duration": 21,
    "start_time": "2024-06-06T15:39:37.958Z"
   },
   {
    "duration": 16,
    "start_time": "2024-06-06T15:39:37.982Z"
   },
   {
    "duration": 86,
    "start_time": "2024-06-06T15:39:38.000Z"
   },
   {
    "duration": 97,
    "start_time": "2024-06-06T15:39:38.089Z"
   },
   {
    "duration": 3,
    "start_time": "2024-06-06T15:39:38.188Z"
   },
   {
    "duration": 7,
    "start_time": "2024-06-06T15:39:38.194Z"
   },
   {
    "duration": 368,
    "start_time": "2024-06-06T15:39:38.203Z"
   },
   {
    "duration": 318,
    "start_time": "2024-06-06T15:39:38.572Z"
   },
   {
    "duration": 15,
    "start_time": "2024-06-06T15:39:38.891Z"
   },
   {
    "duration": 17,
    "start_time": "2024-06-06T15:39:38.907Z"
   },
   {
    "duration": 60,
    "start_time": "2024-06-06T15:39:38.925Z"
   },
   {
    "duration": 96,
    "start_time": "2024-06-06T15:39:38.987Z"
   },
   {
    "duration": 6,
    "start_time": "2024-06-06T15:39:39.085Z"
   },
   {
    "duration": 12,
    "start_time": "2024-06-06T15:39:39.093Z"
   },
   {
    "duration": 383,
    "start_time": "2024-06-06T15:39:39.107Z"
   },
   {
    "duration": 314,
    "start_time": "2024-06-06T15:39:39.492Z"
   },
   {
    "duration": 8,
    "start_time": "2024-06-06T15:39:39.808Z"
   },
   {
    "duration": 6,
    "start_time": "2024-06-06T15:39:39.818Z"
   },
   {
    "duration": 15,
    "start_time": "2024-06-06T15:39:39.826Z"
   },
   {
    "duration": 15,
    "start_time": "2024-06-06T15:39:39.844Z"
   },
   {
    "duration": 27,
    "start_time": "2024-06-06T15:39:39.861Z"
   },
   {
    "duration": 8,
    "start_time": "2024-06-06T15:39:39.891Z"
   },
   {
    "duration": 4518,
    "start_time": "2024-06-06T15:39:39.901Z"
   },
   {
    "duration": 49,
    "start_time": "2024-06-07T03:10:09.501Z"
   },
   {
    "duration": 3304,
    "start_time": "2024-06-07T03:10:26.630Z"
   },
   {
    "duration": 1463,
    "start_time": "2024-06-07T03:10:29.936Z"
   },
   {
    "duration": 551,
    "start_time": "2024-06-07T03:10:31.400Z"
   },
   {
    "duration": 12,
    "start_time": "2024-06-07T03:10:31.952Z"
   },
   {
    "duration": 15,
    "start_time": "2024-06-07T03:10:31.965Z"
   },
   {
    "duration": 12,
    "start_time": "2024-06-07T03:10:31.981Z"
   },
   {
    "duration": 18,
    "start_time": "2024-06-07T03:10:31.994Z"
   },
   {
    "duration": 11,
    "start_time": "2024-06-07T03:10:32.013Z"
   },
   {
    "duration": 39,
    "start_time": "2024-06-07T03:10:32.026Z"
   },
   {
    "duration": 9,
    "start_time": "2024-06-07T03:10:32.067Z"
   },
   {
    "duration": 56,
    "start_time": "2024-06-07T03:10:32.077Z"
   },
   {
    "duration": 8,
    "start_time": "2024-06-07T03:10:32.134Z"
   },
   {
    "duration": 37,
    "start_time": "2024-06-07T03:10:32.143Z"
   },
   {
    "duration": 45,
    "start_time": "2024-06-07T03:10:32.182Z"
   },
   {
    "duration": 243,
    "start_time": "2024-06-07T03:10:32.228Z"
   },
   {
    "duration": 37,
    "start_time": "2024-06-07T03:10:32.473Z"
   },
   {
    "duration": 168,
    "start_time": "2024-06-07T03:10:32.511Z"
   },
   {
    "duration": 37,
    "start_time": "2024-06-07T03:10:32.681Z"
   },
   {
    "duration": 279,
    "start_time": "2024-06-07T03:10:32.719Z"
   },
   {
    "duration": 11,
    "start_time": "2024-06-07T03:10:32.999Z"
   },
   {
    "duration": 12,
    "start_time": "2024-06-07T03:10:33.011Z"
   },
   {
    "duration": 81,
    "start_time": "2024-06-07T03:10:33.025Z"
   },
   {
    "duration": 195,
    "start_time": "2024-06-07T03:10:33.108Z"
   },
   {
    "duration": 24,
    "start_time": "2024-06-07T03:10:33.305Z"
   },
   {
    "duration": 8,
    "start_time": "2024-06-07T03:10:33.330Z"
   },
   {
    "duration": 248,
    "start_time": "2024-06-07T03:10:33.340Z"
   },
   {
    "duration": 319,
    "start_time": "2024-06-07T03:10:33.589Z"
   },
   {
    "duration": 12,
    "start_time": "2024-06-07T03:10:33.912Z"
   },
   {
    "duration": 16,
    "start_time": "2024-06-07T03:10:33.925Z"
   },
   {
    "duration": 15,
    "start_time": "2024-06-07T03:10:33.943Z"
   },
   {
    "duration": 44,
    "start_time": "2024-06-07T03:10:33.959Z"
   },
   {
    "duration": 104,
    "start_time": "2024-06-07T03:10:34.004Z"
   },
   {
    "duration": 30,
    "start_time": "2024-06-07T03:10:34.110Z"
   },
   {
    "duration": 315,
    "start_time": "2024-06-07T03:10:34.141Z"
   },
   {
    "duration": 309,
    "start_time": "2024-06-07T03:10:34.458Z"
   },
   {
    "duration": 11,
    "start_time": "2024-06-07T03:10:34.768Z"
   },
   {
    "duration": 25,
    "start_time": "2024-06-07T03:10:34.780Z"
   },
   {
    "duration": 6,
    "start_time": "2024-06-07T03:10:34.806Z"
   },
   {
    "duration": 89,
    "start_time": "2024-06-07T03:10:34.814Z"
   },
   {
    "duration": 4,
    "start_time": "2024-06-07T03:10:34.907Z"
   },
   {
    "duration": 104,
    "start_time": "2024-06-07T03:10:34.912Z"
   },
   {
    "duration": 265,
    "start_time": "2024-06-07T03:10:35.017Z"
   },
   {
    "duration": 300,
    "start_time": "2024-06-07T03:10:35.284Z"
   },
   {
    "duration": 5,
    "start_time": "2024-06-07T03:10:35.585Z"
   },
   {
    "duration": 8,
    "start_time": "2024-06-07T03:10:35.601Z"
   },
   {
    "duration": 5,
    "start_time": "2024-06-07T03:10:35.610Z"
   },
   {
    "duration": 17,
    "start_time": "2024-06-07T03:10:35.617Z"
   },
   {
    "duration": 24,
    "start_time": "2024-06-07T03:10:35.636Z"
   },
   {
    "duration": 9,
    "start_time": "2024-06-07T03:10:35.661Z"
   },
   {
    "duration": 4181,
    "start_time": "2024-06-07T03:10:35.671Z"
   },
   {
    "duration": 4,
    "start_time": "2024-06-07T03:12:47.475Z"
   },
   {
    "duration": 4,
    "start_time": "2024-06-07T03:12:48.478Z"
   },
   {
    "duration": 3809,
    "start_time": "2024-06-07T03:12:50.872Z"
   },
   {
    "duration": 4,
    "start_time": "2024-06-07T03:13:37.246Z"
   },
   {
    "duration": 4,
    "start_time": "2024-06-07T03:13:39.593Z"
   },
   {
    "duration": 3907,
    "start_time": "2024-06-07T03:13:44.017Z"
   },
   {
    "duration": 4,
    "start_time": "2024-06-07T03:14:30.275Z"
   },
   {
    "duration": 8209,
    "start_time": "2024-06-07T03:14:33.810Z"
   },
   {
    "duration": 4,
    "start_time": "2024-06-07T03:15:14.959Z"
   },
   {
    "duration": 107,
    "start_time": "2024-06-07T03:15:17.608Z"
   },
   {
    "duration": 4,
    "start_time": "2024-06-07T03:15:24.938Z"
   },
   {
    "duration": 4,
    "start_time": "2024-06-07T03:15:26.797Z"
   },
   {
    "duration": 17,
    "start_time": "2024-06-07T03:15:28.891Z"
   },
   {
    "duration": 6,
    "start_time": "2024-06-07T03:16:00.644Z"
   },
   {
    "duration": 4,
    "start_time": "2024-06-07T03:16:13.959Z"
   },
   {
    "duration": 8096,
    "start_time": "2024-06-07T03:16:15.186Z"
   },
   {
    "duration": 4,
    "start_time": "2024-06-07T03:17:39.598Z"
   },
   {
    "duration": 16,
    "start_time": "2024-06-07T03:17:43.126Z"
   },
   {
    "duration": 4,
    "start_time": "2024-06-07T03:17:52.667Z"
   },
   {
    "duration": 3973,
    "start_time": "2024-06-07T03:18:08.892Z"
   },
   {
    "duration": 3,
    "start_time": "2024-06-07T03:19:44.968Z"
   },
   {
    "duration": 3,
    "start_time": "2024-06-07T03:19:46.886Z"
   },
   {
    "duration": 8125,
    "start_time": "2024-06-07T03:19:49.719Z"
   },
   {
    "duration": 135,
    "start_time": "2024-06-07T03:24:06.092Z"
   },
   {
    "duration": 4,
    "start_time": "2024-06-07T03:24:09.091Z"
   },
   {
    "duration": 8081,
    "start_time": "2024-06-07T03:24:10.801Z"
   },
   {
    "duration": 97,
    "start_time": "2024-06-07T03:24:32.969Z"
   },
   {
    "duration": 4,
    "start_time": "2024-06-07T03:27:06.539Z"
   },
   {
    "duration": 4,
    "start_time": "2024-06-07T03:27:09.756Z"
   },
   {
    "duration": 8145,
    "start_time": "2024-06-07T03:27:24.266Z"
   },
   {
    "duration": 8,
    "start_time": "2024-06-07T03:30:38.802Z"
   },
   {
    "duration": 7,
    "start_time": "2024-06-07T03:30:49.401Z"
   },
   {
    "duration": 8,
    "start_time": "2024-06-07T03:31:09.085Z"
   },
   {
    "duration": 5,
    "start_time": "2024-06-07T03:31:15.300Z"
   },
   {
    "duration": 9,
    "start_time": "2024-06-07T03:31:22.372Z"
   },
   {
    "duration": 4,
    "start_time": "2024-06-07T03:32:42.338Z"
   },
   {
    "duration": 4,
    "start_time": "2024-06-07T03:32:47.554Z"
   },
   {
    "duration": 8649,
    "start_time": "2024-06-07T03:32:48.826Z"
   },
   {
    "duration": 3,
    "start_time": "2024-06-07T03:34:08.537Z"
   },
   {
    "duration": 8055,
    "start_time": "2024-06-07T03:34:12.807Z"
   },
   {
    "duration": 4,
    "start_time": "2024-06-07T03:34:23.691Z"
   },
   {
    "duration": 4,
    "start_time": "2024-06-07T03:34:24.806Z"
   },
   {
    "duration": 7142,
    "start_time": "2024-06-07T03:34:26.361Z"
   },
   {
    "duration": 5,
    "start_time": "2024-06-07T03:34:58.605Z"
   },
   {
    "duration": 4,
    "start_time": "2024-06-07T03:35:02.265Z"
   },
   {
    "duration": 7269,
    "start_time": "2024-06-07T03:35:04.834Z"
   },
   {
    "duration": 3,
    "start_time": "2024-06-07T03:35:31.083Z"
   },
   {
    "duration": 3,
    "start_time": "2024-06-07T03:35:33.531Z"
   },
   {
    "duration": 7197,
    "start_time": "2024-06-07T03:35:35.859Z"
   },
   {
    "duration": 2,
    "start_time": "2024-06-07T03:37:49.773Z"
   },
   {
    "duration": 103,
    "start_time": "2024-06-07T03:37:57.921Z"
   }
  ],
  "kernelspec": {
   "display_name": "Python 3 (ipykernel)",
   "language": "python",
   "name": "python3"
  },
  "language_info": {
   "codemirror_mode": {
    "name": "ipython",
    "version": 3
   },
   "file_extension": ".py",
   "mimetype": "text/x-python",
   "name": "python",
   "nbconvert_exporter": "python",
   "pygments_lexer": "ipython3",
   "version": "3.11.6"
  },
  "toc": {
   "base_numbering": 1,
   "nav_menu": {},
   "number_sections": true,
   "sideBar": true,
   "skip_h1_title": true,
   "title_cell": "Table of Contents",
   "title_sidebar": "Contents",
   "toc_cell": false,
   "toc_position": {},
   "toc_section_display": true,
   "toc_window_display": false
  }
 },
 "nbformat": 4,
 "nbformat_minor": 2
}
