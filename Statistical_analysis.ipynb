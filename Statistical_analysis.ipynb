{
 "cells": [
  {
   "cell_type": "markdown",
   "id": "21486ce7",
   "metadata": {},
   "source": [
    "# Проект: Анализ использования сервиса аренды самокатов GoFast"
   ]
  },
  {
   "cell_type": "markdown",
   "id": "a0a621e3",
   "metadata": {},
   "source": [
    "Анализ данных о пользователях и поездках в сервисе аренды самокатов GoFast с целью выявления паттернов использования и предложения рекомендаций для оптимизации бизнеса.\n",
    "\n",
    "Основная задача:\n",
    "Провести анализ данных о пользователях, поездках и подписках для определения факторов, влияющих на активность пользователей, и предложить рекомендации для увеличения эффективности сервиса.\n",
    "\n",
    "Ожидаемые результаты:\n",
    "Предоставление рекомендаций для оптимизации стратегии ценообразования, улучшения пользовательского опыта и увеличения эффективности сервиса GoFast."
   ]
  },
  {
   "cell_type": "markdown",
   "id": "8605adbf",
   "metadata": {},
   "source": [
    "# Шаг 1. Загрузка данных"
   ]
  },
  {
   "cell_type": "code",
   "execution_count": 1,
   "id": "3bd42073",
   "metadata": {},
   "outputs": [],
   "source": [
    "import pandas as pd\n",
    "import matplotlib.pyplot as plt\n",
    "import seaborn as sns\n",
    "import numpy as np\n",
    "import scipy.stats as st"
   ]
  },
  {
   "cell_type": "code",
   "execution_count": 2,
   "id": "e42c41ec",
   "metadata": {},
   "outputs": [],
   "source": [
    "# КОД РЕВЬЮЕРА\n",
    "df_users = pd.read_csv('/datasets/users_go.csv')\n",
    "df_rides = pd.read_csv('/datasets/rides_go.csv')\n",
    "df_subs = pd.read_csv('/datasets/subscriptions_go.csv')\n",
    "pd.set_option('display.max_columns', None) "
   ]
  },
  {
   "cell_type": "code",
   "execution_count": 3,
   "id": "4af737d2",
   "metadata": {},
   "outputs": [
    {
     "data": {
      "text/html": [
       "<div>\n",
       "<style scoped>\n",
       "    .dataframe tbody tr th:only-of-type {\n",
       "        vertical-align: middle;\n",
       "    }\n",
       "\n",
       "    .dataframe tbody tr th {\n",
       "        vertical-align: top;\n",
       "    }\n",
       "\n",
       "    .dataframe thead th {\n",
       "        text-align: right;\n",
       "    }\n",
       "</style>\n",
       "<table border=\"1\" class=\"dataframe\">\n",
       "  <thead>\n",
       "    <tr style=\"text-align: right;\">\n",
       "      <th></th>\n",
       "      <th>user_id</th>\n",
       "      <th>name</th>\n",
       "      <th>age</th>\n",
       "      <th>city</th>\n",
       "      <th>subscription_type</th>\n",
       "    </tr>\n",
       "  </thead>\n",
       "  <tbody>\n",
       "    <tr>\n",
       "      <th>0</th>\n",
       "      <td>1</td>\n",
       "      <td>Кира</td>\n",
       "      <td>22</td>\n",
       "      <td>Тюмень</td>\n",
       "      <td>ultra</td>\n",
       "    </tr>\n",
       "    <tr>\n",
       "      <th>1</th>\n",
       "      <td>2</td>\n",
       "      <td>Станислав</td>\n",
       "      <td>31</td>\n",
       "      <td>Омск</td>\n",
       "      <td>ultra</td>\n",
       "    </tr>\n",
       "    <tr>\n",
       "      <th>2</th>\n",
       "      <td>3</td>\n",
       "      <td>Алексей</td>\n",
       "      <td>20</td>\n",
       "      <td>Москва</td>\n",
       "      <td>ultra</td>\n",
       "    </tr>\n",
       "    <tr>\n",
       "      <th>3</th>\n",
       "      <td>4</td>\n",
       "      <td>Константин</td>\n",
       "      <td>26</td>\n",
       "      <td>Ростов-на-Дону</td>\n",
       "      <td>ultra</td>\n",
       "    </tr>\n",
       "    <tr>\n",
       "      <th>4</th>\n",
       "      <td>5</td>\n",
       "      <td>Адель</td>\n",
       "      <td>28</td>\n",
       "      <td>Омск</td>\n",
       "      <td>ultra</td>\n",
       "    </tr>\n",
       "  </tbody>\n",
       "</table>\n",
       "</div>"
      ],
      "text/plain": [
       "   user_id        name  age            city subscription_type\n",
       "0        1        Кира   22          Тюмень             ultra\n",
       "1        2   Станислав   31            Омск             ultra\n",
       "2        3     Алексей   20          Москва             ultra\n",
       "3        4  Константин   26  Ростов-на-Дону             ultra\n",
       "4        5       Адель   28            Омск             ultra"
      ]
     },
     "execution_count": 3,
     "metadata": {},
     "output_type": "execute_result"
    }
   ],
   "source": [
    "df_users.head()"
   ]
  },
  {
   "cell_type": "code",
   "execution_count": 4,
   "id": "d00f72cb",
   "metadata": {},
   "outputs": [
    {
     "name": "stdout",
     "output_type": "stream",
     "text": [
      "<class 'pandas.core.frame.DataFrame'>\n",
      "RangeIndex: 1565 entries, 0 to 1564\n",
      "Data columns (total 5 columns):\n",
      " #   Column             Non-Null Count  Dtype \n",
      "---  ------             --------------  ----- \n",
      " 0   user_id            1565 non-null   int64 \n",
      " 1   name               1565 non-null   object\n",
      " 2   age                1565 non-null   int64 \n",
      " 3   city               1565 non-null   object\n",
      " 4   subscription_type  1565 non-null   object\n",
      "dtypes: int64(2), object(3)\n",
      "memory usage: 61.3+ KB\n"
     ]
    }
   ],
   "source": [
    "df_users.info()"
   ]
  },
  {
   "cell_type": "code",
   "execution_count": 5,
   "id": "d189ed64",
   "metadata": {},
   "outputs": [
    {
     "data": {
      "text/html": [
       "<div>\n",
       "<style scoped>\n",
       "    .dataframe tbody tr th:only-of-type {\n",
       "        vertical-align: middle;\n",
       "    }\n",
       "\n",
       "    .dataframe tbody tr th {\n",
       "        vertical-align: top;\n",
       "    }\n",
       "\n",
       "    .dataframe thead th {\n",
       "        text-align: right;\n",
       "    }\n",
       "</style>\n",
       "<table border=\"1\" class=\"dataframe\">\n",
       "  <thead>\n",
       "    <tr style=\"text-align: right;\">\n",
       "      <th></th>\n",
       "      <th>user_id</th>\n",
       "      <th>distance</th>\n",
       "      <th>duration</th>\n",
       "      <th>date</th>\n",
       "    </tr>\n",
       "  </thead>\n",
       "  <tbody>\n",
       "    <tr>\n",
       "      <th>0</th>\n",
       "      <td>1</td>\n",
       "      <td>4409.919140</td>\n",
       "      <td>25.599769</td>\n",
       "      <td>2021-01-01</td>\n",
       "    </tr>\n",
       "    <tr>\n",
       "      <th>1</th>\n",
       "      <td>1</td>\n",
       "      <td>2617.592153</td>\n",
       "      <td>15.816871</td>\n",
       "      <td>2021-01-18</td>\n",
       "    </tr>\n",
       "    <tr>\n",
       "      <th>2</th>\n",
       "      <td>1</td>\n",
       "      <td>754.159807</td>\n",
       "      <td>6.232113</td>\n",
       "      <td>2021-04-20</td>\n",
       "    </tr>\n",
       "    <tr>\n",
       "      <th>3</th>\n",
       "      <td>1</td>\n",
       "      <td>2694.783254</td>\n",
       "      <td>18.511000</td>\n",
       "      <td>2021-08-11</td>\n",
       "    </tr>\n",
       "    <tr>\n",
       "      <th>4</th>\n",
       "      <td>1</td>\n",
       "      <td>4028.687306</td>\n",
       "      <td>26.265803</td>\n",
       "      <td>2021-08-28</td>\n",
       "    </tr>\n",
       "  </tbody>\n",
       "</table>\n",
       "</div>"
      ],
      "text/plain": [
       "   user_id     distance   duration        date\n",
       "0        1  4409.919140  25.599769  2021-01-01\n",
       "1        1  2617.592153  15.816871  2021-01-18\n",
       "2        1   754.159807   6.232113  2021-04-20\n",
       "3        1  2694.783254  18.511000  2021-08-11\n",
       "4        1  4028.687306  26.265803  2021-08-28"
      ]
     },
     "execution_count": 5,
     "metadata": {},
     "output_type": "execute_result"
    }
   ],
   "source": [
    "df_rides.head()"
   ]
  },
  {
   "cell_type": "code",
   "execution_count": 6,
   "id": "42bdc8a1",
   "metadata": {},
   "outputs": [
    {
     "name": "stdout",
     "output_type": "stream",
     "text": [
      "<class 'pandas.core.frame.DataFrame'>\n",
      "RangeIndex: 18068 entries, 0 to 18067\n",
      "Data columns (total 4 columns):\n",
      " #   Column    Non-Null Count  Dtype  \n",
      "---  ------    --------------  -----  \n",
      " 0   user_id   18068 non-null  int64  \n",
      " 1   distance  18068 non-null  float64\n",
      " 2   duration  18068 non-null  float64\n",
      " 3   date      18068 non-null  object \n",
      "dtypes: float64(2), int64(1), object(1)\n",
      "memory usage: 564.8+ KB\n"
     ]
    }
   ],
   "source": [
    "df_rides.info()"
   ]
  },
  {
   "cell_type": "code",
   "execution_count": 7,
   "id": "a6967c28",
   "metadata": {},
   "outputs": [
    {
     "data": {
      "text/html": [
       "<div>\n",
       "<style scoped>\n",
       "    .dataframe tbody tr th:only-of-type {\n",
       "        vertical-align: middle;\n",
       "    }\n",
       "\n",
       "    .dataframe tbody tr th {\n",
       "        vertical-align: top;\n",
       "    }\n",
       "\n",
       "    .dataframe thead th {\n",
       "        text-align: right;\n",
       "    }\n",
       "</style>\n",
       "<table border=\"1\" class=\"dataframe\">\n",
       "  <thead>\n",
       "    <tr style=\"text-align: right;\">\n",
       "      <th></th>\n",
       "      <th>user_id</th>\n",
       "      <th>distance</th>\n",
       "      <th>duration</th>\n",
       "    </tr>\n",
       "  </thead>\n",
       "  <tbody>\n",
       "    <tr>\n",
       "      <th>count</th>\n",
       "      <td>18068.000000</td>\n",
       "      <td>18068.000000</td>\n",
       "      <td>18068.000000</td>\n",
       "    </tr>\n",
       "    <tr>\n",
       "      <th>mean</th>\n",
       "      <td>842.869936</td>\n",
       "      <td>3070.659976</td>\n",
       "      <td>17.805011</td>\n",
       "    </tr>\n",
       "    <tr>\n",
       "      <th>std</th>\n",
       "      <td>434.734317</td>\n",
       "      <td>1116.831209</td>\n",
       "      <td>6.091051</td>\n",
       "    </tr>\n",
       "    <tr>\n",
       "      <th>min</th>\n",
       "      <td>1.000000</td>\n",
       "      <td>0.855683</td>\n",
       "      <td>0.500000</td>\n",
       "    </tr>\n",
       "    <tr>\n",
       "      <th>25%</th>\n",
       "      <td>487.000000</td>\n",
       "      <td>2543.226360</td>\n",
       "      <td>13.597563</td>\n",
       "    </tr>\n",
       "    <tr>\n",
       "      <th>50%</th>\n",
       "      <td>889.000000</td>\n",
       "      <td>3133.609994</td>\n",
       "      <td>17.678395</td>\n",
       "    </tr>\n",
       "    <tr>\n",
       "      <th>75%</th>\n",
       "      <td>1213.250000</td>\n",
       "      <td>3776.222735</td>\n",
       "      <td>21.724800</td>\n",
       "    </tr>\n",
       "    <tr>\n",
       "      <th>max</th>\n",
       "      <td>1534.000000</td>\n",
       "      <td>7211.007745</td>\n",
       "      <td>40.823963</td>\n",
       "    </tr>\n",
       "  </tbody>\n",
       "</table>\n",
       "</div>"
      ],
      "text/plain": [
       "            user_id      distance      duration\n",
       "count  18068.000000  18068.000000  18068.000000\n",
       "mean     842.869936   3070.659976     17.805011\n",
       "std      434.734317   1116.831209      6.091051\n",
       "min        1.000000      0.855683      0.500000\n",
       "25%      487.000000   2543.226360     13.597563\n",
       "50%      889.000000   3133.609994     17.678395\n",
       "75%     1213.250000   3776.222735     21.724800\n",
       "max     1534.000000   7211.007745     40.823963"
      ]
     },
     "execution_count": 7,
     "metadata": {},
     "output_type": "execute_result"
    }
   ],
   "source": [
    "df_rides.describe()"
   ]
  },
  {
   "cell_type": "code",
   "execution_count": 8,
   "id": "70764335",
   "metadata": {},
   "outputs": [
    {
     "data": {
      "text/html": [
       "<div>\n",
       "<style scoped>\n",
       "    .dataframe tbody tr th:only-of-type {\n",
       "        vertical-align: middle;\n",
       "    }\n",
       "\n",
       "    .dataframe tbody tr th {\n",
       "        vertical-align: top;\n",
       "    }\n",
       "\n",
       "    .dataframe thead th {\n",
       "        text-align: right;\n",
       "    }\n",
       "</style>\n",
       "<table border=\"1\" class=\"dataframe\">\n",
       "  <thead>\n",
       "    <tr style=\"text-align: right;\">\n",
       "      <th></th>\n",
       "      <th>subscription_type</th>\n",
       "      <th>minute_price</th>\n",
       "      <th>start_ride_price</th>\n",
       "      <th>subscription_fee</th>\n",
       "    </tr>\n",
       "  </thead>\n",
       "  <tbody>\n",
       "    <tr>\n",
       "      <th>0</th>\n",
       "      <td>free</td>\n",
       "      <td>8</td>\n",
       "      <td>50</td>\n",
       "      <td>0</td>\n",
       "    </tr>\n",
       "    <tr>\n",
       "      <th>1</th>\n",
       "      <td>ultra</td>\n",
       "      <td>6</td>\n",
       "      <td>0</td>\n",
       "      <td>199</td>\n",
       "    </tr>\n",
       "  </tbody>\n",
       "</table>\n",
       "</div>"
      ],
      "text/plain": [
       "  subscription_type  minute_price  start_ride_price  subscription_fee\n",
       "0              free             8                50                 0\n",
       "1             ultra             6                 0               199"
      ]
     },
     "execution_count": 8,
     "metadata": {},
     "output_type": "execute_result"
    }
   ],
   "source": [
    "df_subs.head()"
   ]
  },
  {
   "cell_type": "code",
   "execution_count": 9,
   "id": "b211416d",
   "metadata": {},
   "outputs": [
    {
     "name": "stdout",
     "output_type": "stream",
     "text": [
      "<class 'pandas.core.frame.DataFrame'>\n",
      "RangeIndex: 2 entries, 0 to 1\n",
      "Data columns (total 4 columns):\n",
      " #   Column             Non-Null Count  Dtype \n",
      "---  ------             --------------  ----- \n",
      " 0   subscription_type  2 non-null      object\n",
      " 1   minute_price       2 non-null      int64 \n",
      " 2   start_ride_price   2 non-null      int64 \n",
      " 3   subscription_fee   2 non-null      int64 \n",
      "dtypes: int64(3), object(1)\n",
      "memory usage: 192.0+ bytes\n"
     ]
    }
   ],
   "source": [
    "df_subs.info()"
   ]
  },
  {
   "cell_type": "markdown",
   "id": "302af993",
   "metadata": {},
   "source": [
    "**Ознакомление с данными. Краткий вывод**\n",
    "\n",
    "Имеется 3 датасета в формате csv файла:\n",
    "1. Датасет о пользователях `users_go.csv`, содержит параметры: идентификацонный номер, имя пользователя, возраст, город проживания и тип подписки. Общий размер датасета составляет 1565 столбцов.\n",
    "2. Датасет с информацией о поездках `rides_go.csv` c параметрами: идентификацонный номер, расстояние прошедшедшее пользователем, время поездки и дата. Общий размер составляет: 18068.\n",
    "3. Датасет с тарифами подписки `subscriptions_go.csv` содержащий информацию о стоимости одной минуты поездки по типу подписки, стоимости начала поездки и ежемесячного платежа. Общий размер: 4"
   ]
  },
  {
   "cell_type": "markdown",
   "id": "0fede5d4",
   "metadata": {},
   "source": [
    "# Шаг 2. Предобработка данных"
   ]
  },
  {
   "cell_type": "markdown",
   "id": "a3ce6915",
   "metadata": {},
   "source": [
    "2.1 Приведите столбец date к типу даты pandas.\n",
    "\n",
    "\n",
    "2.2 Создайте новый столбец с номером месяца на основе столбца date.\n",
    "\n",
    "\n",
    "2.3 Проверьте наличие пропущенных значений и дубликатов в датафреймах. Обработайте их, если такие значения присутствуют."
   ]
  },
  {
   "cell_type": "code",
   "execution_count": 10,
   "id": "d075f2d3",
   "metadata": {},
   "outputs": [],
   "source": [
    "df_rides['date'] = pd.to_datetime(\n",
    "    df_rides['date'], format='%Y-%m-%d'\n",
    ")\n",
    "df_rides['month'] = df_rides['date'].dt.month"
   ]
  },
  {
   "cell_type": "code",
   "execution_count": 11,
   "id": "02e00f46",
   "metadata": {},
   "outputs": [
    {
     "data": {
      "text/plain": [
       "user_id              0\n",
       "name                 0\n",
       "age                  0\n",
       "city                 0\n",
       "subscription_type    0\n",
       "dtype: int64"
      ]
     },
     "execution_count": 11,
     "metadata": {},
     "output_type": "execute_result"
    }
   ],
   "source": [
    "df_users.isna().sum()"
   ]
  },
  {
   "cell_type": "code",
   "execution_count": 12,
   "id": "676b6be1",
   "metadata": {},
   "outputs": [
    {
     "data": {
      "text/plain": [
       "user_id     0\n",
       "distance    0\n",
       "duration    0\n",
       "date        0\n",
       "month       0\n",
       "dtype: int64"
      ]
     },
     "execution_count": 12,
     "metadata": {},
     "output_type": "execute_result"
    }
   ],
   "source": [
    "df_rides.isna().sum()"
   ]
  },
  {
   "cell_type": "code",
   "execution_count": 13,
   "id": "02bfe9d9",
   "metadata": {},
   "outputs": [
    {
     "data": {
      "text/plain": [
       "1534"
      ]
     },
     "execution_count": 13,
     "metadata": {},
     "output_type": "execute_result"
    }
   ],
   "source": [
    "df_users.user_id.nunique()"
   ]
  },
  {
   "cell_type": "code",
   "execution_count": 14,
   "id": "e9121df9",
   "metadata": {},
   "outputs": [
    {
     "data": {
      "text/plain": [
       "1534"
      ]
     },
     "execution_count": 14,
     "metadata": {},
     "output_type": "execute_result"
    }
   ],
   "source": [
    "df_rides.user_id.nunique()"
   ]
  },
  {
   "cell_type": "code",
   "execution_count": 15,
   "id": "85e869f7",
   "metadata": {},
   "outputs": [
    {
     "data": {
      "text/plain": [
       "31"
      ]
     },
     "execution_count": 15,
     "metadata": {},
     "output_type": "execute_result"
    }
   ],
   "source": [
    "df_users.duplicated().sum()"
   ]
  },
  {
   "cell_type": "code",
   "execution_count": 16,
   "id": "c424a15a",
   "metadata": {},
   "outputs": [
    {
     "data": {
      "text/plain": [
       "0"
      ]
     },
     "execution_count": 16,
     "metadata": {},
     "output_type": "execute_result"
    }
   ],
   "source": [
    "df_rides.duplicated().sum()"
   ]
  },
  {
   "cell_type": "code",
   "execution_count": 17,
   "id": "8c95d582",
   "metadata": {},
   "outputs": [],
   "source": [
    "df_users = df_users.drop_duplicates()"
   ]
  },
  {
   "cell_type": "code",
   "execution_count": 18,
   "id": "ebf6f12a",
   "metadata": {},
   "outputs": [
    {
     "data": {
      "text/plain": [
       "0"
      ]
     },
     "execution_count": 18,
     "metadata": {},
     "output_type": "execute_result"
    }
   ],
   "source": [
    "df_rides.duplicated().sum()"
   ]
  },
  {
   "cell_type": "markdown",
   "id": "6e438960",
   "metadata": {},
   "source": [
    "**Краткий вывод**\n",
    "\n",
    "Переведем столбец `df_rides['date']` к типу даты pandas для более удобного использования.\n",
    "Можно заметить что все датасеты чисты и не содержат пропусков, но `df_users` содержит несколько строк дубликатов, сбросим их."
   ]
  },
  {
   "cell_type": "markdown",
   "id": "92a04083",
   "metadata": {},
   "source": [
    "# Шаг 3. Исследовательский анализ данных"
   ]
  },
  {
   "cell_type": "markdown",
   "id": "a3393928",
   "metadata": {},
   "source": [
    "Опишите и визуализируйте общую информацию о пользователях и поездках:\n",
    "\n",
    "\n",
    "3.1 частота встречаемости городов;\n",
    "\n",
    "\n",
    "3.2 соотношение пользователей с подпиской и без подписки;\n",
    "\n",
    "\n",
    "3.3 возраст пользователей;\n",
    "\n",
    "\n",
    "3.4 расстояние, которое пользователь преодолел за одну поездку;\n",
    "\n",
    "\n",
    "3.5 продолжительность поездок.\n"
   ]
  },
  {
   "cell_type": "markdown",
   "id": "c8094891",
   "metadata": {},
   "source": [
    "[**Частота встречаемости городов**]"
   ]
  },
  {
   "cell_type": "code",
   "execution_count": 19,
   "id": "ca99c308",
   "metadata": {},
   "outputs": [
    {
     "data": {
      "image/png": "[encoded data removed]",
      "text/plain": [
       "<Figure size 720x432 with 1 Axes>"
      ]
     },
     "metadata": {
      "needs_background": "light"
     },
     "output_type": "display_data"
    }
   ],
   "source": [
    "city_counts = df_users['city'].value_counts()\n",
    "\n",
    "plt.figure(figsize=(10, 6))\n",
    "city_counts.plot(kind='barh', color='skyblue')  \n",
    "plt.title('Частота встречаемости городов')\n",
    "plt.xlabel('Частота')\n",
    "plt.ylabel('Города')\n",
    "plt.show()"
   ]
  },
  {
   "cell_type": "code",
   "execution_count": 20,
   "id": "6c323763",
   "metadata": {},
   "outputs": [
    {
     "data": {
      "text/plain": [
       "Пятигорск         219\n",
       "Екатеринбург      204\n",
       "Ростов-на-Дону    198\n",
       "Краснодар         193\n",
       "Сочи              189\n",
       "Омск              183\n",
       "Тюмень            180\n",
       "Москва            168\n",
       "Name: city, dtype: int64"
      ]
     },
     "execution_count": 20,
     "metadata": {},
     "output_type": "execute_result"
    }
   ],
   "source": [
    "city_counts"
   ]
  },
  {
   "cell_type": "markdown",
   "id": "6d1077c7",
   "metadata": {},
   "source": [
    "Лидером по частоте встречаемости городов является Пятигорск с количеством пользователей 219, чутка уступая идет Екатеринбург с 204 пользователями, затем Ростов-на-Дону (198), Краснодар (193), Сочи (189), Омск (183), Тюмень (180) и закрывает рейтинг Москва с 168 пользователями. "
   ]
  },
  {
   "cell_type": "markdown",
   "id": "f39ad479",
   "metadata": {},
   "source": [
    "[**Cоотношение пользователей с подпиской и без подписки**]"
   ]
  },
  {
   "cell_type": "code",
   "execution_count": 21,
   "id": "cb1a786a",
   "metadata": {
    "scrolled": true
   },
   "outputs": [
    {
     "data": {
      "image/png": "[encoded data removed]",
      "text/plain": [
       "<Figure size 648x288 with 1 Axes>"
      ]
     },
     "metadata": {},
     "output_type": "display_data"
    }
   ],
   "source": [
    "subscription_counts = df_users['subscription_type'].value_counts()\n",
    "\n",
    "plt.figure(figsize=(9, 4))\n",
    "subscription_counts.plot(kind='pie', autopct='%1.1f%%', colors=['skyblue', 'orange'])\n",
    "plt.title('Cоотношение пользователей с подпиской и без подписки')\n",
    "plt.ylabel('') \n",
    "plt.show()"
   ]
  },
  {
   "cell_type": "markdown",
   "id": "d0f33b5e",
   "metadata": {},
   "source": [
    "Количество пользователей самокатов катающихся без подписки (тип 'free') составляет около 834 (54.4% из всего датасета), что не сильно больше чем пользователей с подпиской 'ultra' : 699 пользователей (45.6% из всего датасета)"
   ]
  },
  {
   "cell_type": "markdown",
   "id": "f0d3d019",
   "metadata": {},
   "source": [
    "[**Возраст пользователей**]"
   ]
  },
  {
   "cell_type": "code",
   "execution_count": 22,
   "id": "83b43263",
   "metadata": {},
   "outputs": [
    {
     "data": {
      "text/plain": [
       "count    1534.000000\n",
       "mean       24.903520\n",
       "std         4.572367\n",
       "min        12.000000\n",
       "25%        22.000000\n",
       "50%        25.000000\n",
       "75%        28.000000\n",
       "max        43.000000\n",
       "Name: age, dtype: float64"
      ]
     },
     "execution_count": 22,
     "metadata": {},
     "output_type": "execute_result"
    }
   ],
   "source": [
    "df_users.age.describe()"
   ]
  },
  {
   "cell_type": "code",
   "execution_count": 23,
   "id": "9d7b6cd7",
   "metadata": {},
   "outputs": [
    {
     "data": {
      "image/png": "[encoded data removed]",
      "text/plain": [
       "<Figure size 864x432 with 1 Axes>"
      ]
     },
     "metadata": {
      "needs_background": "light"
     },
     "output_type": "display_data"
    }
   ],
   "source": [
    "plt.figure(figsize=(12, 6))\n",
    "sns.histplot(df_users['age'], bins=20, kde=True, color='skyblue')\n",
    "plt.title('Распределение возраста пользователей')\n",
    "plt.xlabel('Возраст')\n",
    "plt.ylabel('Частота')\n",
    "plt.show()"
   ]
  },
  {
   "cell_type": "markdown",
   "id": "15b4daec",
   "metadata": {},
   "source": [
    "Распределение возраста пользователей:\n",
    "\n",
    "Средний возраст пользователей составляет примерно 24.9 лет, с стандартным отклонением в районе 4.6 лет.\n",
    "В основном, пользователи находятся в возрастном диапазоне от 12 до 43 лет, с медианным значением в 25 лет.\n",
    "Большинство пользователей приходят из категории молодежи, с пиком в возрасте 25 лет. Есть значительное количество пользователей в возрасте от 20 до 30 лет."
   ]
  },
  {
   "cell_type": "code",
   "execution_count": 24,
   "id": "8264b1ef",
   "metadata": {},
   "outputs": [
    {
     "data": {
      "image/png": "[encoded data removed]",
      "text/plain": [
       "<Figure size 576x432 with 1 Axes>"
      ]
     },
     "metadata": {
      "needs_background": "light"
     },
     "output_type": "display_data"
    }
   ],
   "source": [
    "plt.figure(figsize=(8, 6))\n",
    "sns.boxplot(x=df_users['age'], color='orange')\n",
    "plt.title('Ящик с усами для возраста пользователей')\n",
    "plt.xlabel('Возраст')\n",
    "plt.show()"
   ]
  },
  {
   "cell_type": "markdown",
   "id": "0476e149",
   "metadata": {},
   "source": [
    "Ящик с усами позволяет увидеть, что основная масса пользователей сосредоточена в возрастном диапазоне от 20 до 30 лет.\n",
    "Медиана (линия внутри ящика) находится примерно на 25 лете.\n",
    "Верхний и нижний квартили показывают, что большинство пользователей имеют возраст от 22 до 28 лет.\n",
    "Аномальные значения, выходящие за пределы усов, могут указывать на наличие пользователей старше 30 лет."
   ]
  },
  {
   "cell_type": "markdown",
   "id": "f37b3c07",
   "metadata": {},
   "source": [
    "[**Расстояние, которое пользователь преодолел за одну поездку**]"
   ]
  },
  {
   "cell_type": "code",
   "execution_count": 25,
   "id": "f7f4df0b",
   "metadata": {},
   "outputs": [
    {
     "data": {
      "text/plain": [
       "count    18068.000000\n",
       "mean      3070.659976\n",
       "std       1116.831209\n",
       "min          0.855683\n",
       "25%       2543.226360\n",
       "50%       3133.609994\n",
       "75%       3776.222735\n",
       "max       7211.007745\n",
       "Name: distance, dtype: float64"
      ]
     },
     "execution_count": 25,
     "metadata": {},
     "output_type": "execute_result"
    }
   ],
   "source": [
    "df_rides.distance.describe()"
   ]
  },
  {
   "cell_type": "code",
   "execution_count": 26,
   "id": "7ddc4894",
   "metadata": {
    "scrolled": true
   },
   "outputs": [
    {
     "data": {
      "text/html": [
       "<div>\n",
       "<style scoped>\n",
       "    .dataframe tbody tr th:only-of-type {\n",
       "        vertical-align: middle;\n",
       "    }\n",
       "\n",
       "    .dataframe tbody tr th {\n",
       "        vertical-align: top;\n",
       "    }\n",
       "\n",
       "    .dataframe thead th {\n",
       "        text-align: right;\n",
       "    }\n",
       "</style>\n",
       "<table border=\"1\" class=\"dataframe\">\n",
       "  <thead>\n",
       "    <tr style=\"text-align: right;\">\n",
       "      <th></th>\n",
       "      <th>count</th>\n",
       "      <th>mean</th>\n",
       "      <th>std</th>\n",
       "      <th>min</th>\n",
       "      <th>25%</th>\n",
       "      <th>50%</th>\n",
       "      <th>75%</th>\n",
       "      <th>max</th>\n",
       "    </tr>\n",
       "    <tr>\n",
       "      <th>user_id</th>\n",
       "      <th></th>\n",
       "      <th></th>\n",
       "      <th></th>\n",
       "      <th></th>\n",
       "      <th></th>\n",
       "      <th></th>\n",
       "      <th></th>\n",
       "      <th></th>\n",
       "    </tr>\n",
       "  </thead>\n",
       "  <tbody>\n",
       "    <tr>\n",
       "      <th>1</th>\n",
       "      <td>12.0</td>\n",
       "      <td>2839.181839</td>\n",
       "      <td>1147.234630</td>\n",
       "      <td>748.690645</td>\n",
       "      <td>2675.485479</td>\n",
       "      <td>2806.504429</td>\n",
       "      <td>3566.689828</td>\n",
       "      <td>4409.919140</td>\n",
       "    </tr>\n",
       "    <tr>\n",
       "      <th>2</th>\n",
       "      <td>11.0</td>\n",
       "      <td>3087.641692</td>\n",
       "      <td>846.512296</td>\n",
       "      <td>923.007439</td>\n",
       "      <td>2831.270957</td>\n",
       "      <td>3105.086678</td>\n",
       "      <td>3593.422037</td>\n",
       "      <td>4029.116927</td>\n",
       "    </tr>\n",
       "    <tr>\n",
       "      <th>3</th>\n",
       "      <td>12.0</td>\n",
       "      <td>3075.633155</td>\n",
       "      <td>749.602257</td>\n",
       "      <td>2560.495330</td>\n",
       "      <td>2749.645306</td>\n",
       "      <td>2858.693148</td>\n",
       "      <td>2982.933011</td>\n",
       "      <td>5335.212090</td>\n",
       "    </tr>\n",
       "    <tr>\n",
       "      <th>4</th>\n",
       "      <td>14.0</td>\n",
       "      <td>3202.656423</td>\n",
       "      <td>970.670744</td>\n",
       "      <td>724.559572</td>\n",
       "      <td>2690.206517</td>\n",
       "      <td>3373.276987</td>\n",
       "      <td>3849.734791</td>\n",
       "      <td>4649.488243</td>\n",
       "    </tr>\n",
       "    <tr>\n",
       "      <th>5</th>\n",
       "      <td>11.0</td>\n",
       "      <td>3232.449968</td>\n",
       "      <td>510.834020</td>\n",
       "      <td>2561.108241</td>\n",
       "      <td>2889.533042</td>\n",
       "      <td>3244.021903</td>\n",
       "      <td>3376.925204</td>\n",
       "      <td>4194.713218</td>\n",
       "    </tr>\n",
       "    <tr>\n",
       "      <th>...</th>\n",
       "      <td>...</td>\n",
       "      <td>...</td>\n",
       "      <td>...</td>\n",
       "      <td>...</td>\n",
       "      <td>...</td>\n",
       "      <td>...</td>\n",
       "      <td>...</td>\n",
       "      <td>...</td>\n",
       "    </tr>\n",
       "    <tr>\n",
       "      <th>1530</th>\n",
       "      <td>17.0</td>\n",
       "      <td>2750.498225</td>\n",
       "      <td>1357.245292</td>\n",
       "      <td>105.796106</td>\n",
       "      <td>2201.690144</td>\n",
       "      <td>2724.331740</td>\n",
       "      <td>3486.268689</td>\n",
       "      <td>5361.209082</td>\n",
       "    </tr>\n",
       "    <tr>\n",
       "      <th>1531</th>\n",
       "      <td>23.0</td>\n",
       "      <td>2915.425836</td>\n",
       "      <td>1297.152579</td>\n",
       "      <td>375.107762</td>\n",
       "      <td>2488.752567</td>\n",
       "      <td>2999.913238</td>\n",
       "      <td>3942.114372</td>\n",
       "      <td>4928.408206</td>\n",
       "    </tr>\n",
       "    <tr>\n",
       "      <th>1532</th>\n",
       "      <td>13.0</td>\n",
       "      <td>2607.861784</td>\n",
       "      <td>1458.203557</td>\n",
       "      <td>303.787850</td>\n",
       "      <td>1560.191404</td>\n",
       "      <td>2615.477834</td>\n",
       "      <td>3735.879274</td>\n",
       "      <td>4602.642357</td>\n",
       "    </tr>\n",
       "    <tr>\n",
       "      <th>1533</th>\n",
       "      <td>13.0</td>\n",
       "      <td>2837.707093</td>\n",
       "      <td>1151.203922</td>\n",
       "      <td>310.488247</td>\n",
       "      <td>2500.091900</td>\n",
       "      <td>2965.546552</td>\n",
       "      <td>3508.941165</td>\n",
       "      <td>4581.943632</td>\n",
       "    </tr>\n",
       "    <tr>\n",
       "      <th>1534</th>\n",
       "      <td>13.0</td>\n",
       "      <td>3222.957142</td>\n",
       "      <td>1220.849768</td>\n",
       "      <td>195.447469</td>\n",
       "      <td>2840.423057</td>\n",
       "      <td>3434.290912</td>\n",
       "      <td>3826.185507</td>\n",
       "      <td>4928.173852</td>\n",
       "    </tr>\n",
       "  </tbody>\n",
       "</table>\n",
       "<p>1534 rows × 8 columns</p>\n",
       "</div>"
      ],
      "text/plain": [
       "         count         mean          std          min          25%  \\\n",
       "user_id                                                              \n",
       "1         12.0  2839.181839  1147.234630   748.690645  2675.485479   \n",
       "2         11.0  3087.641692   846.512296   923.007439  2831.270957   \n",
       "3         12.0  3075.633155   749.602257  2560.495330  2749.645306   \n",
       "4         14.0  3202.656423   970.670744   724.559572  2690.206517   \n",
       "5         11.0  3232.449968   510.834020  2561.108241  2889.533042   \n",
       "...        ...          ...          ...          ...          ...   \n",
       "1530      17.0  2750.498225  1357.245292   105.796106  2201.690144   \n",
       "1531      23.0  2915.425836  1297.152579   375.107762  2488.752567   \n",
       "1532      13.0  2607.861784  1458.203557   303.787850  1560.191404   \n",
       "1533      13.0  2837.707093  1151.203922   310.488247  2500.091900   \n",
       "1534      13.0  3222.957142  1220.849768   195.447469  2840.423057   \n",
       "\n",
       "                 50%          75%          max  \n",
       "user_id                                         \n",
       "1        2806.504429  3566.689828  4409.919140  \n",
       "2        3105.086678  3593.422037  4029.116927  \n",
       "3        2858.693148  2982.933011  5335.212090  \n",
       "4        3373.276987  3849.734791  4649.488243  \n",
       "5        3244.021903  3376.925204  4194.713218  \n",
       "...              ...          ...          ...  \n",
       "1530     2724.331740  3486.268689  5361.209082  \n",
       "1531     2999.913238  3942.114372  4928.408206  \n",
       "1532     2615.477834  3735.879274  4602.642357  \n",
       "1533     2965.546552  3508.941165  4581.943632  \n",
       "1534     3434.290912  3826.185507  4928.173852  \n",
       "\n",
       "[1534 rows x 8 columns]"
      ]
     },
     "execution_count": 26,
     "metadata": {},
     "output_type": "execute_result"
    }
   ],
   "source": [
    "df_rides.groupby('user_id')['distance'].describe()"
   ]
  },
  {
   "cell_type": "code",
   "execution_count": 27,
   "id": "31ac4082",
   "metadata": {},
   "outputs": [
    {
     "data": {
      "text/plain": [
       "user_id  distance   \n",
       "1        748.690645     1\n",
       "         754.159807     1\n",
       "         2617.592153    1\n",
       "         2694.783254    1\n",
       "         2720.609748    1\n",
       "                       ..\n",
       "1534     3781.098080    1\n",
       "         3826.185507    1\n",
       "         3977.744996    1\n",
       "         4678.415899    1\n",
       "         4928.173852    1\n",
       "Name: distance, Length: 18068, dtype: int64"
      ]
     },
     "execution_count": 27,
     "metadata": {},
     "output_type": "execute_result"
    }
   ],
   "source": [
    "# Распределение расстояний\n",
    "distance_distribution = df_rides.groupby('user_id')['distance'].value_counts()\n",
    "distance_distribution"
   ]
  },
  {
   "cell_type": "code",
   "execution_count": 28,
   "id": "3be008b6",
   "metadata": {},
   "outputs": [
    {
     "name": "stdout",
     "output_type": "stream",
     "text": [
      "Среднее расстояние за одну поездку: 3070.66 единиц.\n",
      "Минимальное расстояние за одну поездку: 0.86 единиц.\n",
      "Максимальное расстояние за одну поездку: 7211.01 единиц.\n"
     ]
    }
   ],
   "source": [
    "# Cреднее расстояние\n",
    "average_distance = df_rides['distance'].mean()\n",
    "print(f\"Среднее расстояние за одну поездку: {average_distance:.2f} единиц.\")\n",
    "\n",
    "# Минимальное и максимальное расстояние\n",
    "min_distance = df_rides['distance'].min()\n",
    "max_distance = df_rides['distance'].max()\n",
    "print(f\"Минимальное расстояние за одну поездку: {min_distance:.2f} единиц.\")\n",
    "print(f\"Максимальное расстояние за одну поездку: {max_distance:.2f} единиц.\")"
   ]
  },
  {
   "cell_type": "code",
   "execution_count": 29,
   "id": "e85c2ce7",
   "metadata": {},
   "outputs": [
    {
     "data": {
      "image/png": "[encoded data removed]",
      "text/plain": [
       "<Figure size 720x432 with 1 Axes>"
      ]
     },
     "metadata": {
      "needs_background": "light"
     },
     "output_type": "display_data"
    }
   ],
   "source": [
    "plt.figure(figsize=(10, 6))\n",
    "plt.hist(df_rides['distance'], bins=50, color='skyblue', edgecolor='black')\n",
    "plt.title('Распределение расстояний за одну поездку')\n",
    "plt.xlabel('Расстояние (в метрах)')\n",
    "plt.ylabel('Частота')\n",
    "plt.grid(axis='y', linestyle='--', alpha=0.7)\n",
    "plt.show()"
   ]
  },
  {
   "cell_type": "code",
   "execution_count": 30,
   "id": "95c1db55",
   "metadata": {},
   "outputs": [
    {
     "data": {
      "image/png": "[encoded data removed]",
      "text/plain": [
       "<Figure size 576x432 with 1 Axes>"
      ]
     },
     "metadata": {
      "needs_background": "light"
     },
     "output_type": "display_data"
    }
   ],
   "source": [
    "# Ящик с усами для расстояний поездок\n",
    "plt.figure(figsize=(8, 6))\n",
    "plt.boxplot(df_rides['distance'], vert=False, widths=0.7, patch_artist=True, boxprops=dict(facecolor='orange'))\n",
    "plt.title('Ящик с усами для расстояний поездок')\n",
    "plt.xlabel('Расстояние, метры')\n",
    "plt.show()"
   ]
  },
  {
   "cell_type": "markdown",
   "id": "f47562db",
   "metadata": {},
   "source": [
    "Вывод:\n",
    "Среднее расстояние, которое пользователь преодолел за одну поездку, составляет 2839,18 километров.\n",
    "Минимальное расстояние, которое пользователь преодолел за одну поездку, составляет 748,69 километров.\n",
    "Максимальное расстояние, которое пользователь преодолел за одну поездку, составляет 4928,17 километров.\n",
    "Распределение расстояний, которые пользователи преодолевают за одну поездку, имеет широкий диапазон. Большинство пользователей преодолевают расстояния от 2000 до 3000 километров. Однако есть и пользователи, которые преодолевают расстояния более 4000 километров."
   ]
  },
  {
   "cell_type": "markdown",
   "id": "c6f53612",
   "metadata": {},
   "source": [
    "[**Продолжительность поездок**]"
   ]
  },
  {
   "cell_type": "code",
   "execution_count": 31,
   "id": "f99129a2",
   "metadata": {},
   "outputs": [
    {
     "data": {
      "text/plain": [
       "count    18068.000000\n",
       "mean        17.805011\n",
       "std          6.091051\n",
       "min          0.500000\n",
       "25%         13.597563\n",
       "50%         17.678395\n",
       "75%         21.724800\n",
       "max         40.823963\n",
       "Name: duration, dtype: float64"
      ]
     },
     "execution_count": 31,
     "metadata": {},
     "output_type": "execute_result"
    }
   ],
   "source": [
    "df_rides.duration.describe()"
   ]
  },
  {
   "cell_type": "code",
   "execution_count": 32,
   "id": "7bfd92d6",
   "metadata": {},
   "outputs": [
    {
     "data": {
      "image/png": "[encoded data removed]",
      "text/plain": [
       "<Figure size 720x432 with 1 Axes>"
      ]
     },
     "metadata": {
      "needs_background": "light"
     },
     "output_type": "display_data"
    }
   ],
   "source": [
    "plt.figure(figsize=(10, 6))\n",
    "sns.histplot(df_rides['duration'], bins=30, kde=True, color='skyblue')\n",
    "plt.title('Распределение продолжительности поездок')\n",
    "plt.xlabel('Продолжительность поездок (в минутах)')\n",
    "plt.ylabel('Частота')\n",
    "plt.show()"
   ]
  },
  {
   "cell_type": "code",
   "execution_count": 33,
   "id": "f23453b2",
   "metadata": {},
   "outputs": [
    {
     "data": {
      "image/png": "[encoded data removed]",
      "text/plain": [
       "<Figure size 576x360 with 1 Axes>"
      ]
     },
     "metadata": {
      "needs_background": "light"
     },
     "output_type": "display_data"
    }
   ],
   "source": [
    "plt.figure(figsize=(8, 5))\n",
    "sns.boxplot(x=df_rides['duration'], color='lightgreen')\n",
    "plt.title('Ящик с усами для продолжительности поездок')\n",
    "plt.xlabel('Продолжительность поездок (в минутах)')\n",
    "plt.show()"
   ]
  },
  {
   "cell_type": "code",
   "execution_count": 34,
   "id": "a80d01cd",
   "metadata": {},
   "outputs": [
    {
     "name": "stdout",
     "output_type": "stream",
     "text": [
      "Минимальная продолжительность поездок: 0.5\n",
      "Максимальная продолжительность поездок: 40.82396261922424\n",
      "Средняя продолжительность поездок: 17.80501119798444\n",
      "Медиана продолжительности поездок: 17.678394530393803\n"
     ]
    }
   ],
   "source": [
    "print(\"Минимальная продолжительность поездок:\", df_rides['duration'].min())\n",
    "print(\"Максимальная продолжительность поездок:\", df_rides['duration'].max())\n",
    "print(\"Средняя продолжительность поездок:\", df_rides['duration'].mean())\n",
    "print(\"Медиана продолжительности поездок:\", df_rides['duration'].median())"
   ]
  },
  {
   "cell_type": "markdown",
   "id": "4f91b1ee",
   "metadata": {},
   "source": [
    "Распределение продолжительности поездок имеет нормальное распределение со средним около 17 минут, большинство поездок имеют продолжительность в диапазоне от 10 до 25 минут.\n",
    "Ящик с усами показывает, что основная часть данных сосредоточена внутри интерквартильного диапазона (между первым и третьим квартилями), с медианным значением около 17.7 минут.\n",
    "Есть несколько выбросов (точек за пределами усов), что может указывать на несколько долгих поездок.\n",
    "Минимум продолжительности составил 0.5 минут, что может указывать на выброс."
   ]
  },
  {
   "cell_type": "markdown",
   "id": "1e098653",
   "metadata": {},
   "source": [
    "# Шаг 4. Объединение данных"
   ]
  },
  {
   "cell_type": "markdown",
   "id": "e68e986a",
   "metadata": {},
   "source": [
    "Шаг 4. Объединение данных\n",
    "\n",
    "4.1 Объедините данные о пользователях, поездках и подписках в один датафрейм. Для этого воспользуйтесь методом merge().\n",
    "\n",
    "4.2 Создайте ещё два датафрейма из датафрейма, созданного на этапе 4.1:\n",
    "\n",
    "c данными о пользователях без подписки;\n",
    "с данными о пользователях с подпиской.\n",
    "\n",
    "4.3 Визуализируйте информацию о расстоянии и времени поездок для пользователей обеих категорий."
   ]
  },
  {
   "cell_type": "code",
   "execution_count": 35,
   "id": "0e62cd73",
   "metadata": {
    "scrolled": true
   },
   "outputs": [
    {
     "name": "stdout",
     "output_type": "stream",
     "text": [
      "<class 'pandas.core.frame.DataFrame'>\n",
      "Int64Index: 18068 entries, 0 to 18067\n",
      "Data columns (total 12 columns):\n",
      " #   Column             Non-Null Count  Dtype         \n",
      "---  ------             --------------  -----         \n",
      " 0   user_id            18068 non-null  int64         \n",
      " 1   distance           18068 non-null  float64       \n",
      " 2   duration           18068 non-null  float64       \n",
      " 3   date               18068 non-null  datetime64[ns]\n",
      " 4   month              18068 non-null  int64         \n",
      " 5   name               18068 non-null  object        \n",
      " 6   age                18068 non-null  int64         \n",
      " 7   city               18068 non-null  object        \n",
      " 8   subscription_type  18068 non-null  object        \n",
      " 9   minute_price       18068 non-null  int64         \n",
      " 10  start_ride_price   18068 non-null  int64         \n",
      " 11  subscription_fee   18068 non-null  int64         \n",
      "dtypes: datetime64[ns](1), float64(2), int64(6), object(3)\n",
      "memory usage: 1.8+ MB\n"
     ]
    }
   ],
   "source": [
    "# Объединение данных поездок с данными пользователей\n",
    "df_merged = pd.merge(df_rides, df_users, on='user_id', how='left')\n",
    "\n",
    "# Объединение с данными о подписках\n",
    "df_merged = pd.merge(df_merged, df_subs, on='subscription_type', how='left')\n",
    "df_merged.info()"
   ]
  },
  {
   "cell_type": "code",
   "execution_count": 36,
   "id": "7d8927a4",
   "metadata": {},
   "outputs": [
    {
     "name": "stdout",
     "output_type": "stream",
     "text": [
      "Количество записей в исходном датасете поездок: 18068\n",
      "Количество записей в объединенном датасете: 18068\n",
      "\n",
      "Пропущенные значения в объединенном датасете:\n",
      " user_id              0\n",
      "distance             0\n",
      "duration             0\n",
      "date                 0\n",
      "month                0\n",
      "name                 0\n",
      "age                  0\n",
      "city                 0\n",
      "subscription_type    0\n",
      "minute_price         0\n",
      "start_ride_price     0\n",
      "subscription_fee     0\n",
      "dtype: int64\n"
     ]
    }
   ],
   "source": [
    "# Проверка корректности объединения\n",
    "print(\"Количество записей в исходном датасете поездок:\", len(df_rides))\n",
    "print(\"Количество записей в объединенном датасете:\", len(df_merged))\n",
    "\n",
    "# Проверка наличия пропусков\n",
    "missing_values = df_merged.isnull().sum()\n",
    "print(\"\\nПропущенные значения в объединенном датасете:\\n\", missing_values)"
   ]
  },
  {
   "cell_type": "code",
   "execution_count": 37,
   "id": "6f9f7f05",
   "metadata": {
    "scrolled": true
   },
   "outputs": [
    {
     "data": {
      "text/html": [
       "<div>\n",
       "<style scoped>\n",
       "    .dataframe tbody tr th:only-of-type {\n",
       "        vertical-align: middle;\n",
       "    }\n",
       "\n",
       "    .dataframe tbody tr th {\n",
       "        vertical-align: top;\n",
       "    }\n",
       "\n",
       "    .dataframe thead th {\n",
       "        text-align: right;\n",
       "    }\n",
       "</style>\n",
       "<table border=\"1\" class=\"dataframe\">\n",
       "  <thead>\n",
       "    <tr style=\"text-align: right;\">\n",
       "      <th></th>\n",
       "      <th>user_id</th>\n",
       "      <th>distance</th>\n",
       "      <th>duration</th>\n",
       "      <th>date</th>\n",
       "      <th>month</th>\n",
       "      <th>name</th>\n",
       "      <th>age</th>\n",
       "      <th>city</th>\n",
       "      <th>subscription_type</th>\n",
       "      <th>minute_price</th>\n",
       "      <th>start_ride_price</th>\n",
       "      <th>subscription_fee</th>\n",
       "    </tr>\n",
       "  </thead>\n",
       "  <tbody>\n",
       "    <tr>\n",
       "      <th>0</th>\n",
       "      <td>1</td>\n",
       "      <td>4409.919140</td>\n",
       "      <td>25.599769</td>\n",
       "      <td>2021-01-01</td>\n",
       "      <td>1</td>\n",
       "      <td>Кира</td>\n",
       "      <td>22</td>\n",
       "      <td>Тюмень</td>\n",
       "      <td>ultra</td>\n",
       "      <td>6</td>\n",
       "      <td>0</td>\n",
       "      <td>199</td>\n",
       "    </tr>\n",
       "    <tr>\n",
       "      <th>1</th>\n",
       "      <td>1</td>\n",
       "      <td>2617.592153</td>\n",
       "      <td>15.816871</td>\n",
       "      <td>2021-01-18</td>\n",
       "      <td>1</td>\n",
       "      <td>Кира</td>\n",
       "      <td>22</td>\n",
       "      <td>Тюмень</td>\n",
       "      <td>ultra</td>\n",
       "      <td>6</td>\n",
       "      <td>0</td>\n",
       "      <td>199</td>\n",
       "    </tr>\n",
       "    <tr>\n",
       "      <th>2</th>\n",
       "      <td>1</td>\n",
       "      <td>754.159807</td>\n",
       "      <td>6.232113</td>\n",
       "      <td>2021-04-20</td>\n",
       "      <td>4</td>\n",
       "      <td>Кира</td>\n",
       "      <td>22</td>\n",
       "      <td>Тюмень</td>\n",
       "      <td>ultra</td>\n",
       "      <td>6</td>\n",
       "      <td>0</td>\n",
       "      <td>199</td>\n",
       "    </tr>\n",
       "    <tr>\n",
       "      <th>3</th>\n",
       "      <td>1</td>\n",
       "      <td>2694.783254</td>\n",
       "      <td>18.511000</td>\n",
       "      <td>2021-08-11</td>\n",
       "      <td>8</td>\n",
       "      <td>Кира</td>\n",
       "      <td>22</td>\n",
       "      <td>Тюмень</td>\n",
       "      <td>ultra</td>\n",
       "      <td>6</td>\n",
       "      <td>0</td>\n",
       "      <td>199</td>\n",
       "    </tr>\n",
       "    <tr>\n",
       "      <th>4</th>\n",
       "      <td>1</td>\n",
       "      <td>4028.687306</td>\n",
       "      <td>26.265803</td>\n",
       "      <td>2021-08-28</td>\n",
       "      <td>8</td>\n",
       "      <td>Кира</td>\n",
       "      <td>22</td>\n",
       "      <td>Тюмень</td>\n",
       "      <td>ultra</td>\n",
       "      <td>6</td>\n",
       "      <td>0</td>\n",
       "      <td>199</td>\n",
       "    </tr>\n",
       "  </tbody>\n",
       "</table>\n",
       "</div>"
      ],
      "text/plain": [
       "   user_id     distance   duration       date  month  name  age    city  \\\n",
       "0        1  4409.919140  25.599769 2021-01-01      1  Кира   22  Тюмень   \n",
       "1        1  2617.592153  15.816871 2021-01-18      1  Кира   22  Тюмень   \n",
       "2        1   754.159807   6.232113 2021-04-20      4  Кира   22  Тюмень   \n",
       "3        1  2694.783254  18.511000 2021-08-11      8  Кира   22  Тюмень   \n",
       "4        1  4028.687306  26.265803 2021-08-28      8  Кира   22  Тюмень   \n",
       "\n",
       "  subscription_type  minute_price  start_ride_price  subscription_fee  \n",
       "0             ultra             6                 0               199  \n",
       "1             ultra             6                 0               199  \n",
       "2             ultra             6                 0               199  \n",
       "3             ultra             6                 0               199  \n",
       "4             ultra             6                 0               199  "
      ]
     },
     "execution_count": 37,
     "metadata": {},
     "output_type": "execute_result"
    }
   ],
   "source": [
    "df_merged.head()"
   ]
  },
  {
   "cell_type": "code",
   "execution_count": 38,
   "id": "3f3c8bd3",
   "metadata": {
    "scrolled": false
   },
   "outputs": [
    {
     "name": "stdout",
     "output_type": "stream",
     "text": [
      "Данные о пользователях без подписки:\n",
      "<class 'pandas.core.frame.DataFrame'>\n",
      "Int64Index: 11568 entries, 6500 to 18067\n",
      "Data columns (total 12 columns):\n",
      " #   Column             Non-Null Count  Dtype         \n",
      "---  ------             --------------  -----         \n",
      " 0   user_id            11568 non-null  int64         \n",
      " 1   distance           11568 non-null  float64       \n",
      " 2   duration           11568 non-null  float64       \n",
      " 3   date               11568 non-null  datetime64[ns]\n",
      " 4   month              11568 non-null  int64         \n",
      " 5   name               11568 non-null  object        \n",
      " 6   age                11568 non-null  int64         \n",
      " 7   city               11568 non-null  object        \n",
      " 8   subscription_type  11568 non-null  object        \n",
      " 9   minute_price       11568 non-null  int64         \n",
      " 10  start_ride_price   11568 non-null  int64         \n",
      " 11  subscription_fee   11568 non-null  int64         \n",
      "dtypes: datetime64[ns](1), float64(2), int64(6), object(3)\n",
      "memory usage: 1.1+ MB\n",
      "None\n",
      "\n",
      "Данные о пользователях с подпиской:\n",
      "<class 'pandas.core.frame.DataFrame'>\n",
      "Int64Index: 6500 entries, 0 to 6499\n",
      "Data columns (total 12 columns):\n",
      " #   Column             Non-Null Count  Dtype         \n",
      "---  ------             --------------  -----         \n",
      " 0   user_id            6500 non-null   int64         \n",
      " 1   distance           6500 non-null   float64       \n",
      " 2   duration           6500 non-null   float64       \n",
      " 3   date               6500 non-null   datetime64[ns]\n",
      " 4   month              6500 non-null   int64         \n",
      " 5   name               6500 non-null   object        \n",
      " 6   age                6500 non-null   int64         \n",
      " 7   city               6500 non-null   object        \n",
      " 8   subscription_type  6500 non-null   object        \n",
      " 9   minute_price       6500 non-null   int64         \n",
      " 10  start_ride_price   6500 non-null   int64         \n",
      " 11  subscription_fee   6500 non-null   int64         \n",
      "dtypes: datetime64[ns](1), float64(2), int64(6), object(3)\n",
      "memory usage: 660.2+ KB\n",
      "None\n"
     ]
    }
   ],
   "source": [
    "# Датафрейм для пользователей без подписки ('free')\n",
    "df_users_no_subscription = df_merged[df_merged['subscription_type'] == 'free']\n",
    "\n",
    "# Датафрейм для пользователей с подпиской ('ultra')\n",
    "df_users_with_subscription = df_merged[df_merged['subscription_type'] == 'ultra']\n",
    "\n",
    "print(\"Данные о пользователях без подписки:\")\n",
    "print(df_users_no_subscription.info())\n",
    "\n",
    "print(\"\\nДанные о пользователях с подпиской:\")\n",
    "print(df_users_with_subscription.info())"
   ]
  },
  {
   "cell_type": "code",
   "execution_count": 39,
   "id": "9253b8b5",
   "metadata": {},
   "outputs": [
    {
     "name": "stdout",
     "output_type": "stream",
     "text": [
      "Размеры датафреймов совпадают с исходным датасетом поездок.\n"
     ]
    }
   ],
   "source": [
    "# Проверка совпадения суммарного размера датафреймов\n",
    "if len(df_users_no_subscription) + len(df_users_with_subscription) == len(df_rides):\n",
    "    print(\"Размеры датафреймов совпадают с исходным датасетом поездок.\")\n",
    "else:\n",
    "    print(\"Ошибка: Размеры датафреймов не совпадают с исходным датасетом поездок.\")\n"
   ]
  },
  {
   "cell_type": "code",
   "execution_count": 40,
   "id": "bf5824e9",
   "metadata": {},
   "outputs": [
    {
     "name": "stdout",
     "output_type": "stream",
     "text": [
      "count    11568.000000\n",
      "mean      3045.495282\n",
      "std       1246.173806\n",
      "min          0.855683\n",
      "25%       2366.562689\n",
      "50%       3114.648465\n",
      "75%       3905.697894\n",
      "max       7211.007745\n",
      "Name: distance, dtype: float64\n",
      "count    6500.000000\n",
      "mean     3115.445388\n",
      "std       836.895330\n",
      "min       244.210438\n",
      "25%      2785.444017\n",
      "50%      3148.637229\n",
      "75%      3560.574425\n",
      "max      5699.769662\n",
      "Name: distance, dtype: float64\n"
     ]
    }
   ],
   "source": [
    "print(df_users_no_subscription['distance'].describe())\n",
    "print(df_users_with_subscription['distance'].describe())"
   ]
  },
  {
   "cell_type": "code",
   "execution_count": 41,
   "id": "31e58e40",
   "metadata": {},
   "outputs": [
    {
     "data": {
      "image/png": "[encoded data removed]",
      "text/plain": [
       "<Figure size 864x432 with 1 Axes>"
      ]
     },
     "metadata": {},
     "output_type": "display_data"
    }
   ],
   "source": [
    "sns.set(style=\"whitegrid\")\n",
    "\n",
    "#  расстояния для пользователей обеих категорий\n",
    "plt.figure(figsize=(12, 6))\n",
    "sns.histplot(df_users_no_subscription['distance'], bins=30, kde=True, label='Без подписки', color='blue')\n",
    "sns.histplot(df_users_with_subscription['distance'], bins=30, kde=True, label='С подпиской', color='orange')\n",
    "plt.title('Гистограмма расстояния поездок')\n",
    "plt.xlabel('Расстояние поездок (в км)')\n",
    "plt.ylabel('Частота')\n",
    "plt.legend()\n",
    "plt.show()"
   ]
  },
  {
   "cell_type": "code",
   "execution_count": 42,
   "id": "e8c8718b",
   "metadata": {},
   "outputs": [
    {
     "name": "stdout",
     "output_type": "stream",
     "text": [
      "count    11568.000000\n",
      "mean        17.390909\n",
      "std          6.326803\n",
      "min          0.500000\n",
      "25%         12.958437\n",
      "50%         17.326890\n",
      "75%         21.594071\n",
      "max         34.948498\n",
      "Name: duration, dtype: float64\n",
      "count    6500.000000\n",
      "mean       18.541985\n",
      "std         5.572048\n",
      "min         3.760353\n",
      "25%        14.524654\n",
      "50%        18.178153\n",
      "75%        21.884129\n",
      "max        40.823963\n",
      "Name: duration, dtype: float64\n"
     ]
    }
   ],
   "source": [
    "print(df_users_no_subscription['duration'].describe())\n",
    "print(df_users_with_subscription['duration'].describe())"
   ]
  },
  {
   "cell_type": "code",
   "execution_count": 43,
   "id": "36a709df",
   "metadata": {
    "scrolled": true
   },
   "outputs": [
    {
     "data": {
      "image/png": "[encoded data removed]",
      "text/plain": [
       "<Figure size 864x432 with 1 Axes>"
      ]
     },
     "metadata": {},
     "output_type": "display_data"
    }
   ],
   "source": [
    "# Ггистограммы времени поездок для пользователей обеих категорий\n",
    "plt.figure(figsize=(12, 6))\n",
    "sns.histplot(df_users_no_subscription['duration'], bins=30, kde=True, label='Без подписки', color='blue')\n",
    "sns.histplot(df_users_with_subscription['duration'], bins=30, kde=True, label='С подпиской', color='orange')\n",
    "plt.title('Гистограмма времени поездок')\n",
    "plt.xlabel('Время поездок (в минутах)')\n",
    "plt.ylabel('Частота')\n",
    "plt.legend()\n",
    "plt.show()"
   ]
  },
  {
   "cell_type": "markdown",
   "id": "687c8c4f",
   "metadata": {},
   "source": [
    "Распределение расстояния поездок:\n",
    "\n",
    "Для пользователей без подписки ('free') среднее расстояние составляет примерно 3045.5 единиц, со стандартным отклонением около 1246.2. Гистограмма расстояния показывает, что большинство поездок концентрируются в диапазоне от 2000 до 4000 единиц, с пиком в районе 3000 единиц.\n",
    "\n",
    "В то время как для пользователей с подпиской ('ultra') среднее расстояние равно примерно 3115.4 единиц, со стандартным отклонением около 836.9. Гистограмма подписанных пользователей также демонстрирует концентрацию вокруг среднего значения, с более узким разбросом величин и пиком в районе 3100 единиц.\n",
    "\n",
    "Распределение времени поездок:\n",
    "\n",
    "В отношении времени поездок, пользователи без подписки ('free') имеют среднюю длительность около 17.4 минуты, со стандартным отклонением примерно 6.3 минуты. Гистограмма времени поездок для данной группы пользователей показывает, что большинство поездок лежат в диапазоне от 10 до 25 минут, с пиком в районе 15 минут.\n",
    "\n",
    "В случае пользователей с подпиской ('ultra') средняя длительность составляет примерно 18.5 минут, со стандартным отклонением около 5.6 минут. Гистограмма времени поездок для этой группы демонстрирует, что большинство поездок также лежат в диапазоне от 10 до 25 минут, с пиком в районе 20 минут.\n",
    "\n",
    "Таким образом, можно отметить, что характеристики распределения расстояния и времени поездок для пользователей обеих категорий схожи, но с некоторыми различиями в средних значениях и разбросе данных. Пользователи с подпиской ('ultra') в целом демонстрируют немного большие средние значения и более узкий разброс величин по сравнению с пользователями без подписки ('free')."
   ]
  },
  {
   "cell_type": "markdown",
   "id": "bbbf1e67",
   "metadata": {},
   "source": [
    "# Шаг 5. Подсчёт выручки"
   ]
  },
  {
   "cell_type": "markdown",
   "id": "8db39712",
   "metadata": {},
   "source": [
    "5.1 Создайте датафрейм с агрегированными данными о поездках на основе датафрейма с объединёнными данными из шага 4: найдите суммарное расстояние, количество поездок и суммарное время для каждого пользователя за каждый месяц.\n",
    "\n",
    "5.2 В этот же датафрейм добавьте столбец с помесячной выручкой, которую принёс каждый пользователь. Для этого обратитесь к информации об условиях оплаты для подписчиков и тех, у кого нет подписки. Продолжительность каждой поездки в каждой строке исходного датафрейма для подсчёта стоимости округляется до следующего целого числа: например, значения 25.3, 25.5 и 26.0 должны быть преобразованы к 26."
   ]
  },
  {
   "cell_type": "code",
   "execution_count": 44,
   "id": "6c3d87c9",
   "metadata": {},
   "outputs": [],
   "source": [
    "df_merged['rounded_duration'] = np.ceil(df_merged['duration']).astype(int)\n",
    "df_aggregated = df_merged.groupby(['user_id', 'month']).agg({\n",
    "    'distance': 'sum',\n",
    "    'duration': 'sum',\n",
    "    'user_id': 'count',\n",
    "    'rounded_duration': 'sum',\n",
    "    'subscription_type': 'first',\n",
    "    'start_ride_price': 'first',\n",
    "    'minute_price': 'first', \n",
    "    'subscription_fee': 'first'\n",
    "}).rename(columns={'user_id': 'trips_count'}).reset_index()\n",
    "\n",
    "df_aggregated.columns = ['user_id', 'month', 'total_distance', 'total_duration', 'total_trips', 'rounded_duration', 'subscription_type', 'start_ride_price', 'minute_price', 'subscription_fee']\n",
    "\n",
    "df_aggregated['revenue'] = df_aggregated['start_ride_price'] * df_aggregated['total_trips'] + df_aggregated['minute_price'] * df_aggregated['rounded_duration'] + df_aggregated['subscription_fee']\n"
   ]
  },
  {
   "cell_type": "code",
   "execution_count": 45,
   "id": "f5411135",
   "metadata": {
    "scrolled": true
   },
   "outputs": [
    {
     "data": {
      "text/html": [
       "<div>\n",
       "<style scoped>\n",
       "    .dataframe tbody tr th:only-of-type {\n",
       "        vertical-align: middle;\n",
       "    }\n",
       "\n",
       "    .dataframe tbody tr th {\n",
       "        vertical-align: top;\n",
       "    }\n",
       "\n",
       "    .dataframe thead th {\n",
       "        text-align: right;\n",
       "    }\n",
       "</style>\n",
       "<table border=\"1\" class=\"dataframe\">\n",
       "  <thead>\n",
       "    <tr style=\"text-align: right;\">\n",
       "      <th></th>\n",
       "      <th>user_id</th>\n",
       "      <th>month</th>\n",
       "      <th>total_distance</th>\n",
       "      <th>total_duration</th>\n",
       "      <th>total_trips</th>\n",
       "      <th>rounded_duration</th>\n",
       "      <th>subscription_type</th>\n",
       "      <th>start_ride_price</th>\n",
       "      <th>minute_price</th>\n",
       "      <th>subscription_fee</th>\n",
       "      <th>revenue</th>\n",
       "    </tr>\n",
       "  </thead>\n",
       "  <tbody>\n",
       "    <tr>\n",
       "      <th>0</th>\n",
       "      <td>1</td>\n",
       "      <td>1</td>\n",
       "      <td>7027.511294</td>\n",
       "      <td>41.416640</td>\n",
       "      <td>2</td>\n",
       "      <td>42</td>\n",
       "      <td>ultra</td>\n",
       "      <td>0</td>\n",
       "      <td>6</td>\n",
       "      <td>199</td>\n",
       "      <td>451</td>\n",
       "    </tr>\n",
       "    <tr>\n",
       "      <th>1</th>\n",
       "      <td>1</td>\n",
       "      <td>4</td>\n",
       "      <td>754.159807</td>\n",
       "      <td>6.232113</td>\n",
       "      <td>1</td>\n",
       "      <td>7</td>\n",
       "      <td>ultra</td>\n",
       "      <td>0</td>\n",
       "      <td>6</td>\n",
       "      <td>199</td>\n",
       "      <td>241</td>\n",
       "    </tr>\n",
       "    <tr>\n",
       "      <th>2</th>\n",
       "      <td>1</td>\n",
       "      <td>8</td>\n",
       "      <td>6723.470560</td>\n",
       "      <td>44.776802</td>\n",
       "      <td>2</td>\n",
       "      <td>46</td>\n",
       "      <td>ultra</td>\n",
       "      <td>0</td>\n",
       "      <td>6</td>\n",
       "      <td>199</td>\n",
       "      <td>475</td>\n",
       "    </tr>\n",
       "    <tr>\n",
       "      <th>3</th>\n",
       "      <td>1</td>\n",
       "      <td>10</td>\n",
       "      <td>5809.911100</td>\n",
       "      <td>31.578017</td>\n",
       "      <td>2</td>\n",
       "      <td>32</td>\n",
       "      <td>ultra</td>\n",
       "      <td>0</td>\n",
       "      <td>6</td>\n",
       "      <td>199</td>\n",
       "      <td>391</td>\n",
       "    </tr>\n",
       "    <tr>\n",
       "      <th>4</th>\n",
       "      <td>1</td>\n",
       "      <td>11</td>\n",
       "      <td>7003.499363</td>\n",
       "      <td>53.397424</td>\n",
       "      <td>3</td>\n",
       "      <td>56</td>\n",
       "      <td>ultra</td>\n",
       "      <td>0</td>\n",
       "      <td>6</td>\n",
       "      <td>199</td>\n",
       "      <td>535</td>\n",
       "    </tr>\n",
       "  </tbody>\n",
       "</table>\n",
       "</div>"
      ],
      "text/plain": [
       "   user_id  month  total_distance  total_duration  total_trips  \\\n",
       "0        1      1     7027.511294       41.416640            2   \n",
       "1        1      4      754.159807        6.232113            1   \n",
       "2        1      8     6723.470560       44.776802            2   \n",
       "3        1     10     5809.911100       31.578017            2   \n",
       "4        1     11     7003.499363       53.397424            3   \n",
       "\n",
       "   rounded_duration subscription_type  start_ride_price  minute_price  \\\n",
       "0                42             ultra                 0             6   \n",
       "1                 7             ultra                 0             6   \n",
       "2                46             ultra                 0             6   \n",
       "3                32             ultra                 0             6   \n",
       "4                56             ultra                 0             6   \n",
       "\n",
       "   subscription_fee  revenue  \n",
       "0               199      451  \n",
       "1               199      241  \n",
       "2               199      475  \n",
       "3               199      391  \n",
       "4               199      535  "
      ]
     },
     "execution_count": 45,
     "metadata": {},
     "output_type": "execute_result"
    }
   ],
   "source": [
    "df_aggregated.head()"
   ]
  },
  {
   "cell_type": "markdown",
   "id": "665b589c",
   "metadata": {},
   "source": [
    "# Шаг 6. Проверка гипотез"
   ]
  },
  {
   "cell_type": "markdown",
   "id": "89863dcb",
   "metadata": {},
   "source": [
    "Шаг 6. Проверка гипотез\n",
    "Продакт-менеджеры сервиса хотят увеличить количество пользователей с подпиской. Для этого они будут проводить различные акции, но сначала нужно выяснить несколько важных моментов.\n",
    "\n",
    "6.1 Важно понять, тратят ли пользователи с подпиской больше времени на поездки? Если да, то пользователи с подпиской могут быть «выгоднее» для компании. Проверьте гипотезу. Используйте исходные данные о продолжительности каждой сессии — отдельно для подписчиков и тех, у кого нет подписки.\n",
    "\n",
    "6.2 Расстояние одной поездки в 3130 метров — оптимальное с точки зрения износа самоката. Можно ли сказать, что расстояние, которое проезжают пользователи с подпиской за одну поездку, не превышает 3130 метров? Проверьте гипотезу и сделайте выводы.\n",
    "\n",
    "6.3. Проверьте гипотезу о том, будет ли помесячная выручка от пользователей с подпиской по месяцам выше, чем выручка от пользователей без подписки. Сделайте вывод.\n",
    "\n",
    "6.4. Представьте такую ситуацию: техническая команда сервиса обновила сервера, с которыми взаимодействует мобильное приложение. Она надеется, что из-за этого количество обращений в техподдержку значимо снизилось. Некоторый файл содержит для каждого пользователя данные о количестве обращений до обновления и после него. Какой тест вам понадобился бы для проверки этой гипотезы?"
   ]
  },
  {
   "cell_type": "markdown",
   "id": "06e7210a",
   "metadata": {},
   "source": [
    "Нулевая гипотеза (H0): Средняя продолжительность поездок пользователей с подпиской равна средней продолжительности поездок пользователей без подписки.\n",
    "\n",
    "Альтернативная гипотеза (H1): Пользователи с подпиской тратят больше времени на поездки по сравнению с пользователями без подписки."
   ]
  },
  {
   "cell_type": "code",
   "execution_count": 46,
   "id": "0764d794",
   "metadata": {},
   "outputs": [
    {
     "name": "stdout",
     "output_type": "stream",
     "text": [
      "p-value: 1.2804098316645618e-34\n",
      "Отвергаем нулевую гипотезу. Пользователи с подпиской тратят больше времени на поездки\n"
     ]
    }
   ],
   "source": [
    "# задаём уровень значимости\n",
    "alpha = 0.05\n",
    "\n",
    "# время первой группы пользователей (с подпиской)\n",
    "first_group_duration = df_users_with_subscription['duration']\n",
    "\n",
    "# время второй группы пользователей (без подпиской)\n",
    "second_group_duration = df_users_no_subscription['duration']\n",
    "\n",
    "# проводим ttest для двух выборок, в качестве альтернативной используем одностороннюю гипотезу «больше»\n",
    "results = st.ttest_ind(first_group_duration, second_group_duration, alternative='greater')\n",
    "\n",
    "print(f'p-value: {results.pvalue}')\n",
    "\n",
    "# проверяем p-value\n",
    "if results.pvalue < alpha:\n",
    "    print('Отвергаем нулевую гипотезу. Пользователи с подпиской тратят больше времени на поездки')\n",
    "else:\n",
    "    print('Нет оснований отвергнуть нулевую гипотезу')"
   ]
  },
  {
   "cell_type": "markdown",
   "id": "8e6fb6db",
   "metadata": {},
   "source": [
    "На основе результатов t-теста с уровнем значимости 0.05 выявили, что пользователи с подпиской значимо тратят больше времени на поездки по сравнению с пользователями без подписки (p-value ~ 3.32e-08 < 0.05). Это подтверждает гипотезу о том, что пользователи с подпиской могут быть более выгодными для компании, так как они склонны совершать более продолжительные поездки."
   ]
  },
  {
   "cell_type": "markdown",
   "id": "dab55e3d",
   "metadata": {},
   "source": [
    "Нулевая гипотеза (H0): Среднее расстояние поездок пользователей с подпиской за одну поездку не превышает 3130 метров.\n",
    "\n",
    "Альтернативная гипотеза (H1): Среднее расстояние поездок пользователей с подпиской за одну поездку превышает 3130 метров."
   ]
  },
  {
   "cell_type": "code",
   "execution_count": 47,
   "id": "dfce3367",
   "metadata": {},
   "outputs": [
    {
     "name": "stdout",
     "output_type": "stream",
     "text": [
      "p-значение: 0.9195368847849785\n",
      "Не получилось отвергнуть нулевую гипотезу\n"
     ]
    }
   ],
   "source": [
    "dist = df_users_with_subscription['distance']\n",
    "interested_value = 3130 \n",
    "\n",
    "alpha = 0.05\n",
    "\n",
    "results = st.ttest_1samp(dist, interested_value, alternative='greater')\n",
    "\n",
    "print('p-значение:', results.pvalue) \n",
    "\n",
    "if results.pvalue < alpha:\n",
    "    print('Отвергаем нулевую гипотезу')\n",
    "else:\n",
    "    print('Не получилось отвергнуть нулевую гипотезу')"
   ]
  },
  {
   "cell_type": "markdown",
   "id": "efe38b0e",
   "metadata": {},
   "source": [
    "По результатам теста уровня износа самоката, проведенного с использованием t-теста, не удалось найти статистически значимых доказательств того, что пользователи с подпиской в среднем превышают оптимальное расстояние в 3130 метров за одну поездку. Таким образом, гипотезу о том, что расстояние превышает оптимальное значение, не удалось подтвердить на уровне значимости 0.05."
   ]
  },
  {
   "cell_type": "markdown",
   "id": "0de6fb33",
   "metadata": {},
   "source": [
    "Нулевая гипотеза (H0): Средняя помесячная выручка от пользователей с подпискойрав средней помесячной выручки от пользователей без подписки.\n",
    "\n",
    "Альтернативная гипотеза (H1): Средняя помесячная выручка от пользователей с подпиской выше, чем средняя помесячная выручка от пользователей без подписки."
   ]
  },
  {
   "cell_type": "code",
   "execution_count": 48,
   "id": "373e8572",
   "metadata": {},
   "outputs": [
    {
     "name": "stdout",
     "output_type": "stream",
     "text": [
      "p-value: 1.8850394384715216e-31\n",
      "Отвергаем нулевую гипотезу\n"
     ]
    }
   ],
   "source": [
    "alpha = 0.05\n",
    "\n",
    "with_subs_revenue = df_aggregated[df_aggregated['subscription_type'] == 'ultra']['revenue']\n",
    "no_subs_revenue = df_aggregated[df_aggregated['subscription_type'] == 'free']['revenue']\n",
    "\n",
    "results = st.ttest_ind(with_subs_revenue, no_subs_revenue, alternative='greater')\n",
    "\n",
    "print(f'p-value: {results.pvalue}')\n",
    "\n",
    "# Проверяем p-value\n",
    "if results.pvalue < alpha:\n",
    "    print('Отвергаем нулевую гипотезу')\n",
    "else:\n",
    "    print('Нет оснований отвергнуть нулевую гипотезу')\n"
   ]
  },
  {
   "cell_type": "markdown",
   "id": "9a6708c0",
   "metadata": {},
   "source": [
    "На основе результатов t-теста с уровнем значимости 0.05 было установлено, что p-значение равно 0.0, что меньше уровня значимости. Следовательно, мы отвергаем нулевую гипотезу о том, что выручка от пользователей с подпиской и выручка от пользователей без подписки равны. Таким образом, у нас есть статистически значимые доказательства в пользу того, что месячная выручка от пользователей с подпиской выше, чем от пользователей без подписки."
   ]
  },
  {
   "cell_type": "markdown",
   "id": "5956e643",
   "metadata": {},
   "source": [
    "**Представьте такую ситуацию: техническая команда сервиса обновила сервера, с которыми взаимодействует мобильное приложение. Она надеется, что из-за этого количество обращений в техподдержку значимо снизилось. Некоторый файл содержит для каждого пользователя данные о количестве обращений до обновления и после него. Какой тест вам понадобился бы для проверки этой гипотезы?**\n",
    "\n",
    "Для проверки гипотезы можно использовать парный t-тест для зависимых выборок. Этот тест подходит, когда мы имеем два набора измерений для одной и той же группы (например, количество обращений до и после обновления) и хотим определить, есть ли статистически значимые изменения.\n",
    "\n",
    "Нулевая гипотеза (H0): Среднее количество обращений до и после обновления серверов одинаково.\n",
    "\n",
    "Альтернативная гипотеза (H1): Среднее количество обращений после обновления меньше, чем до обновления.\n"
   ]
  },
  {
   "cell_type": "markdown",
   "id": "71c44fce",
   "metadata": {},
   "source": [
    "# Общий вывод"
   ]
  },
  {
   "cell_type": "markdown",
   "id": "9c5cb969",
   "metadata": {},
   "source": [
    "1. **Профиль пользователей:**\n",
    "   - Большинство пользователей GoFast находятся в возрастной группе от 20 до 30 лет, с пиком в 25 лет. Вероятно, стоит уделить внимание привлечению и удержанию пользователей в этом возрастном диапазоне.\n",
    "   - Распределение пользователей по городам показывает, что сервис популярен в городах Пятигорск, Екатеринбург, Ростов-на-Дону, Краснодар и других. Рекомендуется акцентировать маркетинговые усилия в этих городах.\n",
    "\n",
    "2. **Подписки:**\n",
    "   - Есть два типа подписок: \"free\" (без подписки) и \"ultra\" (с подпиской). Большинство пользователей катается без подписки (834), но и пользователей с подпиской также значительное количество (699).\n",
    "   - Рекомендуется провести анализ мотивации пользователей выбирать тот или иной тип подписки, возможно, через опросы или анализ предпочтений.\n",
    "\n",
    "3. **Поездки:**\n",
    "   - Среднее расстояние поездок около 2839 км, с широким разбросом. Большинство пользователей преодолевают расстояния от 2000 до 3000 км.\n",
    "   - Время поездок в среднем составляет около 17 минут, с продолжительностью от 10 до 25 минут.\n",
    "   - Пользователи с подпиской склонны к более разнообразным и продолжительным поездкам. Это может быть использовано для дальнейшей разработки и продвижения подписочной модели.\n",
    "\n",
    "4. **Оптимизация бизнеса:**\n",
    "   - Важно провести анализ и оптимизировать стратегию ценообразования, привлекая пользователей с подпиской.\n",
    "   - Улучшение пользовательского опыта, возможно, путем внедрения новых функций или улучшения существующих, может помочь удерживать пользователей.\n",
    "   - Месячная выручка от пользователей с подпиской выше, что поддерживает целесообразность продвижения и привлечения новых подписчиков.\n",
    "\n",
    "5. **Технические обновления:**\n",
    "   - После технического обновления серверов, которое, предположительно, должно снизить количество обращений в техподдержку, рекомендуется провести мониторинг и анализ обращений для подтверждения эффективности обновлений.\n"
   ]
  }
 ],
 "metadata": {
  "ExecuteTimeLog": [
   {
    "duration": 1161,
    "start_time": "2024-01-27T17:52:48.501Z"
   },
   {
    "duration": 176,
    "start_time": "2024-01-27T17:52:49.666Z"
   },
   {
    "duration": 0,
    "start_time": "2024-01-27T17:52:49.845Z"
   },
   {
    "duration": 0,
    "start_time": "2024-01-27T17:52:49.846Z"
   },
   {
    "duration": 0,
    "start_time": "2024-01-27T17:52:49.847Z"
   },
   {
    "duration": 0,
    "start_time": "2024-01-27T17:52:49.848Z"
   },
   {
    "duration": 0,
    "start_time": "2024-01-27T17:52:49.849Z"
   },
   {
    "duration": 0,
    "start_time": "2024-01-27T17:52:49.850Z"
   },
   {
    "duration": 0,
    "start_time": "2024-01-27T17:52:49.851Z"
   },
   {
    "duration": 0,
    "start_time": "2024-01-27T17:52:49.865Z"
   },
   {
    "duration": 0,
    "start_time": "2024-01-27T17:52:49.866Z"
   },
   {
    "duration": 0,
    "start_time": "2024-01-27T17:52:49.867Z"
   },
   {
    "duration": 0,
    "start_time": "2024-01-27T17:52:49.868Z"
   },
   {
    "duration": 0,
    "start_time": "2024-01-27T17:52:49.871Z"
   },
   {
    "duration": 0,
    "start_time": "2024-01-27T17:52:49.872Z"
   },
   {
    "duration": 0,
    "start_time": "2024-01-27T17:52:49.873Z"
   },
   {
    "duration": 0,
    "start_time": "2024-01-27T17:52:49.873Z"
   },
   {
    "duration": 0,
    "start_time": "2024-01-27T17:52:49.874Z"
   },
   {
    "duration": 0,
    "start_time": "2024-01-27T17:52:49.882Z"
   },
   {
    "duration": 0,
    "start_time": "2024-01-27T17:52:49.883Z"
   },
   {
    "duration": 0,
    "start_time": "2024-01-27T17:52:49.884Z"
   },
   {
    "duration": 0,
    "start_time": "2024-01-27T17:52:49.885Z"
   },
   {
    "duration": 0,
    "start_time": "2024-01-27T17:52:49.886Z"
   },
   {
    "duration": 0,
    "start_time": "2024-01-27T17:52:49.887Z"
   },
   {
    "duration": 0,
    "start_time": "2024-01-27T17:52:49.888Z"
   },
   {
    "duration": 0,
    "start_time": "2024-01-27T17:52:49.889Z"
   },
   {
    "duration": 0,
    "start_time": "2024-01-27T17:52:49.890Z"
   },
   {
    "duration": 0,
    "start_time": "2024-01-27T17:52:49.891Z"
   },
   {
    "duration": 0,
    "start_time": "2024-01-27T17:52:49.892Z"
   },
   {
    "duration": 0,
    "start_time": "2024-01-27T17:52:49.893Z"
   },
   {
    "duration": 0,
    "start_time": "2024-01-27T17:52:49.894Z"
   },
   {
    "duration": 0,
    "start_time": "2024-01-27T17:52:49.895Z"
   },
   {
    "duration": 0,
    "start_time": "2024-01-27T17:52:49.897Z"
   },
   {
    "duration": 0,
    "start_time": "2024-01-27T17:52:49.898Z"
   },
   {
    "duration": 0,
    "start_time": "2024-01-27T17:52:49.899Z"
   },
   {
    "duration": 0,
    "start_time": "2024-01-27T17:52:49.900Z"
   },
   {
    "duration": 0,
    "start_time": "2024-01-27T17:52:49.902Z"
   },
   {
    "duration": 0,
    "start_time": "2024-01-27T17:52:49.903Z"
   },
   {
    "duration": 0,
    "start_time": "2024-01-27T17:52:49.904Z"
   },
   {
    "duration": 0,
    "start_time": "2024-01-27T17:52:49.905Z"
   },
   {
    "duration": 0,
    "start_time": "2024-01-27T17:52:49.906Z"
   },
   {
    "duration": 0,
    "start_time": "2024-01-27T17:52:49.907Z"
   },
   {
    "duration": 0,
    "start_time": "2024-01-27T17:52:49.908Z"
   },
   {
    "duration": 0,
    "start_time": "2024-01-27T17:52:49.909Z"
   },
   {
    "duration": 0,
    "start_time": "2024-01-27T17:52:49.910Z"
   },
   {
    "duration": 1164,
    "start_time": "2024-01-27T17:54:52.396Z"
   },
   {
    "duration": 142,
    "start_time": "2024-01-27T17:54:53.562Z"
   },
   {
    "duration": 0,
    "start_time": "2024-01-27T17:54:53.707Z"
   },
   {
    "duration": 0,
    "start_time": "2024-01-27T17:54:53.708Z"
   },
   {
    "duration": 0,
    "start_time": "2024-01-27T17:54:53.709Z"
   },
   {
    "duration": 0,
    "start_time": "2024-01-27T17:54:53.710Z"
   },
   {
    "duration": 0,
    "start_time": "2024-01-27T17:54:53.711Z"
   },
   {
    "duration": 0,
    "start_time": "2024-01-27T17:54:53.712Z"
   },
   {
    "duration": 0,
    "start_time": "2024-01-27T17:54:53.713Z"
   },
   {
    "duration": 0,
    "start_time": "2024-01-27T17:54:53.714Z"
   },
   {
    "duration": 0,
    "start_time": "2024-01-27T17:54:53.714Z"
   },
   {
    "duration": 0,
    "start_time": "2024-01-27T17:54:53.716Z"
   },
   {
    "duration": 0,
    "start_time": "2024-01-27T17:54:53.716Z"
   },
   {
    "duration": 0,
    "start_time": "2024-01-27T17:54:53.717Z"
   },
   {
    "duration": 0,
    "start_time": "2024-01-27T17:54:53.718Z"
   },
   {
    "duration": 0,
    "start_time": "2024-01-27T17:54:53.719Z"
   },
   {
    "duration": 0,
    "start_time": "2024-01-27T17:54:53.720Z"
   },
   {
    "duration": 0,
    "start_time": "2024-01-27T17:54:53.721Z"
   },
   {
    "duration": 0,
    "start_time": "2024-01-27T17:54:53.722Z"
   },
   {
    "duration": 0,
    "start_time": "2024-01-27T17:54:53.723Z"
   },
   {
    "duration": 0,
    "start_time": "2024-01-27T17:54:53.724Z"
   },
   {
    "duration": 0,
    "start_time": "2024-01-27T17:54:53.725Z"
   },
   {
    "duration": 0,
    "start_time": "2024-01-27T17:54:53.726Z"
   },
   {
    "duration": 0,
    "start_time": "2024-01-27T17:54:53.727Z"
   },
   {
    "duration": 0,
    "start_time": "2024-01-27T17:54:53.728Z"
   },
   {
    "duration": 0,
    "start_time": "2024-01-27T17:54:53.729Z"
   },
   {
    "duration": 0,
    "start_time": "2024-01-27T17:54:53.730Z"
   },
   {
    "duration": 0,
    "start_time": "2024-01-27T17:54:53.765Z"
   },
   {
    "duration": 0,
    "start_time": "2024-01-27T17:54:53.766Z"
   },
   {
    "duration": 0,
    "start_time": "2024-01-27T17:54:53.767Z"
   },
   {
    "duration": 0,
    "start_time": "2024-01-27T17:54:53.767Z"
   },
   {
    "duration": 0,
    "start_time": "2024-01-27T17:54:53.768Z"
   },
   {
    "duration": 0,
    "start_time": "2024-01-27T17:54:53.771Z"
   },
   {
    "duration": 0,
    "start_time": "2024-01-27T17:54:53.771Z"
   },
   {
    "duration": 0,
    "start_time": "2024-01-27T17:54:53.772Z"
   },
   {
    "duration": 0,
    "start_time": "2024-01-27T17:54:53.773Z"
   },
   {
    "duration": 0,
    "start_time": "2024-01-27T17:54:53.773Z"
   },
   {
    "duration": 0,
    "start_time": "2024-01-27T17:54:53.774Z"
   },
   {
    "duration": 0,
    "start_time": "2024-01-27T17:54:53.775Z"
   },
   {
    "duration": 0,
    "start_time": "2024-01-27T17:54:53.775Z"
   },
   {
    "duration": 0,
    "start_time": "2024-01-27T17:54:53.776Z"
   },
   {
    "duration": 0,
    "start_time": "2024-01-27T17:54:53.777Z"
   },
   {
    "duration": 0,
    "start_time": "2024-01-27T17:54:53.777Z"
   },
   {
    "duration": 0,
    "start_time": "2024-01-27T17:54:53.778Z"
   },
   {
    "duration": 0,
    "start_time": "2024-01-27T17:54:53.779Z"
   },
   {
    "duration": 1246,
    "start_time": "2024-01-28T09:39:55.026Z"
   },
   {
    "duration": 165,
    "start_time": "2024-01-28T09:39:56.274Z"
   },
   {
    "duration": 0,
    "start_time": "2024-01-28T09:39:56.442Z"
   },
   {
    "duration": 0,
    "start_time": "2024-01-28T09:39:56.443Z"
   },
   {
    "duration": 0,
    "start_time": "2024-01-28T09:39:56.446Z"
   },
   {
    "duration": 0,
    "start_time": "2024-01-28T09:39:56.447Z"
   },
   {
    "duration": 0,
    "start_time": "2024-01-28T09:39:56.448Z"
   },
   {
    "duration": 0,
    "start_time": "2024-01-28T09:39:56.450Z"
   },
   {
    "duration": 0,
    "start_time": "2024-01-28T09:39:56.451Z"
   },
   {
    "duration": 1,
    "start_time": "2024-01-28T09:39:56.452Z"
   },
   {
    "duration": 0,
    "start_time": "2024-01-28T09:39:56.454Z"
   },
   {
    "duration": 0,
    "start_time": "2024-01-28T09:39:56.455Z"
   },
   {
    "duration": 0,
    "start_time": "2024-01-28T09:39:56.482Z"
   },
   {
    "duration": 0,
    "start_time": "2024-01-28T09:39:56.484Z"
   },
   {
    "duration": 0,
    "start_time": "2024-01-28T09:39:56.485Z"
   },
   {
    "duration": 0,
    "start_time": "2024-01-28T09:39:56.487Z"
   },
   {
    "duration": 0,
    "start_time": "2024-01-28T09:39:56.488Z"
   },
   {
    "duration": 0,
    "start_time": "2024-01-28T09:39:56.490Z"
   },
   {
    "duration": 0,
    "start_time": "2024-01-28T09:39:56.491Z"
   },
   {
    "duration": 0,
    "start_time": "2024-01-28T09:39:56.493Z"
   },
   {
    "duration": 0,
    "start_time": "2024-01-28T09:39:56.494Z"
   },
   {
    "duration": 0,
    "start_time": "2024-01-28T09:39:56.495Z"
   },
   {
    "duration": 0,
    "start_time": "2024-01-28T09:39:56.497Z"
   },
   {
    "duration": 0,
    "start_time": "2024-01-28T09:39:56.498Z"
   },
   {
    "duration": 0,
    "start_time": "2024-01-28T09:39:56.499Z"
   },
   {
    "duration": 0,
    "start_time": "2024-01-28T09:39:56.501Z"
   },
   {
    "duration": 0,
    "start_time": "2024-01-28T09:39:56.502Z"
   },
   {
    "duration": 0,
    "start_time": "2024-01-28T09:39:56.503Z"
   },
   {
    "duration": 0,
    "start_time": "2024-01-28T09:39:56.505Z"
   },
   {
    "duration": 0,
    "start_time": "2024-01-28T09:39:56.506Z"
   },
   {
    "duration": 0,
    "start_time": "2024-01-28T09:39:56.507Z"
   },
   {
    "duration": 0,
    "start_time": "2024-01-28T09:39:56.508Z"
   },
   {
    "duration": 0,
    "start_time": "2024-01-28T09:39:56.510Z"
   },
   {
    "duration": 0,
    "start_time": "2024-01-28T09:39:56.511Z"
   },
   {
    "duration": 0,
    "start_time": "2024-01-28T09:39:56.512Z"
   },
   {
    "duration": 0,
    "start_time": "2024-01-28T09:39:56.514Z"
   },
   {
    "duration": 0,
    "start_time": "2024-01-28T09:39:56.515Z"
   },
   {
    "duration": 0,
    "start_time": "2024-01-28T09:39:56.516Z"
   },
   {
    "duration": 0,
    "start_time": "2024-01-28T09:39:56.517Z"
   },
   {
    "duration": 0,
    "start_time": "2024-01-28T09:39:56.517Z"
   },
   {
    "duration": 0,
    "start_time": "2024-01-28T09:39:56.518Z"
   },
   {
    "duration": 0,
    "start_time": "2024-01-28T09:39:56.519Z"
   },
   {
    "duration": 0,
    "start_time": "2024-01-28T09:39:56.520Z"
   },
   {
    "duration": 0,
    "start_time": "2024-01-28T09:39:56.521Z"
   },
   {
    "duration": 0,
    "start_time": "2024-01-28T09:39:56.582Z"
   },
   {
    "duration": 1105,
    "start_time": "2024-01-28T11:10:25.809Z"
   },
   {
    "duration": 158,
    "start_time": "2024-01-28T11:10:26.915Z"
   },
   {
    "duration": 0,
    "start_time": "2024-01-28T11:10:27.075Z"
   },
   {
    "duration": 0,
    "start_time": "2024-01-28T11:10:27.076Z"
   },
   {
    "duration": 0,
    "start_time": "2024-01-28T11:10:27.078Z"
   },
   {
    "duration": 0,
    "start_time": "2024-01-28T11:10:27.079Z"
   },
   {
    "duration": 0,
    "start_time": "2024-01-28T11:10:27.079Z"
   },
   {
    "duration": 0,
    "start_time": "2024-01-28T11:10:27.080Z"
   },
   {
    "duration": 0,
    "start_time": "2024-01-28T11:10:27.081Z"
   },
   {
    "duration": 0,
    "start_time": "2024-01-28T11:10:27.083Z"
   },
   {
    "duration": 0,
    "start_time": "2024-01-28T11:10:27.084Z"
   },
   {
    "duration": 0,
    "start_time": "2024-01-28T11:10:27.086Z"
   },
   {
    "duration": 0,
    "start_time": "2024-01-28T11:10:27.087Z"
   },
   {
    "duration": 0,
    "start_time": "2024-01-28T11:10:27.089Z"
   },
   {
    "duration": 0,
    "start_time": "2024-01-28T11:10:27.091Z"
   },
   {
    "duration": 0,
    "start_time": "2024-01-28T11:10:27.093Z"
   },
   {
    "duration": 0,
    "start_time": "2024-01-28T11:10:27.094Z"
   },
   {
    "duration": 0,
    "start_time": "2024-01-28T11:10:27.096Z"
   },
   {
    "duration": 0,
    "start_time": "2024-01-28T11:10:27.097Z"
   },
   {
    "duration": 0,
    "start_time": "2024-01-28T11:10:27.098Z"
   },
   {
    "duration": 1,
    "start_time": "2024-01-28T11:10:27.099Z"
   },
   {
    "duration": 0,
    "start_time": "2024-01-28T11:10:27.101Z"
   },
   {
    "duration": 0,
    "start_time": "2024-01-28T11:10:27.102Z"
   },
   {
    "duration": 0,
    "start_time": "2024-01-28T11:10:27.103Z"
   },
   {
    "duration": 0,
    "start_time": "2024-01-28T11:10:27.105Z"
   },
   {
    "duration": 0,
    "start_time": "2024-01-28T11:10:27.106Z"
   },
   {
    "duration": 0,
    "start_time": "2024-01-28T11:10:27.107Z"
   },
   {
    "duration": 0,
    "start_time": "2024-01-28T11:10:27.108Z"
   },
   {
    "duration": 0,
    "start_time": "2024-01-28T11:10:27.109Z"
   },
   {
    "duration": 0,
    "start_time": "2024-01-28T11:10:27.111Z"
   },
   {
    "duration": 0,
    "start_time": "2024-01-28T11:10:27.111Z"
   },
   {
    "duration": 0,
    "start_time": "2024-01-28T11:10:27.113Z"
   },
   {
    "duration": 0,
    "start_time": "2024-01-28T11:10:27.114Z"
   },
   {
    "duration": 0,
    "start_time": "2024-01-28T11:10:27.115Z"
   },
   {
    "duration": 0,
    "start_time": "2024-01-28T11:10:27.116Z"
   },
   {
    "duration": 0,
    "start_time": "2024-01-28T11:10:27.117Z"
   },
   {
    "duration": 0,
    "start_time": "2024-01-28T11:10:27.118Z"
   },
   {
    "duration": 0,
    "start_time": "2024-01-28T11:10:27.181Z"
   },
   {
    "duration": 0,
    "start_time": "2024-01-28T11:10:27.183Z"
   },
   {
    "duration": 0,
    "start_time": "2024-01-28T11:10:27.184Z"
   },
   {
    "duration": 0,
    "start_time": "2024-01-28T11:10:27.186Z"
   },
   {
    "duration": 0,
    "start_time": "2024-01-28T11:10:27.187Z"
   },
   {
    "duration": 0,
    "start_time": "2024-01-28T11:10:27.188Z"
   },
   {
    "duration": 0,
    "start_time": "2024-01-28T11:10:27.189Z"
   },
   {
    "duration": 0,
    "start_time": "2024-01-28T11:10:27.190Z"
   },
   {
    "duration": 74,
    "start_time": "2024-01-28T11:12:31.930Z"
   },
   {
    "duration": 1174,
    "start_time": "2024-01-28T12:26:47.114Z"
   },
   {
    "duration": 141,
    "start_time": "2024-01-28T12:26:48.290Z"
   },
   {
    "duration": 0,
    "start_time": "2024-01-28T12:26:48.435Z"
   },
   {
    "duration": 0,
    "start_time": "2024-01-28T12:26:48.436Z"
   },
   {
    "duration": 0,
    "start_time": "2024-01-28T12:26:48.439Z"
   },
   {
    "duration": 0,
    "start_time": "2024-01-28T12:26:48.441Z"
   },
   {
    "duration": 0,
    "start_time": "2024-01-28T12:26:48.442Z"
   },
   {
    "duration": 0,
    "start_time": "2024-01-28T12:26:48.444Z"
   },
   {
    "duration": 0,
    "start_time": "2024-01-28T12:26:48.446Z"
   },
   {
    "duration": 0,
    "start_time": "2024-01-28T12:26:48.447Z"
   },
   {
    "duration": 0,
    "start_time": "2024-01-28T12:26:48.449Z"
   },
   {
    "duration": 0,
    "start_time": "2024-01-28T12:26:48.451Z"
   },
   {
    "duration": 0,
    "start_time": "2024-01-28T12:26:48.452Z"
   },
   {
    "duration": 0,
    "start_time": "2024-01-28T12:26:48.483Z"
   },
   {
    "duration": 0,
    "start_time": "2024-01-28T12:26:48.484Z"
   },
   {
    "duration": 0,
    "start_time": "2024-01-28T12:26:48.486Z"
   },
   {
    "duration": 0,
    "start_time": "2024-01-28T12:26:48.487Z"
   },
   {
    "duration": 0,
    "start_time": "2024-01-28T12:26:48.489Z"
   },
   {
    "duration": 0,
    "start_time": "2024-01-28T12:26:48.490Z"
   },
   {
    "duration": 0,
    "start_time": "2024-01-28T12:26:48.492Z"
   },
   {
    "duration": 0,
    "start_time": "2024-01-28T12:26:48.493Z"
   },
   {
    "duration": 0,
    "start_time": "2024-01-28T12:26:48.495Z"
   },
   {
    "duration": 0,
    "start_time": "2024-01-28T12:26:48.496Z"
   },
   {
    "duration": 0,
    "start_time": "2024-01-28T12:26:48.498Z"
   },
   {
    "duration": 0,
    "start_time": "2024-01-28T12:26:48.499Z"
   },
   {
    "duration": 0,
    "start_time": "2024-01-28T12:26:48.500Z"
   },
   {
    "duration": 0,
    "start_time": "2024-01-28T12:26:48.502Z"
   },
   {
    "duration": 0,
    "start_time": "2024-01-28T12:26:48.504Z"
   },
   {
    "duration": 0,
    "start_time": "2024-01-28T12:26:48.505Z"
   },
   {
    "duration": 0,
    "start_time": "2024-01-28T12:26:48.506Z"
   },
   {
    "duration": 0,
    "start_time": "2024-01-28T12:26:48.508Z"
   },
   {
    "duration": 0,
    "start_time": "2024-01-28T12:26:48.510Z"
   },
   {
    "duration": 0,
    "start_time": "2024-01-28T12:26:48.511Z"
   },
   {
    "duration": 0,
    "start_time": "2024-01-28T12:26:48.513Z"
   },
   {
    "duration": 0,
    "start_time": "2024-01-28T12:26:48.514Z"
   },
   {
    "duration": 0,
    "start_time": "2024-01-28T12:26:48.515Z"
   },
   {
    "duration": 0,
    "start_time": "2024-01-28T12:26:48.517Z"
   },
   {
    "duration": 0,
    "start_time": "2024-01-28T12:26:48.518Z"
   },
   {
    "duration": 0,
    "start_time": "2024-01-28T12:26:48.520Z"
   },
   {
    "duration": 0,
    "start_time": "2024-01-28T12:26:48.583Z"
   },
   {
    "duration": 0,
    "start_time": "2024-01-28T12:26:48.584Z"
   },
   {
    "duration": 0,
    "start_time": "2024-01-28T12:26:48.586Z"
   },
   {
    "duration": 0,
    "start_time": "2024-01-28T12:26:48.587Z"
   },
   {
    "duration": 0,
    "start_time": "2024-01-28T12:26:48.589Z"
   },
   {
    "duration": 0,
    "start_time": "2024-01-28T12:26:48.590Z"
   },
   {
    "duration": 1198,
    "start_time": "2024-01-28T12:30:10.486Z"
   },
   {
    "duration": 144,
    "start_time": "2024-01-28T12:30:11.685Z"
   },
   {
    "duration": 0,
    "start_time": "2024-01-28T12:30:11.833Z"
   },
   {
    "duration": 0,
    "start_time": "2024-01-28T12:30:11.835Z"
   },
   {
    "duration": 0,
    "start_time": "2024-01-28T12:30:11.836Z"
   },
   {
    "duration": 0,
    "start_time": "2024-01-28T12:30:11.837Z"
   },
   {
    "duration": 0,
    "start_time": "2024-01-28T12:30:11.838Z"
   },
   {
    "duration": 0,
    "start_time": "2024-01-28T12:30:11.839Z"
   },
   {
    "duration": 0,
    "start_time": "2024-01-28T12:30:11.840Z"
   },
   {
    "duration": 0,
    "start_time": "2024-01-28T12:30:11.841Z"
   },
   {
    "duration": 0,
    "start_time": "2024-01-28T12:30:11.842Z"
   },
   {
    "duration": 0,
    "start_time": "2024-01-28T12:30:11.844Z"
   },
   {
    "duration": 0,
    "start_time": "2024-01-28T12:30:11.845Z"
   },
   {
    "duration": 0,
    "start_time": "2024-01-28T12:30:11.846Z"
   },
   {
    "duration": 0,
    "start_time": "2024-01-28T12:30:11.847Z"
   },
   {
    "duration": 0,
    "start_time": "2024-01-28T12:30:11.848Z"
   },
   {
    "duration": 0,
    "start_time": "2024-01-28T12:30:11.849Z"
   },
   {
    "duration": 0,
    "start_time": "2024-01-28T12:30:11.850Z"
   },
   {
    "duration": 0,
    "start_time": "2024-01-28T12:30:11.882Z"
   },
   {
    "duration": 0,
    "start_time": "2024-01-28T12:30:11.883Z"
   },
   {
    "duration": 0,
    "start_time": "2024-01-28T12:30:11.884Z"
   },
   {
    "duration": 0,
    "start_time": "2024-01-28T12:30:11.885Z"
   },
   {
    "duration": 0,
    "start_time": "2024-01-28T12:30:11.886Z"
   },
   {
    "duration": 0,
    "start_time": "2024-01-28T12:30:11.887Z"
   },
   {
    "duration": 0,
    "start_time": "2024-01-28T12:30:11.888Z"
   },
   {
    "duration": 0,
    "start_time": "2024-01-28T12:30:11.890Z"
   },
   {
    "duration": 0,
    "start_time": "2024-01-28T12:30:11.891Z"
   },
   {
    "duration": 0,
    "start_time": "2024-01-28T12:30:11.893Z"
   },
   {
    "duration": 0,
    "start_time": "2024-01-28T12:30:11.894Z"
   },
   {
    "duration": 0,
    "start_time": "2024-01-28T12:30:11.895Z"
   },
   {
    "duration": 0,
    "start_time": "2024-01-28T12:30:11.896Z"
   },
   {
    "duration": 0,
    "start_time": "2024-01-28T12:30:11.897Z"
   },
   {
    "duration": 0,
    "start_time": "2024-01-28T12:30:11.898Z"
   },
   {
    "duration": 0,
    "start_time": "2024-01-28T12:30:11.899Z"
   },
   {
    "duration": 0,
    "start_time": "2024-01-28T12:30:11.901Z"
   },
   {
    "duration": 0,
    "start_time": "2024-01-28T12:30:11.901Z"
   },
   {
    "duration": 0,
    "start_time": "2024-01-28T12:30:11.903Z"
   },
   {
    "duration": 0,
    "start_time": "2024-01-28T12:30:11.904Z"
   },
   {
    "duration": 0,
    "start_time": "2024-01-28T12:30:11.905Z"
   },
   {
    "duration": 0,
    "start_time": "2024-01-28T12:30:11.905Z"
   },
   {
    "duration": 0,
    "start_time": "2024-01-28T12:30:11.906Z"
   },
   {
    "duration": 0,
    "start_time": "2024-01-28T12:30:11.908Z"
   },
   {
    "duration": 0,
    "start_time": "2024-01-28T12:30:11.909Z"
   },
   {
    "duration": 0,
    "start_time": "2024-01-28T12:30:11.910Z"
   },
   {
    "duration": 0,
    "start_time": "2024-01-28T12:30:11.911Z"
   },
   {
    "duration": 65,
    "start_time": "2024-01-28T12:35:39.577Z"
   },
   {
    "duration": 1125,
    "start_time": "2024-01-28T12:35:43.856Z"
   },
   {
    "duration": 2,
    "start_time": "2024-01-28T12:35:44.983Z"
   },
   {
    "duration": 67,
    "start_time": "2024-01-28T12:35:44.987Z"
   },
   {
    "duration": 21,
    "start_time": "2024-01-28T12:35:45.056Z"
   },
   {
    "duration": 14,
    "start_time": "2024-01-28T12:35:45.079Z"
   },
   {
    "duration": 29,
    "start_time": "2024-01-28T12:35:45.095Z"
   },
   {
    "duration": 24,
    "start_time": "2024-01-28T12:35:45.126Z"
   },
   {
    "duration": 26,
    "start_time": "2024-01-28T12:35:45.152Z"
   },
   {
    "duration": 9,
    "start_time": "2024-01-28T12:35:45.179Z"
   },
   {
    "duration": 10,
    "start_time": "2024-01-28T12:35:45.190Z"
   },
   {
    "duration": 10,
    "start_time": "2024-01-28T12:35:45.201Z"
   },
   {
    "duration": 5,
    "start_time": "2024-01-28T12:35:45.212Z"
   },
   {
    "duration": 14,
    "start_time": "2024-01-28T12:35:45.218Z"
   },
   {
    "duration": 5,
    "start_time": "2024-01-28T12:35:45.234Z"
   },
   {
    "duration": 5,
    "start_time": "2024-01-28T12:35:45.240Z"
   },
   {
    "duration": 36,
    "start_time": "2024-01-28T12:35:45.246Z"
   },
   {
    "duration": 8,
    "start_time": "2024-01-28T12:35:45.284Z"
   },
   {
    "duration": 4,
    "start_time": "2024-01-28T12:35:45.293Z"
   },
   {
    "duration": 11,
    "start_time": "2024-01-28T12:35:45.299Z"
   },
   {
    "duration": 182,
    "start_time": "2024-01-28T12:35:45.312Z"
   },
   {
    "duration": 4,
    "start_time": "2024-01-28T12:35:45.496Z"
   },
   {
    "duration": 155,
    "start_time": "2024-01-28T12:35:45.501Z"
   },
   {
    "duration": 8,
    "start_time": "2024-01-28T12:35:45.658Z"
   },
   {
    "duration": 197,
    "start_time": "2024-01-28T12:35:45.667Z"
   },
   {
    "duration": 117,
    "start_time": "2024-01-28T12:35:45.865Z"
   },
   {
    "duration": 8,
    "start_time": "2024-01-28T12:35:45.984Z"
   },
   {
    "duration": 2410,
    "start_time": "2024-01-28T12:35:45.993Z"
   },
   {
    "duration": 14,
    "start_time": "2024-01-28T12:35:48.406Z"
   },
   {
    "duration": 5,
    "start_time": "2024-01-28T12:35:48.421Z"
   },
   {
    "duration": 315,
    "start_time": "2024-01-28T12:35:48.428Z"
   },
   {
    "duration": 123,
    "start_time": "2024-01-28T12:35:48.744Z"
   },
   {
    "duration": 17,
    "start_time": "2024-01-28T12:35:48.869Z"
   },
   {
    "duration": 526,
    "start_time": "2024-01-28T12:35:48.888Z"
   },
   {
    "duration": 122,
    "start_time": "2024-01-28T12:35:49.416Z"
   },
   {
    "duration": 6,
    "start_time": "2024-01-28T12:35:49.540Z"
   },
   {
    "duration": 38,
    "start_time": "2024-01-28T12:35:49.548Z"
   },
   {
    "duration": 11,
    "start_time": "2024-01-28T12:35:49.588Z"
   },
   {
    "duration": 26,
    "start_time": "2024-01-28T12:35:49.600Z"
   },
   {
    "duration": 356,
    "start_time": "2024-01-28T12:35:49.627Z"
   },
   {
    "duration": 352,
    "start_time": "2024-01-28T12:35:49.984Z"
   },
   {
    "duration": 20,
    "start_time": "2024-01-28T12:35:50.337Z"
   },
   {
    "duration": 26,
    "start_time": "2024-01-28T12:35:50.358Z"
   },
   {
    "duration": 5,
    "start_time": "2024-01-28T12:35:50.386Z"
   },
   {
    "duration": 6,
    "start_time": "2024-01-28T12:35:50.392Z"
   },
   {
    "duration": 34,
    "start_time": "2024-01-28T12:35:50.400Z"
   },
   {
    "duration": 6,
    "start_time": "2024-01-28T12:35:50.435Z"
   },
   {
    "duration": 211,
    "start_time": "2024-01-28T14:55:18.998Z"
   },
   {
    "duration": 276,
    "start_time": "2024-01-28T14:55:23.492Z"
   },
   {
    "duration": 303,
    "start_time": "2024-01-28T14:55:26.701Z"
   },
   {
    "duration": 109,
    "start_time": "2024-01-28T15:05:18.779Z"
   },
   {
    "duration": 1202,
    "start_time": "2024-01-28T15:15:00.846Z"
   },
   {
    "duration": 2,
    "start_time": "2024-01-28T15:15:02.050Z"
   },
   {
    "duration": 88,
    "start_time": "2024-01-28T15:15:02.053Z"
   },
   {
    "duration": 13,
    "start_time": "2024-01-28T15:15:02.143Z"
   },
   {
    "duration": 43,
    "start_time": "2024-01-28T15:15:02.158Z"
   },
   {
    "duration": 28,
    "start_time": "2024-01-28T15:15:02.203Z"
   },
   {
    "duration": 39,
    "start_time": "2024-01-28T15:15:02.233Z"
   },
   {
    "duration": 35,
    "start_time": "2024-01-28T15:15:02.274Z"
   },
   {
    "duration": 25,
    "start_time": "2024-01-28T15:15:02.310Z"
   },
   {
    "duration": 53,
    "start_time": "2024-01-28T15:15:02.337Z"
   },
   {
    "duration": 14,
    "start_time": "2024-01-28T15:15:02.392Z"
   },
   {
    "duration": 13,
    "start_time": "2024-01-28T15:15:02.407Z"
   },
   {
    "duration": 39,
    "start_time": "2024-01-28T15:15:02.421Z"
   },
   {
    "duration": 69,
    "start_time": "2024-01-28T15:15:02.462Z"
   },
   {
    "duration": 26,
    "start_time": "2024-01-28T15:15:02.533Z"
   },
   {
    "duration": 20,
    "start_time": "2024-01-28T15:15:02.561Z"
   },
   {
    "duration": 12,
    "start_time": "2024-01-28T15:15:02.582Z"
   },
   {
    "duration": 5,
    "start_time": "2024-01-28T15:15:02.595Z"
   },
   {
    "duration": 18,
    "start_time": "2024-01-28T15:15:02.601Z"
   },
   {
    "duration": 178,
    "start_time": "2024-01-28T15:15:02.620Z"
   },
   {
    "duration": 5,
    "start_time": "2024-01-28T15:15:02.799Z"
   },
   {
    "duration": 188,
    "start_time": "2024-01-28T15:15:02.805Z"
   },
   {
    "duration": 8,
    "start_time": "2024-01-28T15:15:02.995Z"
   },
   {
    "duration": 234,
    "start_time": "2024-01-28T15:15:03.004Z"
   },
   {
    "duration": 112,
    "start_time": "2024-01-28T15:15:03.240Z"
   },
   {
    "duration": 9,
    "start_time": "2024-01-28T15:15:03.354Z"
   },
   {
    "duration": 2462,
    "start_time": "2024-01-28T15:15:03.365Z"
   },
   {
    "duration": 16,
    "start_time": "2024-01-28T15:15:05.830Z"
   },
   {
    "duration": 6,
    "start_time": "2024-01-28T15:15:05.848Z"
   },
   {
    "duration": 300,
    "start_time": "2024-01-28T15:15:05.855Z"
   },
   {
    "duration": 119,
    "start_time": "2024-01-28T15:15:06.156Z"
   },
   {
    "duration": 10,
    "start_time": "2024-01-28T15:15:06.277Z"
   },
   {
    "duration": 429,
    "start_time": "2024-01-28T15:15:06.289Z"
   },
   {
    "duration": 134,
    "start_time": "2024-01-28T15:15:06.719Z"
   },
   {
    "duration": 7,
    "start_time": "2024-01-28T15:15:06.855Z"
   },
   {
    "duration": 42,
    "start_time": "2024-01-28T15:15:06.864Z"
   },
   {
    "duration": 11,
    "start_time": "2024-01-28T15:15:06.908Z"
   },
   {
    "duration": 28,
    "start_time": "2024-01-28T15:15:06.920Z"
   },
   {
    "duration": 361,
    "start_time": "2024-01-28T15:15:06.949Z"
   },
   {
    "duration": 358,
    "start_time": "2024-01-28T15:15:07.311Z"
   },
   {
    "duration": 28,
    "start_time": "2024-01-28T15:15:07.671Z"
   },
   {
    "duration": 13,
    "start_time": "2024-01-28T15:15:07.701Z"
   },
   {
    "duration": 16,
    "start_time": "2024-01-28T15:15:07.716Z"
   },
   {
    "duration": 17,
    "start_time": "2024-01-28T15:15:07.733Z"
   },
   {
    "duration": 24,
    "start_time": "2024-01-28T15:15:07.752Z"
   },
   {
    "duration": 8,
    "start_time": "2024-01-28T15:15:07.782Z"
   },
   {
    "duration": 1182,
    "start_time": "2024-01-28T15:19:52.542Z"
   },
   {
    "duration": 2,
    "start_time": "2024-01-28T15:19:53.726Z"
   },
   {
    "duration": 100,
    "start_time": "2024-01-28T15:19:53.733Z"
   },
   {
    "duration": 11,
    "start_time": "2024-01-28T15:19:53.835Z"
   },
   {
    "duration": 44,
    "start_time": "2024-01-28T15:19:53.848Z"
   },
   {
    "duration": 59,
    "start_time": "2024-01-28T15:19:53.894Z"
   },
   {
    "duration": 36,
    "start_time": "2024-01-28T15:19:53.954Z"
   },
   {
    "duration": 45,
    "start_time": "2024-01-28T15:19:53.992Z"
   },
   {
    "duration": 37,
    "start_time": "2024-01-28T15:19:54.039Z"
   },
   {
    "duration": 65,
    "start_time": "2024-01-28T15:19:54.077Z"
   },
   {
    "duration": 33,
    "start_time": "2024-01-28T15:19:54.144Z"
   },
   {
    "duration": 34,
    "start_time": "2024-01-28T15:19:54.179Z"
   },
   {
    "duration": 50,
    "start_time": "2024-01-28T15:19:54.214Z"
   },
   {
    "duration": 54,
    "start_time": "2024-01-28T15:19:54.266Z"
   },
   {
    "duration": 29,
    "start_time": "2024-01-28T15:19:54.321Z"
   },
   {
    "duration": 12,
    "start_time": "2024-01-28T15:19:54.352Z"
   },
   {
    "duration": 21,
    "start_time": "2024-01-28T15:19:54.366Z"
   },
   {
    "duration": 12,
    "start_time": "2024-01-28T15:19:54.389Z"
   },
   {
    "duration": 33,
    "start_time": "2024-01-28T15:19:54.403Z"
   },
   {
    "duration": 182,
    "start_time": "2024-01-28T15:19:54.438Z"
   },
   {
    "duration": 5,
    "start_time": "2024-01-28T15:19:54.622Z"
   },
   {
    "duration": 256,
    "start_time": "2024-01-28T15:19:54.628Z"
   },
   {
    "duration": 8,
    "start_time": "2024-01-28T15:19:54.885Z"
   },
   {
    "duration": 196,
    "start_time": "2024-01-28T15:19:54.895Z"
   },
   {
    "duration": 124,
    "start_time": "2024-01-28T15:19:55.092Z"
   },
   {
    "duration": 8,
    "start_time": "2024-01-28T15:19:55.218Z"
   },
   {
    "duration": 2419,
    "start_time": "2024-01-28T15:19:55.229Z"
   },
   {
    "duration": 15,
    "start_time": "2024-01-28T15:19:57.649Z"
   },
   {
    "duration": 18,
    "start_time": "2024-01-28T15:19:57.665Z"
   },
   {
    "duration": 323,
    "start_time": "2024-01-28T15:19:57.685Z"
   },
   {
    "duration": 121,
    "start_time": "2024-01-28T15:19:58.010Z"
   },
   {
    "duration": 8,
    "start_time": "2024-01-28T15:19:58.132Z"
   },
   {
    "duration": 471,
    "start_time": "2024-01-28T15:19:58.142Z"
   },
   {
    "duration": 122,
    "start_time": "2024-01-28T15:19:58.614Z"
   },
   {
    "duration": 6,
    "start_time": "2024-01-28T15:19:58.738Z"
   },
   {
    "duration": 40,
    "start_time": "2024-01-28T15:19:58.746Z"
   },
   {
    "duration": 11,
    "start_time": "2024-01-28T15:19:58.787Z"
   },
   {
    "duration": 33,
    "start_time": "2024-01-28T15:19:58.799Z"
   },
   {
    "duration": 354,
    "start_time": "2024-01-28T15:19:58.833Z"
   },
   {
    "duration": 368,
    "start_time": "2024-01-28T15:19:59.189Z"
   },
   {
    "duration": 26,
    "start_time": "2024-01-28T15:19:59.559Z"
   },
   {
    "duration": 13,
    "start_time": "2024-01-28T15:19:59.586Z"
   },
   {
    "duration": 28,
    "start_time": "2024-01-28T15:19:59.600Z"
   },
   {
    "duration": 24,
    "start_time": "2024-01-28T15:19:59.630Z"
   },
   {
    "duration": 35,
    "start_time": "2024-01-28T15:19:59.656Z"
   },
   {
    "duration": 7,
    "start_time": "2024-01-28T15:19:59.692Z"
   },
   {
    "duration": 1128,
    "start_time": "2024-01-28T21:08:17.637Z"
   },
   {
    "duration": 66,
    "start_time": "2024-01-28T21:08:18.766Z"
   },
   {
    "duration": 10,
    "start_time": "2024-01-28T21:08:18.833Z"
   },
   {
    "duration": 10,
    "start_time": "2024-01-28T21:08:18.845Z"
   },
   {
    "duration": 8,
    "start_time": "2024-01-28T21:08:18.856Z"
   },
   {
    "duration": 13,
    "start_time": "2024-01-28T21:08:18.865Z"
   },
   {
    "duration": 21,
    "start_time": "2024-01-28T21:08:18.879Z"
   },
   {
    "duration": 30,
    "start_time": "2024-01-28T21:08:18.902Z"
   },
   {
    "duration": 13,
    "start_time": "2024-01-28T21:08:18.934Z"
   },
   {
    "duration": 17,
    "start_time": "2024-01-28T21:08:18.949Z"
   },
   {
    "duration": 4,
    "start_time": "2024-01-28T21:08:18.968Z"
   },
   {
    "duration": 6,
    "start_time": "2024-01-28T21:08:18.974Z"
   },
   {
    "duration": 10,
    "start_time": "2024-01-28T21:08:18.982Z"
   },
   {
    "duration": 8,
    "start_time": "2024-01-28T21:08:18.994Z"
   },
   {
    "duration": 10,
    "start_time": "2024-01-28T21:08:19.003Z"
   },
   {
    "duration": 12,
    "start_time": "2024-01-28T21:08:19.014Z"
   },
   {
    "duration": 4,
    "start_time": "2024-01-28T21:08:19.028Z"
   },
   {
    "duration": 18,
    "start_time": "2024-01-28T21:08:19.034Z"
   },
   {
    "duration": 164,
    "start_time": "2024-01-28T21:08:19.054Z"
   },
   {
    "duration": 4,
    "start_time": "2024-01-28T21:08:19.220Z"
   },
   {
    "duration": 81,
    "start_time": "2024-01-28T21:08:19.226Z"
   },
   {
    "duration": 8,
    "start_time": "2024-01-28T21:08:19.309Z"
   },
   {
    "duration": 176,
    "start_time": "2024-01-28T21:08:19.318Z"
   },
   {
    "duration": 95,
    "start_time": "2024-01-28T21:08:19.496Z"
   },
   {
    "duration": 8,
    "start_time": "2024-01-28T21:08:19.593Z"
   },
   {
    "duration": 2124,
    "start_time": "2024-01-28T21:08:19.603Z"
   },
   {
    "duration": 13,
    "start_time": "2024-01-28T21:08:21.729Z"
   },
   {
    "duration": 5,
    "start_time": "2024-01-28T21:08:21.754Z"
   },
   {
    "duration": 257,
    "start_time": "2024-01-28T21:08:21.761Z"
   },
   {
    "duration": 105,
    "start_time": "2024-01-28T21:08:22.020Z"
   },
   {
    "duration": 7,
    "start_time": "2024-01-28T21:08:22.127Z"
   },
   {
    "duration": 428,
    "start_time": "2024-01-28T21:08:22.136Z"
   },
   {
    "duration": 103,
    "start_time": "2024-01-28T21:08:22.565Z"
   },
   {
    "duration": 6,
    "start_time": "2024-01-28T21:08:22.670Z"
   },
   {
    "duration": 40,
    "start_time": "2024-01-28T21:08:22.678Z"
   },
   {
    "duration": 9,
    "start_time": "2024-01-28T21:08:22.720Z"
   },
   {
    "duration": 22,
    "start_time": "2024-01-28T21:08:22.731Z"
   },
   {
    "duration": 45,
    "start_time": "2024-01-28T21:08:22.755Z"
   },
   {
    "duration": 4,
    "start_time": "2024-01-28T21:08:22.802Z"
   },
   {
    "duration": 25,
    "start_time": "2024-01-28T21:08:22.808Z"
   },
   {
    "duration": 299,
    "start_time": "2024-01-28T21:08:22.834Z"
   },
   {
    "duration": 17,
    "start_time": "2024-01-28T21:08:23.135Z"
   },
   {
    "duration": 341,
    "start_time": "2024-01-28T21:08:23.153Z"
   },
   {
    "duration": 13,
    "start_time": "2024-01-28T21:08:23.496Z"
   },
   {
    "duration": 27,
    "start_time": "2024-01-28T21:08:23.510Z"
   },
   {
    "duration": 15,
    "start_time": "2024-01-28T21:08:23.538Z"
   },
   {
    "duration": 12,
    "start_time": "2024-01-28T21:08:23.554Z"
   },
   {
    "duration": 27,
    "start_time": "2024-01-28T21:08:23.568Z"
   },
   {
    "duration": 21,
    "start_time": "2024-01-28T21:08:23.596Z"
   },
   {
    "duration": 1113,
    "start_time": "2024-01-28T21:10:03.123Z"
   },
   {
    "duration": 66,
    "start_time": "2024-01-28T21:10:04.237Z"
   },
   {
    "duration": 12,
    "start_time": "2024-01-28T21:10:04.306Z"
   },
   {
    "duration": 38,
    "start_time": "2024-01-28T21:10:04.321Z"
   },
   {
    "duration": 12,
    "start_time": "2024-01-28T21:10:04.361Z"
   },
   {
    "duration": 10,
    "start_time": "2024-01-28T21:10:04.374Z"
   },
   {
    "duration": 17,
    "start_time": "2024-01-28T21:10:04.385Z"
   },
   {
    "duration": 6,
    "start_time": "2024-01-28T21:10:04.403Z"
   },
   {
    "duration": 10,
    "start_time": "2024-01-28T21:10:04.410Z"
   },
   {
    "duration": 31,
    "start_time": "2024-01-28T21:10:04.423Z"
   },
   {
    "duration": 6,
    "start_time": "2024-01-28T21:10:04.455Z"
   },
   {
    "duration": 7,
    "start_time": "2024-01-28T21:10:04.462Z"
   },
   {
    "duration": 4,
    "start_time": "2024-01-28T21:10:04.470Z"
   },
   {
    "duration": 4,
    "start_time": "2024-01-28T21:10:04.475Z"
   },
   {
    "duration": 9,
    "start_time": "2024-01-28T21:10:04.480Z"
   },
   {
    "duration": 7,
    "start_time": "2024-01-28T21:10:04.491Z"
   },
   {
    "duration": 5,
    "start_time": "2024-01-28T21:10:04.500Z"
   },
   {
    "duration": 6,
    "start_time": "2024-01-28T21:10:04.506Z"
   },
   {
    "duration": 196,
    "start_time": "2024-01-28T21:10:04.513Z"
   },
   {
    "duration": 4,
    "start_time": "2024-01-28T21:10:04.711Z"
   },
   {
    "duration": 81,
    "start_time": "2024-01-28T21:10:04.716Z"
   },
   {
    "duration": 7,
    "start_time": "2024-01-28T21:10:04.799Z"
   },
   {
    "duration": 189,
    "start_time": "2024-01-28T21:10:04.807Z"
   },
   {
    "duration": 117,
    "start_time": "2024-01-28T21:10:04.998Z"
   },
   {
    "duration": 10,
    "start_time": "2024-01-28T21:10:05.117Z"
   },
   {
    "duration": 2214,
    "start_time": "2024-01-28T21:10:05.129Z"
   },
   {
    "duration": 17,
    "start_time": "2024-01-28T21:10:07.345Z"
   },
   {
    "duration": 6,
    "start_time": "2024-01-28T21:10:07.365Z"
   },
   {
    "duration": 261,
    "start_time": "2024-01-28T21:10:07.372Z"
   },
   {
    "duration": 106,
    "start_time": "2024-01-28T21:10:07.635Z"
   },
   {
    "duration": 11,
    "start_time": "2024-01-28T21:10:07.742Z"
   },
   {
    "duration": 400,
    "start_time": "2024-01-28T21:10:07.754Z"
   },
   {
    "duration": 114,
    "start_time": "2024-01-28T21:10:08.156Z"
   },
   {
    "duration": 7,
    "start_time": "2024-01-28T21:10:08.272Z"
   },
   {
    "duration": 24,
    "start_time": "2024-01-28T21:10:08.280Z"
   },
   {
    "duration": 12,
    "start_time": "2024-01-28T21:10:08.306Z"
   },
   {
    "duration": 43,
    "start_time": "2024-01-28T21:10:08.320Z"
   },
   {
    "duration": 28,
    "start_time": "2024-01-28T21:10:08.365Z"
   },
   {
    "duration": 4,
    "start_time": "2024-01-28T21:10:08.394Z"
   },
   {
    "duration": 12,
    "start_time": "2024-01-28T21:10:08.399Z"
   },
   {
    "duration": 316,
    "start_time": "2024-01-28T21:10:08.412Z"
   },
   {
    "duration": 9,
    "start_time": "2024-01-28T21:10:08.730Z"
   },
   {
    "duration": 358,
    "start_time": "2024-01-28T21:10:08.740Z"
   },
   {
    "duration": 12,
    "start_time": "2024-01-28T21:10:09.099Z"
   },
   {
    "duration": 22,
    "start_time": "2024-01-28T21:10:09.112Z"
   },
   {
    "duration": 9,
    "start_time": "2024-01-28T21:10:09.135Z"
   },
   {
    "duration": 11,
    "start_time": "2024-01-28T21:10:09.145Z"
   },
   {
    "duration": 6,
    "start_time": "2024-01-28T21:10:09.157Z"
   },
   {
    "duration": 7,
    "start_time": "2024-01-28T21:10:09.165Z"
   },
   {
    "duration": 27,
    "start_time": "2024-01-28T21:12:35.750Z"
   },
   {
    "duration": 10,
    "start_time": "2024-01-28T21:15:03.198Z"
   },
   {
    "duration": 21,
    "start_time": "2024-01-28T21:15:48.181Z"
   },
   {
    "duration": 9,
    "start_time": "2024-01-28T21:15:51.327Z"
   },
   {
    "duration": 74,
    "start_time": "2024-01-28T21:17:40.229Z"
   },
   {
    "duration": 1316,
    "start_time": "2024-01-28T21:17:46.726Z"
   },
   {
    "duration": 1080,
    "start_time": "2024-01-28T21:23:33.847Z"
   },
   {
    "duration": 65,
    "start_time": "2024-01-28T21:23:34.929Z"
   },
   {
    "duration": 10,
    "start_time": "2024-01-28T21:23:34.996Z"
   },
   {
    "duration": 9,
    "start_time": "2024-01-28T21:23:35.008Z"
   },
   {
    "duration": 14,
    "start_time": "2024-01-28T21:23:35.019Z"
   },
   {
    "duration": 17,
    "start_time": "2024-01-28T21:23:35.034Z"
   },
   {
    "duration": 23,
    "start_time": "2024-01-28T21:23:35.052Z"
   },
   {
    "duration": 6,
    "start_time": "2024-01-28T21:23:35.077Z"
   },
   {
    "duration": 12,
    "start_time": "2024-01-28T21:23:35.084Z"
   },
   {
    "duration": 28,
    "start_time": "2024-01-28T21:23:35.099Z"
   },
   {
    "duration": 59,
    "start_time": "2024-01-28T21:23:35.129Z"
   },
   {
    "duration": 33,
    "start_time": "2024-01-28T21:23:35.190Z"
   },
   {
    "duration": 9,
    "start_time": "2024-01-28T21:23:35.224Z"
   },
   {
    "duration": 6,
    "start_time": "2024-01-28T21:23:35.234Z"
   },
   {
    "duration": 38,
    "start_time": "2024-01-28T21:23:35.241Z"
   },
   {
    "duration": 34,
    "start_time": "2024-01-28T21:23:35.280Z"
   },
   {
    "duration": 43,
    "start_time": "2024-01-28T21:23:35.315Z"
   },
   {
    "duration": 37,
    "start_time": "2024-01-28T21:23:35.360Z"
   },
   {
    "duration": 161,
    "start_time": "2024-01-28T21:23:35.398Z"
   },
   {
    "duration": 4,
    "start_time": "2024-01-28T21:23:35.561Z"
   },
   {
    "duration": 73,
    "start_time": "2024-01-28T21:23:35.566Z"
   },
   {
    "duration": 16,
    "start_time": "2024-01-28T21:23:35.641Z"
   },
   {
    "duration": 166,
    "start_time": "2024-01-28T21:23:35.658Z"
   },
   {
    "duration": 97,
    "start_time": "2024-01-28T21:23:35.825Z"
   },
   {
    "duration": 9,
    "start_time": "2024-01-28T21:23:35.923Z"
   },
   {
    "duration": 2243,
    "start_time": "2024-01-28T21:23:35.933Z"
   },
   {
    "duration": 14,
    "start_time": "2024-01-28T21:23:38.178Z"
   },
   {
    "duration": 5,
    "start_time": "2024-01-28T21:23:38.194Z"
   },
   {
    "duration": 254,
    "start_time": "2024-01-28T21:23:38.201Z"
   },
   {
    "duration": 103,
    "start_time": "2024-01-28T21:23:38.457Z"
   },
   {
    "duration": 7,
    "start_time": "2024-01-28T21:23:38.562Z"
   },
   {
    "duration": 382,
    "start_time": "2024-01-28T21:23:38.570Z"
   },
   {
    "duration": 104,
    "start_time": "2024-01-28T21:23:38.953Z"
   },
   {
    "duration": 6,
    "start_time": "2024-01-28T21:23:39.059Z"
   },
   {
    "duration": 28,
    "start_time": "2024-01-28T21:23:39.066Z"
   },
   {
    "duration": 8,
    "start_time": "2024-01-28T21:23:39.095Z"
   },
   {
    "duration": 19,
    "start_time": "2024-01-28T21:23:39.105Z"
   },
   {
    "duration": 44,
    "start_time": "2024-01-28T21:23:39.125Z"
   },
   {
    "duration": 4,
    "start_time": "2024-01-28T21:23:39.171Z"
   },
   {
    "duration": 11,
    "start_time": "2024-01-28T21:23:39.176Z"
   },
   {
    "duration": 300,
    "start_time": "2024-01-28T21:23:39.188Z"
   },
   {
    "duration": 10,
    "start_time": "2024-01-28T21:23:39.489Z"
   },
   {
    "duration": 305,
    "start_time": "2024-01-28T21:23:39.500Z"
   },
   {
    "duration": 12,
    "start_time": "2024-01-28T21:23:39.806Z"
   },
   {
    "duration": 18,
    "start_time": "2024-01-28T21:23:39.819Z"
   },
   {
    "duration": 9,
    "start_time": "2024-01-28T21:23:39.851Z"
   },
   {
    "duration": 14,
    "start_time": "2024-01-28T21:23:39.861Z"
   },
   {
    "duration": 10,
    "start_time": "2024-01-28T21:23:39.876Z"
   },
   {
    "duration": 8,
    "start_time": "2024-01-28T21:23:39.887Z"
   },
   {
    "duration": 48,
    "start_time": "2024-01-29T05:43:29.879Z"
   },
   {
    "duration": 1279,
    "start_time": "2024-01-29T05:43:38.896Z"
   },
   {
    "duration": 195,
    "start_time": "2024-01-29T05:43:40.177Z"
   },
   {
    "duration": 11,
    "start_time": "2024-01-29T05:43:40.373Z"
   },
   {
    "duration": 11,
    "start_time": "2024-01-29T05:43:40.386Z"
   },
   {
    "duration": 29,
    "start_time": "2024-01-29T05:43:40.399Z"
   },
   {
    "duration": 18,
    "start_time": "2024-01-29T05:43:40.430Z"
   },
   {
    "duration": 31,
    "start_time": "2024-01-29T05:43:40.450Z"
   },
   {
    "duration": 19,
    "start_time": "2024-01-29T05:43:40.482Z"
   },
   {
    "duration": 37,
    "start_time": "2024-01-29T05:43:40.502Z"
   },
   {
    "duration": 20,
    "start_time": "2024-01-29T05:43:40.541Z"
   },
   {
    "duration": 23,
    "start_time": "2024-01-29T05:43:40.563Z"
   },
   {
    "duration": 25,
    "start_time": "2024-01-29T05:43:40.588Z"
   },
   {
    "duration": 24,
    "start_time": "2024-01-29T05:43:40.614Z"
   },
   {
    "duration": 17,
    "start_time": "2024-01-29T05:43:40.639Z"
   },
   {
    "duration": 30,
    "start_time": "2024-01-29T05:43:40.657Z"
   },
   {
    "duration": 20,
    "start_time": "2024-01-29T05:43:40.689Z"
   },
   {
    "duration": 19,
    "start_time": "2024-01-29T05:43:40.710Z"
   },
   {
    "duration": 24,
    "start_time": "2024-01-29T05:43:40.731Z"
   },
   {
    "duration": 165,
    "start_time": "2024-01-29T05:43:40.757Z"
   },
   {
    "duration": 5,
    "start_time": "2024-01-29T05:43:40.924Z"
   },
   {
    "duration": 99,
    "start_time": "2024-01-29T05:43:40.931Z"
   },
   {
    "duration": 7,
    "start_time": "2024-01-29T05:43:41.032Z"
   },
   {
    "duration": 189,
    "start_time": "2024-01-29T05:43:41.041Z"
   },
   {
    "duration": 107,
    "start_time": "2024-01-29T05:43:41.232Z"
   },
   {
    "duration": 8,
    "start_time": "2024-01-29T05:43:41.340Z"
   },
   {
    "duration": 2365,
    "start_time": "2024-01-29T05:43:41.349Z"
   },
   {
    "duration": 14,
    "start_time": "2024-01-29T05:43:43.715Z"
   },
   {
    "duration": 6,
    "start_time": "2024-01-29T05:43:43.732Z"
   },
   {
    "duration": 271,
    "start_time": "2024-01-29T05:43:43.739Z"
   },
   {
    "duration": 119,
    "start_time": "2024-01-29T05:43:44.011Z"
   },
   {
    "duration": 9,
    "start_time": "2024-01-29T05:43:44.132Z"
   },
   {
    "duration": 428,
    "start_time": "2024-01-29T05:43:44.143Z"
   },
   {
    "duration": 127,
    "start_time": "2024-01-29T05:43:44.574Z"
   },
   {
    "duration": 6,
    "start_time": "2024-01-29T05:43:44.703Z"
   },
   {
    "duration": 51,
    "start_time": "2024-01-29T05:43:44.711Z"
   },
   {
    "duration": 12,
    "start_time": "2024-01-29T05:43:44.764Z"
   },
   {
    "duration": 13,
    "start_time": "2024-01-29T05:43:44.778Z"
   },
   {
    "duration": 20,
    "start_time": "2024-01-29T05:43:44.792Z"
   },
   {
    "duration": 32,
    "start_time": "2024-01-29T05:43:44.813Z"
   },
   {
    "duration": 4,
    "start_time": "2024-01-29T05:43:44.846Z"
   },
   {
    "duration": 15,
    "start_time": "2024-01-29T05:43:44.866Z"
   },
   {
    "duration": 341,
    "start_time": "2024-01-29T05:43:44.883Z"
   },
   {
    "duration": 9,
    "start_time": "2024-01-29T05:43:45.225Z"
   },
   {
    "duration": 357,
    "start_time": "2024-01-29T05:43:45.236Z"
   },
   {
    "duration": 12,
    "start_time": "2024-01-29T05:43:45.594Z"
   },
   {
    "duration": 19,
    "start_time": "2024-01-29T05:43:45.608Z"
   },
   {
    "duration": 9,
    "start_time": "2024-01-29T05:43:45.629Z"
   },
   {
    "duration": 26,
    "start_time": "2024-01-29T05:43:45.639Z"
   },
   {
    "duration": 4,
    "start_time": "2024-01-29T05:43:45.667Z"
   },
   {
    "duration": 11,
    "start_time": "2024-01-29T05:43:45.673Z"
   },
   {
    "duration": 28,
    "start_time": "2024-01-29T05:45:40.698Z"
   },
   {
    "duration": 4,
    "start_time": "2024-01-29T05:45:47.980Z"
   },
   {
    "duration": 3,
    "start_time": "2024-01-29T05:47:15.548Z"
   },
   {
    "duration": 36,
    "start_time": "2024-01-29T05:47:41.805Z"
   },
   {
    "duration": 3,
    "start_time": "2024-01-29T05:47:42.210Z"
   },
   {
    "duration": 12,
    "start_time": "2024-01-29T05:47:55.874Z"
   },
   {
    "duration": 540,
    "start_time": "2024-01-29T05:47:58.757Z"
   },
   {
    "duration": 10,
    "start_time": "2024-01-29T05:48:15.355Z"
   },
   {
    "duration": 635,
    "start_time": "2024-01-29T05:48:16.459Z"
   },
   {
    "duration": 27,
    "start_time": "2024-01-29T06:10:37.749Z"
   },
   {
    "duration": 11,
    "start_time": "2024-01-29T06:10:39.368Z"
   },
   {
    "duration": 12,
    "start_time": "2024-01-29T06:10:56.291Z"
   },
   {
    "duration": 23,
    "start_time": "2024-01-29T06:11:02.522Z"
   },
   {
    "duration": 12,
    "start_time": "2024-01-29T06:11:52.615Z"
   },
   {
    "duration": 21,
    "start_time": "2024-01-29T06:12:38.547Z"
   },
   {
    "duration": 17,
    "start_time": "2024-01-29T06:12:55.483Z"
   },
   {
    "duration": 11,
    "start_time": "2024-01-29T06:13:28.889Z"
   },
   {
    "duration": 168,
    "start_time": "2024-01-29T06:15:25.066Z"
   },
   {
    "duration": 23,
    "start_time": "2024-01-29T06:16:56.464Z"
   },
   {
    "duration": 21,
    "start_time": "2024-01-29T06:17:04.305Z"
   },
   {
    "duration": 10,
    "start_time": "2024-01-29T06:17:05.237Z"
   },
   {
    "duration": 1377,
    "start_time": "2024-01-29T13:37:17.027Z"
   },
   {
    "duration": 291,
    "start_time": "2024-01-29T13:37:18.406Z"
   },
   {
    "duration": 13,
    "start_time": "2024-01-29T13:37:18.699Z"
   },
   {
    "duration": 13,
    "start_time": "2024-01-29T13:37:18.714Z"
   },
   {
    "duration": 22,
    "start_time": "2024-01-29T13:37:18.728Z"
   },
   {
    "duration": 31,
    "start_time": "2024-01-29T13:37:18.752Z"
   },
   {
    "duration": 22,
    "start_time": "2024-01-29T13:37:18.790Z"
   },
   {
    "duration": 7,
    "start_time": "2024-01-29T13:37:18.813Z"
   },
   {
    "duration": 13,
    "start_time": "2024-01-29T13:37:18.822Z"
   },
   {
    "duration": 11,
    "start_time": "2024-01-29T13:37:18.838Z"
   },
   {
    "duration": 31,
    "start_time": "2024-01-29T13:37:18.851Z"
   },
   {
    "duration": 9,
    "start_time": "2024-01-29T13:37:18.884Z"
   },
   {
    "duration": 6,
    "start_time": "2024-01-29T13:37:18.895Z"
   },
   {
    "duration": 7,
    "start_time": "2024-01-29T13:37:18.903Z"
   },
   {
    "duration": 6,
    "start_time": "2024-01-29T13:37:18.911Z"
   },
   {
    "duration": 8,
    "start_time": "2024-01-29T13:37:18.919Z"
   },
   {
    "duration": 16,
    "start_time": "2024-01-29T13:37:18.929Z"
   },
   {
    "duration": 34,
    "start_time": "2024-01-29T13:37:18.947Z"
   },
   {
    "duration": 176,
    "start_time": "2024-01-29T13:37:18.983Z"
   },
   {
    "duration": 4,
    "start_time": "2024-01-29T13:37:19.161Z"
   },
   {
    "duration": 92,
    "start_time": "2024-01-29T13:37:19.167Z"
   },
   {
    "duration": 7,
    "start_time": "2024-01-29T13:37:19.261Z"
   },
   {
    "duration": 224,
    "start_time": "2024-01-29T13:37:19.281Z"
   },
   {
    "duration": 111,
    "start_time": "2024-01-29T13:37:19.507Z"
   },
   {
    "duration": 8,
    "start_time": "2024-01-29T13:37:19.620Z"
   },
   {
    "duration": 2529,
    "start_time": "2024-01-29T13:37:19.629Z"
   },
   {
    "duration": 23,
    "start_time": "2024-01-29T13:37:22.159Z"
   },
   {
    "duration": 6,
    "start_time": "2024-01-29T13:37:22.185Z"
   },
   {
    "duration": 305,
    "start_time": "2024-01-29T13:37:22.193Z"
   },
   {
    "duration": 126,
    "start_time": "2024-01-29T13:37:22.500Z"
   },
   {
    "duration": 8,
    "start_time": "2024-01-29T13:37:22.628Z"
   },
   {
    "duration": 477,
    "start_time": "2024-01-29T13:37:22.638Z"
   },
   {
    "duration": 126,
    "start_time": "2024-01-29T13:37:23.117Z"
   },
   {
    "duration": 7,
    "start_time": "2024-01-29T13:37:23.244Z"
   },
   {
    "duration": 38,
    "start_time": "2024-01-29T13:37:23.252Z"
   },
   {
    "duration": 9,
    "start_time": "2024-01-29T13:37:23.291Z"
   },
   {
    "duration": 45,
    "start_time": "2024-01-29T13:37:23.302Z"
   },
   {
    "duration": 37,
    "start_time": "2024-01-29T13:37:23.349Z"
   },
   {
    "duration": 3,
    "start_time": "2024-01-29T13:37:23.388Z"
   },
   {
    "duration": 20,
    "start_time": "2024-01-29T13:37:23.393Z"
   },
   {
    "duration": 614,
    "start_time": "2024-01-29T13:37:23.414Z"
   },
   {
    "duration": 12,
    "start_time": "2024-01-29T13:37:24.030Z"
   },
   {
    "duration": 612,
    "start_time": "2024-01-29T13:37:24.044Z"
   },
   {
    "duration": 34,
    "start_time": "2024-01-29T13:37:24.658Z"
   },
   {
    "duration": 12,
    "start_time": "2024-01-29T13:37:24.694Z"
   },
   {
    "duration": 12,
    "start_time": "2024-01-29T13:37:24.708Z"
   },
   {
    "duration": 9,
    "start_time": "2024-01-29T13:37:24.722Z"
   },
   {
    "duration": 17,
    "start_time": "2024-01-29T13:37:24.732Z"
   },
   {
    "duration": 10,
    "start_time": "2024-01-29T13:40:28.824Z"
   },
   {
    "duration": 1305,
    "start_time": "2024-01-29T13:42:39.453Z"
   },
   {
    "duration": 71,
    "start_time": "2024-01-29T13:42:40.760Z"
   },
   {
    "duration": 14,
    "start_time": "2024-01-29T13:42:40.833Z"
   },
   {
    "duration": 17,
    "start_time": "2024-01-29T13:42:40.849Z"
   },
   {
    "duration": 16,
    "start_time": "2024-01-29T13:42:40.867Z"
   },
   {
    "duration": 55,
    "start_time": "2024-01-29T13:42:40.885Z"
   },
   {
    "duration": 27,
    "start_time": "2024-01-29T13:42:40.942Z"
   },
   {
    "duration": 8,
    "start_time": "2024-01-29T13:42:40.970Z"
   },
   {
    "duration": 27,
    "start_time": "2024-01-29T13:42:40.980Z"
   },
   {
    "duration": 50,
    "start_time": "2024-01-29T13:42:41.012Z"
   },
   {
    "duration": 48,
    "start_time": "2024-01-29T13:42:41.064Z"
   },
   {
    "duration": 35,
    "start_time": "2024-01-29T13:42:41.114Z"
   },
   {
    "duration": 19,
    "start_time": "2024-01-29T13:42:41.151Z"
   },
   {
    "duration": 26,
    "start_time": "2024-01-29T13:42:41.171Z"
   },
   {
    "duration": 16,
    "start_time": "2024-01-29T13:42:41.199Z"
   },
   {
    "duration": 39,
    "start_time": "2024-01-29T13:42:41.217Z"
   },
   {
    "duration": 24,
    "start_time": "2024-01-29T13:42:41.257Z"
   },
   {
    "duration": 30,
    "start_time": "2024-01-29T13:42:41.282Z"
   },
   {
    "duration": 216,
    "start_time": "2024-01-29T13:42:41.314Z"
   },
   {
    "duration": 5,
    "start_time": "2024-01-29T13:42:41.532Z"
   },
   {
    "duration": 103,
    "start_time": "2024-01-29T13:42:41.539Z"
   },
   {
    "duration": 8,
    "start_time": "2024-01-29T13:42:41.644Z"
   },
   {
    "duration": 209,
    "start_time": "2024-01-29T13:42:41.653Z"
   },
   {
    "duration": 116,
    "start_time": "2024-01-29T13:42:41.864Z"
   },
   {
    "duration": 9,
    "start_time": "2024-01-29T13:42:41.982Z"
   },
   {
    "duration": 2583,
    "start_time": "2024-01-29T13:42:41.992Z"
   },
   {
    "duration": 15,
    "start_time": "2024-01-29T13:42:44.582Z"
   },
   {
    "duration": 7,
    "start_time": "2024-01-29T13:42:44.600Z"
   },
   {
    "duration": 308,
    "start_time": "2024-01-29T13:42:44.608Z"
   },
   {
    "duration": 135,
    "start_time": "2024-01-29T13:42:44.918Z"
   },
   {
    "duration": 12,
    "start_time": "2024-01-29T13:42:45.054Z"
   },
   {
    "duration": 557,
    "start_time": "2024-01-29T13:42:45.068Z"
   },
   {
    "duration": 134,
    "start_time": "2024-01-29T13:42:45.627Z"
   },
   {
    "duration": 18,
    "start_time": "2024-01-29T13:42:45.762Z"
   },
   {
    "duration": 25,
    "start_time": "2024-01-29T13:42:45.782Z"
   },
   {
    "duration": 10,
    "start_time": "2024-01-29T13:42:45.809Z"
   },
   {
    "duration": 15,
    "start_time": "2024-01-29T13:42:45.820Z"
   },
   {
    "duration": 53,
    "start_time": "2024-01-29T13:42:45.836Z"
   },
   {
    "duration": 4,
    "start_time": "2024-01-29T13:42:45.890Z"
   },
   {
    "duration": 33,
    "start_time": "2024-01-29T13:42:45.895Z"
   },
   {
    "duration": 632,
    "start_time": "2024-01-29T13:42:45.930Z"
   },
   {
    "duration": 20,
    "start_time": "2024-01-29T13:42:46.563Z"
   },
   {
    "duration": 569,
    "start_time": "2024-01-29T13:42:46.584Z"
   },
   {
    "duration": 30,
    "start_time": "2024-01-29T13:42:47.155Z"
   },
   {
    "duration": 11,
    "start_time": "2024-01-29T13:42:47.186Z"
   },
   {
    "duration": 6,
    "start_time": "2024-01-29T13:42:47.198Z"
   },
   {
    "duration": 5,
    "start_time": "2024-01-29T13:42:47.206Z"
   },
   {
    "duration": 11,
    "start_time": "2024-01-29T13:42:47.212Z"
   },
   {
    "duration": 1227,
    "start_time": "2024-01-29T13:43:29.318Z"
   },
   {
    "duration": 69,
    "start_time": "2024-01-29T13:43:30.547Z"
   },
   {
    "duration": 58,
    "start_time": "2024-01-29T13:43:30.618Z"
   },
   {
    "duration": 111,
    "start_time": "2024-01-29T13:43:30.678Z"
   },
   {
    "duration": 129,
    "start_time": "2024-01-29T13:43:30.790Z"
   },
   {
    "duration": 113,
    "start_time": "2024-01-29T13:43:30.921Z"
   },
   {
    "duration": 81,
    "start_time": "2024-01-29T13:43:31.035Z"
   },
   {
    "duration": 105,
    "start_time": "2024-01-29T13:43:31.118Z"
   },
   {
    "duration": 48,
    "start_time": "2024-01-29T13:43:31.225Z"
   },
   {
    "duration": 118,
    "start_time": "2024-01-29T13:43:31.276Z"
   },
   {
    "duration": 66,
    "start_time": "2024-01-29T13:43:31.396Z"
   },
   {
    "duration": 46,
    "start_time": "2024-01-29T13:43:31.464Z"
   },
   {
    "duration": 51,
    "start_time": "2024-01-29T13:43:31.513Z"
   },
   {
    "duration": 41,
    "start_time": "2024-01-29T13:43:31.566Z"
   },
   {
    "duration": 47,
    "start_time": "2024-01-29T13:43:31.609Z"
   },
   {
    "duration": 39,
    "start_time": "2024-01-29T13:43:31.658Z"
   },
   {
    "duration": 46,
    "start_time": "2024-01-29T13:43:31.699Z"
   },
   {
    "duration": 65,
    "start_time": "2024-01-29T13:43:31.747Z"
   },
   {
    "duration": 332,
    "start_time": "2024-01-29T13:43:31.814Z"
   },
   {
    "duration": 86,
    "start_time": "2024-01-29T13:43:32.148Z"
   },
   {
    "duration": 218,
    "start_time": "2024-01-29T13:43:32.236Z"
   },
   {
    "duration": 93,
    "start_time": "2024-01-29T13:43:32.455Z"
   },
   {
    "duration": 258,
    "start_time": "2024-01-29T13:43:32.549Z"
   },
   {
    "duration": 123,
    "start_time": "2024-01-29T13:43:32.809Z"
   },
   {
    "duration": 9,
    "start_time": "2024-01-29T13:43:32.933Z"
   },
   {
    "duration": 2525,
    "start_time": "2024-01-29T13:43:32.944Z"
   },
   {
    "duration": 23,
    "start_time": "2024-01-29T13:43:35.470Z"
   },
   {
    "duration": 6,
    "start_time": "2024-01-29T13:43:35.496Z"
   },
   {
    "duration": 308,
    "start_time": "2024-01-29T13:43:35.503Z"
   },
   {
    "duration": 128,
    "start_time": "2024-01-29T13:43:35.813Z"
   },
   {
    "duration": 9,
    "start_time": "2024-01-29T13:43:35.943Z"
   },
   {
    "duration": 459,
    "start_time": "2024-01-29T13:43:35.953Z"
   },
   {
    "duration": 128,
    "start_time": "2024-01-29T13:43:36.413Z"
   },
   {
    "duration": 8,
    "start_time": "2024-01-29T13:43:36.542Z"
   },
   {
    "duration": 38,
    "start_time": "2024-01-29T13:43:36.551Z"
   },
   {
    "duration": 10,
    "start_time": "2024-01-29T13:43:36.590Z"
   },
   {
    "duration": 16,
    "start_time": "2024-01-29T13:43:36.602Z"
   },
   {
    "duration": 29,
    "start_time": "2024-01-29T13:43:36.620Z"
   },
   {
    "duration": 5,
    "start_time": "2024-01-29T13:43:36.650Z"
   },
   {
    "duration": 36,
    "start_time": "2024-01-29T13:43:36.656Z"
   },
   {
    "duration": 686,
    "start_time": "2024-01-29T13:43:36.695Z"
   },
   {
    "duration": 12,
    "start_time": "2024-01-29T13:43:37.382Z"
   },
   {
    "duration": 561,
    "start_time": "2024-01-29T13:43:37.396Z"
   },
   {
    "duration": 31,
    "start_time": "2024-01-29T13:43:37.959Z"
   },
   {
    "duration": 11,
    "start_time": "2024-01-29T13:43:37.992Z"
   },
   {
    "duration": 15,
    "start_time": "2024-01-29T13:43:38.005Z"
   },
   {
    "duration": 8,
    "start_time": "2024-01-29T13:43:38.021Z"
   },
   {
    "duration": 12,
    "start_time": "2024-01-29T13:43:38.031Z"
   }
  ],
  "kernelspec": {
   "display_name": "Python 3 (ipykernel)",
   "language": "python",
   "name": "python3"
  },
  "language_info": {
   "codemirror_mode": {
    "name": "ipython",
    "version": 3
   },
   "file_extension": ".py",
   "mimetype": "text/x-python",
   "name": "python",
   "nbconvert_exporter": "python",
   "pygments_lexer": "ipython3",
   "version": "3.11.6"
  },
  "toc": {
   "base_numbering": 1,
   "nav_menu": {},
   "number_sections": true,
   "sideBar": true,
   "skip_h1_title": true,
   "title_cell": "Table of Contents",
   "title_sidebar": "Contents",
   "toc_cell": false,
   "toc_position": {},
   "toc_section_display": true,
   "toc_window_display": false
  }
 },
 "nbformat": 4,
 "nbformat_minor": 5
}
