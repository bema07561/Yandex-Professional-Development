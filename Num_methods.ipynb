{
 "cells": [
  {
   "cell_type": "markdown",
   "metadata": {},
   "source": [
    "# Определение стоимости автомобилей"
   ]
  },
  {
   "cell_type": "markdown",
   "metadata": {},
   "source": [
    "Сервис по продаже автомобилей с пробегом «Не бит, не крашен» разрабатывает приложение для привлечения новых клиентов. В нём можно быстро узнать рыночную стоимость своего автомобиля. В вашем распоряжении исторические данные: технические характеристики, комплектации и цены автомобилей. Вам нужно построить модель для определения стоимости. \n",
    "\n",
    "Заказчику важны:\n",
    "\n",
    "- качество предсказания;\n",
    "- скорость предсказания;\n",
    "- время обучения.\n",
    "\n",
    "Основные шаги:\n",
    "\n",
    "* Загрузите данные, путь к файлу: /datasets/autos.csv.\n",
    "* Изучите данные. Заполните пропущенные значения и обработайте аномалии в столбцах. Если среди признаков имеются неинформативные, удалите их.\n",
    "* Подготовьте выборки для обучения моделей.\n",
    "* Обучите разные модели, одна из которых — LightGBM, как минимум одна — не бустинг. Для каждой модели попробуйте разные гиперпараметры.\n",
    "* Проанализируйте время обучения, время предсказания и качество моделей.\n",
    "* Опираясь на критерии заказчика, выберете лучшую модель, проверьте её качество на тестовой выборке.\n",
    "\n",
    "Примечания:\n",
    "\n",
    "* Для оценки качества моделей применяйте метрику RMSE.\n",
    "* Значение метрики RMSE должно быть меньше 2500.\n",
    "* Самостоятельно освойте библиотеку LightGBM и её средствами постройте модели градиентного бустинга.\n",
    "* Время выполнения ячейки кода Jupyter Notebook можно получить специальной командой. Найдите её.\n",
    "* Модель градиентного бустинга может долго обучаться, поэтому измените у неё только два-три параметра.\n",
    "* Если перестанет работать Jupyter Notebook, удалите лишние переменные оператором del."
   ]
  },
  {
   "cell_type": "markdown",
   "metadata": {},
   "source": [
    "### Описание данных\n",
    "* Данные находятся в файле /datasets/autos.csv. Скачать датасет. \n",
    "\n",
    "Признаки\n",
    "* DateCrawled — дата скачивания анкеты из базы\n",
    "* VehicleType — тип автомобильного кузова\n",
    "* RegistrationYear — год регистрации автомобиля\n",
    "* Gearbox — тип коробки передач\n",
    "* Power — мощность (л. с.)\n",
    "* Model — модель автомобиля\n",
    "* Kilometer — пробег (км)\n",
    "* RegistrationMonth — месяц регистрации автомобиля\n",
    "* FuelType — тип топлива\n",
    "* Brand — марка автомобиля\n",
    "* Repaired — была машина в ремонте или нет\n",
    "* DateCreated — дата создания анкеты\n",
    "* NumberOfPictures — количество фотографий автомобиля\n",
    "* PostalCode — почтовый индекс владельца анкеты (пользователя)\n",
    "* LastSeen — дата последней активности пользователя\n",
    "\n",
    "Целевой признак\n",
    "\n",
    "* Price — цена (евро)"
   ]
  },
  {
   "cell_type": "code",
   "execution_count": 1,
   "metadata": {},
   "outputs": [
    {
     "name": "stdout",
     "output_type": "stream",
     "text": [
      "\u001b[33mWARNING: Error parsing dependencies of ipykernel: Expected matching RIGHT_PARENTHESIS for LEFT_PARENTHESIS, after version specifier\r\n",
      "    matplotlib-inline (<0.2.0appnope,>=0.1.0) ; platform_system == \"Darwin\"\r\n",
      "                      ~~~~~~~~^\u001b[0m\u001b[33m\r\n",
      "\u001b[0m"
     ]
    }
   ],
   "source": [
    "# ! pip install scikit-learn==0.24.1 -q"
   ]
  },
  {
   "cell_type": "code",
   "execution_count": 1,
   "metadata": {},
   "outputs": [
    {
     "name": "stdout",
     "output_type": "stream",
     "text": [
      "Requirement already satisfied: pip in /opt/conda/lib/python3.9/site-packages (24.1.1)\n",
      "\u001b[33mWARNING: Error parsing dependencies of ipykernel: Expected matching RIGHT_PARENTHESIS for LEFT_PARENTHESIS, after version specifier\n",
      "    matplotlib-inline (<0.2.0appnope,>=0.1.0) ; platform_system == \"Darwin\"\n",
      "                      ~~~~~~~~^\u001b[0m\u001b[33m\n",
      "\u001b[0m\u001b[33mWARNING: Error parsing dependencies of ipykernel: Expected matching RIGHT_PARENTHESIS for LEFT_PARENTHESIS, after version specifier\n",
      "    matplotlib-inline (<0.2.0appnope,>=0.1.0) ; platform_system == \"Darwin\"\n",
      "                      ~~~~~~~~^\u001b[0m\u001b[33m\n",
      "\u001b[0m\u001b[33mWARNING: Error parsing dependencies of ipykernel: Expected matching RIGHT_PARENTHESIS for LEFT_PARENTHESIS, after version specifier\n",
      "    matplotlib-inline (<0.2.0appnope,>=0.1.0) ; platform_system == \"Darwin\"\n",
      "                      ~~~~~~~~^\u001b[0m\u001b[33m\n",
      "\u001b[0m\u001b[33mWARNING: Error parsing dependencies of ipykernel: Expected matching RIGHT_PARENTHESIS for LEFT_PARENTHESIS, after version specifier\n",
      "    matplotlib-inline (<0.2.0appnope,>=0.1.0) ; platform_system == \"Darwin\"\n",
      "                      ~~~~~~~~^\u001b[0m\u001b[33m\n",
      "\u001b[0m\u001b[33mWARNING: Error parsing dependencies of ipykernel: Expected matching RIGHT_PARENTHESIS for LEFT_PARENTHESIS, after version specifier\n",
      "    matplotlib-inline (<0.2.0appnope,>=0.1.0) ; platform_system == \"Darwin\"\n",
      "                      ~~~~~~~~^\u001b[0m\u001b[33m\n",
      "\u001b[0m"
     ]
    }
   ],
   "source": [
    "!pip install --upgrade pip\n",
    "!pip install lightgbm -q\n",
    "!pip install phik -q\n",
    "!pip install xgboost -q\n",
    "!pip install lightgbm -q"
   ]
  },
  {
   "cell_type": "markdown",
   "metadata": {},
   "source": [
    "    numpy==1.21.0\n",
    "    pandas==1.3.0\n",
    "    scikit-learn==0.24.2\n",
    "    xgboost==1.4.2\n",
    "    lightgbm==3.2.1"
   ]
  },
  {
   "cell_type": "code",
   "execution_count": 2,
   "metadata": {},
   "outputs": [],
   "source": [
    "import numpy as np\n",
    "import pandas as pd\n",
    "from sklearn.model_selection import train_test_split, cross_val_score, KFold\n",
    "# загружаем класс pipeline\n",
    "from sklearn.pipeline import Pipeline\n",
    "from sklearn.compose import ColumnTransformer\n",
    "# загружаем классы для подготовки данных\n",
    "from sklearn.preprocessing import (\n",
    "    OneHotEncoder, \n",
    "    OrdinalEncoder, \n",
    "    StandardScaler, \n",
    "    MinMaxScaler, \n",
    "    RobustScaler, \n",
    "    LabelEncoder\n",
    ")\n",
    "\n",
    "from sklearn.ensemble import RandomForestRegressor, GradientBoostingRegressor\n",
    "from sklearn.linear_model import LinearRegression\n",
    "from sklearn.neighbors import KNeighborsRegressor\n",
    "from xgboost import XGBRegressor\n",
    "from sklearn.preprocessing import OrdinalEncoder\n",
    "import time\n",
    "\n",
    "from sklearn.impute import SimpleImputer\n",
    "from sklearn.compose import make_column_transformer\n",
    "\n",
    "\n",
    "from sklearn.linear_model import Ridge\n",
    "from sklearn.pipeline import make_pipeline\n",
    "from sklearn.model_selection import (\n",
    "    GridSearchCV,\n",
    "    RandomizedSearchCV,\n",
    "    train_test_split\n",
    ")\n",
    "# импортируем класс RandomizedSearchCV\n",
    "from sklearn.linear_model import LinearRegression\n",
    "from lightgbm import LGBMRegressor\n",
    "from sklearn.metrics import mean_squared_error\n",
    "import seaborn as sns\n",
    "import matplotlib.pyplot as plt\n",
    "from sklearn.metrics import (\n",
    "    mean_squared_error, \n",
    "    mean_absolute_error, \n",
    ")\n",
    "\n",
    "import warnings\n",
    "warnings.filterwarnings('ignore')"
   ]
  },
  {
   "cell_type": "markdown",
   "metadata": {},
   "source": [
    "## Загрузка данных"
   ]
  },
  {
   "cell_type": "code",
   "execution_count": 3,
   "metadata": {},
   "outputs": [],
   "source": [
    "def get_data_info(data):\n",
    "    display(data.sample(5))\n",
    "    display(data.info())\n",
    "    display(data.describe(include='all'))"
   ]
  },
  {
   "cell_type": "code",
   "execution_count": 4,
   "metadata": {},
   "outputs": [
    {
     "data": {
      "text/html": [
       "<div>\n",
       "<style scoped>\n",
       "    .dataframe tbody tr th:only-of-type {\n",
       "        vertical-align: middle;\n",
       "    }\n",
       "\n",
       "    .dataframe tbody tr th {\n",
       "        vertical-align: top;\n",
       "    }\n",
       "\n",
       "    .dataframe thead th {\n",
       "        text-align: right;\n",
       "    }\n",
       "</style>\n",
       "<table border=\"1\" class=\"dataframe\">\n",
       "  <thead>\n",
       "    <tr style=\"text-align: right;\">\n",
       "      <th></th>\n",
       "      <th>DateCrawled</th>\n",
       "      <th>Price</th>\n",
       "      <th>VehicleType</th>\n",
       "      <th>RegistrationYear</th>\n",
       "      <th>Gearbox</th>\n",
       "      <th>Power</th>\n",
       "      <th>Model</th>\n",
       "      <th>Kilometer</th>\n",
       "      <th>RegistrationMonth</th>\n",
       "      <th>FuelType</th>\n",
       "      <th>Brand</th>\n",
       "      <th>Repaired</th>\n",
       "      <th>DateCreated</th>\n",
       "      <th>NumberOfPictures</th>\n",
       "      <th>PostalCode</th>\n",
       "      <th>LastSeen</th>\n",
       "    </tr>\n",
       "  </thead>\n",
       "  <tbody>\n",
       "    <tr>\n",
       "      <th>339506</th>\n",
       "      <td>2016-03-12 22:55:30</td>\n",
       "      <td>1300</td>\n",
       "      <td>NaN</td>\n",
       "      <td>2018</td>\n",
       "      <td>NaN</td>\n",
       "      <td>0</td>\n",
       "      <td>3er</td>\n",
       "      <td>150000</td>\n",
       "      <td>0</td>\n",
       "      <td>NaN</td>\n",
       "      <td>bmw</td>\n",
       "      <td>NaN</td>\n",
       "      <td>2016-03-12 00:00:00</td>\n",
       "      <td>0</td>\n",
       "      <td>70771</td>\n",
       "      <td>2016-04-01 21:46:28</td>\n",
       "    </tr>\n",
       "    <tr>\n",
       "      <th>13213</th>\n",
       "      <td>2016-03-21 08:25:22</td>\n",
       "      <td>706</td>\n",
       "      <td>small</td>\n",
       "      <td>1999</td>\n",
       "      <td>manual</td>\n",
       "      <td>60</td>\n",
       "      <td>fiesta</td>\n",
       "      <td>150000</td>\n",
       "      <td>5</td>\n",
       "      <td>petrol</td>\n",
       "      <td>ford</td>\n",
       "      <td>no</td>\n",
       "      <td>2016-03-21 00:00:00</td>\n",
       "      <td>0</td>\n",
       "      <td>65549</td>\n",
       "      <td>2016-04-06 10:16:10</td>\n",
       "    </tr>\n",
       "    <tr>\n",
       "      <th>94051</th>\n",
       "      <td>2016-03-26 17:38:57</td>\n",
       "      <td>4800</td>\n",
       "      <td>wagon</td>\n",
       "      <td>2000</td>\n",
       "      <td>auto</td>\n",
       "      <td>193</td>\n",
       "      <td>5er</td>\n",
       "      <td>150000</td>\n",
       "      <td>3</td>\n",
       "      <td>petrol</td>\n",
       "      <td>bmw</td>\n",
       "      <td>no</td>\n",
       "      <td>2016-03-26 00:00:00</td>\n",
       "      <td>0</td>\n",
       "      <td>63814</td>\n",
       "      <td>2016-03-26 17:38:57</td>\n",
       "    </tr>\n",
       "    <tr>\n",
       "      <th>189055</th>\n",
       "      <td>2016-03-14 20:43:30</td>\n",
       "      <td>800</td>\n",
       "      <td>NaN</td>\n",
       "      <td>2016</td>\n",
       "      <td>NaN</td>\n",
       "      <td>60</td>\n",
       "      <td>1_reihe</td>\n",
       "      <td>150000</td>\n",
       "      <td>3</td>\n",
       "      <td>petrol</td>\n",
       "      <td>peugeot</td>\n",
       "      <td>NaN</td>\n",
       "      <td>2016-03-14 00:00:00</td>\n",
       "      <td>0</td>\n",
       "      <td>21493</td>\n",
       "      <td>2016-03-28 07:45:33</td>\n",
       "    </tr>\n",
       "    <tr>\n",
       "      <th>260919</th>\n",
       "      <td>2016-03-14 16:48:12</td>\n",
       "      <td>5800</td>\n",
       "      <td>wagon</td>\n",
       "      <td>2009</td>\n",
       "      <td>manual</td>\n",
       "      <td>106</td>\n",
       "      <td>megane</td>\n",
       "      <td>150000</td>\n",
       "      <td>3</td>\n",
       "      <td>gasoline</td>\n",
       "      <td>renault</td>\n",
       "      <td>no</td>\n",
       "      <td>2016-03-14 00:00:00</td>\n",
       "      <td>0</td>\n",
       "      <td>12621</td>\n",
       "      <td>2016-03-18 04:15:40</td>\n",
       "    </tr>\n",
       "  </tbody>\n",
       "</table>\n",
       "</div>"
      ],
      "text/plain": [
       "                DateCrawled  Price VehicleType  RegistrationYear Gearbox  \\\n",
       "339506  2016-03-12 22:55:30   1300         NaN              2018     NaN   \n",
       "13213   2016-03-21 08:25:22    706       small              1999  manual   \n",
       "94051   2016-03-26 17:38:57   4800       wagon              2000    auto   \n",
       "189055  2016-03-14 20:43:30    800         NaN              2016     NaN   \n",
       "260919  2016-03-14 16:48:12   5800       wagon              2009  manual   \n",
       "\n",
       "        Power    Model  Kilometer  RegistrationMonth  FuelType    Brand  \\\n",
       "339506      0      3er     150000                  0       NaN      bmw   \n",
       "13213      60   fiesta     150000                  5    petrol     ford   \n",
       "94051     193      5er     150000                  3    petrol      bmw   \n",
       "189055     60  1_reihe     150000                  3    petrol  peugeot   \n",
       "260919    106   megane     150000                  3  gasoline  renault   \n",
       "\n",
       "       Repaired          DateCreated  NumberOfPictures  PostalCode  \\\n",
       "339506      NaN  2016-03-12 00:00:00                 0       70771   \n",
       "13213        no  2016-03-21 00:00:00                 0       65549   \n",
       "94051        no  2016-03-26 00:00:00                 0       63814   \n",
       "189055      NaN  2016-03-14 00:00:00                 0       21493   \n",
       "260919       no  2016-03-14 00:00:00                 0       12621   \n",
       "\n",
       "                   LastSeen  \n",
       "339506  2016-04-01 21:46:28  \n",
       "13213   2016-04-06 10:16:10  \n",
       "94051   2016-03-26 17:38:57  \n",
       "189055  2016-03-28 07:45:33  \n",
       "260919  2016-03-18 04:15:40  "
      ]
     },
     "metadata": {},
     "output_type": "display_data"
    },
    {
     "name": "stdout",
     "output_type": "stream",
     "text": [
      "<class 'pandas.core.frame.DataFrame'>\n",
      "RangeIndex: 354369 entries, 0 to 354368\n",
      "Data columns (total 16 columns):\n",
      " #   Column             Non-Null Count   Dtype \n",
      "---  ------             --------------   ----- \n",
      " 0   DateCrawled        354369 non-null  object\n",
      " 1   Price              354369 non-null  int64 \n",
      " 2   VehicleType        316879 non-null  object\n",
      " 3   RegistrationYear   354369 non-null  int64 \n",
      " 4   Gearbox            334536 non-null  object\n",
      " 5   Power              354369 non-null  int64 \n",
      " 6   Model              334664 non-null  object\n",
      " 7   Kilometer          354369 non-null  int64 \n",
      " 8   RegistrationMonth  354369 non-null  int64 \n",
      " 9   FuelType           321474 non-null  object\n",
      " 10  Brand              354369 non-null  object\n",
      " 11  Repaired           283215 non-null  object\n",
      " 12  DateCreated        354369 non-null  object\n",
      " 13  NumberOfPictures   354369 non-null  int64 \n",
      " 14  PostalCode         354369 non-null  int64 \n",
      " 15  LastSeen           354369 non-null  object\n",
      "dtypes: int64(7), object(9)\n",
      "memory usage: 43.3+ MB\n"
     ]
    },
    {
     "data": {
      "text/plain": [
       "None"
      ]
     },
     "metadata": {},
     "output_type": "display_data"
    },
    {
     "data": {
      "text/html": [
       "<div>\n",
       "<style scoped>\n",
       "    .dataframe tbody tr th:only-of-type {\n",
       "        vertical-align: middle;\n",
       "    }\n",
       "\n",
       "    .dataframe tbody tr th {\n",
       "        vertical-align: top;\n",
       "    }\n",
       "\n",
       "    .dataframe thead th {\n",
       "        text-align: right;\n",
       "    }\n",
       "</style>\n",
       "<table border=\"1\" class=\"dataframe\">\n",
       "  <thead>\n",
       "    <tr style=\"text-align: right;\">\n",
       "      <th></th>\n",
       "      <th>DateCrawled</th>\n",
       "      <th>Price</th>\n",
       "      <th>VehicleType</th>\n",
       "      <th>RegistrationYear</th>\n",
       "      <th>Gearbox</th>\n",
       "      <th>Power</th>\n",
       "      <th>Model</th>\n",
       "      <th>Kilometer</th>\n",
       "      <th>RegistrationMonth</th>\n",
       "      <th>FuelType</th>\n",
       "      <th>Brand</th>\n",
       "      <th>Repaired</th>\n",
       "      <th>DateCreated</th>\n",
       "      <th>NumberOfPictures</th>\n",
       "      <th>PostalCode</th>\n",
       "      <th>LastSeen</th>\n",
       "    </tr>\n",
       "  </thead>\n",
       "  <tbody>\n",
       "    <tr>\n",
       "      <th>count</th>\n",
       "      <td>354369</td>\n",
       "      <td>354369.000000</td>\n",
       "      <td>316879</td>\n",
       "      <td>354369.000000</td>\n",
       "      <td>334536</td>\n",
       "      <td>354369.000000</td>\n",
       "      <td>334664</td>\n",
       "      <td>354369.000000</td>\n",
       "      <td>354369.000000</td>\n",
       "      <td>321474</td>\n",
       "      <td>354369</td>\n",
       "      <td>283215</td>\n",
       "      <td>354369</td>\n",
       "      <td>354369.0</td>\n",
       "      <td>354369.000000</td>\n",
       "      <td>354369</td>\n",
       "    </tr>\n",
       "    <tr>\n",
       "      <th>unique</th>\n",
       "      <td>271174</td>\n",
       "      <td>NaN</td>\n",
       "      <td>8</td>\n",
       "      <td>NaN</td>\n",
       "      <td>2</td>\n",
       "      <td>NaN</td>\n",
       "      <td>250</td>\n",
       "      <td>NaN</td>\n",
       "      <td>NaN</td>\n",
       "      <td>7</td>\n",
       "      <td>40</td>\n",
       "      <td>2</td>\n",
       "      <td>109</td>\n",
       "      <td>NaN</td>\n",
       "      <td>NaN</td>\n",
       "      <td>179150</td>\n",
       "    </tr>\n",
       "    <tr>\n",
       "      <th>top</th>\n",
       "      <td>2016-03-24 14:49:47</td>\n",
       "      <td>NaN</td>\n",
       "      <td>sedan</td>\n",
       "      <td>NaN</td>\n",
       "      <td>manual</td>\n",
       "      <td>NaN</td>\n",
       "      <td>golf</td>\n",
       "      <td>NaN</td>\n",
       "      <td>NaN</td>\n",
       "      <td>petrol</td>\n",
       "      <td>volkswagen</td>\n",
       "      <td>no</td>\n",
       "      <td>2016-04-03 00:00:00</td>\n",
       "      <td>NaN</td>\n",
       "      <td>NaN</td>\n",
       "      <td>2016-04-06 13:45:54</td>\n",
       "    </tr>\n",
       "    <tr>\n",
       "      <th>freq</th>\n",
       "      <td>7</td>\n",
       "      <td>NaN</td>\n",
       "      <td>91457</td>\n",
       "      <td>NaN</td>\n",
       "      <td>268251</td>\n",
       "      <td>NaN</td>\n",
       "      <td>29232</td>\n",
       "      <td>NaN</td>\n",
       "      <td>NaN</td>\n",
       "      <td>216352</td>\n",
       "      <td>77013</td>\n",
       "      <td>247161</td>\n",
       "      <td>13719</td>\n",
       "      <td>NaN</td>\n",
       "      <td>NaN</td>\n",
       "      <td>17</td>\n",
       "    </tr>\n",
       "    <tr>\n",
       "      <th>mean</th>\n",
       "      <td>NaN</td>\n",
       "      <td>4416.656776</td>\n",
       "      <td>NaN</td>\n",
       "      <td>2004.234448</td>\n",
       "      <td>NaN</td>\n",
       "      <td>110.094337</td>\n",
       "      <td>NaN</td>\n",
       "      <td>128211.172535</td>\n",
       "      <td>5.714645</td>\n",
       "      <td>NaN</td>\n",
       "      <td>NaN</td>\n",
       "      <td>NaN</td>\n",
       "      <td>NaN</td>\n",
       "      <td>0.0</td>\n",
       "      <td>50508.689087</td>\n",
       "      <td>NaN</td>\n",
       "    </tr>\n",
       "    <tr>\n",
       "      <th>std</th>\n",
       "      <td>NaN</td>\n",
       "      <td>4514.158514</td>\n",
       "      <td>NaN</td>\n",
       "      <td>90.227958</td>\n",
       "      <td>NaN</td>\n",
       "      <td>189.850405</td>\n",
       "      <td>NaN</td>\n",
       "      <td>37905.341530</td>\n",
       "      <td>3.726421</td>\n",
       "      <td>NaN</td>\n",
       "      <td>NaN</td>\n",
       "      <td>NaN</td>\n",
       "      <td>NaN</td>\n",
       "      <td>0.0</td>\n",
       "      <td>25783.096248</td>\n",
       "      <td>NaN</td>\n",
       "    </tr>\n",
       "    <tr>\n",
       "      <th>min</th>\n",
       "      <td>NaN</td>\n",
       "      <td>0.000000</td>\n",
       "      <td>NaN</td>\n",
       "      <td>1000.000000</td>\n",
       "      <td>NaN</td>\n",
       "      <td>0.000000</td>\n",
       "      <td>NaN</td>\n",
       "      <td>5000.000000</td>\n",
       "      <td>0.000000</td>\n",
       "      <td>NaN</td>\n",
       "      <td>NaN</td>\n",
       "      <td>NaN</td>\n",
       "      <td>NaN</td>\n",
       "      <td>0.0</td>\n",
       "      <td>1067.000000</td>\n",
       "      <td>NaN</td>\n",
       "    </tr>\n",
       "    <tr>\n",
       "      <th>25%</th>\n",
       "      <td>NaN</td>\n",
       "      <td>1050.000000</td>\n",
       "      <td>NaN</td>\n",
       "      <td>1999.000000</td>\n",
       "      <td>NaN</td>\n",
       "      <td>69.000000</td>\n",
       "      <td>NaN</td>\n",
       "      <td>125000.000000</td>\n",
       "      <td>3.000000</td>\n",
       "      <td>NaN</td>\n",
       "      <td>NaN</td>\n",
       "      <td>NaN</td>\n",
       "      <td>NaN</td>\n",
       "      <td>0.0</td>\n",
       "      <td>30165.000000</td>\n",
       "      <td>NaN</td>\n",
       "    </tr>\n",
       "    <tr>\n",
       "      <th>50%</th>\n",
       "      <td>NaN</td>\n",
       "      <td>2700.000000</td>\n",
       "      <td>NaN</td>\n",
       "      <td>2003.000000</td>\n",
       "      <td>NaN</td>\n",
       "      <td>105.000000</td>\n",
       "      <td>NaN</td>\n",
       "      <td>150000.000000</td>\n",
       "      <td>6.000000</td>\n",
       "      <td>NaN</td>\n",
       "      <td>NaN</td>\n",
       "      <td>NaN</td>\n",
       "      <td>NaN</td>\n",
       "      <td>0.0</td>\n",
       "      <td>49413.000000</td>\n",
       "      <td>NaN</td>\n",
       "    </tr>\n",
       "    <tr>\n",
       "      <th>75%</th>\n",
       "      <td>NaN</td>\n",
       "      <td>6400.000000</td>\n",
       "      <td>NaN</td>\n",
       "      <td>2008.000000</td>\n",
       "      <td>NaN</td>\n",
       "      <td>143.000000</td>\n",
       "      <td>NaN</td>\n",
       "      <td>150000.000000</td>\n",
       "      <td>9.000000</td>\n",
       "      <td>NaN</td>\n",
       "      <td>NaN</td>\n",
       "      <td>NaN</td>\n",
       "      <td>NaN</td>\n",
       "      <td>0.0</td>\n",
       "      <td>71083.000000</td>\n",
       "      <td>NaN</td>\n",
       "    </tr>\n",
       "    <tr>\n",
       "      <th>max</th>\n",
       "      <td>NaN</td>\n",
       "      <td>20000.000000</td>\n",
       "      <td>NaN</td>\n",
       "      <td>9999.000000</td>\n",
       "      <td>NaN</td>\n",
       "      <td>20000.000000</td>\n",
       "      <td>NaN</td>\n",
       "      <td>150000.000000</td>\n",
       "      <td>12.000000</td>\n",
       "      <td>NaN</td>\n",
       "      <td>NaN</td>\n",
       "      <td>NaN</td>\n",
       "      <td>NaN</td>\n",
       "      <td>0.0</td>\n",
       "      <td>99998.000000</td>\n",
       "      <td>NaN</td>\n",
       "    </tr>\n",
       "  </tbody>\n",
       "</table>\n",
       "</div>"
      ],
      "text/plain": [
       "                DateCrawled          Price VehicleType  RegistrationYear  \\\n",
       "count                354369  354369.000000      316879     354369.000000   \n",
       "unique               271174            NaN           8               NaN   \n",
       "top     2016-03-24 14:49:47            NaN       sedan               NaN   \n",
       "freq                      7            NaN       91457               NaN   \n",
       "mean                    NaN    4416.656776         NaN       2004.234448   \n",
       "std                     NaN    4514.158514         NaN         90.227958   \n",
       "min                     NaN       0.000000         NaN       1000.000000   \n",
       "25%                     NaN    1050.000000         NaN       1999.000000   \n",
       "50%                     NaN    2700.000000         NaN       2003.000000   \n",
       "75%                     NaN    6400.000000         NaN       2008.000000   \n",
       "max                     NaN   20000.000000         NaN       9999.000000   \n",
       "\n",
       "       Gearbox          Power   Model      Kilometer  RegistrationMonth  \\\n",
       "count   334536  354369.000000  334664  354369.000000      354369.000000   \n",
       "unique       2            NaN     250            NaN                NaN   \n",
       "top     manual            NaN    golf            NaN                NaN   \n",
       "freq    268251            NaN   29232            NaN                NaN   \n",
       "mean       NaN     110.094337     NaN  128211.172535           5.714645   \n",
       "std        NaN     189.850405     NaN   37905.341530           3.726421   \n",
       "min        NaN       0.000000     NaN    5000.000000           0.000000   \n",
       "25%        NaN      69.000000     NaN  125000.000000           3.000000   \n",
       "50%        NaN     105.000000     NaN  150000.000000           6.000000   \n",
       "75%        NaN     143.000000     NaN  150000.000000           9.000000   \n",
       "max        NaN   20000.000000     NaN  150000.000000          12.000000   \n",
       "\n",
       "       FuelType       Brand Repaired          DateCreated  NumberOfPictures  \\\n",
       "count    321474      354369   283215               354369          354369.0   \n",
       "unique        7          40        2                  109               NaN   \n",
       "top      petrol  volkswagen       no  2016-04-03 00:00:00               NaN   \n",
       "freq     216352       77013   247161                13719               NaN   \n",
       "mean        NaN         NaN      NaN                  NaN               0.0   \n",
       "std         NaN         NaN      NaN                  NaN               0.0   \n",
       "min         NaN         NaN      NaN                  NaN               0.0   \n",
       "25%         NaN         NaN      NaN                  NaN               0.0   \n",
       "50%         NaN         NaN      NaN                  NaN               0.0   \n",
       "75%         NaN         NaN      NaN                  NaN               0.0   \n",
       "max         NaN         NaN      NaN                  NaN               0.0   \n",
       "\n",
       "           PostalCode             LastSeen  \n",
       "count   354369.000000               354369  \n",
       "unique            NaN               179150  \n",
       "top               NaN  2016-04-06 13:45:54  \n",
       "freq              NaN                   17  \n",
       "mean     50508.689087                  NaN  \n",
       "std      25783.096248                  NaN  \n",
       "min       1067.000000                  NaN  \n",
       "25%      30165.000000                  NaN  \n",
       "50%      49413.000000                  NaN  \n",
       "75%      71083.000000                  NaN  \n",
       "max      99998.000000                  NaN  "
      ]
     },
     "metadata": {},
     "output_type": "display_data"
    }
   ],
   "source": [
    "df = pd.read_csv('/datasets/autos.csv')\n",
    "get_data_info(df)"
   ]
  },
  {
   "cell_type": "markdown",
   "metadata": {},
   "source": [
    "## Подготовка данных"
   ]
  },
  {
   "cell_type": "code",
   "execution_count": 5,
   "metadata": {},
   "outputs": [
    {
     "data": {
      "text/plain": [
       "2016-03-24 14:49:47    7\n",
       "2016-03-26 22:57:31    6\n",
       "2016-03-19 21:49:56    6\n",
       "2016-03-22 10:42:10    5\n",
       "2016-04-02 22:54:55    5\n",
       "                      ..\n",
       "2016-03-18 23:53:33    1\n",
       "2016-03-11 14:54:17    1\n",
       "2016-03-31 19:50:43    1\n",
       "2016-03-24 12:53:47    1\n",
       "2016-03-28 13:42:33    1\n",
       "Name: DateCrawled, Length: 271174, dtype: int64"
      ]
     },
     "execution_count": 5,
     "metadata": {},
     "output_type": "execute_result"
    }
   ],
   "source": [
    "df.DateCrawled.value_counts()"
   ]
  },
  {
   "cell_type": "code",
   "execution_count": 6,
   "metadata": {},
   "outputs": [],
   "source": [
    "df = df.drop('NumberOfPictures', axis=1)\n",
    "df = df.drop('DateCrawled', axis=1)\n",
    "df = df.drop('DateCreated', axis=1)\n",
    "df = df.drop('LastSeen', axis=1)"
   ]
  },
  {
   "cell_type": "code",
   "execution_count": 7,
   "metadata": {},
   "outputs": [
    {
     "data": {
      "text/plain": [
       "Price                    0\n",
       "VehicleType          37490\n",
       "RegistrationYear         0\n",
       "Gearbox              19833\n",
       "Power                    0\n",
       "Model                19705\n",
       "Kilometer                0\n",
       "RegistrationMonth        0\n",
       "FuelType             32895\n",
       "Brand                    0\n",
       "Repaired             71154\n",
       "PostalCode               0\n",
       "dtype: int64"
      ]
     },
     "execution_count": 7,
     "metadata": {},
     "output_type": "execute_result"
    }
   ],
   "source": [
    "df.isna().sum()"
   ]
  },
  {
   "cell_type": "code",
   "execution_count": 8,
   "metadata": {},
   "outputs": [
    {
     "data": {
      "text/plain": [
       "Price                0\n",
       "VehicleType          0\n",
       "RegistrationYear     0\n",
       "Gearbox              0\n",
       "Power                0\n",
       "Model                0\n",
       "Kilometer            0\n",
       "RegistrationMonth    0\n",
       "FuelType             0\n",
       "Brand                0\n",
       "Repaired             0\n",
       "PostalCode           0\n",
       "dtype: int64"
      ]
     },
     "execution_count": 8,
     "metadata": {},
     "output_type": "execute_result"
    }
   ],
   "source": [
    "df['VehicleType'] = df['VehicleType'].fillna('Unknown')\n",
    "df['Gearbox'] = df['Gearbox'].fillna('Unknown')\n",
    "df['FuelType'] = df['FuelType'].fillna('Unknown')\n",
    "df['Repaired'] = df['Repaired'].fillna('Unknown')\n",
    "df['Model'] = df['Model'].fillna('Unknown')\n",
    "df.isna().sum()"
   ]
  },
  {
   "cell_type": "code",
   "execution_count": 9,
   "metadata": {},
   "outputs": [
    {
     "data": {
      "text/plain": [
       "21333"
      ]
     },
     "execution_count": 9,
     "metadata": {},
     "output_type": "execute_result"
    }
   ],
   "source": [
    "df.duplicated().sum()"
   ]
  },
  {
   "cell_type": "code",
   "execution_count": 10,
   "metadata": {
    "scrolled": true
   },
   "outputs": [
    {
     "name": "stdout",
     "output_type": "stream",
     "text": [
      "<class 'pandas.core.frame.DataFrame'>\n",
      "Int64Index: 333036 entries, 0 to 354368\n",
      "Data columns (total 12 columns):\n",
      " #   Column             Non-Null Count   Dtype \n",
      "---  ------             --------------   ----- \n",
      " 0   Price              333036 non-null  int64 \n",
      " 1   VehicleType        333036 non-null  object\n",
      " 2   RegistrationYear   333036 non-null  int64 \n",
      " 3   Gearbox            333036 non-null  object\n",
      " 4   Power              333036 non-null  int64 \n",
      " 5   Model              333036 non-null  object\n",
      " 6   Kilometer          333036 non-null  int64 \n",
      " 7   RegistrationMonth  333036 non-null  int64 \n",
      " 8   FuelType           333036 non-null  object\n",
      " 9   Brand              333036 non-null  object\n",
      " 10  Repaired           333036 non-null  object\n",
      " 11  PostalCode         333036 non-null  int64 \n",
      "dtypes: int64(6), object(6)\n",
      "memory usage: 33.0+ MB\n"
     ]
    }
   ],
   "source": [
    "df = df.drop_duplicates()\n",
    "df.info()"
   ]
  },
  {
   "cell_type": "code",
   "execution_count": 11,
   "metadata": {
    "scrolled": true
   },
   "outputs": [
    {
     "name": "stdout",
     "output_type": "stream",
     "text": [
      "               Price  RegistrationYear          Power      Kilometer  \\\n",
      "count  333036.000000     333036.000000  333036.000000  333036.000000   \n",
      "mean     4378.277586       2004.192268     109.753225  128305.678665   \n",
      "std      4502.534823         90.288761     194.288179   37900.007564   \n",
      "min         0.000000       1000.000000       0.000000    5000.000000   \n",
      "25%      1000.000000       1999.000000      68.000000  125000.000000   \n",
      "50%      2699.000000       2003.000000     103.000000  150000.000000   \n",
      "75%      6299.250000       2008.000000     140.000000  150000.000000   \n",
      "max     20000.000000       9999.000000   20000.000000  150000.000000   \n",
      "\n",
      "       RegistrationMonth     PostalCode  \n",
      "count      333036.000000  333036.000000  \n",
      "mean            5.694141   50689.740136  \n",
      "std             3.728757   25804.455970  \n",
      "min             0.000000    1067.000000  \n",
      "25%             3.000000   30179.000000  \n",
      "50%             6.000000   49479.000000  \n",
      "75%             9.000000   71334.000000  \n",
      "max            12.000000   99998.000000  \n"
     ]
    }
   ],
   "source": [
    "print(df.describe())"
   ]
  },
  {
   "cell_type": "code",
   "execution_count": 12,
   "metadata": {},
   "outputs": [
    {
     "data": {
      "text/html": [
       "<style  type=\"text/css\" >\n",
       "</style><table id=\"T_8575f_\" ><thead>    <tr>        <th class=\"blank level0\" ></th>        <th class=\"col_heading level0 col0\" >Price</th>        <th class=\"col_heading level0 col1\" >RegistrationYear</th>        <th class=\"col_heading level0 col2\" >Power</th>        <th class=\"col_heading level0 col3\" >Kilometer</th>        <th class=\"col_heading level0 col4\" >RegistrationMonth</th>        <th class=\"col_heading level0 col5\" >PostalCode</th>    </tr></thead><tbody>\n",
       "                <tr>\n",
       "                        <th id=\"T_8575f_level0_row0\" class=\"row_heading level0 row0\" >0.0012</th>\n",
       "                        <td id=\"T_8575f_row0_col0\" class=\"data row0 col0\" >0.00</td>\n",
       "                        <td id=\"T_8575f_row0_col1\" class=\"data row0 col1\" >1,959.00</td>\n",
       "                        <td id=\"T_8575f_row0_col2\" class=\"data row0 col2\" >0.00</td>\n",
       "                        <td id=\"T_8575f_row0_col3\" class=\"data row0 col3\" >5,000.00</td>\n",
       "                        <td id=\"T_8575f_row0_col4\" class=\"data row0 col4\" >0.00</td>\n",
       "                        <td id=\"T_8575f_row0_col5\" class=\"data row0 col5\" >1,139.00</td>\n",
       "            </tr>\n",
       "            <tr>\n",
       "                        <th id=\"T_8575f_level0_row1\" class=\"row_heading level0 row1\" >0.01</th>\n",
       "                        <td id=\"T_8575f_row1_col0\" class=\"data row1 col0\" >0.00</td>\n",
       "                        <td id=\"T_8575f_row1_col1\" class=\"data row1 col1\" >1,979.00</td>\n",
       "                        <td id=\"T_8575f_row1_col2\" class=\"data row1 col2\" >0.00</td>\n",
       "                        <td id=\"T_8575f_row1_col3\" class=\"data row1 col3\" >5,000.00</td>\n",
       "                        <td id=\"T_8575f_row1_col4\" class=\"data row1 col4\" >0.00</td>\n",
       "                        <td id=\"T_8575f_row1_col5\" class=\"data row1 col5\" >2,681.00</td>\n",
       "            </tr>\n",
       "            <tr>\n",
       "                        <th id=\"T_8575f_level0_row2\" class=\"row_heading level0 row2\" >0.5</th>\n",
       "                        <td id=\"T_8575f_row2_col0\" class=\"data row2 col0\" >2,699.00</td>\n",
       "                        <td id=\"T_8575f_row2_col1\" class=\"data row2 col1\" >2,003.00</td>\n",
       "                        <td id=\"T_8575f_row2_col2\" class=\"data row2 col2\" >103.00</td>\n",
       "                        <td id=\"T_8575f_row2_col3\" class=\"data row2 col3\" >150,000.00</td>\n",
       "                        <td id=\"T_8575f_row2_col4\" class=\"data row2 col4\" >6.00</td>\n",
       "                        <td id=\"T_8575f_row2_col5\" class=\"data row2 col5\" >49,479.00</td>\n",
       "            </tr>\n",
       "            <tr>\n",
       "                        <th id=\"T_8575f_level0_row3\" class=\"row_heading level0 row3\" >0.99</th>\n",
       "                        <td id=\"T_8575f_row3_col0\" class=\"data row3 col0\" >18,800.00</td>\n",
       "                        <td id=\"T_8575f_row3_col1\" class=\"data row3 col1\" >2,018.00</td>\n",
       "                        <td id=\"T_8575f_row3_col2\" class=\"data row3 col2\" >300.00</td>\n",
       "                        <td id=\"T_8575f_row3_col3\" class=\"data row3 col3\" >150,000.00</td>\n",
       "                        <td id=\"T_8575f_row3_col4\" class=\"data row3 col4\" >12.00</td>\n",
       "                        <td id=\"T_8575f_row3_col5\" class=\"data row3 col5\" >98,617.00</td>\n",
       "            </tr>\n",
       "            <tr>\n",
       "                        <th id=\"T_8575f_level0_row4\" class=\"row_heading level0 row4\" >0.9988</th>\n",
       "                        <td id=\"T_8575f_row4_col0\" class=\"data row4 col0\" >19,999.00</td>\n",
       "                        <td id=\"T_8575f_row4_col1\" class=\"data row4 col1\" >2,018.00</td>\n",
       "                        <td id=\"T_8575f_row4_col2\" class=\"data row4 col2\" >564.30</td>\n",
       "                        <td id=\"T_8575f_row4_col3\" class=\"data row4 col3\" >150,000.00</td>\n",
       "                        <td id=\"T_8575f_row4_col4\" class=\"data row4 col4\" >12.00</td>\n",
       "                        <td id=\"T_8575f_row4_col5\" class=\"data row4 col5\" >99,885.00</td>\n",
       "            </tr>\n",
       "    </tbody></table>"
      ],
      "text/plain": [
       "<pandas.io.formats.style.Styler at 0x7faca1028310>"
      ]
     },
     "execution_count": 12,
     "metadata": {},
     "output_type": "execute_result"
    }
   ],
   "source": [
    "(\n",
    "    df[df.select_dtypes(include=['number']).columns.tolist()]\n",
    "    .quantile([0.0012, 0.01, .5, .99, .9988]) # выбираем размах в 0,9976 квантилей \n",
    "    .style.format(\"{:,.2f}\")\n",
    ")"
   ]
  },
  {
   "cell_type": "code",
   "execution_count": 13,
   "metadata": {},
   "outputs": [
    {
     "data": {
      "image/png": "[encoded data removed]",
      "text/plain": [
       "<Figure size 1080x360 with 1 Axes>"
      ]
     },
     "metadata": {
      "needs_background": "light"
     },
     "output_type": "display_data"
    }
   ],
   "source": [
    "df['Price'].hist(bins=30, figsize=(15,5))\n",
    "df = df.drop(df[(df['Price'] < 100)].index)\n",
    "plt.title('Гистограмма Price')\n",
    "plt.xlabel('Price')\n",
    "plt.ylabel('Частота')\n",
    "plt.show()"
   ]
  },
  {
   "cell_type": "code",
   "execution_count": 14,
   "metadata": {},
   "outputs": [
    {
     "data": {
      "image/png": "[encoded data removed]",
      "text/plain": [
       "<Figure size 1080x360 with 1 Axes>"
      ]
     },
     "metadata": {
      "needs_background": "light"
     },
     "output_type": "display_data"
    }
   ],
   "source": [
    "df = df.drop(df[(df['RegistrationYear'] > 2016)].index)\n",
    "df = df.drop(df[(df['RegistrationYear'] < 1960)].index)\n",
    "df['RegistrationYear'].hist(bins=30, figsize=(15,5))\n",
    "plt.title('Гистограмма RegistrationYear')\n",
    "plt.xlabel('Price')\n",
    "plt.ylabel('Частота')\n",
    "plt.show()"
   ]
  },
  {
   "cell_type": "code",
   "execution_count": 15,
   "metadata": {},
   "outputs": [
    {
     "data": {
      "image/png": "[encoded data removed]",
      "text/plain": [
       "<Figure size 1080x360 with 1 Axes>"
      ]
     },
     "metadata": {
      "needs_background": "light"
     },
     "output_type": "display_data"
    }
   ],
   "source": [
    "df = df.drop(df[(df['Power'] > 520)].index)\n",
    "df = df.drop(df[(df['Power'] < 1)].index)\n",
    "df['Power'].hist(bins=30, figsize=(15,5))\n",
    "plt.title('Гистограмма Power')\n",
    "plt.xlabel('Power')\n",
    "plt.ylabel('Частота')\n",
    "plt.show()"
   ]
  },
  {
   "cell_type": "code",
   "execution_count": 16,
   "metadata": {},
   "outputs": [
    {
     "data": {
      "image/png": "[encoded data removed]",
      "text/plain": [
       "<Figure size 1080x360 with 1 Axes>"
      ]
     },
     "metadata": {
      "needs_background": "light"
     },
     "output_type": "display_data"
    }
   ],
   "source": [
    "df['Kilometer'].hist(bins=30, figsize=(15,5))\n",
    "plt.title('Гистограмма Kilometer')\n",
    "plt.xlabel('Kilometer')\n",
    "plt.ylabel('Частота')\n",
    "plt.show()"
   ]
  },
  {
   "cell_type": "code",
   "execution_count": 17,
   "metadata": {},
   "outputs": [
    {
     "data": {
      "image/png": "[encoded data removed]",
      "text/plain": [
       "<Figure size 1080x360 with 1 Axes>"
      ]
     },
     "metadata": {
      "needs_background": "light"
     },
     "output_type": "display_data"
    }
   ],
   "source": [
    "df = df.drop(df[(df['RegistrationMonth'] < 1)].index)\n",
    "plt.figure(figsize=(15, 5))\n",
    "sns.countplot(data=df, x='RegistrationMonth')\n",
    "plt.title('Гистограмма RegistrationMonth')\n",
    "plt.xlabel('RegistrationMonth')\n",
    "plt.ylabel('Частота')\n",
    "plt.show()"
   ]
  },
  {
   "cell_type": "code",
   "execution_count": 18,
   "metadata": {},
   "outputs": [
    {
     "data": {
      "text/plain": [
       "259484"
      ]
     },
     "execution_count": 18,
     "metadata": {},
     "output_type": "execute_result"
    }
   ],
   "source": [
    "df.shape[0]"
   ]
  },
  {
   "cell_type": "code",
   "execution_count": 19,
   "metadata": {},
   "outputs": [
    {
     "name": "stdout",
     "output_type": "stream",
     "text": [
      "<class 'pandas.core.frame.DataFrame'>\n",
      "Int64Index: 259484 entries, 1 to 354368\n",
      "Data columns (total 12 columns):\n",
      " #   Column             Non-Null Count   Dtype \n",
      "---  ------             --------------   ----- \n",
      " 0   Price              259484 non-null  int64 \n",
      " 1   VehicleType        259484 non-null  object\n",
      " 2   RegistrationYear   259484 non-null  int64 \n",
      " 3   Gearbox            259484 non-null  object\n",
      " 4   Power              259484 non-null  int64 \n",
      " 5   Model              259484 non-null  object\n",
      " 6   Kilometer          259484 non-null  int64 \n",
      " 7   RegistrationMonth  259484 non-null  int64 \n",
      " 8   FuelType           259484 non-null  object\n",
      " 9   Brand              259484 non-null  object\n",
      " 10  Repaired           259484 non-null  object\n",
      " 11  PostalCode         259484 non-null  int64 \n",
      "dtypes: int64(6), object(6)\n",
      "memory usage: 33.8+ MB\n"
     ]
    }
   ],
   "source": [
    "df.info()"
   ]
  },
  {
   "cell_type": "markdown",
   "metadata": {},
   "source": [
    "Вывод\n",
    "1. Загрузка и первичное изучение данных\n",
    "\n",
    "Данные были загружены из файла /datasets/autos.csv.\n",
    "Первоначальный анализ показал, что датафрейм содержит 354,369 записей и 16 столбцов.\n",
    "\n",
    "2. Удаление неинформативных признаков\n",
    "\n",
    "Столбцы DateCrawled, DateCreated, LastSeen и NumberOfPictures были удалены, поскольку они не влияют на стоимость автомобиля и не несут полезной информации для модели. Удаление этих признаков также помогает снизить размер данных и улучшить производительность модели.\n",
    "\n",
    "3. Обработка пропущенных значений\n",
    "\n",
    "Признаки с пропущенными значениями были заполнены следующим образом:\n",
    "VehicleType, Gearbox, FuelType, Repaired, Model: заполнены значением 'Unknown', чтобы сохранить строки данных и указать, что информация отсутствует.\n",
    "\n",
    "4. Обнаружение и удаление дубликатов\n",
    "   \n",
    "Были обнаружены и удалены 21,333 дубликатов, что сократило количество записей до 333,036.\n",
    "\n",
    "5. Анализ и обработка выбросов\n",
    "    \n",
    "Для определения выбросов были построены гистограммы для количественных признаков:\n",
    "Price: удалены значения меньше 100 евро, так как это явно аномальные данные.\n",
    "RegistrationYear: удалены автомобили, зарегистрированные до 1960 года и после 2016 года.\n",
    "Power: удалены значения меньше 1 и больше 520 л.с.\n",
    "Kilometer: все значения, включая выбросы, были оставлены, так как пробег до 150,000 км для большинства автомобилей выглядит разумным.\n",
    "RegistrationMonth: удалены записи с месяцем регистрации 0 (некорректные данные).\n",
    "\n",
    "6. Финальная очистка данных\n",
    "    \n",
    "После всех операций в датафрейме осталось 259,484 записи и 12 признаков, которые будут использоваться для обучения моделей.\n"
   ]
  },
  {
   "cell_type": "markdown",
   "metadata": {},
   "source": [
    "## Обучение моделей"
   ]
  },
  {
   "cell_type": "code",
   "execution_count": 20,
   "metadata": {},
   "outputs": [
    {
     "data": {
      "text/html": [
       "<div>\n",
       "<style scoped>\n",
       "    .dataframe tbody tr th:only-of-type {\n",
       "        vertical-align: middle;\n",
       "    }\n",
       "\n",
       "    .dataframe tbody tr th {\n",
       "        vertical-align: top;\n",
       "    }\n",
       "\n",
       "    .dataframe thead th {\n",
       "        text-align: right;\n",
       "    }\n",
       "</style>\n",
       "<table border=\"1\" class=\"dataframe\">\n",
       "  <thead>\n",
       "    <tr style=\"text-align: right;\">\n",
       "      <th></th>\n",
       "      <th>VehicleType</th>\n",
       "      <th>RegistrationYear</th>\n",
       "      <th>Gearbox</th>\n",
       "      <th>Power</th>\n",
       "      <th>Model</th>\n",
       "      <th>Kilometer</th>\n",
       "      <th>RegistrationMonth</th>\n",
       "      <th>FuelType</th>\n",
       "      <th>Brand</th>\n",
       "      <th>Repaired</th>\n",
       "      <th>PostalCode</th>\n",
       "    </tr>\n",
       "  </thead>\n",
       "  <tbody>\n",
       "    <tr>\n",
       "      <th>100063</th>\n",
       "      <td>wagon</td>\n",
       "      <td>1998</td>\n",
       "      <td>manual</td>\n",
       "      <td>98</td>\n",
       "      <td>laguna</td>\n",
       "      <td>150000</td>\n",
       "      <td>12</td>\n",
       "      <td>Unknown</td>\n",
       "      <td>renault</td>\n",
       "      <td>Unknown</td>\n",
       "      <td>26219</td>\n",
       "    </tr>\n",
       "    <tr>\n",
       "      <th>139305</th>\n",
       "      <td>small</td>\n",
       "      <td>2001</td>\n",
       "      <td>manual</td>\n",
       "      <td>75</td>\n",
       "      <td>fiesta</td>\n",
       "      <td>125000</td>\n",
       "      <td>3</td>\n",
       "      <td>petrol</td>\n",
       "      <td>ford</td>\n",
       "      <td>no</td>\n",
       "      <td>63589</td>\n",
       "    </tr>\n",
       "    <tr>\n",
       "      <th>138168</th>\n",
       "      <td>small</td>\n",
       "      <td>2008</td>\n",
       "      <td>manual</td>\n",
       "      <td>56</td>\n",
       "      <td>corsa</td>\n",
       "      <td>90000</td>\n",
       "      <td>9</td>\n",
       "      <td>petrol</td>\n",
       "      <td>opel</td>\n",
       "      <td>Unknown</td>\n",
       "      <td>63679</td>\n",
       "    </tr>\n",
       "    <tr>\n",
       "      <th>197182</th>\n",
       "      <td>sedan</td>\n",
       "      <td>1997</td>\n",
       "      <td>manual</td>\n",
       "      <td>75</td>\n",
       "      <td>golf</td>\n",
       "      <td>150000</td>\n",
       "      <td>11</td>\n",
       "      <td>petrol</td>\n",
       "      <td>volkswagen</td>\n",
       "      <td>no</td>\n",
       "      <td>51515</td>\n",
       "    </tr>\n",
       "    <tr>\n",
       "      <th>69942</th>\n",
       "      <td>small</td>\n",
       "      <td>2004</td>\n",
       "      <td>manual</td>\n",
       "      <td>85</td>\n",
       "      <td>meriva</td>\n",
       "      <td>60000</td>\n",
       "      <td>12</td>\n",
       "      <td>petrol</td>\n",
       "      <td>opel</td>\n",
       "      <td>no</td>\n",
       "      <td>59494</td>\n",
       "    </tr>\n",
       "  </tbody>\n",
       "</table>\n",
       "</div>"
      ],
      "text/plain": [
       "       VehicleType  RegistrationYear Gearbox  Power   Model  Kilometer  \\\n",
       "100063       wagon              1998  manual     98  laguna     150000   \n",
       "139305       small              2001  manual     75  fiesta     125000   \n",
       "138168       small              2008  manual     56   corsa      90000   \n",
       "197182       sedan              1997  manual     75    golf     150000   \n",
       "69942        small              2004  manual     85  meriva      60000   \n",
       "\n",
       "        RegistrationMonth FuelType       Brand Repaired  PostalCode  \n",
       "100063                 12  Unknown     renault  Unknown       26219  \n",
       "139305                  3   petrol        ford       no       63589  \n",
       "138168                  9   petrol        opel  Unknown       63679  \n",
       "197182                 11   petrol  volkswagen       no       51515  \n",
       "69942                  12   petrol        opel       no       59494  "
      ]
     },
     "execution_count": 20,
     "metadata": {},
     "output_type": "execute_result"
    }
   ],
   "source": [
    "RANDOM_STATE = 42\n",
    "TEST_SIZE = 0.25\n",
    "features = df.drop(['Price'], axis=1)\n",
    "target = df['Price']\n",
    "X_train, X_test, y_train, y_test = train_test_split(\n",
    "    features, target, test_size=0.25, random_state=RANDOM_STATE\n",
    ")\n",
    "X_train.head()"
   ]
  },
  {
   "cell_type": "code",
   "execution_count": 21,
   "metadata": {},
   "outputs": [
    {
     "name": "stdout",
     "output_type": "stream",
     "text": [
      "['VehicleType', 'Gearbox', 'Model', 'FuelType', 'Brand', 'Repaired']\n",
      "['RegistrationYear', 'Power', 'Kilometer', 'RegistrationMonth', 'PostalCode']\n"
     ]
    }
   ],
   "source": [
    "cat_features= X_train.select_dtypes(include='object').columns.to_list()\n",
    "print(cat_features)\n",
    "num_features = X_train.select_dtypes(exclude='object').columns.to_list()\n",
    "print(num_features)"
   ]
  },
  {
   "cell_type": "code",
   "execution_count": 22,
   "metadata": {},
   "outputs": [],
   "source": [
    "col_transformer = ColumnTransformer(\n",
    "    transformers=[\n",
    "        (\n",
    "            'ohe',\n",
    "            OrdinalEncoder(handle_unknown='use_encoded_value', unknown_value=-1),\n",
    "            cat_features\n",
    "        )\n",
    "    ],\n",
    "    remainder='passthrough'\n",
    ")\n",
    "\n",
    "cat_feature_names = cat_features\n",
    "feature_names = np.concatenate([cat_features, num_features])"
   ]
  },
  {
   "cell_type": "code",
   "execution_count": null,
   "metadata": {
    "scrolled": true
   },
   "outputs": [],
   "source": [
    "model_xgb = XGBRegressor(random_state=RANDOM_STATE)\n",
    "pipeline_xgb = make_pipeline(col_transformer, model_xgb)\n",
    "\n",
    "param_dist_xgb = {\n",
    "    'xgbregressor__n_estimators': range(50, 251, 50),\n",
    "    'xgbregressor__max_depth': range(2, 15),\n",
    "    'xgbregressor__learning_rate': [0.01, 0.05, 0.1, 0.2],\n",
    "    'xgbregressor__subsample': [0.6, 0.8, 1.0],\n",
    "    'xgbregressor__colsample_bytree': [0.6, 0.8, 1.0],\n",
    "    'xgbregressor__min_child_weight': [1, 3, 5]\n",
    "}\n",
    "\n",
    "gs_xgb = RandomizedSearchCV(\n",
    "    pipeline_xgb,\n",
    "    param_distributions=param_dist_xgb,\n",
    "    scoring='neg_root_mean_squared_error',\n",
    "    n_jobs=-1,\n",
    "    random_state=RANDOM_STATE,\n",
    "    n_iter=50\n",
    ")\n",
    "\n",
    "# Подбор гиперпараметров\n",
    "gs_xgb.fit(X_train, y_train)\n",
    "\n",
    "gs_xgb_best_score = -gs_xgb.best_score_\n",
    "gs_xgb_best_params = gs_xgb.best_params_\n",
    "\n",
    "# Время обучения модели с лучшими параметрами\n",
    "training_time_xgb = gs_xgb.refit_time_\n",
    "\n",
    "start_predict_time = time.time()\n",
    "y_pred_xgb = gs_xgb.predict(X_test)\n",
    "end_predict_time = time.time()\n",
    "prediction_time_xgb = end_predict_time - start_predict_time\n",
    "\n",
    "print(f'Best score: {gs_xgb_best_score}')\n",
    "print(f'Best parameters: {gs_xgb_best_params}')\n",
    "print(f'Training time: {training_time_xgb:.2f} seconds')\n",
    "print(f'Prediction time: {prediction_time_xgb:.2f} seconds')"
   ]
  },
  {
   "cell_type": "code",
   "execution_count": null,
   "metadata": {
    "scrolled": true
   },
   "outputs": [],
   "source": [
    "model_lgbm = LGBMRegressor(random_state=RANDOM_STATE)\n",
    "pipeline_lgbm = make_pipeline(col_transformer, model_lgbm)\n",
    "\n",
    "param_grid_lgbm = {\n",
    "    'lgbmregressor__n_estimators': range(50, 251, 50),\n",
    "    'lgbmregressor__max_depth': range(2, 15),\n",
    "    'lgbmregressor__learning_rate': [0.01, 0.05, 0.1, 0.2],\n",
    "    'lgbmregressor__subsample': [0.6, 0.8, 1.0],\n",
    "    'lgbmregressor__colsample_bytree': [0.6, 0.8, 1.0],\n",
    "    'lgbmregressor__min_child_weight': [1, 3, 5]\n",
    "}\n",
    "\n",
    "gs_lgbm = RandomizedSearchCV(\n",
    "    pipeline_lgbm,\n",
    "    param_distributions=param_grid_lgbm,\n",
    "    scoring='neg_root_mean_squared_error',\n",
    "    n_jobs=-1,\n",
    "    random_state=RANDOM_STATE,\n",
    "    n_iter=50\n",
    ")\n",
    "\n",
    "# Подбор гиперпараметров\n",
    "gs_lgbm.fit(X_train, y_train)\n",
    "\n",
    "gs_lgbm_best_score = -gs_lgbm.best_score_\n",
    "gs_lgbm_best_params = gs_lgbm.best_params_\n",
    "\n",
    "# Время обучения модели с лучшими параметрами\n",
    "training_time_lgbm = gs_lgbm.refit_time_\n",
    "\n",
    "start_predict_time = time.time()\n",
    "y_pred_lgbm = gs_lgbm.predict(X_test)\n",
    "end_predict_time = time.time()\n",
    "prediction_time_lgbm = end_predict_time - start_predict_time\n",
    "\n",
    "print(f'Best score: {gs_lgbm_best_score}')\n",
    "print(f'Best parameters: {gs_lgbm_best_params}')\n",
    "print(f'Training time: {training_time_lgbm:.2f} seconds')\n",
    "print(f'Prediction time: {prediction_time_lgbm:.2f} seconds')"
   ]
  },
  {
   "cell_type": "markdown",
   "metadata": {},
   "source": [
    "    Best score: 1600.4337135455007\n",
    "    Best parameters: {'lgbmregressor__subsample': 0.8, 'lgbmregressor__n_estimators': 200, 'lgbmregressor__min_child_weight': 1, 'lgbmregressor__max_depth': 12, 'lgbmregressor__learning_rate': 0.2, 'lgbmregressor__colsample_bytree': 0.8}\n",
    "    Training time: 1.55 seconds\n",
    "    Prediction time: 0.23 seconds"
   ]
  },
  {
   "cell_type": "code",
   "execution_count": null,
   "metadata": {
    "scrolled": true
   },
   "outputs": [],
   "source": [
    "model_rf = RandomForestRegressor(random_state=RANDOM_STATE)\n",
    "pipeline_rf = make_pipeline(col_transformer, model_rf)\n",
    "\n",
    "param_grid_rf = {\n",
    "    'randomforestregressor__n_estimators': range(50, 251, 50),\n",
    "    'randomforestregressor__max_depth': range(2, 15),\n",
    "    'randomforestregressor__min_samples_split': [2, 5, 10],\n",
    "    'randomforestregressor__min_samples_leaf': [1, 2, 4],\n",
    "    'randomforestregressor__max_features': ['auto', 'sqrt', 'log2']\n",
    "}\n",
    "\n",
    "random_search_rf = RandomizedSearchCV(\n",
    "    pipeline_rf,\n",
    "    param_distributions=param_grid_rf,\n",
    "    scoring='neg_root_mean_squared_error',\n",
    "    n_jobs=-1,\n",
    "    random_state=RANDOM_STATE,\n",
    "    n_iter=50\n",
    ")\n",
    "\n",
    "# Подбор гиперпараметров\n",
    "random_search_rf.fit(X_train, y_train)\n",
    "\n",
    "random_search_rf_best_score = -random_search_rf.best_score_\n",
    "random_search_rf_best_params = random_search_rf.best_params_\n",
    "\n",
    "# Время обучения модели с лучшими параметрами\n",
    "training_time_rf = random_search_rf.refit_time_\n",
    "\n",
    "start_predict_time = time.time()\n",
    "y_pred_rf = random_search_rf.predict(X_test)\n",
    "end_predict_time = time.time()\n",
    "prediction_time_rf = end_predict_time - start_predict_time\n",
    "\n",
    "print(f'Best score: {random_search_rf_best_score}')\n",
    "print(f'Best parameters: {random_search_rf_best_params}')\n",
    "print(f'Training time: {training_time_rf:.2f} seconds')\n",
    "print(f'Prediction time: {prediction_time_rf:.2f} seconds')"
   ]
  },
  {
   "cell_type": "markdown",
   "metadata": {},
   "source": [
    "    Best score: 1690.825401308352\n",
    "    Best parameters: {'randomforestregressor__n_estimators': 200, 'randomforestregressor__min_samples_split': 2, 'randomforestregressor__min_samples_leaf': 4, 'randomforestregressor__max_features': 'log2', 'randomforestregressor__max_depth': 14}\n",
    "    Training time: 24.03 seconds\n",
    "    Prediction time: 1.20 seconds"
   ]
  },
  {
   "cell_type": "markdown",
   "metadata": {},
   "source": [
    "</font><br><font color='purple'><b>Пожалуйста, не учитывайте эту часть</b></font>"
   ]
  },
  {
   "cell_type": "code",
   "execution_count": null,
   "metadata": {},
   "outputs": [],
   "source": [
    "RANDOM_STATE = 42\n",
    "TEST_SIZE = 0.25\n",
    "X = df.drop(['Price'], axis=1)\n",
    "y = df['Price']\n",
    "X_train, X_test, y_train, y_test = train_test_split(\n",
    "    X, y, test_size=0.25, random_state=RANDOM_STATE\n",
    ")"
   ]
  },
  {
   "cell_type": "code",
   "execution_count": null,
   "metadata": {},
   "outputs": [],
   "source": [
    "num_columns = ['RegistrationYear', 'Power', 'Kilometer']\n",
    "ohe_columns = ['VehicleType', 'Gearbox', 'Model', 'FuelType', 'Brand']\n",
    "ord_columns = ['Repaired']"
   ]
  },
  {
   "cell_type": "code",
   "execution_count": null,
   "metadata": {},
   "outputs": [],
   "source": [
    "ohe_pipe = Pipeline([\n",
    "    ('simpleImputer_ohe', SimpleImputer(missing_values=np.nan, strategy='most_frequent')),\n",
    "    ('ohe', OneHotEncoder(drop='first', handle_unknown='ignore', sparse=False))\n",
    "])"
   ]
  },
  {
   "cell_type": "code",
   "execution_count": null,
   "metadata": {},
   "outputs": [],
   "source": [
    "ord_pipe = Pipeline(\n",
    "    [\n",
    "        (\n",
    "            'simpleImputer_before_ord', \n",
    "            SimpleImputer(missing_values=np.nan, strategy='most_frequent')\n",
    "        ),\n",
    "        (\n",
    "            'ord',\n",
    "            OrdinalEncoder(\n",
    "                categories=[\n",
    "                    ['no', 'yes']\n",
    "                ], \n",
    "                handle_unknown='use_encoded_value',\n",
    "                unknown_value=np.nan\n",
    "            )\n",
    "        ),\n",
    "        (\n",
    "            'simpleImputer_after_ord', \n",
    "            SimpleImputer(missing_values=np.nan, strategy='most_frequent')\n",
    "        )\n",
    "    ]\n",
    ")"
   ]
  },
  {
   "cell_type": "code",
   "execution_count": null,
   "metadata": {},
   "outputs": [],
   "source": [
    "num_pipe = Pipeline(\n",
    "        [\n",
    "            ('simpleImputer_num', SimpleImputer(missing_values=np.nan, strategy='mean')),\n",
    "            ('num', RobustScaler())\n",
    "        ]\n",
    ")"
   ]
  },
  {
   "cell_type": "code",
   "execution_count": null,
   "metadata": {},
   "outputs": [],
   "source": [
    "data_preprocessor = ColumnTransformer(\n",
    "    [\n",
    "        ('ohe', ohe_pipe, ohe_columns),\n",
    "        ('ord', ord_pipe, ord_columns),\n",
    "        ('num', num_pipe, num_columns)\n",
    "    ], \n",
    "    remainder='passthrough'\n",
    ")"
   ]
  },
  {
   "cell_type": "code",
   "execution_count": null,
   "metadata": {
    "scrolled": true
   },
   "outputs": [],
   "source": [
    "data_preprocessor"
   ]
  },
  {
   "cell_type": "code",
   "execution_count": null,
   "metadata": {},
   "outputs": [],
   "source": [
    "pipe_final = Pipeline([\n",
    "    ('preprocessor', data_preprocessor),\n",
    "    ('models', LinearRegression())\n",
    "])"
   ]
  },
  {
   "cell_type": "code",
   "execution_count": null,
   "metadata": {},
   "outputs": [],
   "source": [
    "param_grid = [\n",
    "    \n",
    "    {\n",
    "        'models': [LinearRegression()],\n",
    "        'preprocessor__num': [StandardScaler(), RobustScaler(), 'passthrough'],\n",
    "        'preprocessor__ohe': [OneHotEncoder()] \n",
    "    },\n",
    "\n",
    "    {\n",
    "        'models': [XGBRegressor(random_state=RANDOM_STATE)],\n",
    "        'models__n_estimators': [100, 200, 300],\n",
    "        'models__learning_rate': [0.05, 0.1, 0.2],\n",
    "        'models__max_depth': [3, 4, 5],\n",
    "        'models__min_child_weight': [1, 3, 5],\n",
    "        'preprocessor__num': [StandardScaler(), MinMaxScaler(), 'passthrough'],\n",
    "    },\n",
    "\n",
    "    {\n",
    "        'models': [LGBMRegressor(random_state=RANDOM_STATE)],\n",
    "        'models__n_estimators': [50, 100],\n",
    "        'models__max_depth': [5, 10],\n",
    "        'models__learning_rate': [0.01, 0.1],\n",
    "        'models__num_leaves': [20, 31],\n",
    "        'preprocessor__num': [StandardScaler(), MinMaxScaler(), 'passthrough'],\n",
    "    }\n",
    "]"
   ]
  },
  {
   "cell_type": "code",
   "execution_count": null,
   "metadata": {
    "scrolled": true
   },
   "outputs": [],
   "source": [
    "randomized_search = RandomizedSearchCV(\n",
    "    pipe_final, \n",
    "    param_grid, \n",
    "    scoring='neg_root_mean_squared_error', \n",
    "    cv=5, \n",
    "    n_jobs=1\n",
    ")\n",
    "\n",
    "randomized_search.fit(X_train, y_train)"
   ]
  },
  {
   "cell_type": "code",
   "execution_count": null,
   "metadata": {
    "scrolled": true
   },
   "outputs": [],
   "source": [
    "results = randomized_search.cv_results_\n",
    "for idx, params in enumerate(results['params']):\n",
    "    print(f\"Model {idx + 1}\")\n",
    "    print(f\"Best parameters: {params}\")\n",
    "    print(f\"Mean RMSE: {-results['mean_test_score'][idx]:.4f}\")  # Output RMSE\n",
    "    print(f\"Mean Training Time: {results['mean_fit_time'][idx]:.4f} seconds\")\n",
    "    print(f\"Mean Prediction Time: {results['mean_score_time'][idx]:.4f} seconds\")\n",
    "    print(\"--------------------\")"
   ]
  },
  {
   "cell_type": "markdown",
   "metadata": {},
   "source": [
    "## Анализ моделей"
   ]
  },
  {
   "cell_type": "code",
   "execution_count": null,
   "metadata": {},
   "outputs": [],
   "source": [
    "best_params = {\n",
    "    'xgbregressor__subsample': 0.8,\n",
    "    'xgbregressor__n_estimators': 200,\n",
    "    'xgbregressor__min_child_weight': 1,\n",
    "    'xgbregressor__max_depth': 12,\n",
    "    'xgbregressor__learning_rate': 0.05,\n",
    "    'xgbregressor__colsample_bytree': 0.8\n",
    "}\n",
    "\n",
    "best_xgb_model = XGBRegressor(**best_params, random_state=RANDOM_STATE)\n",
    "pipeline_best_xgb = make_pipeline(col_transformer, best_xgb_model)\n",
    "pipeline_best_xgb.fit(X_train, y_train)\n",
    "\n",
    "y_pred_test = pipeline_best_xgb.predict(X_test)\n",
    "rmse_test = np.sqrt(mean_squared_error(y_test, y_pred_test))\n",
    "\n",
    "print(f'RMSE на тестовой выборке: {rmse_test:.2f}')"
   ]
  },
  {
   "cell_type": "markdown",
   "metadata": {},
   "source": [
    "<font color='blue'><b>Комментарий ревьюера 2: </b></font> ✔️\\\n",
    "<font color='green'> Супер! Переобучения не выявленно! </font>"
   ]
  },
  {
   "cell_type": "markdown",
   "metadata": {},
   "source": [
    "### XGBoost\n",
    "\n",
    "Модель XGBoost продемонстрировала следующие характеристики:\n",
    "\n",
    "- **Лучшие гиперпараметры:**\n",
    "  - `n_estimators`: 200\n",
    "  - `max_depth`: 12\n",
    "  - `learning_rate`: 0.05\n",
    "  - `subsample`: 0.8\n",
    "  - `colsample_bytree`: 0.8\n",
    "  - `min_child_weight`: 1\n",
    "\n",
    "- **Результаты:**\n",
    "  - **RMSE на валидационной выборке:** 1528.05\n",
    "  - **Время обучения:** 4.51 секунд\n",
    "  - **Время предсказания:** 0.23 секунды\n",
    "\n",
    "Модель XGBoost показала наилучший результат по метрике RMSE среди всех рассмотренных моделей. Это говорит о том, что она лучше всего предсказывает цену на основе имеющихся данных. Время обучения и предсказания также оказались вполне разумными, что делает эту модель подходящей для использования в практических задачах.\n",
    "\n",
    "### LightGBM\n",
    "\n",
    "Модель LightGBM, хотя и несколько уступила XGBoost по точности, все равно показала хорошие результаты:\n",
    "\n",
    "- **Лучшие гиперпараметры:**\n",
    "  - `n_estimators`: 200\n",
    "  - `max_depth`: 12\n",
    "  - `learning_rate`: 0.2\n",
    "  - `subsample`: 0.8\n",
    "  - `colsample_bytree`: 0.8\n",
    "  - `min_child_weight`: 1\n",
    "\n",
    "- **Результаты:**\n",
    "  - **RMSE на валидационной выборке:** 1600.43\n",
    "  - **Время обучения:** 1.55 секунды\n",
    "  - **Время предсказания:** 0.23 секунды\n",
    "\n",
    "LightGBM также показал хорошие результаты и быстрое время обучения, что делает его эффективным выбором для задач регрессии.\n",
    "\n",
    "### Random Forest\n",
    "\n",
    "Модель Random Forest показала немного более высокий RMSE и значительно большее время обучения по сравнению с моделями градиентного бустинга:\n",
    "\n",
    "- **Лучшие гиперпараметры:**\n",
    "  - `n_estimators`: 200\n",
    "  - `max_depth`: 14\n",
    "  - `min_samples_split`: 2\n",
    "  - `min_samples_leaf`: 4\n",
    "  - `max_features`: 'log2'\n",
    "\n",
    "- **Результаты:**\n",
    "  - **RMSE на валидационной выборке:** 1690.83\n",
    "  - **Время обучения:** 24.03 секунды\n",
    "  - **Время предсказания:** 1.20 секунды\n",
    "\n",
    "Время обучения Random Forest значительно превысило время, затраченное на обучение моделей градиентного бустинга. Это может быть критичным фактором при выборе модели для реального применения, особенно при больших объемах данных.\n",
    "\n",
    "### Выводы\n",
    "\n",
    "Модели градиентного бустинга (XGBoost и LightGBM) показали себя значительно лучше по сравнению с Random Forest в данной задаче регрессии. XGBoost достиг наилучшего RMSE и показал хорошее время обучения и предсказания, что делает его предпочтительным выбором. LightGBM также является хорошим вариантом с немного более высоким RMSE, но быстрым временем работы."
   ]
  }
 ],
 "metadata": {
  "ExecuteTimeLog": [
   {
    "duration": 56,
    "start_time": "2024-07-03T14:05:44.231Z"
   },
   {
    "duration": 11601,
    "start_time": "2024-07-03T14:05:51.536Z"
   },
   {
    "duration": 1927,
    "start_time": "2024-07-03T14:06:03.140Z"
   },
   {
    "duration": 174,
    "start_time": "2024-07-03T14:06:05.069Z"
   },
   {
    "duration": 0,
    "start_time": "2024-07-03T14:06:05.246Z"
   },
   {
    "duration": 0,
    "start_time": "2024-07-03T14:06:05.247Z"
   },
   {
    "duration": 0,
    "start_time": "2024-07-03T14:06:05.249Z"
   },
   {
    "duration": 0,
    "start_time": "2024-07-03T14:06:05.249Z"
   },
   {
    "duration": 0,
    "start_time": "2024-07-03T14:06:05.250Z"
   },
   {
    "duration": 0,
    "start_time": "2024-07-03T14:06:05.252Z"
   },
   {
    "duration": 0,
    "start_time": "2024-07-03T14:06:05.253Z"
   },
   {
    "duration": 0,
    "start_time": "2024-07-03T14:06:05.254Z"
   },
   {
    "duration": 0,
    "start_time": "2024-07-03T14:06:05.256Z"
   },
   {
    "duration": 0,
    "start_time": "2024-07-03T14:06:05.257Z"
   },
   {
    "duration": 0,
    "start_time": "2024-07-03T14:06:05.258Z"
   },
   {
    "duration": 0,
    "start_time": "2024-07-03T14:06:05.259Z"
   },
   {
    "duration": 0,
    "start_time": "2024-07-03T14:06:05.282Z"
   },
   {
    "duration": 0,
    "start_time": "2024-07-03T14:06:05.283Z"
   },
   {
    "duration": 0,
    "start_time": "2024-07-03T14:06:05.285Z"
   },
   {
    "duration": 0,
    "start_time": "2024-07-03T14:06:05.286Z"
   },
   {
    "duration": 0,
    "start_time": "2024-07-03T14:06:05.287Z"
   },
   {
    "duration": 0,
    "start_time": "2024-07-03T14:06:05.288Z"
   },
   {
    "duration": 0,
    "start_time": "2024-07-03T14:06:05.289Z"
   },
   {
    "duration": 0,
    "start_time": "2024-07-03T14:06:05.290Z"
   },
   {
    "duration": 10383,
    "start_time": "2024-07-03T14:07:26.844Z"
   },
   {
    "duration": 1631,
    "start_time": "2024-07-03T14:07:37.230Z"
   },
   {
    "duration": 154,
    "start_time": "2024-07-03T14:07:38.863Z"
   },
   {
    "duration": 0,
    "start_time": "2024-07-03T14:07:39.019Z"
   },
   {
    "duration": 0,
    "start_time": "2024-07-03T14:07:39.020Z"
   },
   {
    "duration": 0,
    "start_time": "2024-07-03T14:07:39.021Z"
   },
   {
    "duration": 0,
    "start_time": "2024-07-03T14:07:39.022Z"
   },
   {
    "duration": 0,
    "start_time": "2024-07-03T14:07:39.023Z"
   },
   {
    "duration": 0,
    "start_time": "2024-07-03T14:07:39.025Z"
   },
   {
    "duration": 0,
    "start_time": "2024-07-03T14:07:39.025Z"
   },
   {
    "duration": 0,
    "start_time": "2024-07-03T14:07:39.026Z"
   },
   {
    "duration": 0,
    "start_time": "2024-07-03T14:07:39.027Z"
   },
   {
    "duration": 0,
    "start_time": "2024-07-03T14:07:39.028Z"
   },
   {
    "duration": 0,
    "start_time": "2024-07-03T14:07:39.029Z"
   },
   {
    "duration": 0,
    "start_time": "2024-07-03T14:07:39.031Z"
   },
   {
    "duration": 0,
    "start_time": "2024-07-03T14:07:39.032Z"
   },
   {
    "duration": 1,
    "start_time": "2024-07-03T14:07:39.032Z"
   },
   {
    "duration": 0,
    "start_time": "2024-07-03T14:07:39.033Z"
   },
   {
    "duration": 0,
    "start_time": "2024-07-03T14:07:39.034Z"
   },
   {
    "duration": 0,
    "start_time": "2024-07-03T14:07:39.036Z"
   },
   {
    "duration": 0,
    "start_time": "2024-07-03T14:07:39.037Z"
   },
   {
    "duration": 0,
    "start_time": "2024-07-03T14:07:39.038Z"
   },
   {
    "duration": 0,
    "start_time": "2024-07-03T14:07:39.039Z"
   },
   {
    "duration": 0,
    "start_time": "2024-07-03T14:07:39.040Z"
   },
   {
    "duration": 0,
    "start_time": "2024-07-03T14:07:39.041Z"
   },
   {
    "duration": 0,
    "start_time": "2024-07-03T14:07:39.042Z"
   },
   {
    "duration": 0,
    "start_time": "2024-07-03T14:07:39.082Z"
   },
   {
    "duration": 0,
    "start_time": "2024-07-03T14:07:39.083Z"
   },
   {
    "duration": 3017,
    "start_time": "2024-07-03T14:07:50.495Z"
   },
   {
    "duration": 10304,
    "start_time": "2024-07-03T14:08:00.263Z"
   },
   {
    "duration": 1633,
    "start_time": "2024-07-03T14:08:10.570Z"
   },
   {
    "duration": 997,
    "start_time": "2024-07-03T14:08:12.204Z"
   },
   {
    "duration": 10,
    "start_time": "2024-07-03T14:08:13.204Z"
   },
   {
    "duration": 182,
    "start_time": "2024-07-03T14:08:13.217Z"
   },
   {
    "duration": 369,
    "start_time": "2024-07-03T14:08:13.400Z"
   },
   {
    "duration": 174,
    "start_time": "2024-07-03T14:08:13.770Z"
   },
   {
    "duration": 105,
    "start_time": "2024-07-03T14:08:13.947Z"
   },
   {
    "duration": 222,
    "start_time": "2024-07-03T14:08:14.054Z"
   },
   {
    "duration": 200,
    "start_time": "2024-07-03T14:08:14.282Z"
   },
   {
    "duration": 308,
    "start_time": "2024-07-03T14:08:14.483Z"
   },
   {
    "duration": 90,
    "start_time": "2024-07-03T14:08:14.793Z"
   },
   {
    "duration": 98,
    "start_time": "2024-07-03T14:08:14.885Z"
   },
   {
    "duration": 280,
    "start_time": "2024-07-03T14:08:14.984Z"
   },
   {
    "duration": 360,
    "start_time": "2024-07-03T14:08:15.266Z"
   },
   {
    "duration": 273,
    "start_time": "2024-07-03T14:08:15.628Z"
   },
   {
    "duration": 234,
    "start_time": "2024-07-03T14:08:15.903Z"
   },
   {
    "duration": 270,
    "start_time": "2024-07-03T14:08:16.139Z"
   },
   {
    "duration": 5,
    "start_time": "2024-07-03T14:08:16.411Z"
   },
   {
    "duration": 93,
    "start_time": "2024-07-03T14:08:16.418Z"
   },
   {
    "duration": 84,
    "start_time": "2024-07-03T14:08:16.513Z"
   },
   {
    "duration": 26,
    "start_time": "2024-07-03T14:08:16.598Z"
   },
   {
    "duration": 21,
    "start_time": "2024-07-03T14:08:16.626Z"
   },
   {
    "duration": 147,
    "start_time": "2024-07-03T14:08:16.649Z"
   },
   {
    "duration": 0,
    "start_time": "2024-07-03T14:08:16.797Z"
   },
   {
    "duration": 0,
    "start_time": "2024-07-03T14:08:16.798Z"
   },
   {
    "duration": 0,
    "start_time": "2024-07-03T14:08:16.799Z"
   },
   {
    "duration": 0,
    "start_time": "2024-07-03T14:08:16.800Z"
   },
   {
    "duration": 8,
    "start_time": "2024-07-03T14:08:33.401Z"
   },
   {
    "duration": 15,
    "start_time": "2024-07-03T14:08:38.370Z"
   },
   {
    "duration": 11,
    "start_time": "2024-07-03T14:08:38.965Z"
   },
   {
    "duration": 12,
    "start_time": "2024-07-03T14:08:39.667Z"
   },
   {
    "duration": 10,
    "start_time": "2024-07-03T14:08:51.424Z"
   },
   {
    "duration": 11,
    "start_time": "2024-07-03T14:09:34.356Z"
   },
   {
    "duration": 13,
    "start_time": "2024-07-03T14:09:44.572Z"
   },
   {
    "duration": 11,
    "start_time": "2024-07-03T14:09:57.473Z"
   },
   {
    "duration": 36,
    "start_time": "2024-07-03T14:10:14.650Z"
   },
   {
    "duration": 11,
    "start_time": "2024-07-03T14:12:35.396Z"
   },
   {
    "duration": 44,
    "start_time": "2024-07-03T14:12:47.065Z"
   },
   {
    "duration": 33,
    "start_time": "2024-07-03T14:12:55.322Z"
   },
   {
    "duration": 43,
    "start_time": "2024-07-03T14:13:31.585Z"
   },
   {
    "duration": 491,
    "start_time": "2024-07-03T14:13:50.390Z"
   },
   {
    "duration": 31,
    "start_time": "2024-07-03T14:13:59.522Z"
   },
   {
    "duration": 56,
    "start_time": "2024-07-03T15:33:30.734Z"
   },
   {
    "duration": 3,
    "start_time": "2024-07-03T15:33:31.050Z"
   },
   {
    "duration": 9,
    "start_time": "2024-07-03T15:33:31.430Z"
   },
   {
    "duration": 9,
    "start_time": "2024-07-03T15:33:31.814Z"
   },
   {
    "duration": 11781,
    "start_time": "2024-07-03T15:33:37.756Z"
   },
   {
    "duration": 1913,
    "start_time": "2024-07-03T15:33:49.539Z"
   },
   {
    "duration": 1366,
    "start_time": "2024-07-03T15:33:51.454Z"
   },
   {
    "duration": 13,
    "start_time": "2024-07-03T15:33:52.823Z"
   },
   {
    "duration": 191,
    "start_time": "2024-07-03T15:33:52.838Z"
   },
   {
    "duration": 379,
    "start_time": "2024-07-03T15:33:53.031Z"
   },
   {
    "duration": 169,
    "start_time": "2024-07-03T15:33:53.412Z"
   },
   {
    "duration": 106,
    "start_time": "2024-07-03T15:33:53.583Z"
   },
   {
    "duration": 233,
    "start_time": "2024-07-03T15:33:53.691Z"
   },
   {
    "duration": 214,
    "start_time": "2024-07-03T15:33:53.927Z"
   },
   {
    "duration": 398,
    "start_time": "2024-07-03T15:33:54.143Z"
   },
   {
    "duration": 83,
    "start_time": "2024-07-03T15:33:54.542Z"
   },
   {
    "duration": 109,
    "start_time": "2024-07-03T15:33:54.627Z"
   },
   {
    "duration": 368,
    "start_time": "2024-07-03T15:33:54.738Z"
   },
   {
    "duration": 302,
    "start_time": "2024-07-03T15:33:55.108Z"
   },
   {
    "duration": 291,
    "start_time": "2024-07-03T15:33:55.412Z"
   },
   {
    "duration": 286,
    "start_time": "2024-07-03T15:33:55.705Z"
   },
   {
    "duration": 278,
    "start_time": "2024-07-03T15:33:55.993Z"
   },
   {
    "duration": 6,
    "start_time": "2024-07-03T15:33:56.273Z"
   },
   {
    "duration": 110,
    "start_time": "2024-07-03T15:33:56.281Z"
   },
   {
    "duration": 77,
    "start_time": "2024-07-03T15:33:56.393Z"
   },
   {
    "duration": 4,
    "start_time": "2024-07-03T15:33:56.472Z"
   },
   {
    "duration": 117,
    "start_time": "2024-07-03T15:33:56.478Z"
   },
   {
    "duration": 142,
    "start_time": "2024-07-03T15:33:56.597Z"
   },
   {
    "duration": 6,
    "start_time": "2024-07-03T15:34:31.600Z"
   },
   {
    "duration": 13,
    "start_time": "2024-07-03T15:34:35.514Z"
   },
   {
    "duration": 3,
    "start_time": "2024-07-03T15:34:51.844Z"
   },
   {
    "duration": 9,
    "start_time": "2024-07-03T15:34:52.872Z"
   },
   {
    "duration": 3,
    "start_time": "2024-07-03T15:36:38.383Z"
   },
   {
    "duration": 6,
    "start_time": "2024-07-03T15:36:40.198Z"
   },
   {
    "duration": 7702,
    "start_time": "2024-07-03T15:36:44.879Z"
   },
   {
    "duration": 3,
    "start_time": "2024-07-03T15:37:05.301Z"
   },
   {
    "duration": 3,
    "start_time": "2024-07-03T15:37:06.218Z"
   },
   {
    "duration": 3,
    "start_time": "2024-07-03T15:37:06.519Z"
   },
   {
    "duration": 2,
    "start_time": "2024-07-03T15:37:06.821Z"
   },
   {
    "duration": 6,
    "start_time": "2024-07-03T15:37:07.228Z"
   },
   {
    "duration": 9921,
    "start_time": "2024-07-03T15:43:10.815Z"
   },
   {
    "duration": 1644,
    "start_time": "2024-07-03T15:43:20.739Z"
   },
   {
    "duration": 888,
    "start_time": "2024-07-03T15:43:22.384Z"
   },
   {
    "duration": 10,
    "start_time": "2024-07-03T15:43:23.274Z"
   },
   {
    "duration": 158,
    "start_time": "2024-07-03T15:43:23.285Z"
   },
   {
    "duration": 365,
    "start_time": "2024-07-03T15:43:23.445Z"
   },
   {
    "duration": 177,
    "start_time": "2024-07-03T15:43:23.811Z"
   },
   {
    "duration": 98,
    "start_time": "2024-07-03T15:43:23.990Z"
   },
   {
    "duration": 224,
    "start_time": "2024-07-03T15:43:24.090Z"
   },
   {
    "duration": 194,
    "start_time": "2024-07-03T15:43:24.316Z"
   },
   {
    "duration": 357,
    "start_time": "2024-07-03T15:43:24.512Z"
   },
   {
    "duration": 71,
    "start_time": "2024-07-03T15:43:24.870Z"
   },
   {
    "duration": 116,
    "start_time": "2024-07-03T15:43:24.943Z"
   },
   {
    "duration": 255,
    "start_time": "2024-07-03T15:43:25.061Z"
   },
   {
    "duration": 371,
    "start_time": "2024-07-03T15:43:25.318Z"
   },
   {
    "duration": 249,
    "start_time": "2024-07-03T15:43:25.691Z"
   },
   {
    "duration": 234,
    "start_time": "2024-07-03T15:43:25.942Z"
   },
   {
    "duration": 246,
    "start_time": "2024-07-03T15:43:26.177Z"
   },
   {
    "duration": 4,
    "start_time": "2024-07-03T15:43:26.424Z"
   },
   {
    "duration": 88,
    "start_time": "2024-07-03T15:43:26.429Z"
   },
   {
    "duration": 68,
    "start_time": "2024-07-03T15:43:26.519Z"
   },
   {
    "duration": 26,
    "start_time": "2024-07-03T15:43:26.589Z"
   },
   {
    "duration": 4,
    "start_time": "2024-07-03T15:43:26.617Z"
   },
   {
    "duration": 3,
    "start_time": "2024-07-03T15:43:26.623Z"
   },
   {
    "duration": 20,
    "start_time": "2024-07-03T15:43:26.627Z"
   },
   {
    "duration": 73,
    "start_time": "2024-07-03T15:43:26.649Z"
   },
   {
    "duration": 10037,
    "start_time": "2024-07-03T15:44:43.262Z"
   },
   {
    "duration": 1505,
    "start_time": "2024-07-03T15:44:53.301Z"
   },
   {
    "duration": 937,
    "start_time": "2024-07-03T15:44:54.807Z"
   },
   {
    "duration": 11,
    "start_time": "2024-07-03T15:44:55.745Z"
   },
   {
    "duration": 162,
    "start_time": "2024-07-03T15:44:55.758Z"
   },
   {
    "duration": 389,
    "start_time": "2024-07-03T15:44:55.922Z"
   },
   {
    "duration": 172,
    "start_time": "2024-07-03T15:44:56.313Z"
   },
   {
    "duration": 116,
    "start_time": "2024-07-03T15:44:56.486Z"
   },
   {
    "duration": 215,
    "start_time": "2024-07-03T15:44:56.603Z"
   },
   {
    "duration": 223,
    "start_time": "2024-07-03T15:44:56.820Z"
   },
   {
    "duration": 389,
    "start_time": "2024-07-03T15:44:57.044Z"
   },
   {
    "duration": 88,
    "start_time": "2024-07-03T15:44:57.434Z"
   },
   {
    "duration": 107,
    "start_time": "2024-07-03T15:44:57.523Z"
   },
   {
    "duration": 275,
    "start_time": "2024-07-03T15:44:57.633Z"
   },
   {
    "duration": 349,
    "start_time": "2024-07-03T15:44:57.910Z"
   },
   {
    "duration": 245,
    "start_time": "2024-07-03T15:44:58.261Z"
   },
   {
    "duration": 252,
    "start_time": "2024-07-03T15:44:58.508Z"
   },
   {
    "duration": 244,
    "start_time": "2024-07-03T15:44:58.761Z"
   },
   {
    "duration": 4,
    "start_time": "2024-07-03T15:44:59.006Z"
   },
   {
    "duration": 139,
    "start_time": "2024-07-03T15:44:59.012Z"
   },
   {
    "duration": 60,
    "start_time": "2024-07-03T15:44:59.152Z"
   },
   {
    "duration": 3,
    "start_time": "2024-07-03T15:44:59.214Z"
   },
   {
    "duration": 6,
    "start_time": "2024-07-03T15:44:59.218Z"
   },
   {
    "duration": 4,
    "start_time": "2024-07-03T15:44:59.225Z"
   },
   {
    "duration": 6,
    "start_time": "2024-07-03T15:44:59.230Z"
   },
   {
    "duration": 18,
    "start_time": "2024-07-03T15:44:59.237Z"
   },
   {
    "duration": 0,
    "start_time": "2024-07-03T15:45:08.575Z"
   },
   {
    "duration": 0,
    "start_time": "2024-07-03T15:45:08.576Z"
   },
   {
    "duration": 8142,
    "start_time": "2024-07-03T15:45:14.560Z"
   },
   {
    "duration": 0,
    "start_time": "2024-07-03T15:45:22.704Z"
   },
   {
    "duration": 3,
    "start_time": "2024-07-03T15:46:42.602Z"
   },
   {
    "duration": 3,
    "start_time": "2024-07-03T15:46:43.004Z"
   },
   {
    "duration": 3,
    "start_time": "2024-07-03T15:46:43.336Z"
   },
   {
    "duration": 3,
    "start_time": "2024-07-03T15:46:43.664Z"
   },
   {
    "duration": 6,
    "start_time": "2024-07-03T15:46:44.080Z"
   },
   {
    "duration": 7843,
    "start_time": "2024-07-03T15:46:44.578Z"
   },
   {
    "duration": 6,
    "start_time": "2024-07-03T15:51:15.827Z"
   },
   {
    "duration": 7454,
    "start_time": "2024-07-03T15:51:16.895Z"
   },
   {
    "duration": 5,
    "start_time": "2024-07-03T15:53:13.467Z"
   },
   {
    "duration": 6369,
    "start_time": "2024-07-03T15:53:13.878Z"
   },
   {
    "duration": 8,
    "start_time": "2024-07-03T15:53:52.822Z"
   },
   {
    "duration": 10081,
    "start_time": "2024-07-03T15:53:53.134Z"
   },
   {
    "duration": 3,
    "start_time": "2024-07-03T15:54:14.508Z"
   },
   {
    "duration": 3,
    "start_time": "2024-07-03T15:54:14.839Z"
   },
   {
    "duration": 3,
    "start_time": "2024-07-03T15:54:15.141Z"
   },
   {
    "duration": 7,
    "start_time": "2024-07-03T15:54:15.505Z"
   },
   {
    "duration": 9143,
    "start_time": "2024-07-03T15:54:16.952Z"
   },
   {
    "duration": 7,
    "start_time": "2024-07-03T15:54:58.042Z"
   },
   {
    "duration": 6,
    "start_time": "2024-07-03T15:56:20.735Z"
   },
   {
    "duration": 7707,
    "start_time": "2024-07-03T15:56:21.178Z"
   },
   {
    "duration": 3,
    "start_time": "2024-07-03T15:57:48.887Z"
   },
   {
    "duration": 3,
    "start_time": "2024-07-03T15:57:49.728Z"
   },
   {
    "duration": 3,
    "start_time": "2024-07-03T15:57:50.099Z"
   },
   {
    "duration": 5,
    "start_time": "2024-07-03T15:57:50.598Z"
   },
   {
    "duration": 7043,
    "start_time": "2024-07-03T15:57:51.332Z"
   },
   {
    "duration": 5,
    "start_time": "2024-07-03T15:59:43.643Z"
   },
   {
    "duration": 6536,
    "start_time": "2024-07-03T15:59:51.020Z"
   },
   {
    "duration": 3,
    "start_time": "2024-07-03T16:00:12.202Z"
   },
   {
    "duration": 3,
    "start_time": "2024-07-03T16:00:12.757Z"
   },
   {
    "duration": 3,
    "start_time": "2024-07-03T16:00:13.815Z"
   },
   {
    "duration": 39,
    "start_time": "2024-07-03T16:00:14.469Z"
   },
   {
    "duration": 22038,
    "start_time": "2024-07-03T16:00:17.231Z"
   },
   {
    "duration": 16087,
    "start_time": "2024-07-03T16:01:31.022Z"
   },
   {
    "duration": 8106,
    "start_time": "2024-07-03T16:02:13.607Z"
   },
   {
    "duration": 4,
    "start_time": "2024-07-03T16:05:50.707Z"
   },
   {
    "duration": 10,
    "start_time": "2024-07-03T16:06:16.297Z"
   },
   {
    "duration": 2,
    "start_time": "2024-07-03T16:06:23.758Z"
   },
   {
    "duration": 13,
    "start_time": "2024-07-03T16:06:44.281Z"
   },
   {
    "duration": 3,
    "start_time": "2024-07-03T16:07:27.297Z"
   },
   {
    "duration": 3,
    "start_time": "2024-07-03T16:07:28.182Z"
   },
   {
    "duration": 3,
    "start_time": "2024-07-03T16:07:28.645Z"
   },
   {
    "duration": 11,
    "start_time": "2024-07-03T16:07:30.786Z"
   },
   {
    "duration": 9851,
    "start_time": "2024-07-03T16:09:25.751Z"
   },
   {
    "duration": 1522,
    "start_time": "2024-07-03T16:09:35.604Z"
   },
   {
    "duration": 925,
    "start_time": "2024-07-03T16:09:37.128Z"
   },
   {
    "duration": 9,
    "start_time": "2024-07-03T16:09:38.056Z"
   },
   {
    "duration": 154,
    "start_time": "2024-07-03T16:09:38.067Z"
   },
   {
    "duration": 331,
    "start_time": "2024-07-03T16:09:38.223Z"
   },
   {
    "duration": 165,
    "start_time": "2024-07-03T16:09:38.555Z"
   },
   {
    "duration": 119,
    "start_time": "2024-07-03T16:09:38.722Z"
   },
   {
    "duration": 217,
    "start_time": "2024-07-03T16:09:38.843Z"
   },
   {
    "duration": 189,
    "start_time": "2024-07-03T16:09:39.062Z"
   },
   {
    "duration": 280,
    "start_time": "2024-07-03T16:09:39.253Z"
   },
   {
    "duration": 82,
    "start_time": "2024-07-03T16:09:39.534Z"
   },
   {
    "duration": 92,
    "start_time": "2024-07-03T16:09:39.618Z"
   },
   {
    "duration": 250,
    "start_time": "2024-07-03T16:09:39.712Z"
   },
   {
    "duration": 381,
    "start_time": "2024-07-03T16:09:39.964Z"
   },
   {
    "duration": 262,
    "start_time": "2024-07-03T16:09:40.346Z"
   },
   {
    "duration": 215,
    "start_time": "2024-07-03T16:09:40.610Z"
   },
   {
    "duration": 226,
    "start_time": "2024-07-03T16:09:40.826Z"
   },
   {
    "duration": 3,
    "start_time": "2024-07-03T16:09:41.055Z"
   },
   {
    "duration": 85,
    "start_time": "2024-07-03T16:09:41.060Z"
   },
   {
    "duration": 98,
    "start_time": "2024-07-03T16:09:41.146Z"
   },
   {
    "duration": 2,
    "start_time": "2024-07-03T16:09:41.246Z"
   },
   {
    "duration": 5,
    "start_time": "2024-07-03T16:09:41.250Z"
   },
   {
    "duration": 14,
    "start_time": "2024-07-03T16:09:41.256Z"
   },
   {
    "duration": 26,
    "start_time": "2024-07-03T16:09:41.272Z"
   },
   {
    "duration": 22,
    "start_time": "2024-07-03T16:09:41.299Z"
   },
   {
    "duration": 4,
    "start_time": "2024-07-03T16:09:41.322Z"
   },
   {
    "duration": 116,
    "start_time": "2024-07-03T16:09:41.329Z"
   },
   {
    "duration": 0,
    "start_time": "2024-07-03T16:09:41.446Z"
   },
   {
    "duration": 0,
    "start_time": "2024-07-03T16:09:41.447Z"
   },
   {
    "duration": 0,
    "start_time": "2024-07-03T16:09:41.448Z"
   },
   {
    "duration": 6,
    "start_time": "2024-07-03T16:09:51.056Z"
   },
   {
    "duration": 9,
    "start_time": "2024-07-03T16:09:55.495Z"
   },
   {
    "duration": 5011,
    "start_time": "2024-07-03T16:09:56.510Z"
   },
   {
    "duration": 4,
    "start_time": "2024-07-03T16:10:27.853Z"
   },
   {
    "duration": 4,
    "start_time": "2024-07-03T16:10:29.718Z"
   },
   {
    "duration": 3,
    "start_time": "2024-07-03T16:10:30.175Z"
   },
   {
    "duration": 12,
    "start_time": "2024-07-03T16:10:30.596Z"
   },
   {
    "duration": 3,
    "start_time": "2024-07-03T16:10:31.003Z"
   },
   {
    "duration": 5,
    "start_time": "2024-07-03T16:10:31.459Z"
   },
   {
    "duration": 8,
    "start_time": "2024-07-03T16:10:31.898Z"
   },
   {
    "duration": 45437,
    "start_time": "2024-07-03T16:10:32.589Z"
   },
   {
    "duration": 7,
    "start_time": "2024-07-03T16:11:23.521Z"
   },
   {
    "duration": 45215,
    "start_time": "2024-07-03T16:11:24.173Z"
   },
   {
    "duration": 7,
    "start_time": "2024-07-03T16:13:50.089Z"
   },
   {
    "duration": 5764,
    "start_time": "2024-07-03T16:13:51.121Z"
   },
   {
    "duration": 7,
    "start_time": "2024-07-03T16:14:17.837Z"
   },
   {
    "duration": 8118,
    "start_time": "2024-07-03T16:14:18.494Z"
   },
   {
    "duration": 3,
    "start_time": "2024-07-03T16:14:58.037Z"
   },
   {
    "duration": 5,
    "start_time": "2024-07-03T16:14:58.554Z"
   },
   {
    "duration": 3,
    "start_time": "2024-07-03T16:14:58.915Z"
   },
   {
    "duration": 16,
    "start_time": "2024-07-03T16:14:59.237Z"
   },
   {
    "duration": 3,
    "start_time": "2024-07-03T16:14:59.571Z"
   },
   {
    "duration": 6,
    "start_time": "2024-07-03T16:14:59.849Z"
   },
   {
    "duration": 8,
    "start_time": "2024-07-03T16:15:00.200Z"
   },
   {
    "duration": 7795,
    "start_time": "2024-07-03T16:15:00.727Z"
   },
   {
    "duration": 6,
    "start_time": "2024-07-03T16:15:58.347Z"
   },
   {
    "duration": 8025,
    "start_time": "2024-07-03T16:15:58.782Z"
   },
   {
    "duration": 5,
    "start_time": "2024-07-03T16:16:24.764Z"
   },
   {
    "duration": 7656,
    "start_time": "2024-07-03T16:16:25.256Z"
   },
   {
    "duration": 5,
    "start_time": "2024-07-03T16:19:16.927Z"
   },
   {
    "duration": 12522,
    "start_time": "2024-07-03T16:19:17.463Z"
   },
   {
    "duration": 1250,
    "start_time": "2024-07-03T16:25:40.107Z"
   },
   {
    "duration": 10252,
    "start_time": "2024-07-03T16:28:16.320Z"
   },
   {
    "duration": 1640,
    "start_time": "2024-07-03T16:28:26.574Z"
   },
   {
    "duration": 917,
    "start_time": "2024-07-03T16:28:28.216Z"
   },
   {
    "duration": 12,
    "start_time": "2024-07-03T16:28:29.135Z"
   },
   {
    "duration": 174,
    "start_time": "2024-07-03T16:28:29.148Z"
   },
   {
    "duration": 387,
    "start_time": "2024-07-03T16:28:29.323Z"
   },
   {
    "duration": 167,
    "start_time": "2024-07-03T16:28:29.712Z"
   },
   {
    "duration": 110,
    "start_time": "2024-07-03T16:28:29.881Z"
   },
   {
    "duration": 250,
    "start_time": "2024-07-03T16:28:29.993Z"
   },
   {
    "duration": 222,
    "start_time": "2024-07-03T16:28:30.246Z"
   },
   {
    "duration": 323,
    "start_time": "2024-07-03T16:28:30.469Z"
   },
   {
    "duration": 81,
    "start_time": "2024-07-03T16:28:30.793Z"
   },
   {
    "duration": 115,
    "start_time": "2024-07-03T16:28:30.877Z"
   },
   {
    "duration": 283,
    "start_time": "2024-07-03T16:28:30.994Z"
   },
   {
    "duration": 340,
    "start_time": "2024-07-03T16:28:31.279Z"
   },
   {
    "duration": 255,
    "start_time": "2024-07-03T16:28:31.621Z"
   },
   {
    "duration": 215,
    "start_time": "2024-07-03T16:28:31.879Z"
   },
   {
    "duration": 238,
    "start_time": "2024-07-03T16:28:32.095Z"
   },
   {
    "duration": 4,
    "start_time": "2024-07-03T16:28:32.334Z"
   },
   {
    "duration": 92,
    "start_time": "2024-07-03T16:28:32.340Z"
   },
   {
    "duration": 88,
    "start_time": "2024-07-03T16:28:32.434Z"
   },
   {
    "duration": 3,
    "start_time": "2024-07-03T16:28:32.524Z"
   },
   {
    "duration": 10,
    "start_time": "2024-07-03T16:28:32.529Z"
   },
   {
    "duration": 5,
    "start_time": "2024-07-03T16:28:32.541Z"
   },
   {
    "duration": 26,
    "start_time": "2024-07-03T16:28:32.548Z"
   },
   {
    "duration": 14,
    "start_time": "2024-07-03T16:28:32.576Z"
   },
   {
    "duration": 4,
    "start_time": "2024-07-03T16:28:32.592Z"
   },
   {
    "duration": 15,
    "start_time": "2024-07-03T16:28:32.598Z"
   },
   {
    "duration": 8,
    "start_time": "2024-07-03T16:28:32.614Z"
   },
   {
    "duration": 15504,
    "start_time": "2024-07-03T16:28:32.625Z"
   },
   {
    "duration": 0,
    "start_time": "2024-07-03T16:28:48.131Z"
   },
   {
    "duration": 5,
    "start_time": "2024-07-03T16:32:30.756Z"
   },
   {
    "duration": 13394,
    "start_time": "2024-07-03T16:32:31.434Z"
   },
   {
    "duration": 0,
    "start_time": "2024-07-03T16:32:44.830Z"
   },
   {
    "duration": 4,
    "start_time": "2024-07-03T16:33:14.989Z"
   },
   {
    "duration": 13834,
    "start_time": "2024-07-03T16:33:15.684Z"
   },
   {
    "duration": 64,
    "start_time": "2024-07-03T16:39:29.570Z"
   },
   {
    "duration": 12,
    "start_time": "2024-07-03T16:39:36.573Z"
   },
   {
    "duration": 4,
    "start_time": "2024-07-03T16:40:00.514Z"
   },
   {
    "duration": 9684,
    "start_time": "2024-07-03T16:40:10.807Z"
   },
   {
    "duration": 1495,
    "start_time": "2024-07-03T16:40:20.493Z"
   },
   {
    "duration": 880,
    "start_time": "2024-07-03T16:40:21.990Z"
   },
   {
    "duration": 10,
    "start_time": "2024-07-03T16:40:22.872Z"
   },
   {
    "duration": 210,
    "start_time": "2024-07-03T16:40:22.884Z"
   },
   {
    "duration": 350,
    "start_time": "2024-07-03T16:40:23.096Z"
   },
   {
    "duration": 169,
    "start_time": "2024-07-03T16:40:23.447Z"
   },
   {
    "duration": 102,
    "start_time": "2024-07-03T16:40:23.618Z"
   },
   {
    "duration": 206,
    "start_time": "2024-07-03T16:40:23.721Z"
   },
   {
    "duration": 199,
    "start_time": "2024-07-03T16:40:23.930Z"
   },
   {
    "duration": 355,
    "start_time": "2024-07-03T16:40:24.130Z"
   },
   {
    "duration": 77,
    "start_time": "2024-07-03T16:40:24.487Z"
   },
   {
    "duration": 115,
    "start_time": "2024-07-03T16:40:24.566Z"
   },
   {
    "duration": 266,
    "start_time": "2024-07-03T16:40:24.683Z"
   },
   {
    "duration": 350,
    "start_time": "2024-07-03T16:40:24.950Z"
   },
   {
    "duration": 258,
    "start_time": "2024-07-03T16:40:25.302Z"
   },
   {
    "duration": 209,
    "start_time": "2024-07-03T16:40:25.561Z"
   },
   {
    "duration": 246,
    "start_time": "2024-07-03T16:40:25.772Z"
   },
   {
    "duration": 5,
    "start_time": "2024-07-03T16:40:26.020Z"
   },
   {
    "duration": 95,
    "start_time": "2024-07-03T16:40:26.026Z"
   },
   {
    "duration": 84,
    "start_time": "2024-07-03T16:40:26.123Z"
   },
   {
    "duration": 3,
    "start_time": "2024-07-03T16:40:26.209Z"
   },
   {
    "duration": 6,
    "start_time": "2024-07-03T16:40:26.214Z"
   },
   {
    "duration": 17,
    "start_time": "2024-07-03T16:40:26.221Z"
   },
   {
    "duration": 0,
    "start_time": "2024-07-03T16:40:26.256Z"
   },
   {
    "duration": 0,
    "start_time": "2024-07-03T16:40:26.258Z"
   },
   {
    "duration": 0,
    "start_time": "2024-07-03T16:40:26.260Z"
   },
   {
    "duration": 0,
    "start_time": "2024-07-03T16:40:26.261Z"
   },
   {
    "duration": 0,
    "start_time": "2024-07-03T16:40:26.263Z"
   },
   {
    "duration": 0,
    "start_time": "2024-07-03T16:40:26.263Z"
   },
   {
    "duration": 0,
    "start_time": "2024-07-03T16:40:26.264Z"
   },
   {
    "duration": 0,
    "start_time": "2024-07-03T16:40:26.266Z"
   },
   {
    "duration": 3,
    "start_time": "2024-07-03T16:40:29.730Z"
   },
   {
    "duration": 3,
    "start_time": "2024-07-03T16:40:30.172Z"
   },
   {
    "duration": 19,
    "start_time": "2024-07-03T16:40:30.583Z"
   },
   {
    "duration": 3,
    "start_time": "2024-07-03T16:40:30.975Z"
   },
   {
    "duration": 6,
    "start_time": "2024-07-03T16:40:31.475Z"
   },
   {
    "duration": 5,
    "start_time": "2024-07-03T16:40:32.526Z"
   },
   {
    "duration": 15174,
    "start_time": "2024-07-03T16:40:33.056Z"
   },
   {
    "duration": 0,
    "start_time": "2024-07-03T16:40:48.232Z"
   },
   {
    "duration": 9665,
    "start_time": "2024-07-03T16:46:35.008Z"
   },
   {
    "duration": 1565,
    "start_time": "2024-07-03T16:46:44.676Z"
   },
   {
    "duration": 910,
    "start_time": "2024-07-03T16:46:46.243Z"
   },
   {
    "duration": 10,
    "start_time": "2024-07-03T16:46:47.156Z"
   },
   {
    "duration": 162,
    "start_time": "2024-07-03T16:46:47.167Z"
   },
   {
    "duration": 338,
    "start_time": "2024-07-03T16:46:47.330Z"
   },
   {
    "duration": 160,
    "start_time": "2024-07-03T16:46:47.669Z"
   },
   {
    "duration": 100,
    "start_time": "2024-07-03T16:46:47.830Z"
   },
   {
    "duration": 212,
    "start_time": "2024-07-03T16:46:47.932Z"
   },
   {
    "duration": 214,
    "start_time": "2024-07-03T16:46:48.147Z"
   },
   {
    "duration": 360,
    "start_time": "2024-07-03T16:46:48.362Z"
   },
   {
    "duration": 71,
    "start_time": "2024-07-03T16:46:48.724Z"
   },
   {
    "duration": 105,
    "start_time": "2024-07-03T16:46:48.796Z"
   },
   {
    "duration": 250,
    "start_time": "2024-07-03T16:46:48.902Z"
   },
   {
    "duration": 334,
    "start_time": "2024-07-03T16:46:49.154Z"
   },
   {
    "duration": 243,
    "start_time": "2024-07-03T16:46:49.489Z"
   },
   {
    "duration": 212,
    "start_time": "2024-07-03T16:46:49.733Z"
   },
   {
    "duration": 264,
    "start_time": "2024-07-03T16:46:49.946Z"
   },
   {
    "duration": 3,
    "start_time": "2024-07-03T16:46:50.212Z"
   },
   {
    "duration": 86,
    "start_time": "2024-07-03T16:46:50.216Z"
   },
   {
    "duration": 66,
    "start_time": "2024-07-03T16:46:50.304Z"
   },
   {
    "duration": 3,
    "start_time": "2024-07-03T16:46:50.372Z"
   },
   {
    "duration": 10,
    "start_time": "2024-07-03T16:46:50.376Z"
   },
   {
    "duration": 4,
    "start_time": "2024-07-03T16:46:50.387Z"
   },
   {
    "duration": 5,
    "start_time": "2024-07-03T16:46:50.392Z"
   },
   {
    "duration": 13,
    "start_time": "2024-07-03T16:46:50.399Z"
   },
   {
    "duration": 3,
    "start_time": "2024-07-03T16:46:50.413Z"
   },
   {
    "duration": 4,
    "start_time": "2024-07-03T16:46:50.419Z"
   },
   {
    "duration": 15280,
    "start_time": "2024-07-03T16:46:50.425Z"
   },
   {
    "duration": 0,
    "start_time": "2024-07-03T16:47:05.706Z"
   },
   {
    "duration": 67,
    "start_time": "2024-07-03T16:49:52.403Z"
   },
   {
    "duration": 19,
    "start_time": "2024-07-03T16:49:53.490Z"
   },
   {
    "duration": 21,
    "start_time": "2024-07-03T16:49:55.520Z"
   },
   {
    "duration": 37,
    "start_time": "2024-07-03T17:07:07.227Z"
   },
   {
    "duration": 39,
    "start_time": "2024-07-03T17:07:56.204Z"
   },
   {
    "duration": 498,
    "start_time": "2024-07-03T17:09:13.433Z"
   },
   {
    "duration": 433,
    "start_time": "2024-07-03T17:09:26.526Z"
   },
   {
    "duration": 431,
    "start_time": "2024-07-03T17:09:40.112Z"
   },
   {
    "duration": 428,
    "start_time": "2024-07-03T17:10:34.865Z"
   },
   {
    "duration": 1023,
    "start_time": "2024-07-03T17:11:24.001Z"
   },
   {
    "duration": 1017,
    "start_time": "2024-07-03T17:11:45.938Z"
   },
   {
    "duration": 19,
    "start_time": "2024-07-03T17:11:57.812Z"
   },
   {
    "duration": 9689,
    "start_time": "2024-07-03T17:12:50.494Z"
   },
   {
    "duration": 1608,
    "start_time": "2024-07-03T17:13:00.186Z"
   },
   {
    "duration": 977,
    "start_time": "2024-07-03T17:13:01.796Z"
   },
   {
    "duration": 10,
    "start_time": "2024-07-03T17:13:02.775Z"
   },
   {
    "duration": 161,
    "start_time": "2024-07-03T17:13:02.786Z"
   },
   {
    "duration": 362,
    "start_time": "2024-07-03T17:13:02.948Z"
   },
   {
    "duration": 162,
    "start_time": "2024-07-03T17:13:03.312Z"
   },
   {
    "duration": 96,
    "start_time": "2024-07-03T17:13:03.476Z"
   },
   {
    "duration": 194,
    "start_time": "2024-07-03T17:13:03.573Z"
   },
   {
    "duration": 201,
    "start_time": "2024-07-03T17:13:03.769Z"
   },
   {
    "duration": 334,
    "start_time": "2024-07-03T17:13:03.972Z"
   },
   {
    "duration": 71,
    "start_time": "2024-07-03T17:13:04.308Z"
   },
   {
    "duration": 100,
    "start_time": "2024-07-03T17:13:04.381Z"
   },
   {
    "duration": 263,
    "start_time": "2024-07-03T17:13:04.483Z"
   },
   {
    "duration": 335,
    "start_time": "2024-07-03T17:13:04.748Z"
   },
   {
    "duration": 243,
    "start_time": "2024-07-03T17:13:05.085Z"
   },
   {
    "duration": 214,
    "start_time": "2024-07-03T17:13:05.330Z"
   },
   {
    "duration": 236,
    "start_time": "2024-07-03T17:13:05.546Z"
   },
   {
    "duration": 3,
    "start_time": "2024-07-03T17:13:05.784Z"
   },
   {
    "duration": 100,
    "start_time": "2024-07-03T17:13:05.789Z"
   },
   {
    "duration": 66,
    "start_time": "2024-07-03T17:13:05.891Z"
   },
   {
    "duration": 3,
    "start_time": "2024-07-03T17:13:05.958Z"
   },
   {
    "duration": 16,
    "start_time": "2024-07-03T17:13:05.962Z"
   },
   {
    "duration": 4,
    "start_time": "2024-07-03T17:13:05.979Z"
   },
   {
    "duration": 23,
    "start_time": "2024-07-03T17:13:05.985Z"
   },
   {
    "duration": 22,
    "start_time": "2024-07-03T17:13:06.009Z"
   },
   {
    "duration": 3,
    "start_time": "2024-07-03T17:13:06.032Z"
   },
   {
    "duration": 12,
    "start_time": "2024-07-03T17:13:06.038Z"
   },
   {
    "duration": 15605,
    "start_time": "2024-07-03T17:13:06.052Z"
   },
   {
    "duration": 0,
    "start_time": "2024-07-03T17:13:21.659Z"
   },
   {
    "duration": 0,
    "start_time": "2024-07-03T17:13:21.660Z"
   },
   {
    "duration": 0,
    "start_time": "2024-07-03T17:13:21.661Z"
   },
   {
    "duration": 0,
    "start_time": "2024-07-03T17:13:21.662Z"
   },
   {
    "duration": 0,
    "start_time": "2024-07-03T17:13:21.663Z"
   },
   {
    "duration": 0,
    "start_time": "2024-07-03T17:13:21.664Z"
   },
   {
    "duration": 64,
    "start_time": "2024-07-03T17:13:28.985Z"
   },
   {
    "duration": 28,
    "start_time": "2024-07-03T17:13:29.468Z"
   },
   {
    "duration": 70836,
    "start_time": "2024-07-03T17:13:29.941Z"
   },
   {
    "duration": 16177,
    "start_time": "2024-07-03T17:17:32.888Z"
   },
   {
    "duration": 404,
    "start_time": "2024-07-03T17:23:51.686Z"
   },
   {
    "duration": 730,
    "start_time": "2024-07-03T17:27:14.785Z"
   },
   {
    "duration": 3,
    "start_time": "2024-07-03T17:29:54.400Z"
   },
   {
    "duration": 757,
    "start_time": "2024-07-03T17:29:54.887Z"
   },
   {
    "duration": 800,
    "start_time": "2024-07-03T17:30:20.037Z"
   },
   {
    "duration": 777,
    "start_time": "2024-07-03T17:30:33.920Z"
   },
   {
    "duration": 395,
    "start_time": "2024-07-03T17:31:55.599Z"
   },
   {
    "duration": 361,
    "start_time": "2024-07-03T17:32:06.516Z"
   },
   {
    "duration": 744,
    "start_time": "2024-07-03T17:32:22.060Z"
   },
   {
    "duration": 766,
    "start_time": "2024-07-03T17:33:21.987Z"
   },
   {
    "duration": 9979,
    "start_time": "2024-07-03T17:42:53.654Z"
   },
   {
    "duration": 1519,
    "start_time": "2024-07-03T17:43:03.636Z"
   },
   {
    "duration": 898,
    "start_time": "2024-07-03T17:43:05.157Z"
   },
   {
    "duration": 10,
    "start_time": "2024-07-03T17:43:06.057Z"
   },
   {
    "duration": 158,
    "start_time": "2024-07-03T17:43:06.068Z"
   },
   {
    "duration": 300,
    "start_time": "2024-07-03T17:43:06.227Z"
   },
   {
    "duration": 162,
    "start_time": "2024-07-03T17:43:06.528Z"
   },
   {
    "duration": 97,
    "start_time": "2024-07-03T17:43:06.692Z"
   },
   {
    "duration": 230,
    "start_time": "2024-07-03T17:43:06.790Z"
   },
   {
    "duration": 189,
    "start_time": "2024-07-03T17:43:07.024Z"
   },
   {
    "duration": 318,
    "start_time": "2024-07-03T17:43:07.215Z"
   },
   {
    "duration": 75,
    "start_time": "2024-07-03T17:43:07.535Z"
   },
   {
    "duration": 97,
    "start_time": "2024-07-03T17:43:07.612Z"
   },
   {
    "duration": 262,
    "start_time": "2024-07-03T17:43:07.711Z"
   },
   {
    "duration": 353,
    "start_time": "2024-07-03T17:43:07.974Z"
   },
   {
    "duration": 258,
    "start_time": "2024-07-03T17:43:08.328Z"
   },
   {
    "duration": 222,
    "start_time": "2024-07-03T17:43:08.587Z"
   },
   {
    "duration": 253,
    "start_time": "2024-07-03T17:43:08.811Z"
   },
   {
    "duration": 4,
    "start_time": "2024-07-03T17:43:09.066Z"
   },
   {
    "duration": 121,
    "start_time": "2024-07-03T17:43:09.071Z"
   },
   {
    "duration": 115,
    "start_time": "2024-07-03T17:43:09.194Z"
   },
   {
    "duration": 3,
    "start_time": "2024-07-03T17:43:09.311Z"
   },
   {
    "duration": 6,
    "start_time": "2024-07-03T17:43:09.315Z"
   },
   {
    "duration": 7,
    "start_time": "2024-07-03T17:43:09.322Z"
   },
   {
    "duration": 7,
    "start_time": "2024-07-03T17:43:09.330Z"
   },
   {
    "duration": 18,
    "start_time": "2024-07-03T17:43:09.338Z"
   },
   {
    "duration": 2,
    "start_time": "2024-07-03T17:43:09.357Z"
   },
   {
    "duration": 11,
    "start_time": "2024-07-03T17:43:09.362Z"
   },
   {
    "duration": 15704,
    "start_time": "2024-07-03T17:43:09.375Z"
   },
   {
    "duration": 0,
    "start_time": "2024-07-03T17:43:25.081Z"
   },
   {
    "duration": 0,
    "start_time": "2024-07-03T17:43:25.083Z"
   },
   {
    "duration": 0,
    "start_time": "2024-07-03T17:43:25.084Z"
   },
   {
    "duration": 0,
    "start_time": "2024-07-03T17:43:25.085Z"
   },
   {
    "duration": 0,
    "start_time": "2024-07-03T17:43:25.086Z"
   },
   {
    "duration": 0,
    "start_time": "2024-07-03T17:43:25.087Z"
   },
   {
    "duration": 0,
    "start_time": "2024-07-03T17:43:25.088Z"
   },
   {
    "duration": 78,
    "start_time": "2024-07-03T17:43:31.444Z"
   },
   {
    "duration": 18,
    "start_time": "2024-07-03T17:43:31.888Z"
   },
   {
    "duration": 70477,
    "start_time": "2024-07-03T17:43:32.380Z"
   },
   {
    "duration": 3,
    "start_time": "2024-07-03T17:44:42.858Z"
   },
   {
    "duration": 10281,
    "start_time": "2024-07-05T09:11:25.211Z"
   },
   {
    "duration": 1641,
    "start_time": "2024-07-05T09:11:35.494Z"
   },
   {
    "duration": 1159,
    "start_time": "2024-07-05T09:11:37.136Z"
   },
   {
    "duration": 9,
    "start_time": "2024-07-05T09:11:38.297Z"
   },
   {
    "duration": 164,
    "start_time": "2024-07-05T09:11:38.307Z"
   },
   {
    "duration": 341,
    "start_time": "2024-07-05T09:11:38.472Z"
   },
   {
    "duration": 157,
    "start_time": "2024-07-05T09:11:38.815Z"
   },
   {
    "duration": 94,
    "start_time": "2024-07-05T09:11:38.974Z"
   },
   {
    "duration": 184,
    "start_time": "2024-07-05T09:11:39.070Z"
   },
   {
    "duration": 179,
    "start_time": "2024-07-05T09:11:39.256Z"
   },
   {
    "duration": 322,
    "start_time": "2024-07-05T09:11:39.438Z"
   },
   {
    "duration": 75,
    "start_time": "2024-07-05T09:11:39.761Z"
   },
   {
    "duration": 92,
    "start_time": "2024-07-05T09:11:39.838Z"
   },
   {
    "duration": 306,
    "start_time": "2024-07-05T09:11:39.931Z"
   },
   {
    "duration": 256,
    "start_time": "2024-07-05T09:11:40.239Z"
   },
   {
    "duration": 235,
    "start_time": "2024-07-05T09:11:40.499Z"
   },
   {
    "duration": 213,
    "start_time": "2024-07-05T09:11:40.736Z"
   },
   {
    "duration": 219,
    "start_time": "2024-07-05T09:11:40.951Z"
   },
   {
    "duration": 4,
    "start_time": "2024-07-05T09:11:41.171Z"
   },
   {
    "duration": 84,
    "start_time": "2024-07-05T09:11:41.176Z"
   },
   {
    "duration": 67,
    "start_time": "2024-07-05T09:11:41.262Z"
   },
   {
    "duration": 2,
    "start_time": "2024-07-05T09:11:41.331Z"
   },
   {
    "duration": 6,
    "start_time": "2024-07-05T09:11:41.334Z"
   },
   {
    "duration": 4,
    "start_time": "2024-07-05T09:11:41.341Z"
   },
   {
    "duration": 6,
    "start_time": "2024-07-05T09:11:41.346Z"
   },
   {
    "duration": 11,
    "start_time": "2024-07-05T09:11:41.354Z"
   },
   {
    "duration": 2,
    "start_time": "2024-07-05T09:11:41.367Z"
   },
   {
    "duration": 49,
    "start_time": "2024-07-05T09:11:41.372Z"
   },
   {
    "duration": 14401,
    "start_time": "2024-07-05T09:11:41.422Z"
   },
   {
    "duration": 0,
    "start_time": "2024-07-05T09:11:55.825Z"
   },
   {
    "duration": 0,
    "start_time": "2024-07-05T09:11:55.826Z"
   },
   {
    "duration": 0,
    "start_time": "2024-07-05T09:11:55.827Z"
   },
   {
    "duration": 0,
    "start_time": "2024-07-05T09:11:55.828Z"
   },
   {
    "duration": 0,
    "start_time": "2024-07-05T09:11:55.829Z"
   },
   {
    "duration": 0,
    "start_time": "2024-07-05T09:11:55.831Z"
   },
   {
    "duration": 0,
    "start_time": "2024-07-05T09:11:55.832Z"
   },
   {
    "duration": 67,
    "start_time": "2024-07-05T09:12:00.143Z"
   },
   {
    "duration": 18,
    "start_time": "2024-07-05T09:12:00.508Z"
   },
   {
    "duration": 70493,
    "start_time": "2024-07-05T09:12:01.452Z"
   },
   {
    "duration": 4,
    "start_time": "2024-07-05T09:13:11.947Z"
   },
   {
    "duration": 12297,
    "start_time": "2024-07-07T08:25:46.415Z"
   },
   {
    "duration": 3217,
    "start_time": "2024-07-07T08:25:58.715Z"
   },
   {
    "duration": 3,
    "start_time": "2024-07-07T08:26:01.934Z"
   },
   {
    "duration": 3875,
    "start_time": "2024-07-07T08:26:01.938Z"
   },
   {
    "duration": 299,
    "start_time": "2024-07-07T08:26:05.816Z"
   },
   {
    "duration": 149,
    "start_time": "2024-07-07T08:26:06.116Z"
   },
   {
    "duration": 92,
    "start_time": "2024-07-07T08:26:06.266Z"
   },
   {
    "duration": 187,
    "start_time": "2024-07-07T08:26:06.359Z"
   },
   {
    "duration": 178,
    "start_time": "2024-07-07T08:26:06.548Z"
   },
   {
    "duration": 269,
    "start_time": "2024-07-07T08:26:06.728Z"
   },
   {
    "duration": 73,
    "start_time": "2024-07-07T08:26:06.999Z"
   },
   {
    "duration": 94,
    "start_time": "2024-07-07T08:26:07.073Z"
   },
   {
    "duration": 383,
    "start_time": "2024-07-07T08:26:07.169Z"
   },
   {
    "duration": 292,
    "start_time": "2024-07-07T08:26:07.556Z"
   },
   {
    "duration": 242,
    "start_time": "2024-07-07T08:26:07.850Z"
   },
   {
    "duration": 206,
    "start_time": "2024-07-07T08:26:08.093Z"
   },
   {
    "duration": 223,
    "start_time": "2024-07-07T08:26:08.300Z"
   },
   {
    "duration": 3,
    "start_time": "2024-07-07T08:26:08.525Z"
   },
   {
    "duration": 85,
    "start_time": "2024-07-07T08:26:08.530Z"
   },
   {
    "duration": 72,
    "start_time": "2024-07-07T08:26:08.617Z"
   },
   {
    "duration": 17,
    "start_time": "2024-07-07T08:26:08.691Z"
   },
   {
    "duration": 99,
    "start_time": "2024-07-07T08:26:08.709Z"
   },
   {
    "duration": 318335,
    "start_time": "2024-07-07T08:26:08.809Z"
   },
   {
    "duration": 0,
    "start_time": "2024-07-07T08:31:27.145Z"
   },
   {
    "duration": 0,
    "start_time": "2024-07-07T08:31:27.147Z"
   },
   {
    "duration": 0,
    "start_time": "2024-07-07T08:31:27.148Z"
   },
   {
    "duration": 0,
    "start_time": "2024-07-07T08:31:27.150Z"
   },
   {
    "duration": 0,
    "start_time": "2024-07-07T08:31:27.152Z"
   },
   {
    "duration": 0,
    "start_time": "2024-07-07T08:31:27.153Z"
   },
   {
    "duration": 0,
    "start_time": "2024-07-07T08:31:27.155Z"
   },
   {
    "duration": 0,
    "start_time": "2024-07-07T08:31:27.157Z"
   },
   {
    "duration": 0,
    "start_time": "2024-07-07T08:31:27.158Z"
   },
   {
    "duration": 0,
    "start_time": "2024-07-07T08:31:27.159Z"
   },
   {
    "duration": 0,
    "start_time": "2024-07-07T08:31:27.160Z"
   },
   {
    "duration": 0,
    "start_time": "2024-07-07T08:31:27.162Z"
   },
   {
    "duration": 0,
    "start_time": "2024-07-07T08:31:27.163Z"
   },
   {
    "duration": 0,
    "start_time": "2024-07-07T08:31:27.165Z"
   },
   {
    "duration": 13,
    "start_time": "2024-07-07T08:32:29.981Z"
   },
   {
    "duration": 8689,
    "start_time": "2024-07-07T08:33:09.188Z"
   },
   {
    "duration": 2916,
    "start_time": "2024-07-07T08:33:17.879Z"
   },
   {
    "duration": 3,
    "start_time": "2024-07-07T08:33:20.797Z"
   },
   {
    "duration": 1799,
    "start_time": "2024-07-07T08:33:20.802Z"
   },
   {
    "duration": 275,
    "start_time": "2024-07-07T08:33:22.603Z"
   },
   {
    "duration": 150,
    "start_time": "2024-07-07T08:33:22.879Z"
   },
   {
    "duration": 95,
    "start_time": "2024-07-07T08:33:23.031Z"
   },
   {
    "duration": 213,
    "start_time": "2024-07-07T08:33:23.127Z"
   },
   {
    "duration": 180,
    "start_time": "2024-07-07T08:33:23.342Z"
   },
   {
    "duration": 273,
    "start_time": "2024-07-07T08:33:23.525Z"
   },
   {
    "duration": 70,
    "start_time": "2024-07-07T08:33:23.800Z"
   },
   {
    "duration": 86,
    "start_time": "2024-07-07T08:33:23.872Z"
   },
   {
    "duration": 236,
    "start_time": "2024-07-07T08:33:23.959Z"
   },
   {
    "duration": 342,
    "start_time": "2024-07-07T08:33:24.197Z"
   },
   {
    "duration": 248,
    "start_time": "2024-07-07T08:33:24.541Z"
   },
   {
    "duration": 204,
    "start_time": "2024-07-07T08:33:24.790Z"
   },
   {
    "duration": 226,
    "start_time": "2024-07-07T08:33:24.996Z"
   },
   {
    "duration": 4,
    "start_time": "2024-07-07T08:33:25.223Z"
   },
   {
    "duration": 92,
    "start_time": "2024-07-07T08:33:25.229Z"
   },
   {
    "duration": 62,
    "start_time": "2024-07-07T08:33:40.240Z"
   },
   {
    "duration": 3,
    "start_time": "2024-07-07T08:33:40.845Z"
   },
   {
    "duration": 4,
    "start_time": "2024-07-07T08:33:41.361Z"
   },
   {
    "duration": 3,
    "start_time": "2024-07-07T08:33:42.174Z"
   },
   {
    "duration": 3,
    "start_time": "2024-07-07T08:33:43.326Z"
   },
   {
    "duration": 3,
    "start_time": "2024-07-07T08:33:43.955Z"
   },
   {
    "duration": 25,
    "start_time": "2024-07-07T08:33:44.476Z"
   },
   {
    "duration": 3,
    "start_time": "2024-07-07T08:33:46.723Z"
   },
   {
    "duration": 5,
    "start_time": "2024-07-07T08:33:54.306Z"
   },
   {
    "duration": 5870,
    "start_time": "2024-07-07T08:33:57.748Z"
   },
   {
    "duration": 0,
    "start_time": "2024-07-07T08:34:03.620Z"
   },
   {
    "duration": 0,
    "start_time": "2024-07-07T08:34:03.621Z"
   },
   {
    "duration": 11915,
    "start_time": "2024-07-07T08:35:20.977Z"
   },
   {
    "duration": 3088,
    "start_time": "2024-07-07T08:35:32.894Z"
   },
   {
    "duration": 3,
    "start_time": "2024-07-07T08:35:35.984Z"
   },
   {
    "duration": 1918,
    "start_time": "2024-07-07T08:35:35.988Z"
   },
   {
    "duration": 271,
    "start_time": "2024-07-07T08:35:37.908Z"
   },
   {
    "duration": 156,
    "start_time": "2024-07-07T08:35:38.181Z"
   },
   {
    "duration": 90,
    "start_time": "2024-07-07T08:35:38.339Z"
   },
   {
    "duration": 201,
    "start_time": "2024-07-07T08:35:38.437Z"
   },
   {
    "duration": 185,
    "start_time": "2024-07-07T08:35:38.639Z"
   },
   {
    "duration": 319,
    "start_time": "2024-07-07T08:35:38.826Z"
   },
   {
    "duration": 63,
    "start_time": "2024-07-07T08:35:39.146Z"
   },
   {
    "duration": 103,
    "start_time": "2024-07-07T08:35:39.210Z"
   },
   {
    "duration": 305,
    "start_time": "2024-07-07T08:35:39.315Z"
   },
   {
    "duration": 256,
    "start_time": "2024-07-07T08:35:39.623Z"
   },
   {
    "duration": 260,
    "start_time": "2024-07-07T08:35:39.880Z"
   },
   {
    "duration": 209,
    "start_time": "2024-07-07T08:35:40.141Z"
   },
   {
    "duration": 226,
    "start_time": "2024-07-07T08:35:40.351Z"
   },
   {
    "duration": 4,
    "start_time": "2024-07-07T08:35:40.579Z"
   },
   {
    "duration": 83,
    "start_time": "2024-07-07T08:35:40.584Z"
   },
   {
    "duration": 71,
    "start_time": "2024-07-07T08:35:45.096Z"
   },
   {
    "duration": 90,
    "start_time": "2024-07-07T08:35:57.611Z"
   },
   {
    "duration": 2,
    "start_time": "2024-07-07T08:35:58.343Z"
   },
   {
    "duration": 109,
    "start_time": "2024-07-07T08:35:58.876Z"
   },
   {
    "duration": 7015,
    "start_time": "2024-07-07T08:37:56.816Z"
   },
   {
    "duration": 1691,
    "start_time": "2024-07-07T08:38:26.800Z"
   },
   {
    "duration": 8737,
    "start_time": "2024-07-07T08:39:18.163Z"
   },
   {
    "duration": 2986,
    "start_time": "2024-07-07T08:39:26.902Z"
   },
   {
    "duration": 3,
    "start_time": "2024-07-07T08:39:29.889Z"
   },
   {
    "duration": 1968,
    "start_time": "2024-07-07T08:39:29.893Z"
   },
   {
    "duration": 285,
    "start_time": "2024-07-07T08:39:31.863Z"
   },
   {
    "duration": 142,
    "start_time": "2024-07-07T08:39:32.150Z"
   },
   {
    "duration": 100,
    "start_time": "2024-07-07T08:39:32.294Z"
   },
   {
    "duration": 186,
    "start_time": "2024-07-07T08:39:32.395Z"
   },
   {
    "duration": 180,
    "start_time": "2024-07-07T08:39:32.582Z"
   },
   {
    "duration": 297,
    "start_time": "2024-07-07T08:39:32.764Z"
   },
   {
    "duration": 65,
    "start_time": "2024-07-07T08:39:33.063Z"
   },
   {
    "duration": 82,
    "start_time": "2024-07-07T08:39:33.138Z"
   },
   {
    "duration": 254,
    "start_time": "2024-07-07T08:39:33.221Z"
   },
   {
    "duration": 351,
    "start_time": "2024-07-07T08:39:33.478Z"
   },
   {
    "duration": 244,
    "start_time": "2024-07-07T08:39:33.831Z"
   },
   {
    "duration": 199,
    "start_time": "2024-07-07T08:39:34.076Z"
   },
   {
    "duration": 234,
    "start_time": "2024-07-07T08:39:34.276Z"
   },
   {
    "duration": 3,
    "start_time": "2024-07-07T08:39:34.512Z"
   },
   {
    "duration": 83,
    "start_time": "2024-07-07T08:39:34.517Z"
   },
   {
    "duration": 73,
    "start_time": "2024-07-07T08:39:34.602Z"
   },
   {
    "duration": 17,
    "start_time": "2024-07-07T08:39:34.676Z"
   },
   {
    "duration": 5,
    "start_time": "2024-07-07T08:39:34.694Z"
   }
  ],
  "kernelspec": {
   "display_name": "Python 3 (ipykernel)",
   "language": "python",
   "name": "python3"
  },
  "language_info": {
   "codemirror_mode": {
    "name": "ipython",
    "version": 3
   },
   "file_extension": ".py",
   "mimetype": "text/x-python",
   "name": "python",
   "nbconvert_exporter": "python",
   "pygments_lexer": "ipython3",
   "version": "3.11.6"
  },
  "toc": {
   "base_numbering": 1,
   "nav_menu": {},
   "number_sections": true,
   "sideBar": true,
   "skip_h1_title": true,
   "title_cell": "Table of Contents",
   "title_sidebar": "Contents",
   "toc_cell": false,
   "toc_position": {},
   "toc_section_display": true,
   "toc_window_display": true
  }
 },
 "nbformat": 4,
 "nbformat_minor": 4
}
