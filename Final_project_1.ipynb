{
 "cells": [
  {
   "cell_type": "markdown",
   "id": "974aa2f0",
   "metadata": {},
   "source": [
    "# Анализ данных о продажах компьютерных игр для интернет-магазина \"Стримчик\".\n",
    "\n",
    "В условиях быстро меняющегося рынка компьютерных игр интернет-магазин \"Стримчик\" стоит перед задачей определения успешных трендов и планирования рекламных кампаний на предстоящий 2017 год. Мы имеем доступ к историческим данным о продажах, оценках критиков и пользователей, а также информации о платформах и жанрах игр. Проект направлен на выявление закономерностей и факторов, влияющих на успешность игр, чтобы эффективно адаптировать стратегии продаж и маркетинга. Основная цель - разработать рекомендации для оптимизации ассортимента и увеличения прибыльности магазина \"Стримчик\".\n",
    "\n",
    "\n",
    "План работ:\n",
    "\n",
    "1. Подготовка данных:\n",
    "* Замена названий столбцов и приведение к нижнему регистру.\n",
    "* Преобразование данных в нужные типы.\n",
    "* Обработка пропусков.\n",
    "* Обработка аббревиатуры 'tbd' в столбце с оценкой пользователей.\n",
    "* Расчет суммарных продаж во всех регионах и запись их в отдельный столбец.\n",
    "\n",
    "2. Исследовательский анализ данных:\n",
    "* Анализ количества выпущенных игр в разные годы.\n",
    "* Изучение изменений продаж по платформам.\n",
    "* Определение актуального периода для анализа (учет только данных за последние годы).\n",
    "* Определение лидирующих по продажам платформ и их трендов.\n",
    "* Построение графика «ящик с усами» по глобальным продажам игр.\n",
    "* Анализ влияния отзывов пользователей и критиков на продажи.\n",
    "* Определение распределения игр по жанрам и выявление прибыльных жанров.\n",
    "\n",
    "3. Составление портрета пользователя каждого региона:\n",
    "* Определение самых популярных платформ и жанров в регионах NA, EU, JP.\n",
    "* Анализ влияния рейтинга ESRB на продажи в отдельных регионах.\n",
    "\n",
    "4. Проверка гипотез:\n",
    "* Проверка гипотезы о равенстве средних пользовательских рейтингов платформ Xbox One и PC.\n",
    "* Проверка гипотезы о различии средних пользовательских рейтингов жанров Action и Sports.\n"
   ]
  },
  {
   "cell_type": "markdown",
   "id": "de0a62de",
   "metadata": {},
   "source": [
    "# Ознакомление с данными"
   ]
  },
  {
   "cell_type": "code",
   "execution_count": 1,
   "id": "ab343cf8",
   "metadata": {},
   "outputs": [],
   "source": [
    "import pandas as pd\n",
    "import matplotlib.pyplot as plt\n",
    "import seaborn as sns\n",
    "import numpy as np\n",
    "import scipy.stats as st\n",
    "import warnings\n",
    "warnings.filterwarnings('ignore')"
   ]
  },
  {
   "cell_type": "code",
   "execution_count": 2,
   "id": "8fd75a61",
   "metadata": {},
   "outputs": [],
   "source": [
    "data = pd.read_csv('/datasets/games.csv')"
   ]
  },
  {
   "cell_type": "code",
   "execution_count": 3,
   "id": "a4a6d154",
   "metadata": {},
   "outputs": [
    {
     "data": {
      "text/html": [
       "<div>\n",
       "<style scoped>\n",
       "    .dataframe tbody tr th:only-of-type {\n",
       "        vertical-align: middle;\n",
       "    }\n",
       "\n",
       "    .dataframe tbody tr th {\n",
       "        vertical-align: top;\n",
       "    }\n",
       "\n",
       "    .dataframe thead th {\n",
       "        text-align: right;\n",
       "    }\n",
       "</style>\n",
       "<table border=\"1\" class=\"dataframe\">\n",
       "  <thead>\n",
       "    <tr style=\"text-align: right;\">\n",
       "      <th></th>\n",
       "      <th>Name</th>\n",
       "      <th>Platform</th>\n",
       "      <th>Year_of_Release</th>\n",
       "      <th>Genre</th>\n",
       "      <th>NA_sales</th>\n",
       "      <th>EU_sales</th>\n",
       "      <th>JP_sales</th>\n",
       "      <th>Other_sales</th>\n",
       "      <th>Critic_Score</th>\n",
       "      <th>User_Score</th>\n",
       "      <th>Rating</th>\n",
       "    </tr>\n",
       "  </thead>\n",
       "  <tbody>\n",
       "    <tr>\n",
       "      <th>0</th>\n",
       "      <td>Wii Sports</td>\n",
       "      <td>Wii</td>\n",
       "      <td>2006.0</td>\n",
       "      <td>Sports</td>\n",
       "      <td>41.36</td>\n",
       "      <td>28.96</td>\n",
       "      <td>3.77</td>\n",
       "      <td>8.45</td>\n",
       "      <td>76.0</td>\n",
       "      <td>8</td>\n",
       "      <td>E</td>\n",
       "    </tr>\n",
       "    <tr>\n",
       "      <th>1</th>\n",
       "      <td>Super Mario Bros.</td>\n",
       "      <td>NES</td>\n",
       "      <td>1985.0</td>\n",
       "      <td>Platform</td>\n",
       "      <td>29.08</td>\n",
       "      <td>3.58</td>\n",
       "      <td>6.81</td>\n",
       "      <td>0.77</td>\n",
       "      <td>NaN</td>\n",
       "      <td>NaN</td>\n",
       "      <td>NaN</td>\n",
       "    </tr>\n",
       "    <tr>\n",
       "      <th>2</th>\n",
       "      <td>Mario Kart Wii</td>\n",
       "      <td>Wii</td>\n",
       "      <td>2008.0</td>\n",
       "      <td>Racing</td>\n",
       "      <td>15.68</td>\n",
       "      <td>12.76</td>\n",
       "      <td>3.79</td>\n",
       "      <td>3.29</td>\n",
       "      <td>82.0</td>\n",
       "      <td>8.3</td>\n",
       "      <td>E</td>\n",
       "    </tr>\n",
       "    <tr>\n",
       "      <th>3</th>\n",
       "      <td>Wii Sports Resort</td>\n",
       "      <td>Wii</td>\n",
       "      <td>2009.0</td>\n",
       "      <td>Sports</td>\n",
       "      <td>15.61</td>\n",
       "      <td>10.93</td>\n",
       "      <td>3.28</td>\n",
       "      <td>2.95</td>\n",
       "      <td>80.0</td>\n",
       "      <td>8</td>\n",
       "      <td>E</td>\n",
       "    </tr>\n",
       "    <tr>\n",
       "      <th>4</th>\n",
       "      <td>Pokemon Red/Pokemon Blue</td>\n",
       "      <td>GB</td>\n",
       "      <td>1996.0</td>\n",
       "      <td>Role-Playing</td>\n",
       "      <td>11.27</td>\n",
       "      <td>8.89</td>\n",
       "      <td>10.22</td>\n",
       "      <td>1.00</td>\n",
       "      <td>NaN</td>\n",
       "      <td>NaN</td>\n",
       "      <td>NaN</td>\n",
       "    </tr>\n",
       "    <tr>\n",
       "      <th>5</th>\n",
       "      <td>Tetris</td>\n",
       "      <td>GB</td>\n",
       "      <td>1989.0</td>\n",
       "      <td>Puzzle</td>\n",
       "      <td>23.20</td>\n",
       "      <td>2.26</td>\n",
       "      <td>4.22</td>\n",
       "      <td>0.58</td>\n",
       "      <td>NaN</td>\n",
       "      <td>NaN</td>\n",
       "      <td>NaN</td>\n",
       "    </tr>\n",
       "    <tr>\n",
       "      <th>6</th>\n",
       "      <td>New Super Mario Bros.</td>\n",
       "      <td>DS</td>\n",
       "      <td>2006.0</td>\n",
       "      <td>Platform</td>\n",
       "      <td>11.28</td>\n",
       "      <td>9.14</td>\n",
       "      <td>6.50</td>\n",
       "      <td>2.88</td>\n",
       "      <td>89.0</td>\n",
       "      <td>8.5</td>\n",
       "      <td>E</td>\n",
       "    </tr>\n",
       "    <tr>\n",
       "      <th>7</th>\n",
       "      <td>Wii Play</td>\n",
       "      <td>Wii</td>\n",
       "      <td>2006.0</td>\n",
       "      <td>Misc</td>\n",
       "      <td>13.96</td>\n",
       "      <td>9.18</td>\n",
       "      <td>2.93</td>\n",
       "      <td>2.84</td>\n",
       "      <td>58.0</td>\n",
       "      <td>6.6</td>\n",
       "      <td>E</td>\n",
       "    </tr>\n",
       "    <tr>\n",
       "      <th>8</th>\n",
       "      <td>New Super Mario Bros. Wii</td>\n",
       "      <td>Wii</td>\n",
       "      <td>2009.0</td>\n",
       "      <td>Platform</td>\n",
       "      <td>14.44</td>\n",
       "      <td>6.94</td>\n",
       "      <td>4.70</td>\n",
       "      <td>2.24</td>\n",
       "      <td>87.0</td>\n",
       "      <td>8.4</td>\n",
       "      <td>E</td>\n",
       "    </tr>\n",
       "    <tr>\n",
       "      <th>9</th>\n",
       "      <td>Duck Hunt</td>\n",
       "      <td>NES</td>\n",
       "      <td>1984.0</td>\n",
       "      <td>Shooter</td>\n",
       "      <td>26.93</td>\n",
       "      <td>0.63</td>\n",
       "      <td>0.28</td>\n",
       "      <td>0.47</td>\n",
       "      <td>NaN</td>\n",
       "      <td>NaN</td>\n",
       "      <td>NaN</td>\n",
       "    </tr>\n",
       "    <tr>\n",
       "      <th>10</th>\n",
       "      <td>Nintendogs</td>\n",
       "      <td>DS</td>\n",
       "      <td>2005.0</td>\n",
       "      <td>Simulation</td>\n",
       "      <td>9.05</td>\n",
       "      <td>10.95</td>\n",
       "      <td>1.93</td>\n",
       "      <td>2.74</td>\n",
       "      <td>NaN</td>\n",
       "      <td>NaN</td>\n",
       "      <td>NaN</td>\n",
       "    </tr>\n",
       "    <tr>\n",
       "      <th>11</th>\n",
       "      <td>Mario Kart DS</td>\n",
       "      <td>DS</td>\n",
       "      <td>2005.0</td>\n",
       "      <td>Racing</td>\n",
       "      <td>9.71</td>\n",
       "      <td>7.47</td>\n",
       "      <td>4.13</td>\n",
       "      <td>1.90</td>\n",
       "      <td>91.0</td>\n",
       "      <td>8.6</td>\n",
       "      <td>E</td>\n",
       "    </tr>\n",
       "    <tr>\n",
       "      <th>12</th>\n",
       "      <td>Pokemon Gold/Pokemon Silver</td>\n",
       "      <td>GB</td>\n",
       "      <td>1999.0</td>\n",
       "      <td>Role-Playing</td>\n",
       "      <td>9.00</td>\n",
       "      <td>6.18</td>\n",
       "      <td>7.20</td>\n",
       "      <td>0.71</td>\n",
       "      <td>NaN</td>\n",
       "      <td>NaN</td>\n",
       "      <td>NaN</td>\n",
       "    </tr>\n",
       "    <tr>\n",
       "      <th>13</th>\n",
       "      <td>Wii Fit</td>\n",
       "      <td>Wii</td>\n",
       "      <td>2007.0</td>\n",
       "      <td>Sports</td>\n",
       "      <td>8.92</td>\n",
       "      <td>8.03</td>\n",
       "      <td>3.60</td>\n",
       "      <td>2.15</td>\n",
       "      <td>80.0</td>\n",
       "      <td>7.7</td>\n",
       "      <td>E</td>\n",
       "    </tr>\n",
       "    <tr>\n",
       "      <th>14</th>\n",
       "      <td>Kinect Adventures!</td>\n",
       "      <td>X360</td>\n",
       "      <td>2010.0</td>\n",
       "      <td>Misc</td>\n",
       "      <td>15.00</td>\n",
       "      <td>4.89</td>\n",
       "      <td>0.24</td>\n",
       "      <td>1.69</td>\n",
       "      <td>61.0</td>\n",
       "      <td>6.3</td>\n",
       "      <td>E</td>\n",
       "    </tr>\n",
       "  </tbody>\n",
       "</table>\n",
       "</div>"
      ],
      "text/plain": [
       "                           Name Platform  Year_of_Release         Genre  \\\n",
       "0                    Wii Sports      Wii           2006.0        Sports   \n",
       "1             Super Mario Bros.      NES           1985.0      Platform   \n",
       "2                Mario Kart Wii      Wii           2008.0        Racing   \n",
       "3             Wii Sports Resort      Wii           2009.0        Sports   \n",
       "4      Pokemon Red/Pokemon Blue       GB           1996.0  Role-Playing   \n",
       "5                        Tetris       GB           1989.0        Puzzle   \n",
       "6         New Super Mario Bros.       DS           2006.0      Platform   \n",
       "7                      Wii Play      Wii           2006.0          Misc   \n",
       "8     New Super Mario Bros. Wii      Wii           2009.0      Platform   \n",
       "9                     Duck Hunt      NES           1984.0       Shooter   \n",
       "10                   Nintendogs       DS           2005.0    Simulation   \n",
       "11                Mario Kart DS       DS           2005.0        Racing   \n",
       "12  Pokemon Gold/Pokemon Silver       GB           1999.0  Role-Playing   \n",
       "13                      Wii Fit      Wii           2007.0        Sports   \n",
       "14           Kinect Adventures!     X360           2010.0          Misc   \n",
       "\n",
       "    NA_sales  EU_sales  JP_sales  Other_sales  Critic_Score User_Score Rating  \n",
       "0      41.36     28.96      3.77         8.45          76.0          8      E  \n",
       "1      29.08      3.58      6.81         0.77           NaN        NaN    NaN  \n",
       "2      15.68     12.76      3.79         3.29          82.0        8.3      E  \n",
       "3      15.61     10.93      3.28         2.95          80.0          8      E  \n",
       "4      11.27      8.89     10.22         1.00           NaN        NaN    NaN  \n",
       "5      23.20      2.26      4.22         0.58           NaN        NaN    NaN  \n",
       "6      11.28      9.14      6.50         2.88          89.0        8.5      E  \n",
       "7      13.96      9.18      2.93         2.84          58.0        6.6      E  \n",
       "8      14.44      6.94      4.70         2.24          87.0        8.4      E  \n",
       "9      26.93      0.63      0.28         0.47           NaN        NaN    NaN  \n",
       "10      9.05     10.95      1.93         2.74           NaN        NaN    NaN  \n",
       "11      9.71      7.47      4.13         1.90          91.0        8.6      E  \n",
       "12      9.00      6.18      7.20         0.71           NaN        NaN    NaN  \n",
       "13      8.92      8.03      3.60         2.15          80.0        7.7      E  \n",
       "14     15.00      4.89      0.24         1.69          61.0        6.3      E  "
      ]
     },
     "execution_count": 3,
     "metadata": {},
     "output_type": "execute_result"
    }
   ],
   "source": [
    "data.head(15)"
   ]
  },
  {
   "cell_type": "code",
   "execution_count": 4,
   "id": "aebe871b",
   "metadata": {},
   "outputs": [
    {
     "name": "stdout",
     "output_type": "stream",
     "text": [
      "<class 'pandas.core.frame.DataFrame'>\n",
      "RangeIndex: 16715 entries, 0 to 16714\n",
      "Data columns (total 11 columns):\n",
      " #   Column           Non-Null Count  Dtype  \n",
      "---  ------           --------------  -----  \n",
      " 0   Name             16713 non-null  object \n",
      " 1   Platform         16715 non-null  object \n",
      " 2   Year_of_Release  16446 non-null  float64\n",
      " 3   Genre            16713 non-null  object \n",
      " 4   NA_sales         16715 non-null  float64\n",
      " 5   EU_sales         16715 non-null  float64\n",
      " 6   JP_sales         16715 non-null  float64\n",
      " 7   Other_sales      16715 non-null  float64\n",
      " 8   Critic_Score     8137 non-null   float64\n",
      " 9   User_Score       10014 non-null  object \n",
      " 10  Rating           9949 non-null   object \n",
      "dtypes: float64(6), object(5)\n",
      "memory usage: 1.4+ MB\n"
     ]
    }
   ],
   "source": [
    "data.info()"
   ]
  },
  {
   "cell_type": "markdown",
   "id": "4a341635",
   "metadata": {},
   "source": [
    "**Краткое описание данных**\n",
    "\n",
    "Набор данных содержит информацию о продажах компьютерных игр, выпущенных до 2016 года. Датасет включает 16715 записей и 11 столбцов.\n",
    "\n",
    "Столбцы:\n",
    "* Name: Название игры.\n",
    "* Platform: Платформа, на которой выпущена игра.\n",
    "* Year_of_Release: Год выпуска игры.\n",
    "* Genre: Жанр игры.\n",
    "* NA_sales: Продажи в Северной Америке (в миллионах копий).\n",
    "* EU_sales: Продажи в Европе (в миллионах копий).\n",
    "* JP_sales: Продажи в Японии (в миллионах копий).\n",
    "* Other_sales: Продажи в других регионах (в миллионах копий).\n",
    "* Critic_Score: Оценка критиков (максимум 100).\n",
    "* User_Score: Оценка пользователей.\n",
    "* Rating: Рейтинг от Entertainment Software Rating Board (ESRB)."
   ]
  },
  {
   "cell_type": "markdown",
   "id": "a3833395",
   "metadata": {},
   "source": [
    "# Предобработка данных"
   ]
  },
  {
   "cell_type": "code",
   "execution_count": 5,
   "id": "135f09e0",
   "metadata": {},
   "outputs": [
    {
     "name": "stdout",
     "output_type": "stream",
     "text": [
      "<class 'pandas.core.frame.DataFrame'>\n",
      "RangeIndex: 16715 entries, 0 to 16714\n",
      "Data columns (total 11 columns):\n",
      " #   Column        Non-Null Count  Dtype  \n",
      "---  ------        --------------  -----  \n",
      " 0   name          16713 non-null  object \n",
      " 1   platform      16715 non-null  object \n",
      " 2   release_year  16446 non-null  float64\n",
      " 3   genre         16713 non-null  object \n",
      " 4   na_sales      16715 non-null  float64\n",
      " 5   eu_sales      16715 non-null  float64\n",
      " 6   jp_sales      16715 non-null  float64\n",
      " 7   other_sales   16715 non-null  float64\n",
      " 8   critic_score  8137 non-null   float64\n",
      " 9   user_score    10014 non-null  object \n",
      " 10  rating        9949 non-null   object \n",
      "dtypes: float64(6), object(5)\n",
      "memory usage: 1.4+ MB\n"
     ]
    }
   ],
   "source": [
    "data.columns = ['name', 'platform','release_year', 'genre', 'na_sales', 'eu_sales', 'jp_sales', 'other_sales', 'critic_score', 'user_score', 'rating']\n",
    "data.info()"
   ]
  },
  {
   "cell_type": "code",
   "execution_count": 6,
   "id": "9650e4e9",
   "metadata": {},
   "outputs": [],
   "source": [
    "data['release_year'] = data['release_year'].astype('Int64')\n",
    "data['user_score'] = data['user_score'].replace('tbd', np.nan)\n",
    "data['user_score'] = pd.to_numeric(data['user_score'], errors='coerce')\n",
    "data['user_score'] = data['user_score'].astype(float)"
   ]
  },
  {
   "cell_type": "code",
   "execution_count": 7,
   "id": "61e034e0",
   "metadata": {},
   "outputs": [
    {
     "data": {
      "text/plain": [
       "name               2\n",
       "platform           0\n",
       "release_year     269\n",
       "genre              2\n",
       "na_sales           0\n",
       "eu_sales           0\n",
       "jp_sales           0\n",
       "other_sales        0\n",
       "critic_score    8578\n",
       "user_score      9125\n",
       "rating          6766\n",
       "dtype: int64"
      ]
     },
     "execution_count": 7,
     "metadata": {},
     "output_type": "execute_result"
    }
   ],
   "source": [
    "data.isna().sum()"
   ]
  },
  {
   "cell_type": "code",
   "execution_count": 8,
   "id": "b8995436",
   "metadata": {},
   "outputs": [],
   "source": [
    "def pass_value_barh(df):\n",
    "    try:\n",
    "        (\n",
    "            (df.isna().mean()*100)\n",
    "            .to_frame()\n",
    "            .rename(columns = {0:'space'})\n",
    "            .query('space > 0')\n",
    "            .sort_values(by='space', ascending=True)\n",
    "            .plot(kind='barh', figsize=(19, 6), legend=False, fontsize=16, color='SteelBlue')\n",
    "        );\n",
    "        plt.title('Пропущенные значения, %' + \"\\n\", fontsize=22, color='Black')\n",
    "        plt.xlabel('Процент пропусков', fontsize=22)\n",
    "        plt.ylabel('Столбцы с пропусками', fontsize=22)\n",
    "        plt.xlim(0, 100)  # Установка шкалы от 0 до 100\n",
    "    except:\n",
    "        print('Пропусков не осталось :) или произошла ошибка в первой части функции ')"
   ]
  },
  {
   "cell_type": "code",
   "execution_count": 9,
   "id": "8feac88e",
   "metadata": {},
   "outputs": [
    {
     "data": {
      "image/png": "[encoded data removed]",
      "text/plain": [
       "<Figure size 1368x432 with 1 Axes>"
      ]
     },
     "metadata": {
      "needs_background": "light"
     },
     "output_type": "display_data"
    }
   ],
   "source": [
    "pass_value_barh(data)"
   ]
  },
  {
   "cell_type": "code",
   "execution_count": 10,
   "id": "8e532534",
   "metadata": {},
   "outputs": [],
   "source": [
    "#data['name'] = data['name'].fillna('Unknown') \n",
    "#data['genre'] = data['genre'].fillna('Unknown') \n",
    "data['rating'] = data['rating'].fillna('Unknown') "
   ]
  },
  {
   "cell_type": "code",
   "execution_count": 11,
   "id": "67cdc5a4",
   "metadata": {},
   "outputs": [
    {
     "data": {
      "text/html": [
       "<div>\n",
       "<style scoped>\n",
       "    .dataframe tbody tr th:only-of-type {\n",
       "        vertical-align: middle;\n",
       "    }\n",
       "\n",
       "    .dataframe tbody tr th {\n",
       "        vertical-align: top;\n",
       "    }\n",
       "\n",
       "    .dataframe thead th {\n",
       "        text-align: right;\n",
       "    }\n",
       "</style>\n",
       "<table border=\"1\" class=\"dataframe\">\n",
       "  <thead>\n",
       "    <tr style=\"text-align: right;\">\n",
       "      <th></th>\n",
       "      <th>name</th>\n",
       "      <th>platform</th>\n",
       "      <th>release_year</th>\n",
       "      <th>genre</th>\n",
       "      <th>na_sales</th>\n",
       "      <th>eu_sales</th>\n",
       "      <th>jp_sales</th>\n",
       "      <th>other_sales</th>\n",
       "      <th>critic_score</th>\n",
       "      <th>user_score</th>\n",
       "      <th>rating</th>\n",
       "      <th>sum_sales</th>\n",
       "    </tr>\n",
       "  </thead>\n",
       "  <tbody>\n",
       "    <tr>\n",
       "      <th>0</th>\n",
       "      <td>Wii Sports</td>\n",
       "      <td>Wii</td>\n",
       "      <td>2006</td>\n",
       "      <td>Sports</td>\n",
       "      <td>41.36</td>\n",
       "      <td>28.96</td>\n",
       "      <td>3.77</td>\n",
       "      <td>8.45</td>\n",
       "      <td>76.0</td>\n",
       "      <td>8.0</td>\n",
       "      <td>E</td>\n",
       "      <td>82.54</td>\n",
       "    </tr>\n",
       "    <tr>\n",
       "      <th>1</th>\n",
       "      <td>Super Mario Bros.</td>\n",
       "      <td>NES</td>\n",
       "      <td>1985</td>\n",
       "      <td>Platform</td>\n",
       "      <td>29.08</td>\n",
       "      <td>3.58</td>\n",
       "      <td>6.81</td>\n",
       "      <td>0.77</td>\n",
       "      <td>NaN</td>\n",
       "      <td>NaN</td>\n",
       "      <td>Unknown</td>\n",
       "      <td>40.24</td>\n",
       "    </tr>\n",
       "    <tr>\n",
       "      <th>2</th>\n",
       "      <td>Mario Kart Wii</td>\n",
       "      <td>Wii</td>\n",
       "      <td>2008</td>\n",
       "      <td>Racing</td>\n",
       "      <td>15.68</td>\n",
       "      <td>12.76</td>\n",
       "      <td>3.79</td>\n",
       "      <td>3.29</td>\n",
       "      <td>82.0</td>\n",
       "      <td>8.3</td>\n",
       "      <td>E</td>\n",
       "      <td>35.52</td>\n",
       "    </tr>\n",
       "    <tr>\n",
       "      <th>3</th>\n",
       "      <td>Wii Sports Resort</td>\n",
       "      <td>Wii</td>\n",
       "      <td>2009</td>\n",
       "      <td>Sports</td>\n",
       "      <td>15.61</td>\n",
       "      <td>10.93</td>\n",
       "      <td>3.28</td>\n",
       "      <td>2.95</td>\n",
       "      <td>80.0</td>\n",
       "      <td>8.0</td>\n",
       "      <td>E</td>\n",
       "      <td>32.77</td>\n",
       "    </tr>\n",
       "    <tr>\n",
       "      <th>4</th>\n",
       "      <td>Pokemon Red/Pokemon Blue</td>\n",
       "      <td>GB</td>\n",
       "      <td>1996</td>\n",
       "      <td>Role-Playing</td>\n",
       "      <td>11.27</td>\n",
       "      <td>8.89</td>\n",
       "      <td>10.22</td>\n",
       "      <td>1.00</td>\n",
       "      <td>NaN</td>\n",
       "      <td>NaN</td>\n",
       "      <td>Unknown</td>\n",
       "      <td>31.38</td>\n",
       "    </tr>\n",
       "  </tbody>\n",
       "</table>\n",
       "</div>"
      ],
      "text/plain": [
       "                       name platform  release_year         genre  na_sales  \\\n",
       "0                Wii Sports      Wii          2006        Sports     41.36   \n",
       "1         Super Mario Bros.      NES          1985      Platform     29.08   \n",
       "2            Mario Kart Wii      Wii          2008        Racing     15.68   \n",
       "3         Wii Sports Resort      Wii          2009        Sports     15.61   \n",
       "4  Pokemon Red/Pokemon Blue       GB          1996  Role-Playing     11.27   \n",
       "\n",
       "   eu_sales  jp_sales  other_sales  critic_score  user_score   rating  \\\n",
       "0     28.96      3.77         8.45          76.0         8.0        E   \n",
       "1      3.58      6.81         0.77           NaN         NaN  Unknown   \n",
       "2     12.76      3.79         3.29          82.0         8.3        E   \n",
       "3     10.93      3.28         2.95          80.0         8.0        E   \n",
       "4      8.89     10.22         1.00           NaN         NaN  Unknown   \n",
       "\n",
       "   sum_sales  \n",
       "0      82.54  \n",
       "1      40.24  \n",
       "2      35.52  \n",
       "3      32.77  \n",
       "4      31.38  "
      ]
     },
     "execution_count": 11,
     "metadata": {},
     "output_type": "execute_result"
    }
   ],
   "source": [
    "data['sum_sales'] = data[['na_sales','eu_sales','jp_sales', 'other_sales']].sum(axis = 1)\n",
    "data.head()"
   ]
  },
  {
   "cell_type": "code",
   "execution_count": 12,
   "id": "226a34b7",
   "metadata": {},
   "outputs": [
    {
     "data": {
      "text/plain": [
       "0"
      ]
     },
     "execution_count": 12,
     "metadata": {},
     "output_type": "execute_result"
    }
   ],
   "source": [
    "data.duplicated().sum()"
   ]
  },
  {
   "cell_type": "code",
   "execution_count": 13,
   "id": "e6e1ffc1",
   "metadata": {},
   "outputs": [
    {
     "data": {
      "text/html": [
       "<div>\n",
       "<style scoped>\n",
       "    .dataframe tbody tr th:only-of-type {\n",
       "        vertical-align: middle;\n",
       "    }\n",
       "\n",
       "    .dataframe tbody tr th {\n",
       "        vertical-align: top;\n",
       "    }\n",
       "\n",
       "    .dataframe thead th {\n",
       "        text-align: right;\n",
       "    }\n",
       "</style>\n",
       "<table border=\"1\" class=\"dataframe\">\n",
       "  <thead>\n",
       "    <tr style=\"text-align: right;\">\n",
       "      <th></th>\n",
       "      <th>name</th>\n",
       "      <th>platform</th>\n",
       "      <th>release_year</th>\n",
       "      <th>genre</th>\n",
       "      <th>na_sales</th>\n",
       "      <th>eu_sales</th>\n",
       "      <th>jp_sales</th>\n",
       "      <th>other_sales</th>\n",
       "      <th>critic_score</th>\n",
       "      <th>user_score</th>\n",
       "      <th>rating</th>\n",
       "      <th>sum_sales</th>\n",
       "    </tr>\n",
       "  </thead>\n",
       "  <tbody>\n",
       "    <tr>\n",
       "      <th>14244</th>\n",
       "      <td>NaN</td>\n",
       "      <td>GEN</td>\n",
       "      <td>1993</td>\n",
       "      <td>NaN</td>\n",
       "      <td>0.0</td>\n",
       "      <td>0.00</td>\n",
       "      <td>0.03</td>\n",
       "      <td>0.0</td>\n",
       "      <td>NaN</td>\n",
       "      <td>NaN</td>\n",
       "      <td>Unknown</td>\n",
       "      <td>0.03</td>\n",
       "    </tr>\n",
       "    <tr>\n",
       "      <th>16230</th>\n",
       "      <td>Madden NFL 13</td>\n",
       "      <td>PS3</td>\n",
       "      <td>2012</td>\n",
       "      <td>Sports</td>\n",
       "      <td>0.0</td>\n",
       "      <td>0.01</td>\n",
       "      <td>0.00</td>\n",
       "      <td>0.0</td>\n",
       "      <td>83.0</td>\n",
       "      <td>5.5</td>\n",
       "      <td>E</td>\n",
       "      <td>0.01</td>\n",
       "    </tr>\n",
       "  </tbody>\n",
       "</table>\n",
       "</div>"
      ],
      "text/plain": [
       "                name platform  release_year   genre  na_sales  eu_sales  \\\n",
       "14244            NaN      GEN          1993     NaN       0.0      0.00   \n",
       "16230  Madden NFL 13      PS3          2012  Sports       0.0      0.01   \n",
       "\n",
       "       jp_sales  other_sales  critic_score  user_score   rating  sum_sales  \n",
       "14244      0.03          0.0           NaN         NaN  Unknown       0.03  \n",
       "16230      0.00          0.0          83.0         5.5        E       0.01  "
      ]
     },
     "execution_count": 13,
     "metadata": {},
     "output_type": "execute_result"
    }
   ],
   "source": [
    "data[data.duplicated(subset=['name','platform','release_year','genre'], keep='first')]"
   ]
  },
  {
   "cell_type": "code",
   "execution_count": 14,
   "id": "7e76a0f7",
   "metadata": {},
   "outputs": [],
   "source": [
    "data = data.drop_duplicates(subset=['name','platform','release_year','genre'])"
   ]
  },
  {
   "cell_type": "code",
   "execution_count": 15,
   "id": "5873b3b6",
   "metadata": {},
   "outputs": [
    {
     "data": {
      "text/html": [
       "<div>\n",
       "<style scoped>\n",
       "    .dataframe tbody tr th:only-of-type {\n",
       "        vertical-align: middle;\n",
       "    }\n",
       "\n",
       "    .dataframe tbody tr th {\n",
       "        vertical-align: top;\n",
       "    }\n",
       "\n",
       "    .dataframe thead th {\n",
       "        text-align: right;\n",
       "    }\n",
       "</style>\n",
       "<table border=\"1\" class=\"dataframe\">\n",
       "  <thead>\n",
       "    <tr style=\"text-align: right;\">\n",
       "      <th></th>\n",
       "      <th>name</th>\n",
       "      <th>platform</th>\n",
       "      <th>release_year</th>\n",
       "      <th>genre</th>\n",
       "      <th>na_sales</th>\n",
       "      <th>eu_sales</th>\n",
       "      <th>jp_sales</th>\n",
       "      <th>other_sales</th>\n",
       "      <th>critic_score</th>\n",
       "      <th>user_score</th>\n",
       "      <th>rating</th>\n",
       "      <th>sum_sales</th>\n",
       "    </tr>\n",
       "  </thead>\n",
       "  <tbody>\n",
       "    <tr>\n",
       "      <th>0</th>\n",
       "      <td>Wii Sports</td>\n",
       "      <td>Wii</td>\n",
       "      <td>2006</td>\n",
       "      <td>Sports</td>\n",
       "      <td>41.36</td>\n",
       "      <td>28.96</td>\n",
       "      <td>3.77</td>\n",
       "      <td>8.45</td>\n",
       "      <td>76.0</td>\n",
       "      <td>8.0</td>\n",
       "      <td>E</td>\n",
       "      <td>82.54</td>\n",
       "    </tr>\n",
       "    <tr>\n",
       "      <th>1</th>\n",
       "      <td>Super Mario Bros.</td>\n",
       "      <td>NES</td>\n",
       "      <td>1985</td>\n",
       "      <td>Platform</td>\n",
       "      <td>29.08</td>\n",
       "      <td>3.58</td>\n",
       "      <td>6.81</td>\n",
       "      <td>0.77</td>\n",
       "      <td>NaN</td>\n",
       "      <td>NaN</td>\n",
       "      <td>Unknown</td>\n",
       "      <td>40.24</td>\n",
       "    </tr>\n",
       "    <tr>\n",
       "      <th>9</th>\n",
       "      <td>Duck Hunt</td>\n",
       "      <td>NES</td>\n",
       "      <td>1984</td>\n",
       "      <td>Shooter</td>\n",
       "      <td>26.93</td>\n",
       "      <td>0.63</td>\n",
       "      <td>0.28</td>\n",
       "      <td>0.47</td>\n",
       "      <td>NaN</td>\n",
       "      <td>NaN</td>\n",
       "      <td>Unknown</td>\n",
       "      <td>28.31</td>\n",
       "    </tr>\n",
       "    <tr>\n",
       "      <th>5</th>\n",
       "      <td>Tetris</td>\n",
       "      <td>GB</td>\n",
       "      <td>1989</td>\n",
       "      <td>Puzzle</td>\n",
       "      <td>23.20</td>\n",
       "      <td>2.26</td>\n",
       "      <td>4.22</td>\n",
       "      <td>0.58</td>\n",
       "      <td>NaN</td>\n",
       "      <td>NaN</td>\n",
       "      <td>Unknown</td>\n",
       "      <td>30.26</td>\n",
       "    </tr>\n",
       "    <tr>\n",
       "      <th>2</th>\n",
       "      <td>Mario Kart Wii</td>\n",
       "      <td>Wii</td>\n",
       "      <td>2008</td>\n",
       "      <td>Racing</td>\n",
       "      <td>15.68</td>\n",
       "      <td>12.76</td>\n",
       "      <td>3.79</td>\n",
       "      <td>3.29</td>\n",
       "      <td>82.0</td>\n",
       "      <td>8.3</td>\n",
       "      <td>E</td>\n",
       "      <td>35.52</td>\n",
       "    </tr>\n",
       "    <tr>\n",
       "      <th>...</th>\n",
       "      <td>...</td>\n",
       "      <td>...</td>\n",
       "      <td>...</td>\n",
       "      <td>...</td>\n",
       "      <td>...</td>\n",
       "      <td>...</td>\n",
       "      <td>...</td>\n",
       "      <td>...</td>\n",
       "      <td>...</td>\n",
       "      <td>...</td>\n",
       "      <td>...</td>\n",
       "      <td>...</td>\n",
       "    </tr>\n",
       "    <tr>\n",
       "      <th>11730</th>\n",
       "      <td>Tales of Fandom Vol.2</td>\n",
       "      <td>PS2</td>\n",
       "      <td>2007</td>\n",
       "      <td>Role-Playing</td>\n",
       "      <td>0.00</td>\n",
       "      <td>0.00</td>\n",
       "      <td>0.08</td>\n",
       "      <td>0.00</td>\n",
       "      <td>NaN</td>\n",
       "      <td>NaN</td>\n",
       "      <td>Unknown</td>\n",
       "      <td>0.08</td>\n",
       "    </tr>\n",
       "    <tr>\n",
       "      <th>11729</th>\n",
       "      <td>One Piece: Gear Spirit</td>\n",
       "      <td>DS</td>\n",
       "      <td>2007</td>\n",
       "      <td>Fighting</td>\n",
       "      <td>0.00</td>\n",
       "      <td>0.00</td>\n",
       "      <td>0.08</td>\n",
       "      <td>0.00</td>\n",
       "      <td>NaN</td>\n",
       "      <td>NaN</td>\n",
       "      <td>Unknown</td>\n",
       "      <td>0.08</td>\n",
       "    </tr>\n",
       "    <tr>\n",
       "      <th>11718</th>\n",
       "      <td>Fate/Tiger Colosseum</td>\n",
       "      <td>PSP</td>\n",
       "      <td>2007</td>\n",
       "      <td>Fighting</td>\n",
       "      <td>0.00</td>\n",
       "      <td>0.00</td>\n",
       "      <td>0.08</td>\n",
       "      <td>0.00</td>\n",
       "      <td>NaN</td>\n",
       "      <td>NaN</td>\n",
       "      <td>Unknown</td>\n",
       "      <td>0.08</td>\n",
       "    </tr>\n",
       "    <tr>\n",
       "      <th>11715</th>\n",
       "      <td>Need for Speed: Most Wanted</td>\n",
       "      <td>PC</td>\n",
       "      <td>2012</td>\n",
       "      <td>Racing</td>\n",
       "      <td>0.00</td>\n",
       "      <td>0.06</td>\n",
       "      <td>0.00</td>\n",
       "      <td>0.02</td>\n",
       "      <td>82.0</td>\n",
       "      <td>8.5</td>\n",
       "      <td>T</td>\n",
       "      <td>0.08</td>\n",
       "    </tr>\n",
       "    <tr>\n",
       "      <th>16714</th>\n",
       "      <td>Winning Post 8 2016</td>\n",
       "      <td>PSV</td>\n",
       "      <td>2016</td>\n",
       "      <td>Simulation</td>\n",
       "      <td>0.00</td>\n",
       "      <td>0.00</td>\n",
       "      <td>0.01</td>\n",
       "      <td>0.00</td>\n",
       "      <td>NaN</td>\n",
       "      <td>NaN</td>\n",
       "      <td>Unknown</td>\n",
       "      <td>0.01</td>\n",
       "    </tr>\n",
       "  </tbody>\n",
       "</table>\n",
       "<p>16713 rows × 12 columns</p>\n",
       "</div>"
      ],
      "text/plain": [
       "                              name platform  release_year         genre  \\\n",
       "0                       Wii Sports      Wii          2006        Sports   \n",
       "1                Super Mario Bros.      NES          1985      Platform   \n",
       "9                        Duck Hunt      NES          1984       Shooter   \n",
       "5                           Tetris       GB          1989        Puzzle   \n",
       "2                   Mario Kart Wii      Wii          2008        Racing   \n",
       "...                            ...      ...           ...           ...   \n",
       "11730        Tales of Fandom Vol.2      PS2          2007  Role-Playing   \n",
       "11729       One Piece: Gear Spirit       DS          2007      Fighting   \n",
       "11718         Fate/Tiger Colosseum      PSP          2007      Fighting   \n",
       "11715  Need for Speed: Most Wanted       PC          2012        Racing   \n",
       "16714          Winning Post 8 2016      PSV          2016    Simulation   \n",
       "\n",
       "       na_sales  eu_sales  jp_sales  other_sales  critic_score  user_score  \\\n",
       "0         41.36     28.96      3.77         8.45          76.0         8.0   \n",
       "1         29.08      3.58      6.81         0.77           NaN         NaN   \n",
       "9         26.93      0.63      0.28         0.47           NaN         NaN   \n",
       "5         23.20      2.26      4.22         0.58           NaN         NaN   \n",
       "2         15.68     12.76      3.79         3.29          82.0         8.3   \n",
       "...         ...       ...       ...          ...           ...         ...   \n",
       "11730      0.00      0.00      0.08         0.00           NaN         NaN   \n",
       "11729      0.00      0.00      0.08         0.00           NaN         NaN   \n",
       "11718      0.00      0.00      0.08         0.00           NaN         NaN   \n",
       "11715      0.00      0.06      0.00         0.02          82.0         8.5   \n",
       "16714      0.00      0.00      0.01         0.00           NaN         NaN   \n",
       "\n",
       "        rating  sum_sales  \n",
       "0            E      82.54  \n",
       "1      Unknown      40.24  \n",
       "9      Unknown      28.31  \n",
       "5      Unknown      30.26  \n",
       "2            E      35.52  \n",
       "...        ...        ...  \n",
       "11730  Unknown       0.08  \n",
       "11729  Unknown       0.08  \n",
       "11718  Unknown       0.08  \n",
       "11715        T       0.08  \n",
       "16714  Unknown       0.01  \n",
       "\n",
       "[16713 rows x 12 columns]"
      ]
     },
     "execution_count": 15,
     "metadata": {},
     "output_type": "execute_result"
    }
   ],
   "source": [
    "rows_with_nan = data[data['user_score'].isna()]\n",
    "data.sort_values(by='na_sales', ascending=False)"
   ]
  },
  {
   "cell_type": "markdown",
   "id": "024e4383",
   "metadata": {},
   "source": [
    " **Предобработка данных. Краткий вывод**\n",
    "\n",
    "В процессе предобработки данных были выполнены следующие шаги:\n",
    "\n",
    "* Приведение названий столбцов к нижнему регистру для улучшения удобства работы с данными.\n",
    "* Изменение типов данных для столбцов `release_year` и `user_score` на Int64 и float соответственно, чтобы они соответствовали своей природе.\n",
    "* Обнаружено, что столбец `user_score` содержит значения 'tbd' (To be determined), которые были заменены на np.nan для обеспечения единообразия данных.\n",
    "* Выявлено значительное количество пропусков в столбцах `critic_score` (приблизительно 50% от общего объема датасета), `user_score` (приблизительно 55%) и `rating` (приблизительно 40%). Из-за большого объема пропусков в первых двух столбцах было решено не проводить их замену или удаление, чтобы избежать искажения данных. Вместо этого, в столбце `rating` пропуски были заменены значением 'Unknown'.\n",
    "* При проверке на наличие дубликатов были обнаружены и удалены две строки-дубликата."
   ]
  },
  {
   "cell_type": "markdown",
   "id": "ada28da6",
   "metadata": {},
   "source": [
    "# Исследовательский анализ данных"
   ]
  },
  {
   "cell_type": "markdown",
   "id": "2c738298",
   "metadata": {},
   "source": [
    "### Количество игр по годам выпуска"
   ]
  },
  {
   "cell_type": "code",
   "execution_count": 16,
   "id": "a2386d37",
   "metadata": {},
   "outputs": [
    {
     "data": {
      "image/png": "[encoded data removed]",
      "text/plain": [
       "<Figure size 720x432 with 1 Axes>"
      ]
     },
     "metadata": {
      "needs_background": "light"
     },
     "output_type": "display_data"
    }
   ],
   "source": [
    "games_by_year = data.groupby('release_year').size()\n",
    "\n",
    "# Визуализация количества игр по годам\n",
    "plt.figure(figsize=(10, 6))\n",
    "games_by_year.plot(kind='bar', color='skyblue')\n",
    "plt.title('Количество игр по годам выпуска')\n",
    "plt.xlabel('Год выпуска')\n",
    "plt.ylabel('Количество игр')\n",
    "plt.xticks(rotation=45)\n",
    "plt.grid(axis='y', linestyle='--', alpha=0.7)\n",
    "plt.tight_layout()\n",
    "plt.show()"
   ]
  },
  {
   "cell_type": "markdown",
   "id": "25b3ddb2",
   "metadata": {},
   "source": [
    "Исходя из предоставленных данных о количестве выпущенных игр по годам, можно сделать несколько наблюдений:\n",
    "\n",
    "В начале 1980-х годов количество выпускаемых игр было довольно невелико, но затем оно стало расти.\n",
    "Пик выпуска игр приходится на конец 1990-х и начало 2000-х годов, где заметен значительный всплеск в количестве новых игр.\n",
    "В последующие годы наблюдается некоторый спад в выпуске игр, особенно с 2010 года.\n",
    "2007 и 2008 годы являются периодом интенсивного роста, возможно, связанного с развитием новых технологий и игровых платформ."
   ]
  },
  {
   "cell_type": "markdown",
   "id": "df510ec1",
   "metadata": {},
   "source": [
    "### Изменение продаж по платформам в разные годы."
   ]
  },
  {
   "cell_type": "code",
   "execution_count": 17,
   "id": "c9e2d77a",
   "metadata": {},
   "outputs": [
    {
     "data": {
      "image/png": "[encoded data removed]",
      "text/plain": [
       "<Figure size 1080x360 with 1 Axes>"
      ]
     },
     "metadata": {
      "needs_background": "light"
     },
     "output_type": "display_data"
    }
   ],
   "source": [
    "top_platforms = data.groupby('platform')['sum_sales'].sum().sort_values(ascending=False).head(6).index\n",
    "filtered_data = data[data['platform'].isin(top_platforms)]\n",
    "\n",
    "pivot_table = pd.pivot_table(filtered_data, values='sum_sales', index='release_year', columns='platform', aggfunc='sum')\n",
    "pivot_table.plot(kind='bar', figsize=(15, 5))\n",
    "plt.title('Суммарные продажи по платформам по годам')\n",
    "plt.xlabel('Год выпуска')\n",
    "plt.ylabel('Суммарные продажи')\n",
    "plt.legend(title='Платформа')\n",
    "plt.show()"
   ]
  },
  {
   "cell_type": "markdown",
   "id": "151bfccb",
   "metadata": {},
   "source": [
    "На графике видно, что новые платформы появляются примерно каждые 5-7 лет. Например, в 1995 году появились PlayStation, Nintendo 64 и Saturn, в 2000 году - PlayStation 2, Xbox и GameCube, в 2005 году - Nintendo Wii, Xbox 360 и PlayStation 3, в 2010 году - PlayStation Vita, Wii U и Xbox One, в 2015 году - Nintendo Switch и PlayStation 4.\n",
    "\n",
    "Старые платформы, как правило, исчезают через 5-10 лет после выхода. Например, PlayStation, Nintendo 64 и Saturn вышли в 1995 году и были сняты с производства в 2000, 2002 и 2002 годах соответственно. PlayStation 2, Xbox и GameCube вышли в 2000 году и были сняты с производства в 2013, 2013 и 2007 годах соответственно. Nintendo Wii, Xbox 360 и PlayStation 3 вышли в 2005 году и были сняты с производства в 2017, 2016 и 2017 годах соответственно. Nintendo Vita, Wii U и Xbox One вышли в 2010 году и были сняты с производства в 2019, 2017 и 2020 годах соответственно.\n",
    "\n",
    "Таким образом, на рынке видеоигр наблюдается цикличность примерно в 10 лет. Каждый цикл начинается с появления новой платформы, которая постепенно завоёвывает популярность и становится доминирующей на рынке. Через 5-10 лет на рынок выходит новая платформа, которая начинает вытеснять предыдущую. Последняя, в свою очередь, постепенно теряет популярность и в конечном итоге снимается с производства.\n",
    "\n",
    "Конечно, этот цикл не является строго точным. Некоторые платформы могут продержаться на рынке дольше или меньше, чем 10 лет. Например, PlayStation 2 была самой успешной платформой в истории и продержалась на рынке 13 лет. А некоторые платформы, например, Nintendo Wii U, не смогли завоевать популярность и были сняты с производства всего через 7 лет после выхода.\n",
    "\n",
    "Но в целом, цикличность в 10 лет является характерной чертой рынка видеоигр."
   ]
  },
  {
   "cell_type": "markdown",
   "id": "44cad1cb",
   "metadata": {},
   "source": [
    "### Определение актуального периода."
   ]
  },
  {
   "cell_type": "code",
   "execution_count": 18,
   "id": "be3d11e5",
   "metadata": {},
   "outputs": [
    {
     "name": "stdout",
     "output_type": "stream",
     "text": [
      "<class 'pandas.core.frame.DataFrame'>\n",
      "Int64Index: 3154 entries, 16 to 16714\n",
      "Data columns (total 12 columns):\n",
      " #   Column        Non-Null Count  Dtype  \n",
      "---  ------        --------------  -----  \n",
      " 0   name          3154 non-null   object \n",
      " 1   platform      3154 non-null   object \n",
      " 2   release_year  2885 non-null   Int64  \n",
      " 3   genre         3154 non-null   object \n",
      " 4   na_sales      3154 non-null   float64\n",
      " 5   eu_sales      3154 non-null   float64\n",
      " 6   jp_sales      3154 non-null   float64\n",
      " 7   other_sales   3154 non-null   float64\n",
      " 8   critic_score  1465 non-null   float64\n",
      " 9   user_score    1657 non-null   float64\n",
      " 10  rating        3154 non-null   object \n",
      " 11  sum_sales     3154 non-null   float64\n",
      "dtypes: Int64(1), float64(7), object(4)\n",
      "memory usage: 323.4+ KB\n"
     ]
    }
   ],
   "source": [
    "interest_period = data.drop(data[(data['release_year'] < 2012)].index)\n",
    "interest_period.info()"
   ]
  },
  {
   "cell_type": "code",
   "execution_count": 19,
   "id": "c9159b1f",
   "metadata": {},
   "outputs": [
    {
     "data": {
      "text/html": [
       "<div>\n",
       "<style scoped>\n",
       "    .dataframe tbody tr th:only-of-type {\n",
       "        vertical-align: middle;\n",
       "    }\n",
       "\n",
       "    .dataframe tbody tr th {\n",
       "        vertical-align: top;\n",
       "    }\n",
       "\n",
       "    .dataframe thead th {\n",
       "        text-align: right;\n",
       "    }\n",
       "</style>\n",
       "<table border=\"1\" class=\"dataframe\">\n",
       "  <thead>\n",
       "    <tr style=\"text-align: right;\">\n",
       "      <th></th>\n",
       "      <th>name</th>\n",
       "      <th>platform</th>\n",
       "      <th>release_year</th>\n",
       "      <th>genre</th>\n",
       "      <th>na_sales</th>\n",
       "      <th>eu_sales</th>\n",
       "      <th>jp_sales</th>\n",
       "      <th>other_sales</th>\n",
       "      <th>critic_score</th>\n",
       "      <th>user_score</th>\n",
       "      <th>rating</th>\n",
       "      <th>sum_sales</th>\n",
       "    </tr>\n",
       "  </thead>\n",
       "  <tbody>\n",
       "    <tr>\n",
       "      <th>16</th>\n",
       "      <td>Grand Theft Auto V</td>\n",
       "      <td>PS3</td>\n",
       "      <td>2013</td>\n",
       "      <td>Action</td>\n",
       "      <td>7.02</td>\n",
       "      <td>9.09</td>\n",
       "      <td>0.98</td>\n",
       "      <td>3.96</td>\n",
       "      <td>97.0</td>\n",
       "      <td>8.2</td>\n",
       "      <td>M</td>\n",
       "      <td>21.05</td>\n",
       "    </tr>\n",
       "    <tr>\n",
       "      <th>23</th>\n",
       "      <td>Grand Theft Auto V</td>\n",
       "      <td>X360</td>\n",
       "      <td>2013</td>\n",
       "      <td>Action</td>\n",
       "      <td>9.66</td>\n",
       "      <td>5.14</td>\n",
       "      <td>0.06</td>\n",
       "      <td>1.41</td>\n",
       "      <td>97.0</td>\n",
       "      <td>8.1</td>\n",
       "      <td>M</td>\n",
       "      <td>16.27</td>\n",
       "    </tr>\n",
       "    <tr>\n",
       "      <th>31</th>\n",
       "      <td>Call of Duty: Black Ops 3</td>\n",
       "      <td>PS4</td>\n",
       "      <td>2015</td>\n",
       "      <td>Shooter</td>\n",
       "      <td>6.03</td>\n",
       "      <td>5.86</td>\n",
       "      <td>0.36</td>\n",
       "      <td>2.38</td>\n",
       "      <td>NaN</td>\n",
       "      <td>NaN</td>\n",
       "      <td>Unknown</td>\n",
       "      <td>14.63</td>\n",
       "    </tr>\n",
       "    <tr>\n",
       "      <th>33</th>\n",
       "      <td>Pokemon X/Pokemon Y</td>\n",
       "      <td>3DS</td>\n",
       "      <td>2013</td>\n",
       "      <td>Role-Playing</td>\n",
       "      <td>5.28</td>\n",
       "      <td>4.19</td>\n",
       "      <td>4.35</td>\n",
       "      <td>0.78</td>\n",
       "      <td>NaN</td>\n",
       "      <td>NaN</td>\n",
       "      <td>Unknown</td>\n",
       "      <td>14.60</td>\n",
       "    </tr>\n",
       "    <tr>\n",
       "      <th>34</th>\n",
       "      <td>Call of Duty: Black Ops II</td>\n",
       "      <td>PS3</td>\n",
       "      <td>2012</td>\n",
       "      <td>Shooter</td>\n",
       "      <td>4.99</td>\n",
       "      <td>5.73</td>\n",
       "      <td>0.65</td>\n",
       "      <td>2.42</td>\n",
       "      <td>83.0</td>\n",
       "      <td>5.3</td>\n",
       "      <td>M</td>\n",
       "      <td>13.79</td>\n",
       "    </tr>\n",
       "  </tbody>\n",
       "</table>\n",
       "</div>"
      ],
      "text/plain": [
       "                          name platform  release_year         genre  na_sales  \\\n",
       "16          Grand Theft Auto V      PS3          2013        Action      7.02   \n",
       "23          Grand Theft Auto V     X360          2013        Action      9.66   \n",
       "31   Call of Duty: Black Ops 3      PS4          2015       Shooter      6.03   \n",
       "33         Pokemon X/Pokemon Y      3DS          2013  Role-Playing      5.28   \n",
       "34  Call of Duty: Black Ops II      PS3          2012       Shooter      4.99   \n",
       "\n",
       "    eu_sales  jp_sales  other_sales  critic_score  user_score   rating  \\\n",
       "16      9.09      0.98         3.96          97.0         8.2        M   \n",
       "23      5.14      0.06         1.41          97.0         8.1        M   \n",
       "31      5.86      0.36         2.38           NaN         NaN  Unknown   \n",
       "33      4.19      4.35         0.78           NaN         NaN  Unknown   \n",
       "34      5.73      0.65         2.42          83.0         5.3        M   \n",
       "\n",
       "    sum_sales  \n",
       "16      21.05  \n",
       "23      16.27  \n",
       "31      14.63  \n",
       "33      14.60  \n",
       "34      13.79  "
      ]
     },
     "execution_count": 19,
     "metadata": {},
     "output_type": "execute_result"
    }
   ],
   "source": [
    "interest_period.head()"
   ]
  },
  {
   "cell_type": "markdown",
   "id": "d53f36c3",
   "metadata": {},
   "source": [
    "На основании представленной таблицы с продажами игр по платформам в различные годы, можно выделить актуальный период для анализа, ориентируясь на тенденции роста и спада продаж.\n",
    "\n",
    "Актуальный период: 2012-2016 г. Обоснование:\n",
    "\n",
    "Снижение продаж старых платформ: Как видно из данных, продажи на старых платформах (DS, PS, PS2) постепенно уменьшаются и становятся незначительными к 2012 году.\n",
    "\n",
    "Появление новых платформ: В 2012 году начинается активное продвижение новых платформ (PS4, Xbox One), и их доля продаж растет в последующие годы.\n",
    "\n",
    "Стабильные лидеры: На протяжении актуального периода видно, что платформы PS3, Xbox 360, и некоторые другие оставались стабильными лидерами в продажах.\n",
    "\n",
    "Таким образом, фокус на данных за период с 2012 по 2016 годы обоснован для построения прогноза на 2017 год, учитывая снижение значимости старых платформ и рост новых."
   ]
  },
  {
   "cell_type": "markdown",
   "id": "2d39f20b",
   "metadata": {},
   "source": [
    "### Нахождение лидирующих и потенциально прибыльных платформ."
   ]
  },
  {
   "cell_type": "code",
   "execution_count": 20,
   "id": "3b93266c",
   "metadata": {},
   "outputs": [
    {
     "name": "stdout",
     "output_type": "stream",
     "text": [
      "Лидирующие платформы по продажам:\n",
      "platform\n",
      "PS4     314.14\n",
      "PS3     297.09\n",
      "X360    246.72\n",
      "3DS     195.80\n",
      "XOne    159.32\n",
      "WiiU     82.19\n",
      "PC       66.41\n",
      "Wii      51.70\n",
      "PSV      49.44\n",
      "PS2      22.21\n",
      "DS       15.89\n",
      "PSP      15.71\n",
      "2600     10.50\n",
      "XB        6.17\n",
      "GBA       4.97\n",
      "PS        3.28\n",
      "GC        2.20\n",
      "GB        1.03\n",
      "N64       0.67\n",
      "Name: sum_sales, dtype: float64\n"
     ]
    }
   ],
   "source": [
    "# Анализ лидирующих платформ по продажам\n",
    "platform_sales = interest_period.groupby('platform')['sum_sales'].sum().sort_values(ascending=False)\n",
    "print(\"Лидирующие платформы по продажам:\")\n",
    "print(platform_sales)"
   ]
  },
  {
   "cell_type": "code",
   "execution_count": 21,
   "id": "20d1add0",
   "metadata": {},
   "outputs": [
    {
     "name": "stdout",
     "output_type": "stream",
     "text": [
      "\n",
      "Платформы с наибольшим абсолютным ростом продаж:\n",
      "['PS4', 'PSP', 'PSV']\n"
     ]
    }
   ],
   "source": [
    "platform_absolute_growth = platform_sales / platform_sales.shift(fill_value=0) - 1\n",
    "top_growth_platforms = platform_absolute_growth.sort_values(ascending=False).head(3).index.tolist()\n",
    "print(\"\\nПлатформы с наибольшим абсолютным ростом продаж:\")\n",
    "print(top_growth_platforms)"
   ]
  },
  {
   "cell_type": "code",
   "execution_count": 22,
   "id": "467f578c",
   "metadata": {},
   "outputs": [
    {
     "name": "stdout",
     "output_type": "stream",
     "text": [
      "Платформы с наибольшим относительным ростом продаж:\n",
      "platform\n",
      "PS4     8.641016\n",
      "GBA     1.875207\n",
      "X360    1.607850\n",
      "GB      1.279678\n",
      "3DS     0.860532\n",
      "2600    0.274410\n",
      "PS2     0.136769\n",
      "Wii     0.050767\n",
      "N64    -0.102093\n",
      "WiiU   -0.270285\n",
      "PS     -0.282691\n",
      "PS3    -0.282932\n",
      "GC     -0.296375\n",
      "PSP    -0.307319\n",
      "PC     -0.469181\n",
      "XB     -0.544496\n",
      "DS     -0.747095\n",
      "PSV    -0.795745\n",
      "Name: sum_sales, dtype: float64\n"
     ]
    }
   ],
   "source": [
    "platform_sales_mean = interest_period.groupby('platform')['sum_sales'].mean()\n",
    "platform_growth = platform_sales_mean / platform_sales_mean.shift(-1) - 1\n",
    "platform_growth = platform_growth.dropna().sort_values(ascending=False)\n",
    "top_platforms_by_growth = platform_growth.head(3).index.tolist()\n",
    "print(\"Платформы с наибольшим относительным ростом продаж:\")\n",
    "print(platform_growth)"
   ]
  },
  {
   "cell_type": "code",
   "execution_count": 23,
   "id": "c337a8e8",
   "metadata": {},
   "outputs": [
    {
     "name": "stdout",
     "output_type": "stream",
     "text": [
      "Потенциально прибыльные платформы:\n",
      "['PS4', 'GBA', 'X360']\n"
     ]
    }
   ],
   "source": [
    "combined_growth = (1 + platform_absolute_growth) * (1 + platform_growth) - 1\n",
    "top_combined_platforms = combined_growth.sort_values(ascending=False).head(3).index.tolist()\n",
    "print(\"Потенциально прибыльные платформы:\")\n",
    "print(top_combined_platforms)"
   ]
  },
  {
   "cell_type": "markdown",
   "id": "cf037642",
   "metadata": {},
   "source": [
    "Лидирующие платформы по продажам:\n",
    "Основная метрика - суммарные продажи. Эта метрика важна для выявления платформ с наибольшей коммерческой успешностью. В данном случае, PS4, PS3 и X360 показывают самые высокие общие продажи, что может быть интерпретировано как высокая популярность этих платформ среди потребителей.\n",
    "\n",
    "Платформы с наибольшим абсолютным ростом продаж:\n",
    "Дополнительный анализ включает в себя абсолютный рост продаж. Этот показатель дает представление о том, как меняются продажи во времени. PS4, PSP и PSV выделяются среди платформ с самым значительным абсолютным ростом. Это может быть связано с выпуском новых игр, обновлением платформ или другими факторами, которые стимулируют спрос.\n",
    "\n",
    "Платформы с наибольшим относительным ростом продаж:\n",
    "Относительный рост продаж учитывает средние продажи платформы и выявляет тенденции в её динамике. PS4, GBA и X360 имеют наибольший относительный рост, что означает, что эти платформы не только обеспечивают высокие общие продажи, но и демонстрируют стабильное увеличение продаж со временем.\n",
    "\n",
    "Потенциально прибыльные платформы:\n",
    "Комбинированный подход, учитывающий как абсолютный, так и относительный рост, помогает выделить потенциально прибыльные платформы. PS4, GBA и X360 выбраны как такие платформы. Такой выбор обоснован тем, что эти платформы не только успешны по общим продажам, но и демонстрируют тенденцию к постоянному увеличению спроса, что может быть ключевым фактором для инвесторов и разработчиков.\n",
    "\n"
   ]
  },
  {
   "cell_type": "code",
   "execution_count": 24,
   "id": "8866626d",
   "metadata": {},
   "outputs": [
    {
     "data": {
      "image/png": "[encoded data removed]",
      "text/plain": [
       "<Figure size 1080x432 with 1 Axes>"
      ]
     },
     "metadata": {
      "needs_background": "light"
     },
     "output_type": "display_data"
    }
   ],
   "source": [
    "plt.figure(figsize=(15, 6))\n",
    "sns.boxplot(x='platform', y='sum_sales', data=interest_period[interest_period['platform'].isin(top_platforms_by_growth)])\n",
    "plt.title('Глобальные продажи игр по платформам с наибольшим ростом')\n",
    "plt.xlabel('Платформа')\n",
    "plt.ylabel('Продажи (млн копий)')\n",
    "plt.ylim(0, 2)  \n",
    "plt.show()"
   ]
  },
  {
   "cell_type": "markdown",
   "id": "f1343b4d",
   "metadata": {},
   "source": [
    "Анализ \"ящика с усами\" для глобальных продаж игр на платформах PS4, X360 и GBA позволяет выделить различия в распределении продаж между этими платформами. PS4 и X360 имеют схожие медианные значения продаж (около 0.2 и 0.28 миллиона копий соответственно) и сопоставимые интерквартильные размахи. Обе платформы также демонстрируют наличие выбросов с высокими значениями продаж. С другой стороны, GBA характеризуется более низкой медианой (примерно 0.16 миллиона копий), но также обнаруживает наличие выбросов с более высокими продажами. Это может указывать на неоднородность в данных для GBA, где несколько игр продались на уровне, характерном для более крупных платформ."
   ]
  },
  {
   "cell_type": "markdown",
   "id": "fdac4759",
   "metadata": {},
   "source": [
    "### Анализ влияния оценки пользователей и критиков на продажи платформы "
   ]
  },
  {
   "cell_type": "code",
   "execution_count": 25,
   "id": "8c93ff55",
   "metadata": {
    "scrolled": false
   },
   "outputs": [
    {
     "data": {
      "image/png": "[encoded data removed]",
      "text/plain": [
       "<Figure size 864x576 with 1 Axes>"
      ]
     },
     "metadata": {
      "needs_background": "light"
     },
     "output_type": "display_data"
    }
   ],
   "source": [
    "ps3_data = interest_period[interest_period['platform'] == 'PS3']\n",
    "\n",
    "plt.figure(figsize=(12, 8))\n",
    "sns.scatterplot(x='critic_score', y='sum_sales', data=ps3_data, label='Critic Score')\n",
    "plt.title('Влияние отзывов критиков на продажи (PS3)')\n",
    "plt.xlabel('Оценка критиков')\n",
    "plt.ylabel('Продажи (млн копий)')\n",
    "plt.show()"
   ]
  },
  {
   "cell_type": "code",
   "execution_count": 26,
   "id": "bbcad819",
   "metadata": {},
   "outputs": [
    {
     "data": {
      "image/png": "[encoded data removed]",
      "text/plain": [
       "<Figure size 864x576 with 1 Axes>"
      ]
     },
     "metadata": {
      "needs_background": "light"
     },
     "output_type": "display_data"
    }
   ],
   "source": [
    "plt.figure(figsize=(12, 8))\n",
    "sns.scatterplot(x='user_score', y='sum_sales', data=ps3_data, label='User Score')\n",
    "plt.title('Влияние отзывов пользователей на продажи (PS3)')\n",
    "plt.xlabel('Оценка пользователей')\n",
    "plt.ylabel('Продажи (млн копий)')\n",
    "plt.show()"
   ]
  },
  {
   "cell_type": "code",
   "execution_count": 27,
   "id": "22335885",
   "metadata": {},
   "outputs": [
    {
     "name": "stdout",
     "output_type": "stream",
     "text": [
      "Платформа: PS3\n",
      "Корреляция между отзывами критиков и продажами: 0.33451355035559455\n",
      "Корреляция между отзывами пользователей и продажами: -0.007980185727574007\n",
      "--------\n",
      "Платформа: X360\n",
      "Корреляция между отзывами критиков и продажами: 0.36811788816144275\n",
      "Корреляция между отзывами пользователей и продажами: 0.005916643352759989\n",
      "--------\n",
      "Платформа: PS4\n",
      "Корреляция между отзывами критиков и продажами: 0.40656790206178095\n",
      "Корреляция между отзывами пользователей и продажами: -0.031957110204556376\n",
      "--------\n",
      "Платформа: 3DS\n",
      "Корреляция между отзывами критиков и продажами: 0.323378043752059\n",
      "Корреляция между отзывами пользователей и продажами: 0.20373479097542724\n",
      "--------\n",
      "Платформа: DS\n",
      "Корреляция между отзывами критиков и продажами: 0.5850917296831808\n",
      "Корреляция между отзывами пользователей и продажами: 0.43795618053444174\n",
      "--------\n",
      "Платформа: XOne\n",
      "Корреляция между отзывами критиков и продажами: 0.4169983280084017\n",
      "Корреляция между отзывами пользователей и продажами: -0.06892505328279414\n",
      "--------\n",
      "Платформа: WiiU\n",
      "Корреляция между отзывами критиков и продажами: 0.34837976012017485\n",
      "Корреляция между отзывами пользователей и продажами: 0.4002190202148617\n",
      "--------\n",
      "Платформа: Wii\n",
      "Корреляция между отзывами критиков и продажами: 0.35546415114817176\n",
      "Корреляция между отзывами пользователей и продажами: 0.1939158778986831\n",
      "--------\n",
      "Платформа: PS2\n",
      "Корреляция между отзывами критиков и продажами: 0.5735893910117336\n",
      "Корреляция между отзывами пользователей и продажами: 0.03434626095477098\n",
      "--------\n",
      "Платформа: PC\n",
      "Корреляция между отзывами критиков и продажами: 0.23705979245494208\n",
      "Корреляция между отзывами пользователей и продажами: -0.12722782553725262\n",
      "--------\n",
      "Платформа: 2600\n",
      "Корреляция между отзывами критиков и продажами: nan\n",
      "Корреляция между отзывами пользователей и продажами: nan\n",
      "--------\n",
      "Платформа: GBA\n",
      "Корреляция между отзывами критиков и продажами: 0.03573895218575317\n",
      "Корреляция между отзывами пользователей и продажами: -0.7717744269630763\n",
      "--------\n",
      "Платформа: PSV\n",
      "Корреляция между отзывами критиков и продажами: 0.09446607248243677\n",
      "Корреляция между отзывами пользователей и продажами: -0.004229953914709044\n",
      "--------\n",
      "Платформа: PS\n",
      "Корреляция между отзывами критиков и продажами: 0.7342396391092422\n",
      "Корреляция между отзывами пользователей и продажами: 0.9287411522883134\n",
      "--------\n",
      "Платформа: PSP\n",
      "Корреляция между отзывами критиков и продажами: 0.3671944398190721\n",
      "Корреляция между отзывами пользователей и продажами: 0.1379197513743017\n",
      "--------\n",
      "Платформа: XB\n",
      "Корреляция между отзывами критиков и продажами: 0.5394995023587958\n",
      "Корреляция между отзывами пользователей и продажами: 0.6151991176904377\n",
      "--------\n",
      "Платформа: GB\n",
      "Корреляция между отзывами критиков и продажами: nan\n",
      "Корреляция между отзывами пользователей и продажами: nan\n",
      "--------\n",
      "Платформа: GC\n",
      "Корреляция между отзывами критиков и продажами: 0.5772315674400083\n",
      "Корреляция между отзывами пользователей и продажами: 0.5592077277530741\n",
      "--------\n",
      "Платформа: N64\n",
      "Корреляция между отзывами критиков и продажами: nan\n",
      "Корреляция между отзывами пользователей и продажами: nan\n",
      "--------\n"
     ]
    }
   ],
   "source": [
    "platforms = interest_period['platform'].unique()\n",
    "\n",
    "for platform in platforms:\n",
    "    platform_data = interest_period[interest_period['platform'] == platform]\n",
    "\n",
    "    correlation_critic = platform_data['critic_score'].corr(platform_data['sum_sales'])\n",
    "    correlation_user = platform_data['user_score'].astype(float).corr(platform_data['sum_sales'])\n",
    "    \n",
    "    print(f\"Платформа: {platform}\")\n",
    "    print(f\"Корреляция между отзывами критиков и продажами: {correlation_critic}\")\n",
    "    print(f\"Корреляция между отзывами пользователей и продажами: {correlation_user}\")\n",
    "    print(\"--------\")"
   ]
  },
  {
   "cell_type": "markdown",
   "id": "ec6fec43",
   "metadata": {},
   "source": [
    "Отзывы критиков (PS3):\n",
    "* График рассеяния: Визуально видно, что с увеличением оценок критиков растут и глобальные продажи игр.\n",
    "* Корреляция: Коэффициент корреляции между оценками критиков и продажами составляет приблизительно 0.33. Это указывает на слабую положительную корреляцию, что означает, что у игр с более высокими оценками критиков склонность к более высоким продажам.\n",
    "\n",
    "Отзывы пользователей (PS3):\n",
    "* График рассеяния: В данном случае, визуальная связь между оценками пользователей и продажами не так явно выражена, и точки на графике более равномерно распределены.\n",
    "* Корреляция: Коэффициент корреляции между оценками пользователей и продажами составляет приблизительно -0.008. Это близко к нулю и указывает на отсутствие четкой линейной связи между оценками пользователей и продажами.\n",
    "\n",
    "Общие тенденции показывают, что отзывы критиков чаще всего имеют положительную корреляцию с продажами, но эта связь может быть как более сильной (например, PS4, XOne), так и менее выраженной (например, PC, PSV).\n",
    "Отзывы пользователей часто имеют меньшую корреляцию с продажами, и в некоторых случаях эта связь даже может быть отрицательной (например, GBA, PS4, XOne).\n",
    "Важно отметить, что корреляция не обязательно означает причинно-следственную связь, и различия в корреляциях могут зависеть от особенностей каждой платформы и рынка."
   ]
  },
  {
   "cell_type": "markdown",
   "id": "16fd5dcc",
   "metadata": {},
   "source": [
    "### Определение "
   ]
  },
  {
   "cell_type": "code",
   "execution_count": 28,
   "id": "985aec87",
   "metadata": {},
   "outputs": [
    {
     "data": {
      "image/png": "[encoded data removed]",
      "text/plain": [
       "<Figure size 720x576 with 1 Axes>"
      ]
     },
     "metadata": {
      "needs_background": "light"
     },
     "output_type": "display_data"
    }
   ],
   "source": [
    "genre_sales = interest_period.groupby('genre')['sum_sales'].sum().sort_values(ascending=True)\n",
    "\n",
    "plt.figure(figsize=(10, 8))\n",
    "genre_sales.plot(kind='barh', color='skyblue')\n",
    "plt.title('Распределение продаж по жанрам')\n",
    "plt.xlabel('Сумма продаж (млн)')\n",
    "plt.ylabel('Жанр')\n",
    "plt.show()"
   ]
  },
  {
   "cell_type": "code",
   "execution_count": 29,
   "id": "aa0fe63b",
   "metadata": {},
   "outputs": [
    {
     "data": {
      "image/png": "[encoded data removed]",
      "text/plain": [
       "<Figure size 864x576 with 1 Axes>"
      ]
     },
     "metadata": {
      "needs_background": "light"
     },
     "output_type": "display_data"
    }
   ],
   "source": [
    "plt.figure(figsize=(12, 8))\n",
    "sns.boxplot(x='sum_sales', y='genre', data=interest_period, showfliers=False)\n",
    "plt.title('Распределение продаж по жанрам')\n",
    "plt.xlabel('Продажи (млн копий)')\n",
    "plt.ylabel('Жанр')\n",
    "plt.show()"
   ]
  },
  {
   "cell_type": "markdown",
   "id": "118eccfe",
   "metadata": {},
   "source": [
    "График \"ящик с усами\" по продажам игр в разрезе жанров демонстрирует существенные различия в распределении продаж между разными жанрами.\n",
    "\n",
    "Медианные продажи: Shooter, Sports и Platform выделяются более высокими медианными продажами, указывая на то, что в этих жанрах многие игры достигают значительного коммерческого успеха.\n",
    "\n",
    "Размах продаж: Shooter и Sports имеют более широкий размах значений, что свидетельствует о наличии как игр с невероятно высокими продажами, так и тех, у которых продажи ниже среднего. В отличие от этого, у Puzzle, Strategy и Advanture размах значений сужен, что может указывать на более узкую популярность этих жанров среди игроков.\n",
    "\n",
    "Общий тренд: График подчеркивает, что существует разнообразие в успешности игр разных жанров, и наиболее успешные жанры можно выделить по высоким медианным продажам и широкому размаху значений."
   ]
  },
  {
   "cell_type": "code",
   "execution_count": 30,
   "id": "0b37e139",
   "metadata": {},
   "outputs": [
    {
     "name": "stdout",
     "output_type": "stream",
     "text": [
      "Общие продажи по жанрам: genre\n",
      "Puzzle            7.57\n",
      "Strategy         15.00\n",
      "Adventure        33.69\n",
      "Simulation       37.13\n",
      "Fighting         49.36\n",
      "Racing           58.68\n",
      "Platform         63.22\n",
      "Misc             97.26\n",
      "Role-Playing    196.28\n",
      "Sports          202.66\n",
      "Shooter         315.82\n",
      "Action          468.77\n",
      "Name: sum_sales, dtype: float64\n",
      "\n",
      "Средние продажи по жанрам: genre\n",
      "Adventure       0.107981\n",
      "Strategy        0.185185\n",
      "Puzzle          0.194103\n",
      "Simulation      0.386771\n",
      "Fighting        0.407934\n",
      "Racing          0.425217\n",
      "Action          0.428884\n",
      "Misc            0.440090\n",
      "Role-Playing    0.507183\n",
      "Sports          0.655858\n",
      "Platform        0.665474\n",
      "Shooter         1.205420\n",
      "Name: sum_sales, dtype: float64\n",
      "\n",
      "Медианные продажи по жанрам: genre\n",
      "Adventure       0.030\n",
      "Puzzle          0.070\n",
      "Strategy        0.080\n",
      "Simulation      0.115\n",
      "Misc            0.120\n",
      "Action          0.120\n",
      "Fighting        0.130\n",
      "Racing          0.130\n",
      "Role-Playing    0.130\n",
      "Platform        0.180\n",
      "Sports          0.240\n",
      "Shooter         0.410\n",
      "Name: sum_sales, dtype: float64\n"
     ]
    }
   ],
   "source": [
    "print('Общие продажи по жанрам:', genre_sales)\n",
    "\n",
    "genre_sales_mean = interest_period.groupby('genre')['sum_sales'].mean().sort_values(ascending=True)\n",
    "print('\\nСредние продажи по жанрам:', genre_sales_mean)\n",
    "\n",
    "genre_sales_median = interest_period.groupby('genre')['sum_sales'].median().sort_values(ascending=True)\n",
    "print('\\nМедианные продажи по жанрам:', genre_sales_median)"
   ]
  },
  {
   "cell_type": "markdown",
   "id": "4ccb557d",
   "metadata": {},
   "source": [
    "Самые прибыльные жанры:\n",
    "\n",
    "Action и Shooter: Эти два жанра лидируют по общим продажам, превышая суммарные продажи других жанров. Shooter выделяется наибольшими продажами с общей суммой в 315.82 миллиона копий, в то время как Action следует за ним с суммарными продажами в 468.77 миллиона копий.\n",
    "\n",
    "Sports и Role-Playing: Также в числе прибыльных жанров. Sports имеет общие продажи в размере 202.66 миллиона копий, в то время как Role-Playing оказывается на третьем месте с суммой в 196.28 миллиона копий.\n",
    "\n",
    "Жанры с высокими и низкими продажами:\n",
    "\n",
    "Низкие продажи: Puzzle и Strategy - эти жанры имеют наименьшие общие продажи с суммами 7.57 миллиона и 15.00 миллиона копий соответственно.\n",
    "\n",
    "Высокие продажи: Action и Shooter оказываются наиболее успешными с высокими общими продажами, превышающими другие жанры.\n",
    "\n",
    "Средние и медианные продажи:\n",
    "\n",
    "Средние продажи: Жанры Shooter, Sports и Platform выделяются среди прочих по средним продажам. Shooter имеет самые высокие средние продажи (1.21 миллиона копий), Sports и Platform также показывают хорошие результаты со средними продажами в 0.66 и 0.67 миллиона копий соответственно.\n",
    "\n",
    "Медианные продажи: Adventure, Puzzle и Strategy имеют наименьшие медианные продажи, что может свидетельствовать о более широком разбросе значений в этих жанрах. В то время как Action, Shooter и Role-Playing демонстрируют более высокие медианные продажи, что может указывать на более стабильные результаты в этих категориях.\n"
   ]
  },
  {
   "cell_type": "markdown",
   "id": "db162c00",
   "metadata": {},
   "source": [
    "# Шаг 4. Составьте портрет пользователя каждого региона\n",
    "\n",
    "Определите для пользователя каждого региона (NA, EU, JP):\n",
    "* Самые популярные платформы (топ-5). Опишите различия в долях продаж.\n",
    "* Самые популярные жанры (топ-5). Поясните разницу.\n",
    "* Влияет ли рейтинг ESRB на продажи в отдельном регионе?\n"
   ]
  },
  {
   "cell_type": "code",
   "execution_count": 31,
   "id": "e86b59bb",
   "metadata": {},
   "outputs": [
    {
     "name": "stdout",
     "output_type": "stream",
     "text": [
      "Самые популярные платформы в Северной Америке:\n",
      " platform\n",
      "X360    146.78\n",
      "PS4     108.74\n",
      "PS3     106.74\n",
      "XOne     93.12\n",
      "3DS      56.15\n",
      "Name: na_sales, dtype: float64\n",
      "\n",
      "Самые популярные платформы в Европе:\n",
      " platform\n",
      "PS4     141.09\n",
      "PS3     109.93\n",
      "X360     76.96\n",
      "XOne     51.59\n",
      "3DS      42.85\n",
      "Name: eu_sales, dtype: float64\n",
      "\n",
      "Самые популярные платформы в Японии:\n",
      " platform\n",
      "3DS     87.84\n",
      "PS3     36.07\n",
      "PSV     21.11\n",
      "PS4     15.96\n",
      "WiiU    13.01\n",
      "Name: jp_sales, dtype: float64\n"
     ]
    }
   ],
   "source": [
    "# Самые популярные платформы (топ-5) в каждом регионе\n",
    "na_platforms = interest_period.groupby('platform')['na_sales'].sum().nlargest(5)\n",
    "eu_platforms = interest_period.groupby('platform')['eu_sales'].sum().nlargest(5)\n",
    "jp_platforms = interest_period.groupby('platform')['jp_sales'].sum().nlargest(5)\n",
    "\n",
    "# Вывод результатов\n",
    "print(\"Самые популярные платформы в Северной Америке:\\n\", na_platforms)\n",
    "print(\"\\nСамые популярные платформы в Европе:\\n\", eu_platforms)\n",
    "print(\"\\nСамые популярные платформы в Японии:\\n\", jp_platforms)"
   ]
  },
  {
   "cell_type": "code",
   "execution_count": 32,
   "id": "c82a90a3",
   "metadata": {},
   "outputs": [
    {
     "name": "stdout",
     "output_type": "stream",
     "text": [
      "Самые популярные жанры в Северной Америке:\n",
      " genre\n",
      "Action          193.68\n",
      "Shooter         152.18\n",
      "Sports           94.76\n",
      "Role-Playing     64.77\n",
      "Misc             45.89\n",
      "Name: na_sales, dtype: float64\n",
      "\n",
      "Самые популярные жанры в Европе:\n",
      " genre\n",
      "Action          167.48\n",
      "Shooter         116.29\n",
      "Sports           74.54\n",
      "Role-Playing     49.00\n",
      "Racing           29.31\n",
      "Name: eu_sales, dtype: float64\n",
      "\n",
      "Самые популярные жанры в Японии:\n",
      " genre\n",
      "Role-Playing    67.46\n",
      "Action          54.09\n",
      "Misc            13.95\n",
      "Simulation      10.57\n",
      "Fighting         9.64\n",
      "Name: jp_sales, dtype: float64\n"
     ]
    }
   ],
   "source": [
    "# Самые популярные жанры (топ-5) в каждом регионе\n",
    "na_genres = interest_period.groupby('genre')['na_sales'].sum().nlargest(5)\n",
    "eu_genres = interest_period.groupby('genre')['eu_sales'].sum().nlargest(5)\n",
    "jp_genres = interest_period.groupby('genre')['jp_sales'].sum().nlargest(5)\n",
    "\n",
    "print(\"Самые популярные жанры в Северной Америке:\\n\", na_genres)\n",
    "print(\"\\nСамые популярные жанры в Европе:\\n\", eu_genres)\n",
    "print(\"\\nСамые популярные жанры в Японии:\\n\", jp_genres)"
   ]
  },
  {
   "cell_type": "code",
   "execution_count": 33,
   "id": "205b2f38",
   "metadata": {},
   "outputs": [
    {
     "name": "stdout",
     "output_type": "stream",
     "text": [
      "\n",
      "Продажи в Северной Америке по рейтингу ESRB:\n",
      " rating\n",
      "E          133.12\n",
      "E10+        83.52\n",
      "M          237.16\n",
      "RP           0.00\n",
      "T           78.17\n",
      "Unknown    118.15\n",
      "Name: na_sales, dtype: float64\n",
      "\n",
      "Продажи в Европе по рейтингу ESRB:\n",
      " rating\n",
      "E          119.40\n",
      "E10+        60.54\n",
      "M          197.93\n",
      "RP           0.05\n",
      "T           58.20\n",
      "Unknown     95.15\n",
      "Name: eu_sales, dtype: float64\n",
      "\n",
      "Продажи в Японии по рейтингу ESRB:\n",
      " rating\n",
      "E           28.48\n",
      "E10+         8.19\n",
      "M           21.86\n",
      "RP           0.00\n",
      "T           26.72\n",
      "Unknown    114.03\n",
      "Name: jp_sales, dtype: float64\n"
     ]
    }
   ],
   "source": [
    "# Влияет ли рейтинг ESRB на продажи в отдельном регионе?\n",
    "na_esrb_sales = interest_period.groupby('rating')['na_sales'].sum()\n",
    "eu_esrb_sales = interest_period.groupby('rating')['eu_sales'].sum()\n",
    "jp_esrb_sales = interest_period.groupby('rating')['jp_sales'].sum()\n",
    "\n",
    "print(\"\\nПродажи в Северной Америке по рейтингу ESRB:\\n\", na_esrb_sales)\n",
    "print(\"\\nПродажи в Европе по рейтингу ESRB:\\n\", eu_esrb_sales)\n",
    "print(\"\\nПродажи в Японии по рейтингу ESRB:\\n\", jp_esrb_sales)"
   ]
  },
  {
   "cell_type": "code",
   "execution_count": 34,
   "id": "3b0c6a67",
   "metadata": {},
   "outputs": [
    {
     "data": {
      "image/png": "[encoded data removed]",
      "text/plain": [
       "<Figure size 1080x360 with 3 Axes>"
      ]
     },
     "metadata": {},
     "output_type": "display_data"
    }
   ],
   "source": [
    "sns.set(style=\"whitegrid\")\n",
    "# Визуализация самых популярных платформ\n",
    "plt.figure(figsize=(15, 5))\n",
    "plt.subplot(1, 3, 1)\n",
    "sns.barplot(x=na_platforms.index, y=na_platforms.values, palette=\"muted\")\n",
    "plt.title('NA - Топ-5 платформ')\n",
    "plt.subplot(1, 3, 2)\n",
    "sns.barplot(x=eu_platforms.index, y=eu_platforms.values, palette=\"muted\")\n",
    "plt.title('EU - Топ-5 платформ')\n",
    "plt.subplot(1, 3, 3)\n",
    "sns.barplot(x=jp_platforms.index, y=jp_platforms.values, palette=\"muted\")\n",
    "plt.title('JP - Топ-5 платформ')\n",
    "plt.tight_layout()\n",
    "plt.show()"
   ]
  },
  {
   "cell_type": "code",
   "execution_count": 35,
   "id": "8c4294f5",
   "metadata": {},
   "outputs": [
    {
     "data": {
      "image/png": "[encoded data removed]",
      "text/plain": [
       "<Figure size 1080x360 with 3 Axes>"
      ]
     },
     "metadata": {},
     "output_type": "display_data"
    }
   ],
   "source": [
    "# Визуализация самых популярных жанров\n",
    "plt.figure(figsize=(15, 5))\n",
    "plt.subplot(1, 3, 1)\n",
    "sns.barplot(x=na_genres.index, y=na_genres.values, palette=\"muted\")\n",
    "plt.title('NA - Топ-5 жанров')\n",
    "plt.subplot(1, 3, 2)\n",
    "sns.barplot(x=eu_genres.index, y=eu_genres.values, palette=\"muted\")\n",
    "plt.title('EU - Топ-5 жанров')\n",
    "plt.subplot(1, 3, 3)\n",
    "sns.barplot(x=jp_genres.index, y=jp_genres.values, palette=\"muted\")\n",
    "plt.title('JP - Топ-5 жанров')\n",
    "plt.tight_layout()\n",
    "plt.show()"
   ]
  },
  {
   "cell_type": "code",
   "execution_count": 36,
   "id": "e34ad458",
   "metadata": {},
   "outputs": [
    {
     "data": {
      "image/png": "[encoded data removed]",
      "text/plain": [
       "<Figure size 1080x360 with 3 Axes>"
      ]
     },
     "metadata": {},
     "output_type": "display_data"
    }
   ],
   "source": [
    "# Визуализация влияния рейтинга ESRB на продажи\n",
    "plt.figure(figsize=(15, 5))\n",
    "plt.subplot(1, 3, 1)\n",
    "sns.barplot(x=na_esrb_sales.index, y=na_esrb_sales.values, palette=\"muted\")\n",
    "plt.title('NA - Продажи по рейтингу ESRB')\n",
    "plt.subplot(1, 3, 2)\n",
    "sns.barplot(x=eu_esrb_sales.index, y=eu_esrb_sales.values, palette=\"muted\")\n",
    "plt.title('EU - Продажи по рейтингу ESRB')\n",
    "plt.subplot(1, 3, 3)\n",
    "sns.barplot(x=jp_esrb_sales.index, y=jp_esrb_sales.values, palette=\"muted\")\n",
    "plt.title('JP - Продажи по рейтингу ESRB')\n",
    "plt.tight_layout()\n",
    "plt.show()"
   ]
  },
  {
   "cell_type": "markdown",
   "id": "584e30c0",
   "metadata": {},
   "source": [
    "Исходя из предоставленных данных о продажах видеоигр в различных регионах (Северная Америка, Европа, Япония), можно выделить несколько ключевых тенденций.\n",
    "\n",
    "Популярные платформы:\n",
    "\n",
    "В Северной Америке наиболее популярными платформами являются Xbox 360, PlayStation 2 и Wii. В Европе лидируют PlayStation 2, PlayStation 3 и Xbox 360, в то время как в Японии на вершине списка DS, PlayStation и PlayStation 2. Различия в долях продаж указывают на предпочтения игроков в зависимости от региона.\n",
    "\n",
    "Популярные жанры:\n",
    "\n",
    "В Северной Америке наиболее востребованными жанрами являются Action, Sports и Shooter, в Европе - Action, Sports и Shooter, а в Японии - Role-Playing, Action и Sports. Эти различия могут отражать культурные предпочтения и вкусы разных аудиторий.\n",
    "\n",
    "Влияние рейтинга ESRB:\n",
    "\n",
    "Рейтинг ESRB имеет влияние на продажи в разных регионах. В Северной Америке и Европе игры с рейтингом \"E\" (Everyone) преобладают в общих продажах, в Японии же лидируют игры с рейтингом \"Unknown\". Возможно, в Японии меньше придается внимание оценкам ESRB, или существует своя система рейтингов.\n"
   ]
  },
  {
   "cell_type": "markdown",
   "id": "8e2192bc",
   "metadata": {},
   "source": [
    "# Шаг 5. Проверьте гипотезы\n",
    "* Средние пользовательские рейтинги платформ Xbox One и PC одинаковые;\n",
    "* Средние пользовательские рейтинги жанров Action (англ. «действие», экшен-игры) и Sports (англ. «спортивные соревнования») разные.\n",
    "* Задайте самостоятельно пороговое значение alpha.\n",
    "* Поясните: Как вы сформулировали нулевую и альтернативную гипотезы; Какой критерий применили для проверки гипотез и почему."
   ]
  },
  {
   "cell_type": "markdown",
   "id": "6c4da11e",
   "metadata": {},
   "source": [
    "Нулевая гипотеза Н0: Средние пользовательские рейтинги платформ Xbox One и PC равны.\n",
    "\n",
    "Альтернативная гипотеза H1: Средние пользовательские рейтинги платформ Xbox One и PC не равны."
   ]
  },
  {
   "cell_type": "code",
   "execution_count": 37,
   "id": "1223efc3",
   "metadata": {},
   "outputs": [
    {
     "name": "stdout",
     "output_type": "stream",
     "text": [
      "p-value: 0.6881350504357912\n",
      "Нет оснований отвергнуть нулевую гипотезу\n"
     ]
    }
   ],
   "source": [
    "alpha = 0.05\n",
    "\n",
    "xbox_one_rating = interest_period[interest_period['platform'] == 'XOne']['user_score'].dropna()\n",
    "\n",
    "pc_rating = interest_period[interest_period['platform'] == 'PC']['user_score'].dropna()\n",
    "\n",
    "results = st.ttest_ind(xbox_one_rating, pc_rating)\n",
    "\n",
    "print(f'p-value: {results.pvalue}')\n",
    "\n",
    "# проверяем p-value\n",
    "if results.pvalue < alpha:\n",
    "    print('Отвергаем нулевую гипотезу, пользовательские рейтинги платформ Xbox One и PC не равны')\n",
    "else:\n",
    "    print('Нет оснований отвергнуть нулевую гипотезу')"
   ]
  },
  {
   "cell_type": "markdown",
   "id": "5769be53",
   "metadata": {},
   "source": [
    "Проведенный t-тест для сравнения средних пользовательских рейтингов платформ Xbox One и PC не позволяет отвергнуть нулевую гипотезу о равенстве средних. Полученное p-value равно 0.6881, что выше уровня значимости alpha (0.05). Таким образом, нет оснований считать, что средние пользовательские рейтинги платформ Xbox One и PC различаются."
   ]
  },
  {
   "cell_type": "markdown",
   "id": "72dfcbdf",
   "metadata": {},
   "source": [
    "Нулевая гипотеза Н0: Средние пользовательские рейтинги жанров Action (англ. «действие», экшен-игры) и Sports (англ. «спортивные соревнования») равны.\n",
    "\n",
    "Альтернативная гипотеза H1: Средние пользовательские рейтинги жанров Action и Sports не равны."
   ]
  },
  {
   "cell_type": "code",
   "execution_count": 38,
   "id": "6e6cb54c",
   "metadata": {},
   "outputs": [
    {
     "name": "stdout",
     "output_type": "stream",
     "text": [
      "p-value: 2.5559532467428057e-16\n",
      "Отвергаем нулевую гипотезу: Средние пользовательские рейтинги не равны.\n"
     ]
    }
   ],
   "source": [
    "alpha = 0.05\n",
    "\n",
    "action_genre_rating = interest_period[interest_period['genre'] == 'Action']['user_score'].dropna()\n",
    "\n",
    "sports_genre_rating = interest_period[interest_period['genre'] == 'Sports']['user_score'].dropna()\n",
    "\n",
    "results = st.ttest_ind(action_genre_rating, sports_genre_rating, equal_var=False)\n",
    "\n",
    "print(f'p-value: {results.pvalue}')\n",
    "\n",
    "if results.pvalue < alpha:\n",
    "    print(\"Отвергаем нулевую гипотезу: Средние пользовательские рейтинги не равны.\")\n",
    "else:\n",
    "    print(\"Не отвергаем нулевую гипотезу: Средние пользовательские рейтинги равны.\")"
   ]
  },
  {
   "cell_type": "markdown",
   "id": "2137fc0b",
   "metadata": {},
   "source": [
    "В отличие от платформ, t-тест для сравнения средних пользовательских рейтингов жанров Action и Sports позволяет отвергнуть нулевую гипотезу о их равенстве. Полученное p-value очень мало (порядка 2.56e-16), что значительно меньше уровня значимости alpha. Таким образом, есть основания считать, что средние пользовательские рейтинги для жанров Action и Sports различаются.\n"
   ]
  },
  {
   "cell_type": "markdown",
   "id": "7765f1af",
   "metadata": {},
   "source": [
    "# Шаг 6. Напишите общий вывод"
   ]
  },
  {
   "cell_type": "markdown",
   "id": "59074895",
   "metadata": {},
   "source": [
    "Общий вывод:\n",
    "\n",
    "Динамика выпуска игр: На основе предоставленных данных видно, что индустрия видеоигр в целом развивалась с небольшими колебаниями в течение десятилетий. Заметен пик в конце 1990-х и начале 2000-х годов, возможно, связанный с развитием новых технологий и игровых платформ. С 2010 года наблюдается некоторый спад в выпуске игр.\n",
    "\n",
    "Цикличность рынка: Рынок видеоигр подчиняется циклу, который включает в себя появление новых платформ, их расцвет и угасание. Периодически появляются успешные платформы, заменяя предыдущие, и этот цикл продолжается каждые 5-7 лет.\n",
    "\n",
    "Анализ актуального периода: Выбранный актуальный период для анализа с 2012 по 2016 годы обоснован снижением продаж старых платформ, появлением новых и стабильностью лидеров. Этот период представляет интерес для прогнозирования на 2017 год.\n",
    "\n",
    "Лидирующие платформы: PS4, PS3 и X360 выделяются как лидеры по общим продажам. PS4, PSP и PSV имеют значительный абсолютный рост, а PS4, GBA и X360 - высокий относительный рост, что делает их потенциально прибыльными.\n",
    "\n",
    "Анализ \"ящика с усами\": Продажи игр на PS4 и X360 имеют схожие распределения, в то время как GBA выделяется менее высокой медианой и наличием выбросов с более высокими продажами.\n",
    "\n",
    "Корреляция отзывов и продаж: Отзывы критиков чаще всего коррелируют с продажами, в то время как связь с отзывами пользователей может быть менее выраженной. Корреляция не всегда означает причинно-следственную связь, и различия зависят от платформы и рынка.\n",
    "\n",
    "Жанры и продажи: Shooter, Sports и Platform выделяются высокими медианными продажами. Жанры с более широким размахом, такие как Shooter и Sports, показывают большую вариативность в продажах.\n",
    "\n",
    "Самые успешные жанры: Action и Shooter лидируют по общим продажам, в то время как Puzzle и Strategy имеют наименьшие продажи. Shooter, Sports и Platform выделяются как жанры с самыми высокими средними и медианными продажами.\n",
    "\n",
    "Предпочтения в разных регионах: Популярные платформы и жанры различаются в Северной Америке, Европе и Японии, что указывает на культурные предпочтения аудиторий. Влияние рейтинга ESRB также различно в разных регионах.\n",
    "\n",
    "**Рекомендации:**\n",
    "\n",
    "На основе проведенного анализа данных о видеоигровой индустрии, можно предложить несколько рекомендаций для инвесторов и разработчиков. С учетом цикличности рынка, рекомендуется внимательно следить за появлением новых игровых платформ и технологий, а также оценивать их потенциал на основе предыдущих циклов развития индустрии.\n",
    "\n",
    "Для разработчиков игр важно обратить внимание на популярность жанров с высокими медианными продажами, таких как Shooter, Sports и Platform. Также стоит учитывать различия в предпочтениях аудиторий в разных регионах, чтобы адаптировать контент под культурные особенности рынка.\n",
    "\n",
    "Инвесторам рекомендуется обращать внимание на лидирующие платформы с высокими общими продажами, такие как PS4, PS3 и X360, а также те, которые демонстрируют значительный абсолютный и относительный рост, например, PS4, PSP и PSV. Эти платформы могут представлять собой потенциально прибыльные объекты вложений.\n",
    "\n",
    "С учетом влияния отзывов на продажи, как критиков, так и пользователей, рекомендуется разработчикам стремиться к созданию качественного контента, который будет положительно воспринят целевой аудиторией. Тем не менее, необходимо помнить, что корреляция не всегда означает причинно-следственную связь, и уникальные особенности каждой платформы могут влиять на этот взаимосвязанный эффект."
   ]
  }
 ],
 "metadata": {
  "ExecuteTimeLog": [
   {
    "duration": 1256,
    "start_time": "2024-01-30T12:14:11.313Z"
   },
   {
    "duration": 95,
    "start_time": "2024-01-30T12:14:12.571Z"
   },
   {
    "duration": 24,
    "start_time": "2024-01-30T12:14:12.670Z"
   },
   {
    "duration": 30,
    "start_time": "2024-01-30T12:14:12.696Z"
   },
   {
    "duration": 19,
    "start_time": "2024-01-30T12:14:12.728Z"
   },
   {
    "duration": 12,
    "start_time": "2024-01-30T12:14:12.749Z"
   },
   {
    "duration": 10,
    "start_time": "2024-01-30T12:14:12.763Z"
   },
   {
    "duration": 6,
    "start_time": "2024-01-30T12:14:12.775Z"
   },
   {
    "duration": 242,
    "start_time": "2024-01-30T12:14:12.783Z"
   },
   {
    "duration": 10,
    "start_time": "2024-01-30T12:14:13.027Z"
   },
   {
    "duration": 9,
    "start_time": "2024-01-30T12:14:13.038Z"
   },
   {
    "duration": 126,
    "start_time": "2024-01-30T12:14:13.048Z"
   },
   {
    "duration": 0,
    "start_time": "2024-01-30T12:14:13.177Z"
   },
   {
    "duration": 0,
    "start_time": "2024-01-30T12:14:13.178Z"
   },
   {
    "duration": 0,
    "start_time": "2024-01-30T12:14:13.180Z"
   },
   {
    "duration": 0,
    "start_time": "2024-01-30T12:14:13.181Z"
   },
   {
    "duration": 0,
    "start_time": "2024-01-30T12:14:13.183Z"
   },
   {
    "duration": 0,
    "start_time": "2024-01-30T12:14:13.184Z"
   },
   {
    "duration": 0,
    "start_time": "2024-01-30T12:14:13.186Z"
   },
   {
    "duration": 0,
    "start_time": "2024-01-30T12:14:13.187Z"
   },
   {
    "duration": 0,
    "start_time": "2024-01-30T12:14:13.188Z"
   },
   {
    "duration": 0,
    "start_time": "2024-01-30T12:14:13.189Z"
   },
   {
    "duration": 0,
    "start_time": "2024-01-30T12:14:13.190Z"
   },
   {
    "duration": 0,
    "start_time": "2024-01-30T12:14:13.192Z"
   },
   {
    "duration": 0,
    "start_time": "2024-01-30T12:14:13.193Z"
   },
   {
    "duration": 0,
    "start_time": "2024-01-30T12:14:13.194Z"
   },
   {
    "duration": 0,
    "start_time": "2024-01-30T12:14:13.195Z"
   },
   {
    "duration": 0,
    "start_time": "2024-01-30T12:14:13.196Z"
   },
   {
    "duration": 0,
    "start_time": "2024-01-30T12:14:13.223Z"
   },
   {
    "duration": 0,
    "start_time": "2024-01-30T12:14:13.224Z"
   },
   {
    "duration": 0,
    "start_time": "2024-01-30T12:14:13.226Z"
   },
   {
    "duration": 0,
    "start_time": "2024-01-30T12:14:13.227Z"
   },
   {
    "duration": 0,
    "start_time": "2024-01-30T12:14:13.228Z"
   },
   {
    "duration": 0,
    "start_time": "2024-01-30T12:14:13.229Z"
   },
   {
    "duration": 15,
    "start_time": "2024-01-30T12:14:29.162Z"
   },
   {
    "duration": 1184,
    "start_time": "2024-01-30T12:14:34.079Z"
   },
   {
    "duration": 56,
    "start_time": "2024-01-30T12:14:35.265Z"
   },
   {
    "duration": 23,
    "start_time": "2024-01-30T12:14:35.322Z"
   },
   {
    "duration": 16,
    "start_time": "2024-01-30T12:14:35.346Z"
   },
   {
    "duration": 15,
    "start_time": "2024-01-30T12:14:35.365Z"
   },
   {
    "duration": 15,
    "start_time": "2024-01-30T12:14:35.381Z"
   },
   {
    "duration": 32,
    "start_time": "2024-01-30T12:14:35.398Z"
   },
   {
    "duration": 5,
    "start_time": "2024-01-30T12:14:35.432Z"
   },
   {
    "duration": 227,
    "start_time": "2024-01-30T12:14:35.438Z"
   },
   {
    "duration": 10,
    "start_time": "2024-01-30T12:14:35.666Z"
   },
   {
    "duration": 15,
    "start_time": "2024-01-30T12:14:35.678Z"
   },
   {
    "duration": 35,
    "start_time": "2024-01-30T12:14:35.695Z"
   },
   {
    "duration": 41,
    "start_time": "2024-01-30T12:14:35.732Z"
   },
   {
    "duration": 493,
    "start_time": "2024-01-30T12:14:35.777Z"
   },
   {
    "duration": 440,
    "start_time": "2024-01-30T12:14:36.272Z"
   },
   {
    "duration": 13,
    "start_time": "2024-01-30T12:14:36.714Z"
   },
   {
    "duration": 23,
    "start_time": "2024-01-30T12:14:36.729Z"
   },
   {
    "duration": 6,
    "start_time": "2024-01-30T12:14:36.754Z"
   },
   {
    "duration": 183,
    "start_time": "2024-01-30T12:14:36.763Z"
   },
   {
    "duration": 244,
    "start_time": "2024-01-30T12:14:36.948Z"
   },
   {
    "duration": 231,
    "start_time": "2024-01-30T12:14:37.194Z"
   },
   {
    "duration": 7,
    "start_time": "2024-01-30T12:14:37.427Z"
   },
   {
    "duration": 319,
    "start_time": "2024-01-30T12:14:37.436Z"
   },
   {
    "duration": 401,
    "start_time": "2024-01-30T12:14:37.757Z"
   },
   {
    "duration": 2076,
    "start_time": "2024-01-30T12:14:38.160Z"
   },
   {
    "duration": 1108,
    "start_time": "2024-01-30T12:14:40.238Z"
   },
   {
    "duration": 15,
    "start_time": "2024-01-30T12:14:41.348Z"
   },
   {
    "duration": 19,
    "start_time": "2024-01-30T12:14:41.365Z"
   },
   {
    "duration": 13,
    "start_time": "2024-01-30T12:14:41.386Z"
   },
   {
    "duration": 612,
    "start_time": "2024-01-30T12:14:41.400Z"
   },
   {
    "duration": 586,
    "start_time": "2024-01-30T12:14:42.014Z"
   },
   {
    "duration": 665,
    "start_time": "2024-01-30T12:14:42.602Z"
   },
   {
    "duration": 10,
    "start_time": "2024-01-30T12:14:43.269Z"
   },
   {
    "duration": 12,
    "start_time": "2024-01-30T12:14:43.281Z"
   },
   {
    "duration": 48,
    "start_time": "2024-01-30T14:14:57.391Z"
   },
   {
    "duration": 1262,
    "start_time": "2024-01-30T14:15:05.795Z"
   },
   {
    "duration": 178,
    "start_time": "2024-01-30T14:15:07.059Z"
   },
   {
    "duration": 20,
    "start_time": "2024-01-30T14:15:07.239Z"
   },
   {
    "duration": 33,
    "start_time": "2024-01-30T14:15:07.260Z"
   },
   {
    "duration": 33,
    "start_time": "2024-01-30T14:15:07.294Z"
   },
   {
    "duration": 35,
    "start_time": "2024-01-30T14:15:07.329Z"
   },
   {
    "duration": 18,
    "start_time": "2024-01-30T14:15:07.366Z"
   },
   {
    "duration": 35,
    "start_time": "2024-01-30T14:15:07.386Z"
   },
   {
    "duration": 239,
    "start_time": "2024-01-30T14:15:07.423Z"
   },
   {
    "duration": 5,
    "start_time": "2024-01-30T14:15:09.420Z"
   },
   {
    "duration": 17,
    "start_time": "2024-01-30T14:17:13.225Z"
   },
   {
    "duration": 334,
    "start_time": "2024-01-30T14:48:57.958Z"
   },
   {
    "duration": 1187,
    "start_time": "2024-01-30T14:49:12.985Z"
   },
   {
    "duration": 52,
    "start_time": "2024-01-30T14:49:14.173Z"
   },
   {
    "duration": 19,
    "start_time": "2024-01-30T14:49:14.226Z"
   },
   {
    "duration": 16,
    "start_time": "2024-01-30T14:49:14.247Z"
   },
   {
    "duration": 30,
    "start_time": "2024-01-30T14:49:14.265Z"
   },
   {
    "duration": 10,
    "start_time": "2024-01-30T14:49:14.296Z"
   },
   {
    "duration": 7,
    "start_time": "2024-01-30T14:49:14.308Z"
   },
   {
    "duration": 6,
    "start_time": "2024-01-30T14:49:14.316Z"
   },
   {
    "duration": 218,
    "start_time": "2024-01-30T14:49:14.323Z"
   },
   {
    "duration": 6,
    "start_time": "2024-01-30T14:49:14.542Z"
   },
   {
    "duration": 20,
    "start_time": "2024-01-30T14:49:14.550Z"
   },
   {
    "duration": 19,
    "start_time": "2024-01-30T14:49:14.572Z"
   },
   {
    "duration": 15,
    "start_time": "2024-01-30T14:49:14.592Z"
   },
   {
    "duration": 451,
    "start_time": "2024-01-30T14:49:14.610Z"
   },
   {
    "duration": 386,
    "start_time": "2024-01-30T14:49:15.062Z"
   },
   {
    "duration": 12,
    "start_time": "2024-01-30T14:49:15.449Z"
   },
   {
    "duration": 7,
    "start_time": "2024-01-30T14:49:15.462Z"
   },
   {
    "duration": 5,
    "start_time": "2024-01-30T14:49:15.471Z"
   },
   {
    "duration": 159,
    "start_time": "2024-01-30T14:49:15.478Z"
   },
   {
    "duration": 216,
    "start_time": "2024-01-30T14:49:15.639Z"
   },
   {
    "duration": 188,
    "start_time": "2024-01-30T14:49:15.858Z"
   },
   {
    "duration": 12,
    "start_time": "2024-01-30T14:49:16.048Z"
   },
   {
    "duration": 260,
    "start_time": "2024-01-30T14:49:16.062Z"
   },
   {
    "duration": 396,
    "start_time": "2024-01-30T14:49:16.323Z"
   },
   {
    "duration": 1882,
    "start_time": "2024-01-30T14:49:16.721Z"
   },
   {
    "duration": 984,
    "start_time": "2024-01-30T14:49:18.604Z"
   },
   {
    "duration": 13,
    "start_time": "2024-01-30T14:49:19.589Z"
   },
   {
    "duration": 22,
    "start_time": "2024-01-30T14:49:19.604Z"
   },
   {
    "duration": 12,
    "start_time": "2024-01-30T14:49:19.627Z"
   },
   {
    "duration": 561,
    "start_time": "2024-01-30T14:49:19.640Z"
   },
   {
    "duration": 475,
    "start_time": "2024-01-30T14:49:20.203Z"
   },
   {
    "duration": 590,
    "start_time": "2024-01-30T14:49:20.679Z"
   },
   {
    "duration": 11,
    "start_time": "2024-01-30T14:49:21.271Z"
   },
   {
    "duration": 18,
    "start_time": "2024-01-30T14:49:21.284Z"
   },
   {
    "duration": 12,
    "start_time": "2024-01-30T14:57:43.053Z"
   },
   {
    "duration": 3,
    "start_time": "2024-01-30T14:57:49.512Z"
   },
   {
    "duration": 62,
    "start_time": "2024-01-30T14:57:49.517Z"
   },
   {
    "duration": 18,
    "start_time": "2024-01-30T14:57:49.580Z"
   },
   {
    "duration": 18,
    "start_time": "2024-01-30T14:57:49.599Z"
   },
   {
    "duration": 41,
    "start_time": "2024-01-30T14:57:49.619Z"
   },
   {
    "duration": 10,
    "start_time": "2024-01-30T14:57:49.661Z"
   },
   {
    "duration": 8,
    "start_time": "2024-01-30T14:57:49.672Z"
   },
   {
    "duration": 4,
    "start_time": "2024-01-30T14:57:49.700Z"
   },
   {
    "duration": 242,
    "start_time": "2024-01-30T14:57:49.706Z"
   },
   {
    "duration": 16,
    "start_time": "2024-01-30T14:57:49.950Z"
   },
   {
    "duration": 7,
    "start_time": "2024-01-30T14:57:49.968Z"
   },
   {
    "duration": 13,
    "start_time": "2024-01-30T14:57:49.976Z"
   },
   {
    "duration": 16,
    "start_time": "2024-01-30T14:57:49.991Z"
   },
   {
    "duration": 545,
    "start_time": "2024-01-30T14:57:50.009Z"
   },
   {
    "duration": 512,
    "start_time": "2024-01-30T14:57:50.558Z"
   },
   {
    "duration": 8,
    "start_time": "2024-01-30T14:57:51.072Z"
   },
   {
    "duration": 13,
    "start_time": "2024-01-30T14:57:51.082Z"
   },
   {
    "duration": 5,
    "start_time": "2024-01-30T14:57:51.096Z"
   },
   {
    "duration": 172,
    "start_time": "2024-01-30T14:57:51.102Z"
   },
   {
    "duration": 235,
    "start_time": "2024-01-30T14:57:51.275Z"
   },
   {
    "duration": 212,
    "start_time": "2024-01-30T14:57:51.511Z"
   },
   {
    "duration": 6,
    "start_time": "2024-01-30T14:57:51.724Z"
   },
   {
    "duration": 214,
    "start_time": "2024-01-30T14:57:51.731Z"
   },
   {
    "duration": 393,
    "start_time": "2024-01-30T14:57:51.947Z"
   },
   {
    "duration": 1932,
    "start_time": "2024-01-30T14:57:52.341Z"
   },
   {
    "duration": 920,
    "start_time": "2024-01-30T14:57:54.275Z"
   },
   {
    "duration": 14,
    "start_time": "2024-01-30T14:57:55.196Z"
   },
   {
    "duration": 12,
    "start_time": "2024-01-30T14:57:55.211Z"
   },
   {
    "duration": 11,
    "start_time": "2024-01-30T14:57:55.224Z"
   },
   {
    "duration": 539,
    "start_time": "2024-01-30T14:57:55.237Z"
   },
   {
    "duration": 493,
    "start_time": "2024-01-30T14:57:55.778Z"
   },
   {
    "duration": 671,
    "start_time": "2024-01-30T14:57:56.272Z"
   },
   {
    "duration": 15,
    "start_time": "2024-01-30T14:57:56.945Z"
   },
   {
    "duration": 10,
    "start_time": "2024-01-30T14:57:56.962Z"
   },
   {
    "duration": 8,
    "start_time": "2024-01-30T14:58:30.725Z"
   },
   {
    "duration": 5,
    "start_time": "2024-01-30T15:00:50.432Z"
   },
   {
    "duration": 14,
    "start_time": "2024-01-30T15:01:04.479Z"
   },
   {
    "duration": 1195,
    "start_time": "2024-01-30T15:01:59.349Z"
   },
   {
    "duration": 59,
    "start_time": "2024-01-30T15:02:00.546Z"
   },
   {
    "duration": 29,
    "start_time": "2024-01-30T15:02:00.607Z"
   },
   {
    "duration": 41,
    "start_time": "2024-01-30T15:02:00.638Z"
   },
   {
    "duration": 58,
    "start_time": "2024-01-30T15:02:00.680Z"
   },
   {
    "duration": 153,
    "start_time": "2024-01-30T15:02:00.740Z"
   },
   {
    "duration": 0,
    "start_time": "2024-01-30T15:02:00.896Z"
   },
   {
    "duration": 0,
    "start_time": "2024-01-30T15:02:00.897Z"
   },
   {
    "duration": 0,
    "start_time": "2024-01-30T15:02:00.898Z"
   },
   {
    "duration": 0,
    "start_time": "2024-01-30T15:02:00.899Z"
   },
   {
    "duration": 0,
    "start_time": "2024-01-30T15:02:00.900Z"
   },
   {
    "duration": 0,
    "start_time": "2024-01-30T15:02:00.901Z"
   },
   {
    "duration": 0,
    "start_time": "2024-01-30T15:02:00.901Z"
   },
   {
    "duration": 0,
    "start_time": "2024-01-30T15:02:00.902Z"
   },
   {
    "duration": 0,
    "start_time": "2024-01-30T15:02:00.903Z"
   },
   {
    "duration": 0,
    "start_time": "2024-01-30T15:02:00.904Z"
   },
   {
    "duration": 0,
    "start_time": "2024-01-30T15:02:00.905Z"
   },
   {
    "duration": 0,
    "start_time": "2024-01-30T15:02:00.906Z"
   },
   {
    "duration": 0,
    "start_time": "2024-01-30T15:02:00.907Z"
   },
   {
    "duration": 0,
    "start_time": "2024-01-30T15:02:00.908Z"
   },
   {
    "duration": 0,
    "start_time": "2024-01-30T15:02:00.908Z"
   },
   {
    "duration": 0,
    "start_time": "2024-01-30T15:02:00.909Z"
   },
   {
    "duration": 0,
    "start_time": "2024-01-30T15:02:00.911Z"
   },
   {
    "duration": 0,
    "start_time": "2024-01-30T15:02:00.911Z"
   },
   {
    "duration": 0,
    "start_time": "2024-01-30T15:02:00.912Z"
   },
   {
    "duration": 0,
    "start_time": "2024-01-30T15:02:00.913Z"
   },
   {
    "duration": 0,
    "start_time": "2024-01-30T15:02:00.914Z"
   },
   {
    "duration": 0,
    "start_time": "2024-01-30T15:02:00.915Z"
   },
   {
    "duration": 0,
    "start_time": "2024-01-30T15:02:00.916Z"
   },
   {
    "duration": 0,
    "start_time": "2024-01-30T15:02:00.917Z"
   },
   {
    "duration": 0,
    "start_time": "2024-01-30T15:02:00.918Z"
   },
   {
    "duration": 0,
    "start_time": "2024-01-30T15:02:00.918Z"
   },
   {
    "duration": 0,
    "start_time": "2024-01-30T15:02:00.959Z"
   },
   {
    "duration": 0,
    "start_time": "2024-01-30T15:02:00.960Z"
   },
   {
    "duration": 0,
    "start_time": "2024-01-30T15:02:00.961Z"
   },
   {
    "duration": 31,
    "start_time": "2024-01-30T15:02:25.444Z"
   },
   {
    "duration": 73,
    "start_time": "2024-01-30T15:02:33.975Z"
   },
   {
    "duration": 21,
    "start_time": "2024-01-30T15:02:42.920Z"
   },
   {
    "duration": 10,
    "start_time": "2024-01-30T15:03:04.129Z"
   },
   {
    "duration": 19,
    "start_time": "2024-01-30T15:03:05.629Z"
   },
   {
    "duration": 6,
    "start_time": "2024-01-30T15:03:11.777Z"
   },
   {
    "duration": 8,
    "start_time": "2024-01-30T15:03:17.095Z"
   },
   {
    "duration": 13,
    "start_time": "2024-01-30T15:03:33.888Z"
   },
   {
    "duration": 3,
    "start_time": "2024-01-30T15:04:59.278Z"
   },
   {
    "duration": 3,
    "start_time": "2024-01-30T15:05:02.848Z"
   },
   {
    "duration": 5,
    "start_time": "2024-01-30T15:05:04.248Z"
   },
   {
    "duration": 8,
    "start_time": "2024-01-30T15:05:04.616Z"
   },
   {
    "duration": 4,
    "start_time": "2024-01-30T15:05:04.939Z"
   },
   {
    "duration": 179,
    "start_time": "2024-01-30T15:05:05.527Z"
   },
   {
    "duration": 7,
    "start_time": "2024-01-30T15:05:05.823Z"
   },
   {
    "duration": 14,
    "start_time": "2024-01-30T15:05:07.039Z"
   },
   {
    "duration": 17,
    "start_time": "2024-01-30T15:05:08.278Z"
   },
   {
    "duration": 17,
    "start_time": "2024-01-30T15:05:40.040Z"
   },
   {
    "duration": 12,
    "start_time": "2024-01-30T15:06:55.489Z"
   },
   {
    "duration": 12,
    "start_time": "2024-01-30T15:07:00.093Z"
   },
   {
    "duration": 10,
    "start_time": "2024-01-30T15:07:07.021Z"
   },
   {
    "duration": 21,
    "start_time": "2024-01-30T15:07:17.961Z"
   },
   {
    "duration": 20,
    "start_time": "2024-01-30T15:08:04.435Z"
   },
   {
    "duration": 19,
    "start_time": "2024-01-30T15:08:38.552Z"
   },
   {
    "duration": 19,
    "start_time": "2024-01-30T15:09:32.252Z"
   },
   {
    "duration": 16,
    "start_time": "2024-01-30T15:10:14.187Z"
   },
   {
    "duration": 19,
    "start_time": "2024-01-30T15:10:19.961Z"
   },
   {
    "duration": 21,
    "start_time": "2024-01-30T15:11:22.021Z"
   },
   {
    "duration": 14,
    "start_time": "2024-01-30T15:11:36.930Z"
   },
   {
    "duration": 15,
    "start_time": "2024-01-30T15:11:55.322Z"
   },
   {
    "duration": 33,
    "start_time": "2024-01-30T15:12:15.786Z"
   },
   {
    "duration": 8,
    "start_time": "2024-01-30T15:13:11.572Z"
   },
   {
    "duration": 27,
    "start_time": "2024-01-30T15:13:16.019Z"
   },
   {
    "duration": 38,
    "start_time": "2024-01-30T15:13:26.410Z"
   },
   {
    "duration": 20,
    "start_time": "2024-01-30T15:13:35.985Z"
   },
   {
    "duration": 26,
    "start_time": "2024-01-30T15:14:17.898Z"
   },
   {
    "duration": 11,
    "start_time": "2024-01-30T15:14:25.122Z"
   },
   {
    "duration": 14,
    "start_time": "2024-01-30T15:14:27.191Z"
   },
   {
    "duration": 14,
    "start_time": "2024-01-30T15:14:34.972Z"
   },
   {
    "duration": 14,
    "start_time": "2024-01-30T15:14:35.374Z"
   },
   {
    "duration": 10,
    "start_time": "2024-01-30T15:14:35.813Z"
   },
   {
    "duration": 302,
    "start_time": "2024-01-30T15:15:59.476Z"
   },
   {
    "duration": 1077,
    "start_time": "2024-01-30T15:16:10.202Z"
   },
   {
    "duration": 52,
    "start_time": "2024-01-30T15:16:11.280Z"
   },
   {
    "duration": 19,
    "start_time": "2024-01-30T15:16:11.334Z"
   },
   {
    "duration": 18,
    "start_time": "2024-01-30T15:16:11.354Z"
   },
   {
    "duration": 18,
    "start_time": "2024-01-30T15:16:11.374Z"
   },
   {
    "duration": 99,
    "start_time": "2024-01-30T15:16:11.394Z"
   },
   {
    "duration": 0,
    "start_time": "2024-01-30T15:16:11.496Z"
   },
   {
    "duration": 0,
    "start_time": "2024-01-30T15:16:11.497Z"
   },
   {
    "duration": 0,
    "start_time": "2024-01-30T15:16:11.498Z"
   },
   {
    "duration": 0,
    "start_time": "2024-01-30T15:16:11.499Z"
   },
   {
    "duration": 0,
    "start_time": "2024-01-30T15:16:11.500Z"
   },
   {
    "duration": 0,
    "start_time": "2024-01-30T15:16:11.501Z"
   },
   {
    "duration": 0,
    "start_time": "2024-01-30T15:16:11.501Z"
   },
   {
    "duration": 0,
    "start_time": "2024-01-30T15:16:11.502Z"
   },
   {
    "duration": 0,
    "start_time": "2024-01-30T15:16:11.511Z"
   },
   {
    "duration": 0,
    "start_time": "2024-01-30T15:16:11.512Z"
   },
   {
    "duration": 0,
    "start_time": "2024-01-30T15:16:11.514Z"
   },
   {
    "duration": 0,
    "start_time": "2024-01-30T15:16:11.515Z"
   },
   {
    "duration": 0,
    "start_time": "2024-01-30T15:16:11.516Z"
   },
   {
    "duration": 0,
    "start_time": "2024-01-30T15:16:11.518Z"
   },
   {
    "duration": 0,
    "start_time": "2024-01-30T15:16:11.519Z"
   },
   {
    "duration": 0,
    "start_time": "2024-01-30T15:16:11.520Z"
   },
   {
    "duration": 0,
    "start_time": "2024-01-30T15:16:11.521Z"
   },
   {
    "duration": 0,
    "start_time": "2024-01-30T15:16:11.522Z"
   },
   {
    "duration": 0,
    "start_time": "2024-01-30T15:16:11.523Z"
   },
   {
    "duration": 0,
    "start_time": "2024-01-30T15:16:11.524Z"
   },
   {
    "duration": 0,
    "start_time": "2024-01-30T15:16:11.559Z"
   },
   {
    "duration": 0,
    "start_time": "2024-01-30T15:16:11.560Z"
   },
   {
    "duration": 0,
    "start_time": "2024-01-30T15:16:11.561Z"
   },
   {
    "duration": 0,
    "start_time": "2024-01-30T15:16:11.563Z"
   },
   {
    "duration": 0,
    "start_time": "2024-01-30T15:16:11.564Z"
   },
   {
    "duration": 0,
    "start_time": "2024-01-30T15:16:11.564Z"
   },
   {
    "duration": 0,
    "start_time": "2024-01-30T15:16:11.565Z"
   },
   {
    "duration": 0,
    "start_time": "2024-01-30T15:16:11.566Z"
   },
   {
    "duration": 0,
    "start_time": "2024-01-30T15:16:11.567Z"
   },
   {
    "duration": 0,
    "start_time": "2024-01-30T15:16:11.568Z"
   },
   {
    "duration": 4,
    "start_time": "2024-01-30T15:18:11.714Z"
   },
   {
    "duration": 10,
    "start_time": "2024-01-30T15:18:15.450Z"
   },
   {
    "duration": 5,
    "start_time": "2024-01-30T15:18:16.994Z"
   },
   {
    "duration": 10,
    "start_time": "2024-01-30T15:18:49.478Z"
   },
   {
    "duration": 5,
    "start_time": "2024-01-30T15:18:53.741Z"
   },
   {
    "duration": 9,
    "start_time": "2024-01-30T15:19:00.393Z"
   },
   {
    "duration": 5,
    "start_time": "2024-01-30T15:19:05.718Z"
   },
   {
    "duration": 3,
    "start_time": "2024-01-30T15:19:12.237Z"
   },
   {
    "duration": 53,
    "start_time": "2024-01-30T15:19:12.242Z"
   },
   {
    "duration": 16,
    "start_time": "2024-01-30T15:19:12.296Z"
   },
   {
    "duration": 13,
    "start_time": "2024-01-30T15:19:12.313Z"
   },
   {
    "duration": 12,
    "start_time": "2024-01-30T15:19:12.328Z"
   },
   {
    "duration": 22,
    "start_time": "2024-01-30T15:19:12.341Z"
   },
   {
    "duration": 10,
    "start_time": "2024-01-30T15:19:12.364Z"
   },
   {
    "duration": 5,
    "start_time": "2024-01-30T15:19:12.375Z"
   },
   {
    "duration": 216,
    "start_time": "2024-01-30T15:19:12.382Z"
   },
   {
    "duration": 7,
    "start_time": "2024-01-30T15:19:12.600Z"
   },
   {
    "duration": 18,
    "start_time": "2024-01-30T15:19:12.608Z"
   },
   {
    "duration": 13,
    "start_time": "2024-01-30T15:19:12.628Z"
   },
   {
    "duration": 31,
    "start_time": "2024-01-30T15:19:12.643Z"
   },
   {
    "duration": 9,
    "start_time": "2024-01-30T15:19:12.676Z"
   },
   {
    "duration": 417,
    "start_time": "2024-01-30T15:19:12.687Z"
   },
   {
    "duration": 371,
    "start_time": "2024-01-30T15:19:13.105Z"
   },
   {
    "duration": 7,
    "start_time": "2024-01-30T15:19:13.478Z"
   },
   {
    "duration": 17,
    "start_time": "2024-01-30T15:19:13.486Z"
   },
   {
    "duration": 15,
    "start_time": "2024-01-30T15:19:13.504Z"
   },
   {
    "duration": 169,
    "start_time": "2024-01-30T15:19:13.520Z"
   },
   {
    "duration": 198,
    "start_time": "2024-01-30T15:19:13.690Z"
   },
   {
    "duration": 182,
    "start_time": "2024-01-30T15:19:13.890Z"
   },
   {
    "duration": 5,
    "start_time": "2024-01-30T15:19:14.074Z"
   },
   {
    "duration": 268,
    "start_time": "2024-01-30T15:19:14.080Z"
   },
   {
    "duration": 345,
    "start_time": "2024-01-30T15:19:14.350Z"
   },
   {
    "duration": 1713,
    "start_time": "2024-01-30T15:19:14.696Z"
   },
   {
    "duration": 921,
    "start_time": "2024-01-30T15:19:16.411Z"
   },
   {
    "duration": 14,
    "start_time": "2024-01-30T15:19:17.333Z"
   },
   {
    "duration": 17,
    "start_time": "2024-01-30T15:19:17.359Z"
   },
   {
    "duration": 20,
    "start_time": "2024-01-30T15:19:17.377Z"
   },
   {
    "duration": 561,
    "start_time": "2024-01-30T15:19:17.399Z"
   },
   {
    "duration": 500,
    "start_time": "2024-01-30T15:19:17.962Z"
   },
   {
    "duration": 566,
    "start_time": "2024-01-30T15:19:18.464Z"
   },
   {
    "duration": 10,
    "start_time": "2024-01-30T15:19:19.031Z"
   },
   {
    "duration": 26,
    "start_time": "2024-01-30T15:19:19.042Z"
   },
   {
    "duration": 35,
    "start_time": "2024-01-30T15:52:40.341Z"
   },
   {
    "duration": 26,
    "start_time": "2024-01-30T15:52:48.014Z"
   },
   {
    "duration": 26,
    "start_time": "2024-01-30T15:53:00.880Z"
   },
   {
    "duration": 1122,
    "start_time": "2024-01-30T15:53:36.912Z"
   },
   {
    "duration": 5,
    "start_time": "2024-01-30T15:53:43.577Z"
   },
   {
    "duration": 23,
    "start_time": "2024-01-30T15:53:47.304Z"
   },
   {
    "duration": 23,
    "start_time": "2024-01-30T15:54:19.135Z"
   },
   {
    "duration": 23,
    "start_time": "2024-01-30T15:54:28.129Z"
   },
   {
    "duration": 23,
    "start_time": "2024-01-30T15:54:35.811Z"
   },
   {
    "duration": 23,
    "start_time": "2024-01-30T15:54:42.372Z"
   },
   {
    "duration": 24,
    "start_time": "2024-01-30T15:54:46.464Z"
   },
   {
    "duration": 29,
    "start_time": "2024-01-30T15:54:58.409Z"
   },
   {
    "duration": 23,
    "start_time": "2024-01-30T15:55:04.812Z"
   },
   {
    "duration": 13,
    "start_time": "2024-01-30T15:55:35.509Z"
   },
   {
    "duration": 25,
    "start_time": "2024-01-30T15:55:37.971Z"
   },
   {
    "duration": 26,
    "start_time": "2024-01-30T15:55:48.566Z"
   },
   {
    "duration": 23,
    "start_time": "2024-01-30T15:55:54.168Z"
   },
   {
    "duration": 25,
    "start_time": "2024-01-30T15:56:02.802Z"
   },
   {
    "duration": 504,
    "start_time": "2024-01-30T16:15:24.720Z"
   },
   {
    "duration": 618,
    "start_time": "2024-01-30T16:15:34.143Z"
   },
   {
    "duration": 429,
    "start_time": "2024-01-30T16:16:10.158Z"
   },
   {
    "duration": 525,
    "start_time": "2024-01-30T16:16:15.723Z"
   },
   {
    "duration": 458,
    "start_time": "2024-01-30T16:16:58.242Z"
   },
   {
    "duration": 630,
    "start_time": "2024-01-30T16:17:07.872Z"
   },
   {
    "duration": 725,
    "start_time": "2024-01-30T16:19:42.382Z"
   },
   {
    "duration": 920,
    "start_time": "2024-01-30T16:20:01.655Z"
   },
   {
    "duration": 773,
    "start_time": "2024-01-30T16:21:00.984Z"
   },
   {
    "duration": 806,
    "start_time": "2024-01-30T16:21:08.725Z"
   },
   {
    "duration": 902,
    "start_time": "2024-01-30T16:21:13.032Z"
   },
   {
    "duration": 498,
    "start_time": "2024-01-30T16:23:22.885Z"
   },
   {
    "duration": 429,
    "start_time": "2024-01-30T16:24:27.212Z"
   },
   {
    "duration": 396,
    "start_time": "2024-01-30T16:24:31.243Z"
   },
   {
    "duration": 506,
    "start_time": "2024-01-30T16:24:38.091Z"
   },
   {
    "duration": 402,
    "start_time": "2024-01-30T16:24:42.231Z"
   },
   {
    "duration": 404,
    "start_time": "2024-01-30T16:24:49.245Z"
   },
   {
    "duration": 29,
    "start_time": "2024-01-30T16:34:01.193Z"
   },
   {
    "duration": 731,
    "start_time": "2024-01-30T16:34:08.195Z"
   },
   {
    "duration": 894,
    "start_time": "2024-01-30T16:34:40.874Z"
   },
   {
    "duration": 747,
    "start_time": "2024-01-30T16:35:45.031Z"
   },
   {
    "duration": 498,
    "start_time": "2024-01-30T16:38:48.850Z"
   },
   {
    "duration": 12,
    "start_time": "2024-01-30T16:39:02.135Z"
   },
   {
    "duration": 523,
    "start_time": "2024-01-30T16:39:12.399Z"
   },
   {
    "duration": 22,
    "start_time": "2024-01-30T16:39:14.772Z"
   },
   {
    "duration": 19,
    "start_time": "2024-01-30T16:43:35.315Z"
   },
   {
    "duration": 17,
    "start_time": "2024-01-30T16:43:45.626Z"
   },
   {
    "duration": 29,
    "start_time": "2024-01-30T16:44:01.609Z"
   },
   {
    "duration": 15,
    "start_time": "2024-01-30T16:44:12.779Z"
   },
   {
    "duration": 7,
    "start_time": "2024-01-30T16:46:23.881Z"
   },
   {
    "duration": 7,
    "start_time": "2024-01-30T16:46:28.900Z"
   },
   {
    "duration": 4,
    "start_time": "2024-01-30T16:46:34.682Z"
   },
   {
    "duration": 169,
    "start_time": "2024-01-30T16:46:51.382Z"
   },
   {
    "duration": 204,
    "start_time": "2024-01-30T16:47:07.196Z"
   },
   {
    "duration": 63,
    "start_time": "2024-01-31T05:46:30.106Z"
   },
   {
    "duration": 1495,
    "start_time": "2024-01-31T05:46:33.087Z"
   },
   {
    "duration": 98,
    "start_time": "2024-01-31T05:46:34.586Z"
   },
   {
    "duration": 25,
    "start_time": "2024-01-31T05:46:34.686Z"
   },
   {
    "duration": 17,
    "start_time": "2024-01-31T05:46:34.713Z"
   },
   {
    "duration": 16,
    "start_time": "2024-01-31T05:46:34.731Z"
   },
   {
    "duration": 14,
    "start_time": "2024-01-31T05:46:34.749Z"
   },
   {
    "duration": 13,
    "start_time": "2024-01-31T05:46:34.765Z"
   },
   {
    "duration": 5,
    "start_time": "2024-01-31T05:46:34.780Z"
   },
   {
    "duration": 269,
    "start_time": "2024-01-31T05:46:34.788Z"
   },
   {
    "duration": 8,
    "start_time": "2024-01-31T05:46:35.060Z"
   },
   {
    "duration": 29,
    "start_time": "2024-01-31T05:46:35.070Z"
   },
   {
    "duration": 27,
    "start_time": "2024-01-31T05:46:35.100Z"
   },
   {
    "duration": 21,
    "start_time": "2024-01-31T05:46:35.129Z"
   },
   {
    "duration": 11,
    "start_time": "2024-01-31T05:46:35.151Z"
   },
   {
    "duration": 27,
    "start_time": "2024-01-31T05:46:35.163Z"
   },
   {
    "duration": 533,
    "start_time": "2024-01-31T05:46:35.192Z"
   },
   {
    "duration": 563,
    "start_time": "2024-01-31T05:46:35.727Z"
   },
   {
    "duration": 18,
    "start_time": "2024-01-31T05:46:36.291Z"
   },
   {
    "duration": 26,
    "start_time": "2024-01-31T05:46:36.310Z"
   },
   {
    "duration": 8,
    "start_time": "2024-01-31T05:46:36.337Z"
   },
   {
    "duration": 23,
    "start_time": "2024-01-31T05:46:36.347Z"
   },
   {
    "duration": 12,
    "start_time": "2024-01-31T05:46:36.372Z"
   },
   {
    "duration": 169,
    "start_time": "2024-01-31T05:46:50.110Z"
   },
   {
    "duration": 201,
    "start_time": "2024-01-31T05:47:05.405Z"
   },
   {
    "duration": 287,
    "start_time": "2024-01-31T05:47:07.295Z"
   },
   {
    "duration": 187,
    "start_time": "2024-01-31T05:47:28.785Z"
   },
   {
    "duration": 206,
    "start_time": "2024-01-31T05:47:31.256Z"
   },
   {
    "duration": 6,
    "start_time": "2024-01-31T05:47:34.063Z"
   },
   {
    "duration": 8,
    "start_time": "2024-01-31T07:47:29.203Z"
   },
   {
    "duration": 3,
    "start_time": "2024-01-31T07:47:31.228Z"
   },
   {
    "duration": 5,
    "start_time": "2024-01-31T07:54:09.067Z"
   },
   {
    "duration": 1258,
    "start_time": "2024-01-31T07:54:28.502Z"
   },
   {
    "duration": 56,
    "start_time": "2024-01-31T07:54:29.762Z"
   },
   {
    "duration": 22,
    "start_time": "2024-01-31T07:54:29.819Z"
   },
   {
    "duration": 15,
    "start_time": "2024-01-31T07:54:29.842Z"
   },
   {
    "duration": 14,
    "start_time": "2024-01-31T07:54:29.859Z"
   },
   {
    "duration": 9,
    "start_time": "2024-01-31T07:54:29.875Z"
   },
   {
    "duration": 11,
    "start_time": "2024-01-31T07:54:29.886Z"
   },
   {
    "duration": 6,
    "start_time": "2024-01-31T07:54:29.922Z"
   },
   {
    "duration": 214,
    "start_time": "2024-01-31T07:54:29.930Z"
   },
   {
    "duration": 8,
    "start_time": "2024-01-31T07:54:30.145Z"
   },
   {
    "duration": 49,
    "start_time": "2024-01-31T07:54:30.155Z"
   },
   {
    "duration": 29,
    "start_time": "2024-01-31T07:54:30.205Z"
   },
   {
    "duration": 23,
    "start_time": "2024-01-31T07:54:30.236Z"
   },
   {
    "duration": 31,
    "start_time": "2024-01-31T07:54:30.262Z"
   },
   {
    "duration": 108,
    "start_time": "2024-01-31T07:54:30.295Z"
   },
   {
    "duration": 592,
    "start_time": "2024-01-31T07:54:30.405Z"
   },
   {
    "duration": 544,
    "start_time": "2024-01-31T07:54:30.999Z"
   },
   {
    "duration": 18,
    "start_time": "2024-01-31T07:54:31.545Z"
   },
   {
    "duration": 33,
    "start_time": "2024-01-31T07:54:31.565Z"
   },
   {
    "duration": 47,
    "start_time": "2024-01-31T07:54:31.600Z"
   },
   {
    "duration": 27,
    "start_time": "2024-01-31T07:54:31.648Z"
   },
   {
    "duration": 43,
    "start_time": "2024-01-31T07:54:31.677Z"
   },
   {
    "duration": 189,
    "start_time": "2024-01-31T07:54:31.722Z"
   },
   {
    "duration": 201,
    "start_time": "2024-01-31T07:54:31.912Z"
   },
   {
    "duration": 284,
    "start_time": "2024-01-31T07:54:32.115Z"
   },
   {
    "duration": 6,
    "start_time": "2024-01-31T07:54:32.400Z"
   },
   {
    "duration": 236,
    "start_time": "2024-01-31T07:54:32.408Z"
   },
   {
    "duration": 373,
    "start_time": "2024-01-31T07:54:32.645Z"
   },
   {
    "duration": 1951,
    "start_time": "2024-01-31T07:54:33.020Z"
   },
   {
    "duration": 1071,
    "start_time": "2024-01-31T07:54:34.973Z"
   },
   {
    "duration": 14,
    "start_time": "2024-01-31T07:54:36.046Z"
   },
   {
    "duration": 15,
    "start_time": "2024-01-31T07:54:36.062Z"
   },
   {
    "duration": 14,
    "start_time": "2024-01-31T07:54:36.078Z"
   },
   {
    "duration": 592,
    "start_time": "2024-01-31T07:54:36.094Z"
   },
   {
    "duration": 547,
    "start_time": "2024-01-31T07:54:36.688Z"
   },
   {
    "duration": 630,
    "start_time": "2024-01-31T07:54:37.237Z"
   },
   {
    "duration": 10,
    "start_time": "2024-01-31T07:54:37.869Z"
   },
   {
    "duration": 14,
    "start_time": "2024-01-31T07:54:37.880Z"
   },
   {
    "duration": 172,
    "start_time": "2024-01-31T07:55:06.068Z"
   },
   {
    "duration": 114,
    "start_time": "2024-01-31T07:55:27.749Z"
   },
   {
    "duration": 4,
    "start_time": "2024-01-31T07:55:40.001Z"
   },
   {
    "duration": 163,
    "start_time": "2024-01-31T07:55:52.599Z"
   },
   {
    "duration": 281,
    "start_time": "2024-01-31T07:56:08.179Z"
   },
   {
    "duration": 162,
    "start_time": "2024-01-31T07:56:25.182Z"
   },
   {
    "duration": 4,
    "start_time": "2024-01-31T07:57:10.530Z"
   },
   {
    "duration": 166,
    "start_time": "2024-01-31T07:57:12.680Z"
   },
   {
    "duration": 167,
    "start_time": "2024-01-31T07:57:26.182Z"
   },
   {
    "duration": 1189,
    "start_time": "2024-01-31T07:58:50.577Z"
   },
   {
    "duration": 57,
    "start_time": "2024-01-31T07:58:51.768Z"
   },
   {
    "duration": 22,
    "start_time": "2024-01-31T07:58:51.827Z"
   },
   {
    "duration": 16,
    "start_time": "2024-01-31T07:58:51.850Z"
   },
   {
    "duration": 22,
    "start_time": "2024-01-31T07:58:51.868Z"
   },
   {
    "duration": 31,
    "start_time": "2024-01-31T07:58:51.892Z"
   },
   {
    "duration": 9,
    "start_time": "2024-01-31T07:58:51.925Z"
   },
   {
    "duration": 6,
    "start_time": "2024-01-31T07:58:51.935Z"
   },
   {
    "duration": 236,
    "start_time": "2024-01-31T07:58:51.942Z"
   },
   {
    "duration": 17,
    "start_time": "2024-01-31T07:58:52.180Z"
   },
   {
    "duration": 28,
    "start_time": "2024-01-31T07:58:52.199Z"
   },
   {
    "duration": 16,
    "start_time": "2024-01-31T07:58:52.228Z"
   },
   {
    "duration": 21,
    "start_time": "2024-01-31T07:58:52.246Z"
   },
   {
    "duration": 12,
    "start_time": "2024-01-31T07:58:52.270Z"
   },
   {
    "duration": 56,
    "start_time": "2024-01-31T07:58:52.284Z"
   },
   {
    "duration": 448,
    "start_time": "2024-01-31T07:58:52.342Z"
   },
   {
    "duration": 539,
    "start_time": "2024-01-31T07:58:52.791Z"
   },
   {
    "duration": 16,
    "start_time": "2024-01-31T07:58:53.332Z"
   },
   {
    "duration": 14,
    "start_time": "2024-01-31T07:58:53.350Z"
   },
   {
    "duration": 9,
    "start_time": "2024-01-31T07:58:53.365Z"
   },
   {
    "duration": 20,
    "start_time": "2024-01-31T07:58:53.375Z"
   },
   {
    "duration": 10,
    "start_time": "2024-01-31T07:58:53.397Z"
   },
   {
    "duration": 196,
    "start_time": "2024-01-31T07:58:53.422Z"
   },
   {
    "duration": 185,
    "start_time": "2024-01-31T07:58:53.622Z"
   },
   {
    "duration": 283,
    "start_time": "2024-01-31T07:58:53.809Z"
   },
   {
    "duration": 5,
    "start_time": "2024-01-31T07:58:54.094Z"
   },
   {
    "duration": 207,
    "start_time": "2024-01-31T07:58:54.100Z"
   },
   {
    "duration": 410,
    "start_time": "2024-01-31T07:58:54.308Z"
   },
   {
    "duration": 1996,
    "start_time": "2024-01-31T07:58:54.720Z"
   },
   {
    "duration": 1086,
    "start_time": "2024-01-31T07:58:56.723Z"
   },
   {
    "duration": 21,
    "start_time": "2024-01-31T07:58:57.811Z"
   },
   {
    "duration": 15,
    "start_time": "2024-01-31T07:58:57.833Z"
   },
   {
    "duration": 13,
    "start_time": "2024-01-31T07:58:57.849Z"
   },
   {
    "duration": 555,
    "start_time": "2024-01-31T07:58:57.864Z"
   },
   {
    "duration": 534,
    "start_time": "2024-01-31T07:58:58.423Z"
   },
   {
    "duration": 646,
    "start_time": "2024-01-31T07:58:58.959Z"
   },
   {
    "duration": 9,
    "start_time": "2024-01-31T07:58:59.607Z"
   },
   {
    "duration": 12,
    "start_time": "2024-01-31T07:58:59.623Z"
   },
   {
    "duration": 160,
    "start_time": "2024-01-31T07:59:33.915Z"
   },
   {
    "duration": 163,
    "start_time": "2024-01-31T07:59:40.438Z"
   },
   {
    "duration": 265,
    "start_time": "2024-01-31T07:59:45.691Z"
   },
   {
    "duration": 166,
    "start_time": "2024-01-31T07:59:52.342Z"
   },
   {
    "duration": 4,
    "start_time": "2024-01-31T08:00:09.443Z"
   },
   {
    "duration": 856,
    "start_time": "2024-01-31T08:04:13.239Z"
   },
   {
    "duration": 600,
    "start_time": "2024-01-31T08:04:32.080Z"
   },
   {
    "duration": 712,
    "start_time": "2024-01-31T08:04:39.305Z"
   },
   {
    "duration": 196,
    "start_time": "2024-01-31T08:05:33.321Z"
   },
   {
    "duration": 197,
    "start_time": "2024-01-31T08:05:37.585Z"
   },
   {
    "duration": 179,
    "start_time": "2024-01-31T08:06:09.928Z"
   },
   {
    "duration": 195,
    "start_time": "2024-01-31T08:06:19.569Z"
   },
   {
    "duration": 159,
    "start_time": "2024-01-31T08:06:28.239Z"
   },
   {
    "duration": 198,
    "start_time": "2024-01-31T08:06:31.840Z"
   },
   {
    "duration": 8,
    "start_time": "2024-01-31T08:09:54.854Z"
   },
   {
    "duration": 3,
    "start_time": "2024-01-31T08:10:00.268Z"
   },
   {
    "duration": 195,
    "start_time": "2024-01-31T08:10:33.898Z"
   },
   {
    "duration": 219,
    "start_time": "2024-01-31T08:10:57.902Z"
   },
   {
    "duration": 7,
    "start_time": "2024-01-31T08:22:23.052Z"
   },
   {
    "duration": 7,
    "start_time": "2024-01-31T08:22:28.697Z"
   },
   {
    "duration": 4,
    "start_time": "2024-01-31T08:23:02.757Z"
   },
   {
    "duration": 8,
    "start_time": "2024-01-31T08:23:20.293Z"
   },
   {
    "duration": 6,
    "start_time": "2024-01-31T08:23:52.219Z"
   },
   {
    "duration": 7,
    "start_time": "2024-01-31T08:27:15.472Z"
   },
   {
    "duration": 6,
    "start_time": "2024-01-31T08:33:36.495Z"
   },
   {
    "duration": 9,
    "start_time": "2024-01-31T08:34:01.603Z"
   },
   {
    "duration": 177,
    "start_time": "2024-01-31T08:34:04.876Z"
   },
   {
    "duration": 4,
    "start_time": "2024-01-31T08:35:19.102Z"
   },
   {
    "duration": 6,
    "start_time": "2024-01-31T08:35:47.881Z"
   },
   {
    "duration": 11,
    "start_time": "2024-01-31T09:36:55.670Z"
   },
   {
    "duration": 6,
    "start_time": "2024-01-31T09:37:18.932Z"
   },
   {
    "duration": 10,
    "start_time": "2024-01-31T10:29:46.546Z"
   },
   {
    "duration": 285,
    "start_time": "2024-01-31T10:30:34.415Z"
   },
   {
    "duration": 8,
    "start_time": "2024-01-31T10:30:55.415Z"
   },
   {
    "duration": 4,
    "start_time": "2024-01-31T10:31:01.521Z"
   },
   {
    "duration": 188,
    "start_time": "2024-01-31T10:31:52.509Z"
   },
   {
    "duration": 192,
    "start_time": "2024-01-31T10:32:06.129Z"
   },
   {
    "duration": 78,
    "start_time": "2024-01-31T10:33:35.617Z"
   },
   {
    "duration": 27,
    "start_time": "2024-01-31T10:33:51.722Z"
   },
   {
    "duration": 36,
    "start_time": "2024-01-31T10:33:59.278Z"
   },
   {
    "duration": 37,
    "start_time": "2024-01-31T10:34:09.557Z"
   },
   {
    "duration": 37,
    "start_time": "2024-01-31T10:34:24.989Z"
   },
   {
    "duration": 36,
    "start_time": "2024-01-31T10:34:44.303Z"
   },
   {
    "duration": 11,
    "start_time": "2024-01-31T10:35:28.474Z"
   },
   {
    "duration": 11,
    "start_time": "2024-01-31T10:35:42.981Z"
   },
   {
    "duration": 12,
    "start_time": "2024-01-31T10:35:56.310Z"
   },
   {
    "duration": 8,
    "start_time": "2024-01-31T10:37:26.149Z"
   },
   {
    "duration": 6,
    "start_time": "2024-01-31T10:39:34.548Z"
   },
   {
    "duration": 5,
    "start_time": "2024-01-31T10:40:11.262Z"
   },
   {
    "duration": 7,
    "start_time": "2024-01-31T11:02:52.180Z"
   },
   {
    "duration": 264,
    "start_time": "2024-01-31T11:06:00.619Z"
   },
   {
    "duration": 219,
    "start_time": "2024-01-31T11:06:07.855Z"
   },
   {
    "duration": 224,
    "start_time": "2024-01-31T11:06:13.185Z"
   },
   {
    "duration": 219,
    "start_time": "2024-01-31T11:06:17.067Z"
   },
   {
    "duration": 45,
    "start_time": "2024-01-31T11:08:09.289Z"
   },
   {
    "duration": 79,
    "start_time": "2024-01-31T11:09:38.769Z"
   },
   {
    "duration": 79,
    "start_time": "2024-01-31T11:10:02.910Z"
   },
   {
    "duration": 116,
    "start_time": "2024-01-31T11:10:35.877Z"
   },
   {
    "duration": 233,
    "start_time": "2024-01-31T11:10:53.739Z"
   },
   {
    "duration": 227,
    "start_time": "2024-01-31T11:10:54.249Z"
   },
   {
    "duration": 9,
    "start_time": "2024-01-31T11:11:10.098Z"
   },
   {
    "duration": 8,
    "start_time": "2024-01-31T11:11:36.440Z"
   },
   {
    "duration": 50,
    "start_time": "2024-01-31T11:13:19.653Z"
   },
   {
    "duration": 46,
    "start_time": "2024-01-31T11:20:01.034Z"
   },
   {
    "duration": 22,
    "start_time": "2024-01-31T11:22:34.972Z"
   },
   {
    "duration": 6,
    "start_time": "2024-01-31T11:23:22.247Z"
   },
   {
    "duration": 432,
    "start_time": "2024-01-31T11:24:55.014Z"
   },
   {
    "duration": 8,
    "start_time": "2024-01-31T11:25:12.555Z"
   },
   {
    "duration": 365,
    "start_time": "2024-01-31T11:25:45.492Z"
   },
   {
    "duration": 9,
    "start_time": "2024-01-31T11:38:27.041Z"
   },
   {
    "duration": 159,
    "start_time": "2024-01-31T11:38:30.969Z"
   },
   {
    "duration": 13,
    "start_time": "2024-01-31T11:39:16.498Z"
   },
   {
    "duration": 10,
    "start_time": "2024-01-31T11:39:23.636Z"
   },
   {
    "duration": 12,
    "start_time": "2024-01-31T11:39:31.703Z"
   },
   {
    "duration": 1097,
    "start_time": "2024-01-31T11:40:59.455Z"
   },
   {
    "duration": 1179,
    "start_time": "2024-01-31T11:41:11.930Z"
   },
   {
    "duration": 1051,
    "start_time": "2024-01-31T11:41:18.127Z"
   },
   {
    "duration": 1174,
    "start_time": "2024-01-31T11:41:35.099Z"
   },
   {
    "duration": 417,
    "start_time": "2024-01-31T11:47:03.858Z"
   },
   {
    "duration": 416,
    "start_time": "2024-01-31T11:47:11.901Z"
   },
   {
    "duration": 506,
    "start_time": "2024-01-31T11:47:22.746Z"
   },
   {
    "duration": 345,
    "start_time": "2024-01-31T11:47:38.900Z"
   },
   {
    "duration": 424,
    "start_time": "2024-01-31T11:47:51.435Z"
   },
   {
    "duration": 425,
    "start_time": "2024-01-31T11:48:10.393Z"
   },
   {
    "duration": 78,
    "start_time": "2024-01-31T11:49:47.256Z"
   },
   {
    "duration": 13,
    "start_time": "2024-01-31T11:49:54.327Z"
   },
   {
    "duration": 12,
    "start_time": "2024-01-31T11:49:59.859Z"
   },
   {
    "duration": 246,
    "start_time": "2024-01-31T11:50:15.842Z"
   },
   {
    "duration": 353,
    "start_time": "2024-01-31T11:50:17.342Z"
   },
   {
    "duration": 13,
    "start_time": "2024-01-31T11:50:17.697Z"
   },
   {
    "duration": 251,
    "start_time": "2024-01-31T11:50:30.472Z"
   },
   {
    "duration": 431,
    "start_time": "2024-01-31T11:50:30.853Z"
   },
   {
    "duration": 12,
    "start_time": "2024-01-31T11:50:31.286Z"
   },
   {
    "duration": 220,
    "start_time": "2024-01-31T11:51:15.205Z"
   },
   {
    "duration": 319,
    "start_time": "2024-01-31T11:51:22.698Z"
   },
   {
    "duration": 13,
    "start_time": "2024-01-31T11:51:32.111Z"
   },
   {
    "duration": 39,
    "start_time": "2024-01-31T11:52:11.231Z"
   },
   {
    "duration": 384,
    "start_time": "2024-01-31T11:52:46.787Z"
   },
   {
    "duration": 17,
    "start_time": "2024-01-31T11:53:28.850Z"
   },
   {
    "duration": 8,
    "start_time": "2024-01-31T12:03:34.350Z"
   },
   {
    "duration": 9,
    "start_time": "2024-01-31T12:03:43.798Z"
   },
   {
    "duration": 8,
    "start_time": "2024-01-31T12:04:29.764Z"
   },
   {
    "duration": 11,
    "start_time": "2024-01-31T12:07:33.199Z"
   },
   {
    "duration": 377,
    "start_time": "2024-01-31T12:09:55.234Z"
   },
   {
    "duration": 359,
    "start_time": "2024-01-31T12:10:03.346Z"
   },
   {
    "duration": 11,
    "start_time": "2024-01-31T12:22:42.020Z"
   },
   {
    "duration": 9,
    "start_time": "2024-01-31T12:23:08.485Z"
   },
   {
    "duration": 10,
    "start_time": "2024-01-31T12:23:24.395Z"
   },
   {
    "duration": 1222,
    "start_time": "2024-01-31T12:23:33.662Z"
   },
   {
    "duration": 58,
    "start_time": "2024-01-31T12:23:34.886Z"
   },
   {
    "duration": 23,
    "start_time": "2024-01-31T12:23:34.946Z"
   },
   {
    "duration": 14,
    "start_time": "2024-01-31T12:23:34.971Z"
   },
   {
    "duration": 47,
    "start_time": "2024-01-31T12:23:34.987Z"
   },
   {
    "duration": 23,
    "start_time": "2024-01-31T12:23:35.036Z"
   },
   {
    "duration": 11,
    "start_time": "2024-01-31T12:23:35.061Z"
   },
   {
    "duration": 7,
    "start_time": "2024-01-31T12:23:35.074Z"
   },
   {
    "duration": 254,
    "start_time": "2024-01-31T12:23:35.083Z"
   },
   {
    "duration": 9,
    "start_time": "2024-01-31T12:23:35.339Z"
   },
   {
    "duration": 108,
    "start_time": "2024-01-31T12:23:35.349Z"
   },
   {
    "duration": 67,
    "start_time": "2024-01-31T12:23:35.459Z"
   },
   {
    "duration": 23,
    "start_time": "2024-01-31T12:23:35.528Z"
   },
   {
    "duration": 13,
    "start_time": "2024-01-31T12:23:35.553Z"
   },
   {
    "duration": 48,
    "start_time": "2024-01-31T12:23:35.567Z"
   },
   {
    "duration": 487,
    "start_time": "2024-01-31T12:23:35.617Z"
   },
   {
    "duration": 544,
    "start_time": "2024-01-31T12:23:36.106Z"
   },
   {
    "duration": 18,
    "start_time": "2024-01-31T12:23:36.652Z"
   },
   {
    "duration": 16,
    "start_time": "2024-01-31T12:23:36.671Z"
   },
   {
    "duration": 9,
    "start_time": "2024-01-31T12:23:36.688Z"
   },
   {
    "duration": 25,
    "start_time": "2024-01-31T12:23:36.699Z"
   },
   {
    "duration": 8,
    "start_time": "2024-01-31T12:23:36.726Z"
   },
   {
    "duration": 8,
    "start_time": "2024-01-31T12:23:36.735Z"
   },
   {
    "duration": 204,
    "start_time": "2024-01-31T12:23:36.744Z"
   },
   {
    "duration": 202,
    "start_time": "2024-01-31T12:23:36.950Z"
   },
   {
    "duration": 294,
    "start_time": "2024-01-31T12:23:37.154Z"
   },
   {
    "duration": 47,
    "start_time": "2024-01-31T12:23:37.450Z"
   },
   {
    "duration": 223,
    "start_time": "2024-01-31T12:23:37.500Z"
   },
   {
    "duration": 297,
    "start_time": "2024-01-31T12:23:37.724Z"
   },
   {
    "duration": 10,
    "start_time": "2024-01-31T12:23:38.023Z"
   },
   {
    "duration": 14,
    "start_time": "2024-01-31T12:23:38.035Z"
   },
   {
    "duration": 14,
    "start_time": "2024-01-31T12:23:38.050Z"
   },
   {
    "duration": 20,
    "start_time": "2024-01-31T12:23:38.065Z"
   },
   {
    "duration": 618,
    "start_time": "2024-01-31T12:23:38.086Z"
   },
   {
    "duration": 546,
    "start_time": "2024-01-31T12:23:38.706Z"
   },
   {
    "duration": 697,
    "start_time": "2024-01-31T12:23:39.254Z"
   },
   {
    "duration": 9,
    "start_time": "2024-01-31T12:23:39.962Z"
   },
   {
    "duration": 9,
    "start_time": "2024-01-31T12:23:39.973Z"
   },
   {
    "duration": 15,
    "start_time": "2024-01-31T12:26:34.750Z"
   },
   {
    "duration": 12,
    "start_time": "2024-01-31T12:27:08.786Z"
   },
   {
    "duration": 8,
    "start_time": "2024-01-31T12:27:20.530Z"
   },
   {
    "duration": 13,
    "start_time": "2024-01-31T12:30:37.236Z"
   },
   {
    "duration": 12,
    "start_time": "2024-01-31T12:30:37.986Z"
   },
   {
    "duration": 11,
    "start_time": "2024-01-31T12:30:39.286Z"
   },
   {
    "duration": 9,
    "start_time": "2024-01-31T12:34:06.696Z"
   },
   {
    "duration": 9,
    "start_time": "2024-01-31T12:34:25.316Z"
   },
   {
    "duration": 1086,
    "start_time": "2024-01-31T13:30:17.839Z"
   },
   {
    "duration": 92,
    "start_time": "2024-01-31T13:30:18.927Z"
   },
   {
    "duration": 21,
    "start_time": "2024-01-31T13:30:19.021Z"
   },
   {
    "duration": 34,
    "start_time": "2024-01-31T13:30:19.044Z"
   },
   {
    "duration": 21,
    "start_time": "2024-01-31T13:30:19.080Z"
   },
   {
    "duration": 15,
    "start_time": "2024-01-31T13:30:19.103Z"
   },
   {
    "duration": 32,
    "start_time": "2024-01-31T13:30:19.119Z"
   },
   {
    "duration": 17,
    "start_time": "2024-01-31T13:30:19.153Z"
   },
   {
    "duration": 208,
    "start_time": "2024-01-31T13:30:19.171Z"
   },
   {
    "duration": 8,
    "start_time": "2024-01-31T13:30:19.380Z"
   },
   {
    "duration": 30,
    "start_time": "2024-01-31T13:30:19.390Z"
   },
   {
    "duration": 14,
    "start_time": "2024-01-31T13:30:19.422Z"
   },
   {
    "duration": 18,
    "start_time": "2024-01-31T13:30:19.438Z"
   },
   {
    "duration": 10,
    "start_time": "2024-01-31T13:30:19.459Z"
   },
   {
    "duration": 48,
    "start_time": "2024-01-31T13:30:19.471Z"
   },
   {
    "duration": 456,
    "start_time": "2024-01-31T13:30:19.521Z"
   },
   {
    "duration": 484,
    "start_time": "2024-01-31T13:30:19.979Z"
   },
   {
    "duration": 16,
    "start_time": "2024-01-31T13:30:20.465Z"
   },
   {
    "duration": 14,
    "start_time": "2024-01-31T13:30:20.482Z"
   },
   {
    "duration": 24,
    "start_time": "2024-01-31T13:30:20.498Z"
   },
   {
    "duration": 8,
    "start_time": "2024-01-31T13:30:20.524Z"
   },
   {
    "duration": 8,
    "start_time": "2024-01-31T13:30:20.534Z"
   },
   {
    "duration": 9,
    "start_time": "2024-01-31T13:30:20.544Z"
   },
   {
    "duration": 169,
    "start_time": "2024-01-31T13:30:20.555Z"
   },
   {
    "duration": 176,
    "start_time": "2024-01-31T13:30:20.726Z"
   },
   {
    "duration": 265,
    "start_time": "2024-01-31T13:30:20.904Z"
   },
   {
    "duration": 63,
    "start_time": "2024-01-31T13:30:21.171Z"
   },
   {
    "duration": 184,
    "start_time": "2024-01-31T13:30:21.236Z"
   },
   {
    "duration": 269,
    "start_time": "2024-01-31T13:30:21.421Z"
   },
   {
    "duration": 10,
    "start_time": "2024-01-31T13:30:21.692Z"
   },
   {
    "duration": 24,
    "start_time": "2024-01-31T13:30:21.703Z"
   },
   {
    "duration": 11,
    "start_time": "2024-01-31T13:30:21.728Z"
   },
   {
    "duration": 9,
    "start_time": "2024-01-31T13:30:21.741Z"
   },
   {
    "duration": 505,
    "start_time": "2024-01-31T13:30:21.751Z"
   },
   {
    "duration": 515,
    "start_time": "2024-01-31T13:30:22.257Z"
   },
   {
    "duration": 485,
    "start_time": "2024-01-31T13:30:22.774Z"
   },
   {
    "duration": 8,
    "start_time": "2024-01-31T13:30:23.261Z"
   },
   {
    "duration": 11,
    "start_time": "2024-01-31T13:30:23.270Z"
   },
   {
    "duration": 1147,
    "start_time": "2024-01-31T13:31:30.802Z"
   },
   {
    "duration": 57,
    "start_time": "2024-01-31T13:31:31.952Z"
   },
   {
    "duration": 30,
    "start_time": "2024-01-31T13:31:32.011Z"
   },
   {
    "duration": 17,
    "start_time": "2024-01-31T13:31:32.043Z"
   },
   {
    "duration": 15,
    "start_time": "2024-01-31T13:31:32.062Z"
   },
   {
    "duration": 10,
    "start_time": "2024-01-31T13:31:32.079Z"
   },
   {
    "duration": 34,
    "start_time": "2024-01-31T13:31:32.090Z"
   },
   {
    "duration": 7,
    "start_time": "2024-01-31T13:31:32.126Z"
   },
   {
    "duration": 209,
    "start_time": "2024-01-31T13:31:32.134Z"
   },
   {
    "duration": 5,
    "start_time": "2024-01-31T13:31:32.344Z"
   },
   {
    "duration": 27,
    "start_time": "2024-01-31T13:31:32.351Z"
   },
   {
    "duration": 23,
    "start_time": "2024-01-31T13:31:32.380Z"
   },
   {
    "duration": 24,
    "start_time": "2024-01-31T13:31:32.404Z"
   },
   {
    "duration": 11,
    "start_time": "2024-01-31T13:31:32.431Z"
   },
   {
    "duration": 26,
    "start_time": "2024-01-31T13:31:32.444Z"
   },
   {
    "duration": 509,
    "start_time": "2024-01-31T13:31:32.472Z"
   },
   {
    "duration": 487,
    "start_time": "2024-01-31T13:31:32.983Z"
   },
   {
    "duration": 16,
    "start_time": "2024-01-31T13:31:33.471Z"
   },
   {
    "duration": 13,
    "start_time": "2024-01-31T13:31:33.489Z"
   },
   {
    "duration": 18,
    "start_time": "2024-01-31T13:31:33.503Z"
   },
   {
    "duration": 9,
    "start_time": "2024-01-31T13:31:33.522Z"
   },
   {
    "duration": 7,
    "start_time": "2024-01-31T13:31:33.532Z"
   },
   {
    "duration": 5,
    "start_time": "2024-01-31T13:31:33.540Z"
   },
   {
    "duration": 183,
    "start_time": "2024-01-31T13:31:33.547Z"
   },
   {
    "duration": 175,
    "start_time": "2024-01-31T13:31:33.732Z"
   },
   {
    "duration": 252,
    "start_time": "2024-01-31T13:31:33.909Z"
   },
   {
    "duration": 58,
    "start_time": "2024-01-31T13:31:34.163Z"
   },
   {
    "duration": 196,
    "start_time": "2024-01-31T13:31:34.223Z"
   },
   {
    "duration": 269,
    "start_time": "2024-01-31T13:31:34.421Z"
   },
   {
    "duration": 11,
    "start_time": "2024-01-31T13:31:34.691Z"
   },
   {
    "duration": 22,
    "start_time": "2024-01-31T13:31:34.703Z"
   },
   {
    "duration": 15,
    "start_time": "2024-01-31T13:31:34.727Z"
   },
   {
    "duration": 10,
    "start_time": "2024-01-31T13:31:34.744Z"
   },
   {
    "duration": 467,
    "start_time": "2024-01-31T13:31:34.756Z"
   },
   {
    "duration": 554,
    "start_time": "2024-01-31T13:31:35.225Z"
   },
   {
    "duration": 506,
    "start_time": "2024-01-31T13:31:35.781Z"
   },
   {
    "duration": 8,
    "start_time": "2024-01-31T13:31:36.289Z"
   },
   {
    "duration": 22,
    "start_time": "2024-01-31T13:31:36.298Z"
   },
   {
    "duration": 20,
    "start_time": "2024-01-31T13:34:26.662Z"
   }
  ],
  "kernelspec": {
   "display_name": "Python 3 (ipykernel)",
   "language": "python",
   "name": "python3"
  },
  "language_info": {
   "codemirror_mode": {
    "name": "ipython",
    "version": 3
   },
   "file_extension": ".py",
   "mimetype": "text/x-python",
   "name": "python",
   "nbconvert_exporter": "python",
   "pygments_lexer": "ipython3",
   "version": "3.11.6"
  },
  "toc": {
   "base_numbering": 1,
   "nav_menu": {
    "height": "428.168px",
    "width": "366.676px"
   },
   "number_sections": true,
   "sideBar": true,
   "skip_h1_title": true,
   "title_cell": "Table of Contents",
   "title_sidebar": "Contents",
   "toc_cell": false,
   "toc_position": {
    "height": "calc(100% - 180px)",
    "left": "10px",
    "top": "150px",
    "width": "165px"
   },
   "toc_section_display": true,
   "toc_window_display": true
  }
 },
 "nbformat": 4,
 "nbformat_minor": 5
}
