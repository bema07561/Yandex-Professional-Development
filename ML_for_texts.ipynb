{
 "cells": [
  {
   "cell_type": "markdown",
   "metadata": {},
   "source": [
    "# Проект для «Викишоп»"
   ]
  },
  {
   "cell_type": "markdown",
   "metadata": {},
   "source": [
    "Интернет-магазин «Викишоп» запускает новый сервис. Теперь пользователи могут редактировать и дополнять описания товаров, как в вики-сообществах. То есть клиенты предлагают свои правки и комментируют изменения других. Магазину нужен инструмент, который будет искать токсичные комментарии и отправлять их на модерацию. \n",
    "\n",
    "Обучите модель классифицировать комментарии на позитивные и негативные. В вашем распоряжении набор данных с разметкой о токсичности правок.\n",
    "\n",
    "Постройте модель со значением метрики качества *F1* не меньше 0.75. \n",
    "\n",
    "**Инструкция по выполнению проекта**\n",
    "\n",
    "1. Загрузите и подготовьте данные.\n",
    "2. Обучите разные модели. \n",
    "3. Сделайте выводы.\n",
    "\n",
    "Для выполнения проекта применять *BERT* необязательно, но вы можете попробовать.\n",
    "\n",
    "**Описание данных**\n",
    "\n",
    "Данные находятся в файле `toxic_comments.csv`. Столбец *text* в нём содержит текст комментария, а *toxic* — целевой признак."
   ]
  },
  {
   "cell_type": "markdown",
   "metadata": {},
   "source": [
    "## Ознакомление с данными"
   ]
  },
  {
   "cell_type": "code",
   "execution_count": 1,
   "metadata": {},
   "outputs": [],
   "source": [
    "import numpy as np\n",
    "import pandas as pd\n",
    "import torch\n",
    "import transformers\n",
    "from tqdm import notebook\n",
    "from sklearn.model_selection import train_test_split, RandomizedSearchCV\n",
    "from sklearn.linear_model import LogisticRegression\n",
    "from sklearn.pipeline import Pipeline\n",
    "from sklearn.metrics import f1_score\n",
    "from sklearn.preprocessing import StandardScaler, MinMaxScaler, RobustScaler\n",
    "from xgboost import XGBClassifier\n",
    "from lightgbm import LGBMClassifier\n",
    "from sklearn.svm import SVC\n",
    "from sklearn.ensemble import RandomForestClassifier\n",
    "from sklearn.neighbors import KNeighborsClassifier\n",
    "from sklearn.naive_bayes import MultinomialNB, ComplementNB\n",
    "import matplotlib.pyplot as plt\n",
    "from matplotlib.pyplot import figure\n",
    "from nltk.stem import WordNetLemmatizer\n",
    "import seaborn as sns\n",
    "from sklearn.ensemble import RandomForestClassifier, GradientBoostingClassifier"
   ]
  },
  {
   "cell_type": "code",
   "execution_count": 2,
   "metadata": {},
   "outputs": [],
   "source": [
    "def get_data_info(data):\n",
    "    display(data.sample(5))\n",
    "    display(data.info())\n",
    "    display(data.describe(include='all'))"
   ]
  },
  {
   "cell_type": "code",
   "execution_count": 3,
   "metadata": {
    "scrolled": false
   },
   "outputs": [
    {
     "data": {
      "text/html": [
       "<div>\n",
       "<style scoped>\n",
       "    .dataframe tbody tr th:only-of-type {\n",
       "        vertical-align: middle;\n",
       "    }\n",
       "\n",
       "    .dataframe tbody tr th {\n",
       "        vertical-align: top;\n",
       "    }\n",
       "\n",
       "    .dataframe thead th {\n",
       "        text-align: right;\n",
       "    }\n",
       "</style>\n",
       "<table border=\"1\" class=\"dataframe\">\n",
       "  <thead>\n",
       "    <tr style=\"text-align: right;\">\n",
       "      <th></th>\n",
       "      <th>Unnamed: 0</th>\n",
       "      <th>text</th>\n",
       "      <th>toxic</th>\n",
       "    </tr>\n",
       "  </thead>\n",
       "  <tbody>\n",
       "    <tr>\n",
       "      <th>55654</th>\n",
       "      <td>55715</td>\n",
       "      <td>My edits \\n\\nSorry about not leaving a signatu...</td>\n",
       "      <td>0</td>\n",
       "    </tr>\n",
       "    <tr>\n",
       "      <th>138485</th>\n",
       "      <td>138636</td>\n",
       "      <td>Just an idea now, it will come soon.</td>\n",
       "      <td>0</td>\n",
       "    </tr>\n",
       "    <tr>\n",
       "      <th>51142</th>\n",
       "      <td>51198</td>\n",
       "      <td>\"\\nThere you go again with your lies, David.  ...</td>\n",
       "      <td>0</td>\n",
       "    </tr>\n",
       "    <tr>\n",
       "      <th>46593</th>\n",
       "      <td>46648</td>\n",
       "      <td>\"\\n\\n Wikipedia and copyright \\n Hello Jbeck89...</td>\n",
       "      <td>0</td>\n",
       "    </tr>\n",
       "    <tr>\n",
       "      <th>71939</th>\n",
       "      <td>72009</td>\n",
       "      <td>Please stop. If you continue to vandalize page...</td>\n",
       "      <td>0</td>\n",
       "    </tr>\n",
       "  </tbody>\n",
       "</table>\n",
       "</div>"
      ],
      "text/plain": [
       "        Unnamed: 0                                               text  toxic\n",
       "55654        55715  My edits \\n\\nSorry about not leaving a signatu...      0\n",
       "138485      138636               Just an idea now, it will come soon.      0\n",
       "51142        51198  \"\\nThere you go again with your lies, David.  ...      0\n",
       "46593        46648  \"\\n\\n Wikipedia and copyright \\n Hello Jbeck89...      0\n",
       "71939        72009  Please stop. If you continue to vandalize page...      0"
      ]
     },
     "metadata": {},
     "output_type": "display_data"
    },
    {
     "name": "stdout",
     "output_type": "stream",
     "text": [
      "<class 'pandas.core.frame.DataFrame'>\n",
      "RangeIndex: 159292 entries, 0 to 159291\n",
      "Data columns (total 3 columns):\n",
      " #   Column      Non-Null Count   Dtype \n",
      "---  ------      --------------   ----- \n",
      " 0   Unnamed: 0  159292 non-null  int64 \n",
      " 1   text        159292 non-null  object\n",
      " 2   toxic       159292 non-null  int64 \n",
      "dtypes: int64(2), object(1)\n",
      "memory usage: 3.6+ MB\n"
     ]
    },
    {
     "data": {
      "text/plain": [
       "None"
      ]
     },
     "metadata": {},
     "output_type": "display_data"
    },
    {
     "data": {
      "text/html": [
       "<div>\n",
       "<style scoped>\n",
       "    .dataframe tbody tr th:only-of-type {\n",
       "        vertical-align: middle;\n",
       "    }\n",
       "\n",
       "    .dataframe tbody tr th {\n",
       "        vertical-align: top;\n",
       "    }\n",
       "\n",
       "    .dataframe thead th {\n",
       "        text-align: right;\n",
       "    }\n",
       "</style>\n",
       "<table border=\"1\" class=\"dataframe\">\n",
       "  <thead>\n",
       "    <tr style=\"text-align: right;\">\n",
       "      <th></th>\n",
       "      <th>Unnamed: 0</th>\n",
       "      <th>text</th>\n",
       "      <th>toxic</th>\n",
       "    </tr>\n",
       "  </thead>\n",
       "  <tbody>\n",
       "    <tr>\n",
       "      <th>count</th>\n",
       "      <td>159292.000000</td>\n",
       "      <td>159292</td>\n",
       "      <td>159292.000000</td>\n",
       "    </tr>\n",
       "    <tr>\n",
       "      <th>unique</th>\n",
       "      <td>NaN</td>\n",
       "      <td>159292</td>\n",
       "      <td>NaN</td>\n",
       "    </tr>\n",
       "    <tr>\n",
       "      <th>top</th>\n",
       "      <td>NaN</td>\n",
       "      <td>Explanation\\nWhy the edits made under my usern...</td>\n",
       "      <td>NaN</td>\n",
       "    </tr>\n",
       "    <tr>\n",
       "      <th>freq</th>\n",
       "      <td>NaN</td>\n",
       "      <td>1</td>\n",
       "      <td>NaN</td>\n",
       "    </tr>\n",
       "    <tr>\n",
       "      <th>mean</th>\n",
       "      <td>79725.697242</td>\n",
       "      <td>NaN</td>\n",
       "      <td>0.101612</td>\n",
       "    </tr>\n",
       "    <tr>\n",
       "      <th>std</th>\n",
       "      <td>46028.837471</td>\n",
       "      <td>NaN</td>\n",
       "      <td>0.302139</td>\n",
       "    </tr>\n",
       "    <tr>\n",
       "      <th>min</th>\n",
       "      <td>0.000000</td>\n",
       "      <td>NaN</td>\n",
       "      <td>0.000000</td>\n",
       "    </tr>\n",
       "    <tr>\n",
       "      <th>25%</th>\n",
       "      <td>39872.750000</td>\n",
       "      <td>NaN</td>\n",
       "      <td>0.000000</td>\n",
       "    </tr>\n",
       "    <tr>\n",
       "      <th>50%</th>\n",
       "      <td>79721.500000</td>\n",
       "      <td>NaN</td>\n",
       "      <td>0.000000</td>\n",
       "    </tr>\n",
       "    <tr>\n",
       "      <th>75%</th>\n",
       "      <td>119573.250000</td>\n",
       "      <td>NaN</td>\n",
       "      <td>0.000000</td>\n",
       "    </tr>\n",
       "    <tr>\n",
       "      <th>max</th>\n",
       "      <td>159450.000000</td>\n",
       "      <td>NaN</td>\n",
       "      <td>1.000000</td>\n",
       "    </tr>\n",
       "  </tbody>\n",
       "</table>\n",
       "</div>"
      ],
      "text/plain": [
       "           Unnamed: 0                                               text  \\\n",
       "count   159292.000000                                             159292   \n",
       "unique            NaN                                             159292   \n",
       "top               NaN  Explanation\\nWhy the edits made under my usern...   \n",
       "freq              NaN                                                  1   \n",
       "mean     79725.697242                                                NaN   \n",
       "std      46028.837471                                                NaN   \n",
       "min          0.000000                                                NaN   \n",
       "25%      39872.750000                                                NaN   \n",
       "50%      79721.500000                                                NaN   \n",
       "75%     119573.250000                                                NaN   \n",
       "max     159450.000000                                                NaN   \n",
       "\n",
       "                toxic  \n",
       "count   159292.000000  \n",
       "unique            NaN  \n",
       "top               NaN  \n",
       "freq              NaN  \n",
       "mean         0.101612  \n",
       "std          0.302139  \n",
       "min          0.000000  \n",
       "25%          0.000000  \n",
       "50%          0.000000  \n",
       "75%          0.000000  \n",
       "max          1.000000  "
      ]
     },
     "metadata": {},
     "output_type": "display_data"
    }
   ],
   "source": [
    "try:\n",
    "    df = pd.read_csv('toxic_comments.csv')\n",
    "\n",
    "except:\n",
    "    df = pd.read_csv('/datasets/toxic_comments.csv')\n",
    "    \n",
    "get_data_info(df)"
   ]
  },
  {
   "cell_type": "code",
   "execution_count": 4,
   "metadata": {},
   "outputs": [],
   "source": [
    "df = df.drop('Unnamed: 0', axis=1)"
   ]
  },
  {
   "cell_type": "markdown",
   "metadata": {},
   "source": [
    "## Исследовательский анализ"
   ]
  },
  {
   "cell_type": "code",
   "execution_count": 5,
   "metadata": {},
   "outputs": [
    {
     "data": {
      "text/plain": [
       "text     0\n",
       "toxic    0\n",
       "dtype: int64"
      ]
     },
     "execution_count": 5,
     "metadata": {},
     "output_type": "execute_result"
    }
   ],
   "source": [
    "df.isna().sum()"
   ]
  },
  {
   "cell_type": "code",
   "execution_count": 6,
   "metadata": {},
   "outputs": [
    {
     "data": {
      "text/plain": [
       "0"
      ]
     },
     "execution_count": 6,
     "metadata": {},
     "output_type": "execute_result"
    }
   ],
   "source": [
    "df.duplicated().sum()"
   ]
  },
  {
   "cell_type": "code",
   "execution_count": 7,
   "metadata": {},
   "outputs": [
    {
     "data": {
      "text/plain": [
       "0    143106\n",
       "1     16186\n",
       "Name: toxic, dtype: int64"
      ]
     },
     "execution_count": 7,
     "metadata": {},
     "output_type": "execute_result"
    }
   ],
   "source": [
    "df['toxic'].value_counts()"
   ]
  },
  {
   "cell_type": "code",
   "execution_count": 8,
   "metadata": {},
   "outputs": [
    {
     "name": "stdout",
     "output_type": "stream",
     "text": [
      "Percentage of positive classes in the data: 11.31\n"
     ]
    }
   ],
   "source": [
    "print('Percentage of positive classes in the data:', \n",
    "      (df['toxic'].value_counts()[1]/df['toxic'].value_counts()[0] * 100).round(2))"
   ]
  },
  {
   "cell_type": "code",
   "execution_count": 9,
   "metadata": {},
   "outputs": [
    {
     "data": {
      "text/plain": [
       "count    159292.0\n",
       "mean        394.0\n",
       "std         590.0\n",
       "min           5.0\n",
       "25%          95.0\n",
       "50%         205.0\n",
       "75%         435.0\n",
       "max        5000.0\n",
       "Name: length, dtype: float64"
      ]
     },
     "execution_count": 9,
     "metadata": {},
     "output_type": "execute_result"
    }
   ],
   "source": [
    "df['length'] = df['text'].apply(lambda x: len(x))\n",
    "df['length'].describe().round()"
   ]
  },
  {
   "cell_type": "code",
   "execution_count": 10,
   "metadata": {},
   "outputs": [
    {
     "data": {
      "image/png": "[encoded data removed]",
      "text/plain": [
       "<Figure size 1000x500 with 1 Axes>"
      ]
     },
     "metadata": {},
     "output_type": "display_data"
    }
   ],
   "source": [
    "df['length'].plot(kind='hist', bins=50)\n",
    "plt.xlabel('Text length')\n",
    "plt.ylabel('Number of texts')\n",
    "plt.title('Distribution of the number of different length texts')\n",
    "fig = plt.gcf()\n",
    "fig.set_size_inches(10, 5)\n",
    "plt.show()"
   ]
  },
  {
   "cell_type": "code",
   "execution_count": 11,
   "metadata": {},
   "outputs": [
    {
     "data": {
      "image/png": "[encoded data removed]",
      "text/plain": [
       "<Figure size 1000x500 with 1 Axes>"
      ]
     },
     "metadata": {},
     "output_type": "display_data"
    }
   ],
   "source": [
    "plt.figure(figsize=(10, 5))\n",
    "sns.boxplot(x='toxic', y='length', data=df)\n",
    "plt.ylabel('Text length')\n",
    "plt.ylim(0, 1500)\n",
    "plt.xlabel('Toxicity of an article (0 - no, 1 - yes)')\n",
    "plt.title('Ratio of toxic articles in dataframe by their length')\n",
    "plt.show()"
   ]
  },
  {
   "cell_type": "markdown",
   "metadata": {},
   "source": [
    "### Вывод\n",
    "\n",
    "\n",
    "В колонке «текст» содержатся комментарии, на основе анализа которых будет сделан вывод об их токсичности. Колонка «токсичный» содержит целевой признак, который отвечает на вопрос о том, является ли комментарий токсичным (0 - нет, 1 - да). Мы видим, что есть столбец 'Unnamed: 0', который нам не нужен. Удалим его. Поскольку наша задача - классифицировать тексты на токсичность, нам нужно понимать соотношение классов. Дисбаланс классов негативно влияет на результаты машинного обучения. Мы видим, что соотношение отрицательного класса к положительному составляет примерно 9:1, что указывает на явный дисбаланс. В данных отсутствуют пропуски и явные дубликаты. Один ненужный столбец был удален. В результате анализа выяснилось, что токсичные комментарии в среднем короче по длине, чем нетоксичные. Средняя длина комментариев составляет 394 символа, при этом токсичные комментарии имеют меньшую длину по сравнению с нетоксичными. Эти выводы следует учитывать при дальнейшем машинном обучении и предобработке данных."
   ]
  },
  {
   "cell_type": "markdown",
   "metadata": {},
   "source": [
    "## Подготовка данных"
   ]
  },
  {
   "cell_type": "code",
   "execution_count": 12,
   "metadata": {},
   "outputs": [
    {
     "name": "stdout",
     "output_type": "stream",
     "text": [
      "0    1500\n",
      "1    1500\n",
      "Name: toxic, dtype: int64\n",
      "0    628\n",
      "1     72\n",
      "Name: toxic, dtype: int64\n"
     ]
    }
   ],
   "source": [
    "RANDOM_STATE = 42\n",
    "df_train, df_test = train_test_split(df, test_size=0.5, random_state=RANDOM_STATE)\n",
    "\n",
    "toxic_1 = df_train[df_train['toxic'] == 1]\n",
    "toxic_0 = df_train[df_train['toxic'] == 0]\n",
    "sample_size = min(len(toxic_1), len(toxic_0), 1500)\n",
    "toxic_1_sample = toxic_1.sample(sample_size, random_state=RANDOM_STATE)\n",
    "toxic_0_sample = toxic_0.sample(sample_size, random_state=RANDOM_STATE)\n",
    "balanced_train_sample = pd.concat([toxic_1_sample, toxic_0_sample]).sample(frac=1, random_state=RANDOM_STATE).reset_index(drop=True)\n",
    "\n",
    "df_train = balanced_train_sample\n",
    "\n",
    "df_test = df_test.sample(n=700, random_state=RANDOM_STATE)\n",
    "\n",
    "print(df_train['toxic'].value_counts())\n",
    "print(df_test['toxic'].value_counts())"
   ]
  },
  {
   "cell_type": "code",
   "execution_count": 13,
   "metadata": {},
   "outputs": [],
   "source": [
    "# 3. Токенизация и создание attention masks для тренировочной выборки\n",
    "try:\n",
    "    tokenizer = transformers.BertTokenizer(vocab_file='vocab.txt')\n",
    "except:\n",
    "    \n",
    "    tokenizer = transformers.BertTokenizer(vocab_file='/datasets/ds_bert/vocab.txt')\n",
    "\n",
    "max_len = 512\n",
    "tokenized_train = df_train['text'].apply(lambda x: tokenizer.encode(x, add_special_tokens=True, max_length=max_len, truncation=True))\n",
    "padded_train = np.array([i + [0]*(max_len - len(i)) for i in tokenized_train.values])\n",
    "attention_mask_train = np.where(padded_train != 0, 1, 0)"
   ]
  },
  {
   "cell_type": "code",
   "execution_count": 14,
   "metadata": {},
   "outputs": [],
   "source": [
    "# Токенизация и создание attention masks для тестовой выборки\n",
    "\n",
    "tokenized_test = df_test['text'].apply(lambda x: tokenizer.encode(x, add_special_tokens=True, max_length=max_len, truncation=True))\n",
    "padded_test = np.array([i + [0]*(max_len - len(i)) for i in tokenized_test.values])\n",
    "attention_mask_test = np.where(padded_test != 0, 1, 0)"
   ]
  },
  {
   "cell_type": "code",
   "execution_count": 15,
   "metadata": {},
   "outputs": [
    {
     "name": "stderr",
     "output_type": "stream",
     "text": [
      "/Users/bema07561/anaconda3/lib/python3.11/site-packages/torch/_utils.py:776: UserWarning: TypedStorage is deprecated. It will be removed in the future and UntypedStorage will be the only storage class. This should only matter to you if you are using storages directly.  To access UntypedStorage directly, use tensor.untyped_storage() instead of tensor.storage()\n",
      "  return self.fget.__get__(instance, owner)()\n"
     ]
    },
    {
     "data": {
      "application/vnd.jupyter.widget-view+json": {
       "model_id": "6b4d141b99944d279fcc4c0eafc7a314",
       "version_major": 2,
       "version_minor": 0
      },
      "text/plain": [
       "  0%|          | 0/30 [00:00<?, ?it/s]"
      ]
     },
     "metadata": {},
     "output_type": "display_data"
    }
   ],
   "source": [
    "# 4. Получение эмбеддингов BERT для тренировочной выборки\n",
    "try:\n",
    "    config = transformers.BertConfig.from_json_file('config.json')\n",
    "    model = transformers.BertModel.from_pretrained('pytorch_model.bin', config=config)\n",
    "except:\n",
    "    config = transformers.BertConfig.from_json_file('/datasets/ds_bert/config.json')\n",
    "    model = transformers.BertModel.from_pretrained('/datasets/ds_bert/pytorch_model.bin', config=config)\n",
    "\n",
    "batch_size = 100\n",
    "embeddings_train = []\n",
    "for i in notebook.tqdm(range(padded_train.shape[0] // batch_size)):\n",
    "    batch = torch.LongTensor(padded_train[batch_size*i:batch_size*(i+1)]) \n",
    "    attention_mask_batch = torch.LongTensor(attention_mask_train[batch_size*i:batch_size*(i+1)])\n",
    "    with torch.no_grad():\n",
    "        batch_embeddings = model(batch, attention_mask=attention_mask_batch)\n",
    "    embeddings_train.append(batch_embeddings[0][:,0,:].numpy())\n",
    "\n",
    "features_train = np.concatenate(embeddings_train)"
   ]
  },
  {
   "cell_type": "code",
   "execution_count": 16,
   "metadata": {},
   "outputs": [
    {
     "data": {
      "application/vnd.jupyter.widget-view+json": {
       "model_id": "3f856629e24f42a284f2dcf84e882587",
       "version_major": 2,
       "version_minor": 0
      },
      "text/plain": [
       "  0%|          | 0/7 [00:00<?, ?it/s]"
      ]
     },
     "metadata": {},
     "output_type": "display_data"
    }
   ],
   "source": [
    "# Получение эмбеддингов BERT для тестовой выборки\n",
    "embeddings_test = []\n",
    "for i in notebook.tqdm(range(padded_test.shape[0] // batch_size)):\n",
    "    batch = torch.LongTensor(padded_test[batch_size*i:batch_size*(i+1)]) \n",
    "    attention_mask_batch = torch.LongTensor(attention_mask_test[batch_size*i:batch_size*(i+1)])\n",
    "    with torch.no_grad():\n",
    "        batch_embeddings = model(batch, attention_mask=attention_mask_batch)\n",
    "    embeddings_test.append(batch_embeddings[0][:,0,:].numpy())\n",
    "\n",
    "features_test = np.concatenate(embeddings_test)"
   ]
  },
  {
   "cell_type": "markdown",
   "metadata": {},
   "source": [
    "## Обучение"
   ]
  },
  {
   "cell_type": "code",
   "execution_count": 17,
   "metadata": {},
   "outputs": [],
   "source": [
    "X_train, y_train = features_train, df_train['toxic']\n",
    "X_test, y_test = features_test, df_test['toxic']"
   ]
  },
  {
   "cell_type": "code",
   "execution_count": 18,
   "metadata": {},
   "outputs": [],
   "source": [
    "pipe_final = Pipeline([\n",
    "    ('scaler', 'passthrough'),\n",
    "    ('model', LogisticRegression())\n",
    "])\n",
    "\n",
    "param_grid = [\n",
    "    {\n",
    "        'model': [LogisticRegression()],\n",
    "        'scaler': [StandardScaler(), RobustScaler(), 'passthrough'],\n",
    "        'model__C': [0.01, 0.1, 1.0, 10.0],  # L2 регуляризация\n",
    "        'model__max_iter': [100, 200, 300],\n",
    "        'model__penalty': ['l2']  # Только L2 регуляризация\n",
    "    },\n",
    "    {\n",
    "        'model': [XGBClassifier(random_state=RANDOM_STATE)],\n",
    "        'model__n_estimators': [100, 200, 300],\n",
    "        'model__learning_rate': [0.05, 0.1, 0.2],\n",
    "        'model__max_depth': [3, 4, 5],\n",
    "        'model__min_child_weight': [1, 3, 5],\n",
    "        'model__lambda': [0.01, 0.1, 1.0],  # L2 регуляризация\n",
    "        'model__alpha': [0.01, 0.1, 1.0],   # L1 регуляризация\n",
    "        'scaler': [StandardScaler(), MinMaxScaler(), 'passthrough'],\n",
    "    },\n",
    "    {\n",
    "        'model': [MultinomialNB()],\n",
    "        'scaler': ['passthrough'],  # Naive Bayes does not require scaling\n",
    "        'model__alpha': [0.1, 0.5, 1.0, 2.0]\n",
    "    },\n",
    "    # Complement Naive Bayes\n",
    "    {\n",
    "        'model': [ComplementNB()],\n",
    "        'scaler': ['passthrough'],  # ComplementNB does not require scaling\n",
    "        'model__alpha': [0.1, 0.5, 1.0, 2.0]\n",
    "    }\n",
    "]"
   ]
  },
  {
   "cell_type": "code",
   "execution_count": 19,
   "metadata": {},
   "outputs": [
    {
     "data": {
      "text/html": [
       "<style>#sk-container-id-1 {color: black;background-color: white;}#sk-container-id-1 pre{padding: 0;}#sk-container-id-1 div.sk-toggleable {background-color: white;}#sk-container-id-1 label.sk-toggleable__label {cursor: pointer;display: block;width: 100%;margin-bottom: 0;padding: 0.3em;box-sizing: border-box;text-align: center;}#sk-container-id-1 label.sk-toggleable__label-arrow:before {content: \"▸\";float: left;margin-right: 0.25em;color: #696969;}#sk-container-id-1 label.sk-toggleable__label-arrow:hover:before {color: black;}#sk-container-id-1 div.sk-estimator:hover label.sk-toggleable__label-arrow:before {color: black;}#sk-container-id-1 div.sk-toggleable__content {max-height: 0;max-width: 0;overflow: hidden;text-align: left;background-color: #f0f8ff;}#sk-container-id-1 div.sk-toggleable__content pre {margin: 0.2em;color: black;border-radius: 0.25em;background-color: #f0f8ff;}#sk-container-id-1 input.sk-toggleable__control:checked~div.sk-toggleable__content {max-height: 200px;max-width: 100%;overflow: auto;}#sk-container-id-1 input.sk-toggleable__control:checked~label.sk-toggleable__label-arrow:before {content: \"▾\";}#sk-container-id-1 div.sk-estimator input.sk-toggleable__control:checked~label.sk-toggleable__label {background-color: #d4ebff;}#sk-container-id-1 div.sk-label input.sk-toggleable__control:checked~label.sk-toggleable__label {background-color: #d4ebff;}#sk-container-id-1 input.sk-hidden--visually {border: 0;clip: rect(1px 1px 1px 1px);clip: rect(1px, 1px, 1px, 1px);height: 1px;margin: -1px;overflow: hidden;padding: 0;position: absolute;width: 1px;}#sk-container-id-1 div.sk-estimator {font-family: monospace;background-color: #f0f8ff;border: 1px dotted black;border-radius: 0.25em;box-sizing: border-box;margin-bottom: 0.5em;}#sk-container-id-1 div.sk-estimator:hover {background-color: #d4ebff;}#sk-container-id-1 div.sk-parallel-item::after {content: \"\";width: 100%;border-bottom: 1px solid gray;flex-grow: 1;}#sk-container-id-1 div.sk-label:hover label.sk-toggleable__label {background-color: #d4ebff;}#sk-container-id-1 div.sk-serial::before {content: \"\";position: absolute;border-left: 1px solid gray;box-sizing: border-box;top: 0;bottom: 0;left: 50%;z-index: 0;}#sk-container-id-1 div.sk-serial {display: flex;flex-direction: column;align-items: center;background-color: white;padding-right: 0.2em;padding-left: 0.2em;position: relative;}#sk-container-id-1 div.sk-item {position: relative;z-index: 1;}#sk-container-id-1 div.sk-parallel {display: flex;align-items: stretch;justify-content: center;background-color: white;position: relative;}#sk-container-id-1 div.sk-item::before, #sk-container-id-1 div.sk-parallel-item::before {content: \"\";position: absolute;border-left: 1px solid gray;box-sizing: border-box;top: 0;bottom: 0;left: 50%;z-index: -1;}#sk-container-id-1 div.sk-parallel-item {display: flex;flex-direction: column;z-index: 1;position: relative;background-color: white;}#sk-container-id-1 div.sk-parallel-item:first-child::after {align-self: flex-end;width: 50%;}#sk-container-id-1 div.sk-parallel-item:last-child::after {align-self: flex-start;width: 50%;}#sk-container-id-1 div.sk-parallel-item:only-child::after {width: 0;}#sk-container-id-1 div.sk-dashed-wrapped {border: 1px dashed gray;margin: 0 0.4em 0.5em 0.4em;box-sizing: border-box;padding-bottom: 0.4em;background-color: white;}#sk-container-id-1 div.sk-label label {font-family: monospace;font-weight: bold;display: inline-block;line-height: 1.2em;}#sk-container-id-1 div.sk-label-container {text-align: center;}#sk-container-id-1 div.sk-container {/* jupyter's `normalize.less` sets `[hidden] { display: none; }` but bootstrap.min.css set `[hidden] { display: none !important; }` so we also need the `!important` here to be able to override the default hidden behavior on the sphinx rendered scikit-learn.org. See: https://github.com/scikit-learn/scikit-learn/issues/21755 */display: inline-block !important;position: relative;}#sk-container-id-1 div.sk-text-repr-fallback {display: none;}</style><div id=\"sk-container-id-1\" class=\"sk-top-container\"><div class=\"sk-text-repr-fallback\"><pre>RandomizedSearchCV(cv=5,\n",
       "                   estimator=Pipeline(steps=[(&#x27;scaler&#x27;, &#x27;passthrough&#x27;),\n",
       "                                             (&#x27;model&#x27;, LogisticRegression())]),\n",
       "                   n_jobs=-1,\n",
       "                   param_distributions=[{&#x27;model&#x27;: [LogisticRegression()],\n",
       "                                         &#x27;model__C&#x27;: [0.01, 0.1, 1.0, 10.0],\n",
       "                                         &#x27;model__max_iter&#x27;: [100, 200, 300],\n",
       "                                         &#x27;model__penalty&#x27;: [&#x27;l2&#x27;],\n",
       "                                         &#x27;scaler&#x27;: [StandardScaler(),\n",
       "                                                    RobustScaler(),\n",
       "                                                    &#x27;passthrough&#x27;]},\n",
       "                                        {&#x27;model&#x27;: [XGBClassifier(alpha=0.01...\n",
       "                                         &#x27;model__learning_rate&#x27;: [0.05, 0.1,\n",
       "                                                                  0.2],\n",
       "                                         &#x27;model__max_depth&#x27;: [3, 4, 5],\n",
       "                                         &#x27;model__min_child_weight&#x27;: [1, 3, 5],\n",
       "                                         &#x27;model__n_estimators&#x27;: [100, 200, 300],\n",
       "                                         &#x27;scaler&#x27;: [StandardScaler(),\n",
       "                                                    MinMaxScaler(),\n",
       "                                                    &#x27;passthrough&#x27;]},\n",
       "                                        {&#x27;model&#x27;: [MultinomialNB()],\n",
       "                                         &#x27;model__alpha&#x27;: [0.1, 0.5, 1.0, 2.0],\n",
       "                                         &#x27;scaler&#x27;: [&#x27;passthrough&#x27;]},\n",
       "                                        {&#x27;model&#x27;: [ComplementNB()],\n",
       "                                         &#x27;model__alpha&#x27;: [0.1, 0.5, 1.0, 2.0],\n",
       "                                         &#x27;scaler&#x27;: [&#x27;passthrough&#x27;]}],\n",
       "                   scoring=&#x27;f1&#x27;)</pre><b>In a Jupyter environment, please rerun this cell to show the HTML representation or trust the notebook. <br />On GitHub, the HTML representation is unable to render, please try loading this page with nbviewer.org.</b></div><div class=\"sk-container\" hidden><div class=\"sk-item sk-dashed-wrapped\"><div class=\"sk-label-container\"><div class=\"sk-label sk-toggleable\"><input class=\"sk-toggleable__control sk-hidden--visually\" id=\"sk-estimator-id-1\" type=\"checkbox\" ><label for=\"sk-estimator-id-1\" class=\"sk-toggleable__label sk-toggleable__label-arrow\">RandomizedSearchCV</label><div class=\"sk-toggleable__content\"><pre>RandomizedSearchCV(cv=5,\n",
       "                   estimator=Pipeline(steps=[(&#x27;scaler&#x27;, &#x27;passthrough&#x27;),\n",
       "                                             (&#x27;model&#x27;, LogisticRegression())]),\n",
       "                   n_jobs=-1,\n",
       "                   param_distributions=[{&#x27;model&#x27;: [LogisticRegression()],\n",
       "                                         &#x27;model__C&#x27;: [0.01, 0.1, 1.0, 10.0],\n",
       "                                         &#x27;model__max_iter&#x27;: [100, 200, 300],\n",
       "                                         &#x27;model__penalty&#x27;: [&#x27;l2&#x27;],\n",
       "                                         &#x27;scaler&#x27;: [StandardScaler(),\n",
       "                                                    RobustScaler(),\n",
       "                                                    &#x27;passthrough&#x27;]},\n",
       "                                        {&#x27;model&#x27;: [XGBClassifier(alpha=0.01...\n",
       "                                         &#x27;model__learning_rate&#x27;: [0.05, 0.1,\n",
       "                                                                  0.2],\n",
       "                                         &#x27;model__max_depth&#x27;: [3, 4, 5],\n",
       "                                         &#x27;model__min_child_weight&#x27;: [1, 3, 5],\n",
       "                                         &#x27;model__n_estimators&#x27;: [100, 200, 300],\n",
       "                                         &#x27;scaler&#x27;: [StandardScaler(),\n",
       "                                                    MinMaxScaler(),\n",
       "                                                    &#x27;passthrough&#x27;]},\n",
       "                                        {&#x27;model&#x27;: [MultinomialNB()],\n",
       "                                         &#x27;model__alpha&#x27;: [0.1, 0.5, 1.0, 2.0],\n",
       "                                         &#x27;scaler&#x27;: [&#x27;passthrough&#x27;]},\n",
       "                                        {&#x27;model&#x27;: [ComplementNB()],\n",
       "                                         &#x27;model__alpha&#x27;: [0.1, 0.5, 1.0, 2.0],\n",
       "                                         &#x27;scaler&#x27;: [&#x27;passthrough&#x27;]}],\n",
       "                   scoring=&#x27;f1&#x27;)</pre></div></div></div><div class=\"sk-parallel\"><div class=\"sk-parallel-item\"><div class=\"sk-item\"><div class=\"sk-label-container\"><div class=\"sk-label sk-toggleable\"><input class=\"sk-toggleable__control sk-hidden--visually\" id=\"sk-estimator-id-2\" type=\"checkbox\" ><label for=\"sk-estimator-id-2\" class=\"sk-toggleable__label sk-toggleable__label-arrow\">estimator: Pipeline</label><div class=\"sk-toggleable__content\"><pre>Pipeline(steps=[(&#x27;scaler&#x27;, &#x27;passthrough&#x27;), (&#x27;model&#x27;, LogisticRegression())])</pre></div></div></div><div class=\"sk-serial\"><div class=\"sk-item\"><div class=\"sk-serial\"><div class=\"sk-item\"><div class=\"sk-estimator sk-toggleable\"><input class=\"sk-toggleable__control sk-hidden--visually\" id=\"sk-estimator-id-3\" type=\"checkbox\" ><label for=\"sk-estimator-id-3\" class=\"sk-toggleable__label sk-toggleable__label-arrow\">passthrough</label><div class=\"sk-toggleable__content\"><pre>passthrough</pre></div></div></div><div class=\"sk-item\"><div class=\"sk-estimator sk-toggleable\"><input class=\"sk-toggleable__control sk-hidden--visually\" id=\"sk-estimator-id-4\" type=\"checkbox\" ><label for=\"sk-estimator-id-4\" class=\"sk-toggleable__label sk-toggleable__label-arrow\">LogisticRegression</label><div class=\"sk-toggleable__content\"><pre>LogisticRegression()</pre></div></div></div></div></div></div></div></div></div></div></div></div>"
      ],
      "text/plain": [
       "RandomizedSearchCV(cv=5,\n",
       "                   estimator=Pipeline(steps=[('scaler', 'passthrough'),\n",
       "                                             ('model', LogisticRegression())]),\n",
       "                   n_jobs=-1,\n",
       "                   param_distributions=[{'model': [LogisticRegression()],\n",
       "                                         'model__C': [0.01, 0.1, 1.0, 10.0],\n",
       "                                         'model__max_iter': [100, 200, 300],\n",
       "                                         'model__penalty': ['l2'],\n",
       "                                         'scaler': [StandardScaler(),\n",
       "                                                    RobustScaler(),\n",
       "                                                    'passthrough']},\n",
       "                                        {'model': [XGBClassifier(alpha=0.01...\n",
       "                                         'model__learning_rate': [0.05, 0.1,\n",
       "                                                                  0.2],\n",
       "                                         'model__max_depth': [3, 4, 5],\n",
       "                                         'model__min_child_weight': [1, 3, 5],\n",
       "                                         'model__n_estimators': [100, 200, 300],\n",
       "                                         'scaler': [StandardScaler(),\n",
       "                                                    MinMaxScaler(),\n",
       "                                                    'passthrough']},\n",
       "                                        {'model': [MultinomialNB()],\n",
       "                                         'model__alpha': [0.1, 0.5, 1.0, 2.0],\n",
       "                                         'scaler': ['passthrough']},\n",
       "                                        {'model': [ComplementNB()],\n",
       "                                         'model__alpha': [0.1, 0.5, 1.0, 2.0],\n",
       "                                         'scaler': ['passthrough']}],\n",
       "                   scoring='f1')"
      ]
     },
     "execution_count": 19,
     "metadata": {},
     "output_type": "execute_result"
    }
   ],
   "source": [
    "randomized_search = RandomizedSearchCV(\n",
    "    pipe_final, \n",
    "    param_grid, \n",
    "    scoring='f1', \n",
    "    cv=5, \n",
    "    n_jobs=-1\n",
    ")\n",
    "randomized_search.fit(X_train, y_train)"
   ]
  },
  {
   "cell_type": "code",
   "execution_count": 20,
   "metadata": {},
   "outputs": [
    {
     "name": "stdout",
     "output_type": "stream",
     "text": [
      "Лучшая модель и её параметры:\n",
      "\n",
      " Pipeline(steps=[('scaler', 'passthrough'),\n",
      "                ('model',\n",
      "                 XGBClassifier(alpha=0.01, base_score=None, booster=None,\n",
      "                               callbacks=None, colsample_bylevel=None,\n",
      "                               colsample_bynode=None, colsample_bytree=None,\n",
      "                               early_stopping_rounds=None,\n",
      "                               enable_categorical=False, eval_metric=None,\n",
      "                               feature_types=None, gamma=None, gpu_id=None,\n",
      "                               grow_policy=None, importance_type=None,\n",
      "                               interaction_constraints=None, lambda=1.0,\n",
      "                               learning_rate=0.1, max_bin=None,\n",
      "                               max_cat_threshold=None, max_cat_to_onehot=None,\n",
      "                               max_delta_step=None, max_depth=4,\n",
      "                               max_leaves=None, min_child_weight=3, missing=nan,\n",
      "                               monotone_constraints=None, n_estimators=100,\n",
      "                               n_jobs=None, num_parallel_tree=None, ...))])\n",
      "Метрика лучшей модели на тренировочной выборке: 0.9844282373405967\n"
     ]
    }
   ],
   "source": [
    "print('Лучшая модель и её параметры:\\n\\n', randomized_search.best_estimator_)\n",
    "print ('Метрика лучшей модели на тренировочной выборке:', randomized_search.best_score_)"
   ]
  },
  {
   "cell_type": "code",
   "execution_count": 21,
   "metadata": {
    "scrolled": true
   },
   "outputs": [
    {
     "name": "stdout",
     "output_type": "stream",
     "text": [
      "Метрика лучшей модели на тестовой выборке: 0.9795918367346939\n"
     ]
    }
   ],
   "source": [
    "y_pred = randomized_search.best_estimator_.predict(X_test)\n",
    "print('Метрика лучшей модели на тестовой выборке:', f1_score(y_test, y_pred))"
   ]
  },
  {
   "cell_type": "markdown",
   "metadata": {},
   "source": [
    "## Выводы"
   ]
  },
  {
   "cell_type": "markdown",
   "metadata": {},
   "source": [
    "\n",
    "\n",
    "Для классификации токсичных текстов была применена модель BERT (unitary/toxic-bert) для извлечения эмбеддингов текстов, которые затем использовались в различных классификационных моделях. После предварительной обработки данных и токенизации текстов, эмбеддинги были получены и использованы в процессе обучения моделей с помощью `RandomizedSearchCV` для оптимизации гиперпараметров.\n",
    "\n",
    "В результате лучшей моделью оказалась **XGBClassifier**, использующая следующие параметры:\n",
    "- **alpha**: 0.01 (регуляризация L1),\n",
    "- **lambda**: 1.0 (регуляризация L2),\n",
    "- **learning_rate**: 0.1,\n",
    "- **max_depth**: 4,\n",
    "- **min_child_weight**: 3,\n",
    "- **n_estimators**: 100.\n",
    "\n",
    "Метрика **F1** на тренировочной выборке составила **0.9844**, а на тестовой выборке — **0.9796**. Это свидетельствует о том, что модель хорошо справляется с задачей классификации токсичности, обеспечивая высокую точность на обоих наборах данных.\n",
    "\n",
    "Модель BERT (unitary/toxic-bert) показала свою эффективность в задачах анализа текста, особенно в комбинации с градиентным бустингом на деревьях решений, что позволило достичь высоких результатов в оценке токсичности текстов."
   ]
  },
  {
   "cell_type": "markdown",
   "metadata": {},
   "source": [
    "## Чек-лист проверки"
   ]
  },
  {
   "cell_type": "markdown",
   "metadata": {},
   "source": [
    "- [x]  Jupyter Notebook открыт\n",
    "- [ ]  Весь код выполняется без ошибок\n",
    "- [ ]  Ячейки с кодом расположены в порядке исполнения\n",
    "- [ ]  Данные загружены и подготовлены\n",
    "- [ ]  Модели обучены\n",
    "- [ ]  Значение метрики *F1* не меньше 0.75\n",
    "- [ ]  Выводы написаны"
   ]
  }
 ],
 "metadata": {
  "ExecuteTimeLog": [
   {
    "duration": 24430,
    "start_time": "2024-07-31T11:58:26.755Z"
   },
   {
    "duration": 4,
    "start_time": "2024-07-31T11:58:51.188Z"
   },
   {
    "duration": 259,
    "start_time": "2024-07-31T11:58:53.774Z"
   },
   {
    "duration": 2176,
    "start_time": "2024-07-31T11:59:15.958Z"
   },
   {
    "duration": 8,
    "start_time": "2024-08-16T11:51:50.552Z"
   },
   {
    "duration": 10,
    "start_time": "2024-08-16T11:51:55.492Z"
   },
   {
    "duration": 41,
    "start_time": "2024-08-16T11:52:00.522Z"
   },
   {
    "duration": 3,
    "start_time": "2024-08-16T11:52:04.586Z"
   },
   {
    "duration": 4,
    "start_time": "2024-08-16T11:52:07.894Z"
   },
   {
    "duration": 5,
    "start_time": "2024-08-16T11:52:56.550Z"
   },
   {
    "duration": 59,
    "start_time": "2024-08-16T11:52:58.278Z"
   },
   {
    "duration": 2,
    "start_time": "2024-08-16T11:53:08.619Z"
   },
   {
    "duration": 3,
    "start_time": "2024-08-16T11:53:09.759Z"
   },
   {
    "duration": 15,
    "start_time": "2024-08-16T11:53:09.974Z"
   }
  ],
  "kernelspec": {
   "display_name": "Python 3 (ipykernel)",
   "language": "python",
   "name": "python3"
  },
  "language_info": {
   "codemirror_mode": {
    "name": "ipython",
    "version": 3
   },
   "file_extension": ".py",
   "mimetype": "text/x-python",
   "name": "python",
   "nbconvert_exporter": "python",
   "pygments_lexer": "ipython3",
   "version": "3.11.6"
  },
  "toc": {
   "base_numbering": 1,
   "nav_menu": {},
   "number_sections": true,
   "sideBar": true,
   "skip_h1_title": true,
   "title_cell": "Содержание",
   "title_sidebar": "Contents",
   "toc_cell": true,
   "toc_position": {
    "height": "calc(100% - 180px)",
    "left": "10px",
    "top": "150px",
    "width": "302.391px"
   },
   "toc_section_display": true,
   "toc_window_display": false
  }
 },
 "nbformat": 4,
 "nbformat_minor": 2
}
